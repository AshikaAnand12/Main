{
  "nbformat": 4,
  "nbformat_minor": 0,
  "metadata": {
    "colab": {
      "name": "Tensorflow",
      "provenance": [],
      "authorship_tag": "ABX9TyMA3XEDTWQg7goqTjJYmbMF",
      "include_colab_link": true
    },
    "kernelspec": {
      "name": "python3",
      "display_name": "Python 3"
    },
    "language_info": {
      "name": "python"
    }
  },
  "cells": [
    {
      "cell_type": "markdown",
      "metadata": {
        "id": "view-in-github",
        "colab_type": "text"
      },
      "source": [
        "<a href=\"https://colab.research.google.com/github/AshikaAnand12/Main/blob/main/Tensorflow.ipynb\" target=\"_parent\"><img src=\"https://colab.research.google.com/assets/colab-badge.svg\" alt=\"Open In Colab\"/></a>"
      ]
    },
    {
      "cell_type": "code",
      "execution_count": null,
      "metadata": {
        "id": "moTHAcTWpxvi"
      },
      "outputs": [],
      "source": [
        "# Tensor is a container for data — usually numerical data\n",
        "# 0D - Scalar, 1D - vector, 2D - matrix, 3D - tensor, \n",
        "import tensorflow as tf\n",
        "import numpy as np"
      ]
    },
    {
      "cell_type": "markdown",
      "source": [
        "### Tensor Vocabulary "
      ],
      "metadata": {
        "id": "k45ERM6kyCzv"
      }
    },
    {
      "cell_type": "code",
      "source": [
        "# Tensor vocabulary: Shape, Size, Rank, Axis/Dimension\n",
        "t1 = tf.zeros([3,2,4,5])\n",
        "print(t1)"
      ],
      "metadata": {
        "colab": {
          "base_uri": "https://localhost:8080/"
        },
        "id": "hvamOb_VsQhi",
        "outputId": "81d65252-8aa4-41ef-fb07-367fe08f57f4"
      },
      "execution_count": null,
      "outputs": [
        {
          "output_type": "stream",
          "name": "stdout",
          "text": [
            "tf.Tensor(\n",
            "[[[[0. 0. 0. 0. 0.]\n",
            "   [0. 0. 0. 0. 0.]\n",
            "   [0. 0. 0. 0. 0.]\n",
            "   [0. 0. 0. 0. 0.]]\n",
            "\n",
            "  [[0. 0. 0. 0. 0.]\n",
            "   [0. 0. 0. 0. 0.]\n",
            "   [0. 0. 0. 0. 0.]\n",
            "   [0. 0. 0. 0. 0.]]]\n",
            "\n",
            "\n",
            " [[[0. 0. 0. 0. 0.]\n",
            "   [0. 0. 0. 0. 0.]\n",
            "   [0. 0. 0. 0. 0.]\n",
            "   [0. 0. 0. 0. 0.]]\n",
            "\n",
            "  [[0. 0. 0. 0. 0.]\n",
            "   [0. 0. 0. 0. 0.]\n",
            "   [0. 0. 0. 0. 0.]\n",
            "   [0. 0. 0. 0. 0.]]]\n",
            "\n",
            "\n",
            " [[[0. 0. 0. 0. 0.]\n",
            "   [0. 0. 0. 0. 0.]\n",
            "   [0. 0. 0. 0. 0.]\n",
            "   [0. 0. 0. 0. 0.]]\n",
            "\n",
            "  [[0. 0. 0. 0. 0.]\n",
            "   [0. 0. 0. 0. 0.]\n",
            "   [0. 0. 0. 0. 0.]\n",
            "   [0. 0. 0. 0. 0.]]]], shape=(3, 2, 4, 5), dtype=float32)\n"
          ]
        }
      ]
    },
    {
      "cell_type": "code",
      "source": [
        "print(\"Number of Axes: \",t1.ndim)\n",
        "print(\"Type of every element: \",t1.dtype)\n",
        "print(\"Total number of elements: \", tf.size(t1))"
      ],
      "metadata": {
        "colab": {
          "base_uri": "https://localhost:8080/"
        },
        "id": "oGo1vyuAth1p",
        "outputId": "f752b695-cc41-4b75-efc0-b3c479826f8e"
      },
      "execution_count": null,
      "outputs": [
        {
          "output_type": "stream",
          "name": "stdout",
          "text": [
            "Number of Axes:  4\n",
            "Type of every element:  <dtype: 'float32'>\n",
            "Total number of elements:  tf.Tensor(120, shape=(), dtype=int32)\n"
          ]
        }
      ]
    },
    {
      "cell_type": "code",
      "source": [
        "# Creating array of constants\n",
        "t2 = tf.constant([1,2,3,4,5,6])\n",
        "print(t2)"
      ],
      "metadata": {
        "colab": {
          "base_uri": "https://localhost:8080/"
        },
        "id": "jv-I1dF1tt1q",
        "outputId": "710df897-2bac-4848-aa6f-c493294c938d"
      },
      "execution_count": null,
      "outputs": [
        {
          "output_type": "stream",
          "name": "stdout",
          "text": [
            "tf.Tensor([1 2 3 4 5 6], shape=(6,), dtype=int32)\n"
          ]
        }
      ]
    },
    {
      "cell_type": "code",
      "source": [
        "t3 = tf.constant([[1,2],[8,9],[6,3],[20,100],[5,5]])\n",
        "print(t3)"
      ],
      "metadata": {
        "colab": {
          "base_uri": "https://localhost:8080/"
        },
        "id": "Y87BFooUvHI3",
        "outputId": "8034456a-6f39-43c5-a747-818fc4132399"
      },
      "execution_count": null,
      "outputs": [
        {
          "output_type": "stream",
          "name": "stdout",
          "text": [
            "tf.Tensor(\n",
            "[[  1   2]\n",
            " [  8   9]\n",
            " [  6   3]\n",
            " [ 20 100]\n",
            " [  5   5]], shape=(5, 2), dtype=int32)\n"
          ]
        }
      ]
    },
    {
      "cell_type": "code",
      "source": [
        "t3[0]"
      ],
      "metadata": {
        "colab": {
          "base_uri": "https://localhost:8080/"
        },
        "id": "-YhUTb5evP-8",
        "outputId": "425318bc-c2dc-4d93-872f-1bed69700132"
      },
      "execution_count": null,
      "outputs": [
        {
          "output_type": "execute_result",
          "data": {
            "text/plain": [
              "<tf.Tensor: shape=(2,), dtype=int32, numpy=array([1, 2], dtype=int32)>"
            ]
          },
          "metadata": {},
          "execution_count": 158
        }
      ]
    },
    {
      "cell_type": "code",
      "source": [
        "t3[0].numpy()"
      ],
      "metadata": {
        "colab": {
          "base_uri": "https://localhost:8080/"
        },
        "id": "OwsL9Osgv4DE",
        "outputId": "cd2dea37-26eb-4b6b-9f38-cf47c062c3e1"
      },
      "execution_count": null,
      "outputs": [
        {
          "output_type": "execute_result",
          "data": {
            "text/plain": [
              "array([1, 2], dtype=int32)"
            ]
          },
          "metadata": {},
          "execution_count": 159
        }
      ]
    },
    {
      "cell_type": "code",
      "source": [
        "print(t3.dtype)\n",
        "print(t3.shape)"
      ],
      "metadata": {
        "colab": {
          "base_uri": "https://localhost:8080/"
        },
        "id": "m9OnIl9qv7XY",
        "outputId": "eaa3d458-8fa3-49cc-db96-42bede078728"
      },
      "execution_count": null,
      "outputs": [
        {
          "output_type": "stream",
          "name": "stdout",
          "text": [
            "<dtype: 'int32'>\n",
            "(5, 2)\n"
          ]
        }
      ]
    },
    {
      "cell_type": "code",
      "source": [
        "print(tf.zeros(shape=(2,2,3)))"
      ],
      "metadata": {
        "colab": {
          "base_uri": "https://localhost:8080/"
        },
        "id": "762jVE6Xx1Im",
        "outputId": "4249be58-2ed6-4cf7-f6e0-bc57055bb789"
      },
      "execution_count": null,
      "outputs": [
        {
          "output_type": "stream",
          "name": "stdout",
          "text": [
            "tf.Tensor(\n",
            "[[[0. 0. 0.]\n",
            "  [0. 0. 0.]]\n",
            "\n",
            " [[0. 0. 0.]\n",
            "  [0. 0. 0.]]], shape=(2, 2, 3), dtype=float32)\n"
          ]
        }
      ]
    },
    {
      "cell_type": "markdown",
      "source": [
        "## Tensor Array "
      ],
      "metadata": {
        "id": "2KeFQahcyIBl"
      }
    },
    {
      "cell_type": "code",
      "source": [
        "ta = tf.TensorArray(tf.int32, size=0, dynamic_size=True, clear_after_read=False)\n",
        "ta = ta.write(0, 10)\n",
        "ta = ta.write(1, 20)\n",
        "ta = ta.write(2, 30)"
      ],
      "metadata": {
        "id": "PI-CEGzMx7nG"
      },
      "execution_count": null,
      "outputs": []
    },
    {
      "cell_type": "code",
      "source": [
        "# Memory Location of tensor array is printed\n",
        "print(ta)"
      ],
      "metadata": {
        "colab": {
          "base_uri": "https://localhost:8080/"
        },
        "id": "bqJFrY8S-ybQ",
        "outputId": "a05de746-2b90-4190-8563-ec7f17eb5880"
      },
      "execution_count": null,
      "outputs": [
        {
          "output_type": "stream",
          "name": "stdout",
          "text": [
            "<tensorflow.python.ops.tensor_array_ops.TensorArray object at 0x7f5a6a877090>\n"
          ]
        }
      ]
    },
    {
      "cell_type": "code",
      "source": [
        "# To read value at single index\n",
        "ta.read(0)"
      ],
      "metadata": {
        "colab": {
          "base_uri": "https://localhost:8080/"
        },
        "id": "l2r_9dlx-1sT",
        "outputId": "841e3486-9c24-41e6-f222-71c240cd113c"
      },
      "execution_count": null,
      "outputs": [
        {
          "output_type": "execute_result",
          "data": {
            "text/plain": [
              "<tf.Tensor: shape=(), dtype=int32, numpy=10>"
            ]
          },
          "metadata": {},
          "execution_count": 164
        }
      ]
    },
    {
      "cell_type": "code",
      "source": [
        "# To read the entire array\n",
        "ta.stack()"
      ],
      "metadata": {
        "colab": {
          "base_uri": "https://localhost:8080/"
        },
        "id": "S9SBgEgu_CQD",
        "outputId": "7f47190a-0353-46d7-a119-3646abe74f2c"
      },
      "execution_count": null,
      "outputs": [
        {
          "output_type": "execute_result",
          "data": {
            "text/plain": [
              "<tf.Tensor: shape=(3,), dtype=int32, numpy=array([10, 20, 30], dtype=int32)>"
            ]
          },
          "metadata": {},
          "execution_count": 165
        }
      ]
    },
    {
      "cell_type": "code",
      "source": [
        "# Create 2D array\n",
        "t4 = tf.TensorArray(tf.int32, size=3)"
      ],
      "metadata": {
        "id": "2NtpwOsx_fBU"
      },
      "execution_count": null,
      "outputs": []
    },
    {
      "cell_type": "code",
      "source": [
        "# Write into 2D array\n",
        "t4 = t4.write(0, tf.constant([1, 2]))\n",
        "t4 = t4.write(1, tf.constant([3, 4]))\n",
        "t4 = t4.write(2, tf.constant([5, 6]))"
      ],
      "metadata": {
        "id": "JVpM188l_2nA"
      },
      "execution_count": null,
      "outputs": []
    },
    {
      "cell_type": "code",
      "source": [
        "# Read 2D array\n",
        "t4.stack()"
      ],
      "metadata": {
        "colab": {
          "base_uri": "https://localhost:8080/"
        },
        "id": "EnHqP5uuAFXJ",
        "outputId": "7c698212-91d3-464c-d5a4-f55ad2627f19"
      },
      "execution_count": null,
      "outputs": [
        {
          "output_type": "execute_result",
          "data": {
            "text/plain": [
              "<tf.Tensor: shape=(3, 2), dtype=int32, numpy=\n",
              "array([[1, 2],\n",
              "       [3, 4],\n",
              "       [5, 6]], dtype=int32)>"
            ]
          },
          "metadata": {},
          "execution_count": 168
        }
      ]
    },
    {
      "cell_type": "markdown",
      "source": [
        "Sparse tensor"
      ],
      "metadata": {
        "id": "_4R7ZPRyVEc1"
      }
    },
    {
      "cell_type": "code",
      "source": [
        "# Sparse tensors store values by index in a memory-efficient manner\n",
        "sparse_tensor = tf.sparse.SparseTensor(indices=[[0, 0], [1, 2]],\n",
        "                                       values=[1, 2],\n",
        "                                       dense_shape=[3, 4])\n",
        "print(sparse_tensor, \"\\n\")\n",
        "\n",
        "# You can convert sparse tensors to dense\n",
        "print(tf.sparse.to_dense(sparse_tensor))"
      ],
      "metadata": {
        "colab": {
          "base_uri": "https://localhost:8080/"
        },
        "id": "49FIBP3IVAA_",
        "outputId": "ae303eb5-4558-41c8-e130-e374f06d2c31"
      },
      "execution_count": null,
      "outputs": [
        {
          "output_type": "stream",
          "name": "stdout",
          "text": [
            "SparseTensor(indices=tf.Tensor(\n",
            "[[0 0]\n",
            " [1 2]], shape=(2, 2), dtype=int64), values=tf.Tensor([1 2], shape=(2,), dtype=int32), dense_shape=tf.Tensor([3 4], shape=(2,), dtype=int64)) \n",
            "\n",
            "tf.Tensor(\n",
            "[[1 0 0 0]\n",
            " [0 0 2 0]\n",
            " [0 0 0 0]], shape=(3, 4), dtype=int32)\n"
          ]
        }
      ]
    },
    {
      "cell_type": "markdown",
      "source": [
        "### Indexing"
      ],
      "metadata": {
        "id": "Al7x3WITEkvl"
      }
    },
    {
      "cell_type": "code",
      "source": [
        "#Single axis tensor\n",
        "t6 = tf.constant([1,2,3,4,5,6,7,8,9])\n",
        "print(t6)"
      ],
      "metadata": {
        "colab": {
          "base_uri": "https://localhost:8080/"
        },
        "id": "q2FaV4stFL2z",
        "outputId": "8dd3fbff-d4d3-415d-b6b9-aba630d6642f"
      },
      "execution_count": null,
      "outputs": [
        {
          "output_type": "stream",
          "name": "stdout",
          "text": [
            "tf.Tensor([1 2 3 4 5 6 7 8 9], shape=(9,), dtype=int32)\n"
          ]
        }
      ]
    },
    {
      "cell_type": "code",
      "source": [
        "# Multiple axis tensor\n",
        "t5 = tf.constant([[1,2],[2,3],[3,4]])\n",
        "print(t5.numpy())"
      ],
      "metadata": {
        "colab": {
          "base_uri": "https://localhost:8080/"
        },
        "id": "21slqf7ZFU6i",
        "outputId": "da6bea14-37b0-4eeb-d574-0b0766adc212"
      },
      "execution_count": null,
      "outputs": [
        {
          "output_type": "stream",
          "name": "stdout",
          "text": [
            "[[1 2]\n",
            " [2 3]\n",
            " [3 4]]\n"
          ]
        }
      ]
    },
    {
      "cell_type": "code",
      "source": [
        "# Read a value in multishape tensor\n",
        "print(t5[1, 1].numpy())"
      ],
      "metadata": {
        "colab": {
          "base_uri": "https://localhost:8080/"
        },
        "id": "dv5NmmfiFj_9",
        "outputId": "71732cf0-0c13-4c53-ba75-00b814682b6d"
      },
      "execution_count": null,
      "outputs": [
        {
          "output_type": "stream",
          "name": "stdout",
          "text": [
            "3\n"
          ]
        }
      ]
    },
    {
      "cell_type": "code",
      "source": [
        "# Slicing\n",
        "print(\"Everything:\", t6[:].numpy())\n",
        "print(\"Before 4:\", t6[:4].numpy())\n",
        "print(\"From 4 to the end:\", t6[4:].numpy())\n",
        "print(\"From 2, before 7:\", t6[2:7].numpy())\n",
        "print(\"Every other item:\", t6[::2].numpy())\n",
        "print(\"Reversed:\", t6[::-1].numpy())\n",
        "print(\"Second row/Skip first row:\", t5[1, :].numpy())\n",
        "print(\"Second column:\", t5[:, 1].numpy())\n",
        "print(\"Last row:\", t5[-1, :].numpy())\n",
        "print(\"First item in last column:\", t5[0, -1].numpy())"
      ],
      "metadata": {
        "colab": {
          "base_uri": "https://localhost:8080/"
        },
        "id": "ZGjc2DlQGJ9t",
        "outputId": "818c2530-05fe-4e85-f9ee-dc9b3509b5c7"
      },
      "execution_count": null,
      "outputs": [
        {
          "output_type": "stream",
          "name": "stdout",
          "text": [
            "Everything: [1 2 3 4 5 6 7 8 9]\n",
            "Before 4: [1 2 3 4]\n",
            "From 4 to the end: [5 6 7 8 9]\n",
            "From 2, before 7: [3 4 5 6 7]\n",
            "Every other item: [1 3 5 7 9]\n",
            "Reversed: [9 8 7 6 5 4 3 2 1]\n",
            "Second row/Skip first row: [2 3]\n",
            "Second column: [2 3 4]\n",
            "Last row: [3 4]\n",
            "First item in last column: 2\n"
          ]
        }
      ]
    },
    {
      "cell_type": "markdown",
      "source": [
        "### Reshaping"
      ],
      "metadata": {
        "id": "E4epEPc2UV8O"
      }
    },
    {
      "cell_type": "code",
      "source": [
        "# Convert tensor object to python list\n",
        "print(t5.shape.as_list())"
      ],
      "metadata": {
        "colab": {
          "base_uri": "https://localhost:8080/"
        },
        "id": "RkPfPOxnG7lt",
        "outputId": "6d7f69fb-6771-40fa-8b4f-e242ded9015b"
      },
      "execution_count": null,
      "outputs": [
        {
          "output_type": "stream",
          "name": "stdout",
          "text": [
            "[3, 2]\n"
          ]
        }
      ]
    },
    {
      "cell_type": "code",
      "source": [
        "# Reshape tensor\n",
        "t5 = tf.reshape(t5,[2,3])"
      ],
      "metadata": {
        "id": "TPdcd4U2Uo4k"
      },
      "execution_count": null,
      "outputs": []
    },
    {
      "cell_type": "code",
      "source": [
        "print(t5)"
      ],
      "metadata": {
        "colab": {
          "base_uri": "https://localhost:8080/"
        },
        "id": "kpZGjnYfU3yS",
        "outputId": "07b4050c-0d51-4911-cc41-66b704f59ae1"
      },
      "execution_count": null,
      "outputs": [
        {
          "output_type": "stream",
          "name": "stdout",
          "text": [
            "tf.Tensor(\n",
            "[[1 2 2]\n",
            " [3 3 4]], shape=(2, 3), dtype=int32)\n"
          ]
        }
      ]
    },
    {
      "cell_type": "code",
      "source": [
        "# Flatten a tensor\n",
        "t5 = tf.reshape(t5,-1)\n",
        "print(t5)"
      ],
      "metadata": {
        "colab": {
          "base_uri": "https://localhost:8080/"
        },
        "id": "0SZGV4rAU5KB",
        "outputId": "9e2286eb-7f64-4e0f-cad9-7e4687e3df24"
      },
      "execution_count": null,
      "outputs": [
        {
          "output_type": "stream",
          "name": "stdout",
          "text": [
            "tf.Tensor([1 2 2 3 3 4], shape=(6,), dtype=int32)\n"
          ]
        }
      ]
    },
    {
      "cell_type": "code",
      "source": [
        "ragged = [\n",
        "    [0, 1, 2, 3],\n",
        "    [4, 5],\n",
        "    [6, 7, 8],\n",
        "    [9]]"
      ],
      "metadata": {
        "id": "WF-EsY7GAkM5"
      },
      "execution_count": null,
      "outputs": []
    },
    {
      "cell_type": "code",
      "source": [
        "ragged_tensor = tf.ragged.constant(ragged)\n",
        "print(ragged_tensor)"
      ],
      "metadata": {
        "colab": {
          "base_uri": "https://localhost:8080/"
        },
        "id": "y1dCDFHNApaW",
        "outputId": "a7762271-af5c-4f49-8fd8-1ae03d8dca02"
      },
      "execution_count": null,
      "outputs": [
        {
          "output_type": "stream",
          "name": "stdout",
          "text": [
            "<tf.RaggedTensor [[0, 1, 2, 3], [4, 5], [6, 7, 8], [9]]>\n"
          ]
        }
      ]
    },
    {
      "cell_type": "code",
      "source": [
        "print(ragged_tensor.shape)"
      ],
      "metadata": {
        "colab": {
          "base_uri": "https://localhost:8080/"
        },
        "id": "yafXqwW9A7Qy",
        "outputId": "650e7366-b505-42d6-b5b3-5f6222b6ad49"
      },
      "execution_count": null,
      "outputs": [
        {
          "output_type": "stream",
          "name": "stdout",
          "text": [
            "(4, None)\n"
          ]
        }
      ]
    },
    {
      "cell_type": "markdown",
      "source": [
        "## Tensor Variables"
      ],
      "metadata": {
        "id": "EAy2FVzbWUD9"
      }
    },
    {
      "cell_type": "code",
      "source": [
        "my_tensor = tf.constant([[1.0, 2.0], [3.0, 4.0]])\n",
        "num_variable = tf.Variable(my_tensor)\n",
        "\n",
        "# Variables can be all kinds of types, just like tensors\n",
        "bool_variable = tf.Variable([False, False, False, True])\n",
        "complex_variable = tf.Variable([5 + 4j, 6 + 1j])"
      ],
      "metadata": {
        "id": "ejWDy5EaVP_C"
      },
      "execution_count": null,
      "outputs": []
    },
    {
      "cell_type": "code",
      "source": [
        "print(\"Shape: \", num_variable.shape)\n",
        "print(\"DType: \", num_variable.dtype)\n",
        "print(\"As NumPy: \", num_variable.numpy())"
      ],
      "metadata": {
        "id": "4sgdIvMVWrCo",
        "colab": {
          "base_uri": "https://localhost:8080/"
        },
        "outputId": "f825282f-f098-4bd6-8b19-dbe4f3c38312"
      },
      "execution_count": null,
      "outputs": [
        {
          "output_type": "stream",
          "name": "stdout",
          "text": [
            "Shape:  (2, 2)\n",
            "DType:  <dtype: 'float32'>\n",
            "As NumPy:  [[1. 2.]\n",
            " [3. 4.]]\n"
          ]
        }
      ]
    },
    {
      "cell_type": "code",
      "source": [
        "print(\"Shape: \", bool_variable.shape)\n",
        "print(\"DType: \", num_variable.dtype)\n",
        "print(\"As NumPy: \", num_variable.numpy())"
      ],
      "metadata": {
        "colab": {
          "base_uri": "https://localhost:8080/"
        },
        "id": "tFra-sNXB7BP",
        "outputId": "28d0068e-2568-47fd-f5e4-97db7f3bfbc7"
      },
      "execution_count": null,
      "outputs": [
        {
          "output_type": "stream",
          "name": "stdout",
          "text": [
            "Shape:  (4,)\n",
            "DType:  <dtype: 'float32'>\n",
            "As NumPy:  [[1. 2.]\n",
            " [3. 4.]]\n"
          ]
        }
      ]
    },
    {
      "cell_type": "code",
      "source": [
        "print(\"Shape: \", complex_variable.shape)\n",
        "print(\"DType: \", complex_variable.dtype)\n",
        "print(\"As NumPy: \", complex_variable.numpy())"
      ],
      "metadata": {
        "colab": {
          "base_uri": "https://localhost:8080/"
        },
        "id": "a2GPtDLiCJds",
        "outputId": "0949c502-0e93-4f05-d7fc-3e7034900b15"
      },
      "execution_count": null,
      "outputs": [
        {
          "output_type": "stream",
          "name": "stdout",
          "text": [
            "Shape:  (2,)\n",
            "DType:  <dtype: 'complex128'>\n",
            "As NumPy:  [5.+4.j 6.+1.j]\n"
          ]
        }
      ]
    },
    {
      "cell_type": "code",
      "source": [
        "print(\"A variable:\", num_variable)\n",
        "print(\"\\nViewed as a tensor:\", tf.convert_to_tensor(num_variable))\n",
        "print(\"\\nIndex of highest value:\", tf.argmax(num_variable))\n",
        "\n",
        "# This creates a new tensor; it does not reshape the variable.\n",
        "print(\"\\nCopying and Reshaping: \", tf.reshape(num_variable, [1,4]))"
      ],
      "metadata": {
        "colab": {
          "base_uri": "https://localhost:8080/"
        },
        "id": "WOB3It4rCX3e",
        "outputId": "e6b095da-e905-43d5-9837-636002273e19"
      },
      "execution_count": null,
      "outputs": [
        {
          "output_type": "stream",
          "name": "stdout",
          "text": [
            "A variable: <tf.Variable 'Variable:0' shape=(2, 2) dtype=float32, numpy=\n",
            "array([[1., 2.],\n",
            "       [3., 4.]], dtype=float32)>\n",
            "\n",
            "Viewed as a tensor: tf.Tensor(\n",
            "[[1. 2.]\n",
            " [3. 4.]], shape=(2, 2), dtype=float32)\n",
            "\n",
            "Index of highest value: tf.Tensor([1 1], shape=(2,), dtype=int64)\n",
            "\n",
            "Copying and Reshaping:  tf.Tensor([[1. 2. 3. 4.]], shape=(1, 4), dtype=float32)\n"
          ]
        }
      ]
    },
    {
      "cell_type": "code",
      "source": [
        "a = tf.Variable([2.0, 3.0])\n",
        "\n",
        "# Create b based on the value of a\n",
        "b = tf.Variable(a)\n",
        "a.assign([5, 6])\n",
        "\n",
        "# a and b are different\n",
        "print(\"a: \",a.numpy())\n",
        "print(\"\\n b:\",b.numpy())\n",
        "\n",
        "# There are other versions of assign\n",
        "print(\"\\n Added value to 'a' variable: \",a.assign_add([2,3]).numpy())  # Adding values of a by list in add([])\n",
        "print(\"\\n Subtract value from 'a' variable: \",a.assign_sub([2,2]).numpy())  # Subtracting values of a by list in add([])"
      ],
      "metadata": {
        "colab": {
          "base_uri": "https://localhost:8080/"
        },
        "id": "VE6zq-F4Cn_X",
        "outputId": "c019ed95-ebb5-4433-ebd6-cd873afec48e"
      },
      "execution_count": null,
      "outputs": [
        {
          "output_type": "stream",
          "name": "stdout",
          "text": [
            "a:  [5. 6.]\n",
            "\n",
            " b: [2. 3.]\n",
            "\n",
            " Added value to 'a' variable:  [7. 9.]\n",
            "\n",
            " Subtract value from 'a' variable:  [5. 7.]\n"
          ]
        }
      ]
    },
    {
      "cell_type": "code",
      "source": [
        "# Create a and b; they will have the same name but will be backed by\n",
        "# different tensors.\n",
        "t = tf.constant([[1.0, 2.0], [3.0, 4.0]])\n",
        "a = tf.Variable(t, name=\"id1\")\n",
        "# A new variable with the same name, but different value\n",
        "# Note that the scalar add is broadcast\n",
        "b = tf.Variable(t+1, name=\"id1\")\n",
        "\n",
        "# These are elementwise-unequal, despite having the same name\n",
        "print(a == b)\n",
        "print(a,b)"
      ],
      "metadata": {
        "colab": {
          "base_uri": "https://localhost:8080/"
        },
        "id": "Ke9r1h_DDSZo",
        "outputId": "ce5f0597-c8b5-4fb1-db3d-3afb50d80487"
      },
      "execution_count": null,
      "outputs": [
        {
          "output_type": "stream",
          "name": "stdout",
          "text": [
            "tf.Tensor(\n",
            "[[False False]\n",
            " [False False]], shape=(2, 2), dtype=bool)\n",
            "<tf.Variable 'id1:0' shape=(2, 2) dtype=float32, numpy=\n",
            "array([[1., 2.],\n",
            "       [3., 4.]], dtype=float32)> <tf.Variable 'id1:0' shape=(2, 2) dtype=float32, numpy=\n",
            "array([[2., 3.],\n",
            "       [4., 5.]], dtype=float32)>\n"
          ]
        }
      ]
    },
    {
      "cell_type": "code",
      "source": [
        "# Math with tensorflow\n",
        "a = tf.random.normal(shape=(2,2))*10\n",
        "a = tf.cast(a, tf.int32)\n",
        "b = tf.random.normal(shape=(2,2))*10\n",
        "b = tf.cast(b, tf.int32)\n",
        "c = a+b\n",
        "d = tf.square(c)\n",
        "# e = tf.exp(d) #Cannot do exp on int\n",
        "print(\"a: \",a)\n",
        "print(\"\\nb: \",b)\n",
        "print(\"\\nSum: \",c)\n",
        "print(\"\\nSquare: \",d)\n",
        "# print(\"\\nExponent: \",e)"
      ],
      "metadata": {
        "colab": {
          "base_uri": "https://localhost:8080/"
        },
        "id": "gHXGX6rUHS43",
        "outputId": "5f634786-07cc-4f18-ab92-70b50cdb9c2b"
      },
      "execution_count": null,
      "outputs": [
        {
          "output_type": "stream",
          "name": "stdout",
          "text": [
            "a:  tf.Tensor(\n",
            "[[-2  0]\n",
            " [ 0 -7]], shape=(2, 2), dtype=int32)\n",
            "\n",
            "b:  tf.Tensor(\n",
            "[[ 3 12]\n",
            " [ 0 13]], shape=(2, 2), dtype=int32)\n",
            "\n",
            "Sum:  tf.Tensor(\n",
            "[[ 1 12]\n",
            " [ 0  6]], shape=(2, 2), dtype=int32)\n",
            "\n",
            "Square:  tf.Tensor(\n",
            "[[  1 144]\n",
            " [  0  36]], shape=(2, 2), dtype=int32)\n"
          ]
        }
      ]
    },
    {
      "cell_type": "code",
      "source": [
        "# Matrix Multiplication\n",
        "with tf.compat.v1.Session() as ses:\n",
        "  a = tf.constant([[1.0, 2.0, 3.0], [4.0, 5.0, 6.0]])       # 2 X 3\n",
        "  b = tf.constant([[1.0, 2.0], [3.0, 4.0], [5.0, 6.0]])     # 3 X 2\n",
        "  c = tf.matmul(a, b)        # Shape: (2 X 3) X (3 X 2) = ( 2 X 2 )\n",
        "  print(ses.run(c))"
      ],
      "metadata": {
        "colab": {
          "base_uri": "https://localhost:8080/"
        },
        "id": "rbRX8B2YJzQL",
        "outputId": "756fc54c-aef1-4d53-b32a-f11e41020de6"
      },
      "execution_count": null,
      "outputs": [
        {
          "output_type": "stream",
          "name": "stdout",
          "text": [
            "[[22. 28.]\n",
            " [49. 64.]]\n"
          ]
        }
      ]
    },
    {
      "cell_type": "code",
      "source": [
        "# Matrix multiplication can also be written as:\n",
        "\n",
        "a = tf.Variable([[1.0, 2.0, 3.0], [4.0, 5.0, 6.0]])\n",
        "b = tf.constant([[1.0, 2.0], [3.0, 4.0], [5.0, 6.0]])\n",
        "c = tf.Variable([[2.0, 2.0, 2.0], [2.0, 2.0, 2.0]])\n",
        "d = tf.matmul(a, b)\n",
        "\n",
        "print(d)"
      ],
      "metadata": {
        "colab": {
          "base_uri": "https://localhost:8080/"
        },
        "id": "wD-Ysx6CPUp3",
        "outputId": "a7cf8ecd-6653-4616-81e0-af4d8e931e90"
      },
      "execution_count": null,
      "outputs": [
        {
          "output_type": "stream",
          "name": "stdout",
          "text": [
            "tf.Tensor(\n",
            "[[22. 28.]\n",
            " [49. 64.]], shape=(2, 2), dtype=float32)\n"
          ]
        }
      ]
    },
    {
      "cell_type": "code",
      "source": [
        "# Element-wise multiplication\n",
        "e = a*c\n",
        "print(e)"
      ],
      "metadata": {
        "colab": {
          "base_uri": "https://localhost:8080/"
        },
        "id": "iFOGpxJrRQJ2",
        "outputId": "07b51bee-7b63-4403-a4ec-0d3f76768f34"
      },
      "execution_count": null,
      "outputs": [
        {
          "output_type": "stream",
          "name": "stdout",
          "text": [
            "tf.Tensor(\n",
            "[[ 2.  4.  6.]\n",
            " [ 8. 10. 12.]], shape=(2, 3), dtype=float32)\n"
          ]
        }
      ]
    },
    {
      "cell_type": "markdown",
      "source": [
        "## Tensorflow Einsum"
      ],
      "metadata": {
        "id": "07wJcuGUSD43"
      }
    },
    {
      "cell_type": "code",
      "source": [
        "# Matrix Multiplication \n",
        "m1 = (tf.random.normal(shape=[2,3]) * 10)\n",
        "m1 = tf.cast(m1, tf.int32)\n",
        "m2 = (tf.random.normal(shape=[3,2]) * 10)\n",
        "m2 = tf.cast(m2, tf.int32)\n",
        "e = tf.einsum('ij,jk -> ik',m1,m2)\n",
        "print(e)"
      ],
      "metadata": {
        "id": "z__MANR9RfAL",
        "colab": {
          "base_uri": "https://localhost:8080/"
        },
        "outputId": "68c5f76f-512c-4663-cf06-e4bfae6b0967"
      },
      "execution_count": null,
      "outputs": [
        {
          "output_type": "stream",
          "name": "stdout",
          "text": [
            "tf.Tensor(\n",
            "[[ 15 -55]\n",
            " [ 70 -75]], shape=(2, 2), dtype=int32)\n"
          ]
        }
      ]
    },
    {
      "cell_type": "code",
      "source": [
        "# Dot product\n",
        "u = (tf.random.normal(shape=[5]) * 10)\n",
        "v = (tf.random.normal(shape=[5]) * 10)\n",
        "e = tf.einsum('i,i->',u,v) #u[i]*v[i]\n",
        "print(e)"
      ],
      "metadata": {
        "colab": {
          "base_uri": "https://localhost:8080/"
        },
        "id": "QmCdBAKZyB33",
        "outputId": "c6f6b9ca-8017-417d-f0ed-964f0f145c6b"
      },
      "execution_count": null,
      "outputs": [
        {
          "output_type": "stream",
          "name": "stdout",
          "text": [
            "tf.Tensor(253.43874, shape=(), dtype=float32)\n"
          ]
        }
      ]
    },
    {
      "cell_type": "code",
      "source": [
        "# Outer product\n",
        "u = (tf.random.normal(shape=[3]) * 10)\n",
        "v = (tf.random.normal(shape=[5]) * 10)\n",
        "e = tf.einsum('i,j->ij',u,v) #u[i]*v[i]\n",
        "print(e)"
      ],
      "metadata": {
        "colab": {
          "base_uri": "https://localhost:8080/"
        },
        "id": "0j4TaCzizC7m",
        "outputId": "ea5517ee-56cb-4d56-b7ff-108b1380517c"
      },
      "execution_count": null,
      "outputs": [
        {
          "output_type": "stream",
          "name": "stdout",
          "text": [
            "tf.Tensor(\n",
            "[[-10.998315 -40.052246  29.63393   17.688482  18.029322]\n",
            " [-24.708122 -89.97886   66.57372   39.737835  40.50354 ]\n",
            " [ 11.041921  40.21105  -29.751423 -17.758614 -18.100805]], shape=(3, 5), dtype=float32)\n"
          ]
        }
      ]
    },
    {
      "cell_type": "code",
      "source": [
        "# Transpose\n",
        "e = tf.einsum('ij->ji',m1)\n",
        "print(e)"
      ],
      "metadata": {
        "colab": {
          "base_uri": "https://localhost:8080/"
        },
        "id": "h2uVcFRKzlsM",
        "outputId": "1ce236ad-2e44-41b9-acd1-90034c9f7b30"
      },
      "execution_count": null,
      "outputs": [
        {
          "output_type": "stream",
          "name": "stdout",
          "text": [
            "tf.Tensor(\n",
            "[[ -1  -9]\n",
            " [ 11  -8]\n",
            " [-27  13]], shape=(3, 2), dtype=int32)\n"
          ]
        }
      ]
    },
    {
      "cell_type": "code",
      "source": [
        "# Diagonal\n",
        "m = tf.reshape(tf.range(9), [3,3])\n",
        "diag = tf.einsum('ii->i', m)\n",
        "print(m , diag, diag.shape)"
      ],
      "metadata": {
        "colab": {
          "base_uri": "https://localhost:8080/"
        },
        "id": "vdwQ7o4wzmIr",
        "outputId": "568b4d16-f1c5-4757-f469-45654dab0fad"
      },
      "execution_count": null,
      "outputs": [
        {
          "output_type": "stream",
          "name": "stdout",
          "text": [
            "tf.Tensor(\n",
            "[[0 1 2]\n",
            " [3 4 5]\n",
            " [6 7 8]], shape=(3, 3), dtype=int32) tf.Tensor([0 4 8], shape=(3,), dtype=int32) (3,)\n"
          ]
        }
      ]
    },
    {
      "cell_type": "code",
      "source": [
        "# Repeated indices are summed\n",
        "trace = tf.einsum('ii', m)  # output[j,i] = trace(m) = sum_i m[i, i]\n",
        "assert trace == sum(diag)\n",
        "print(m)\n",
        "print(\"Trace: \",trace)"
      ],
      "metadata": {
        "colab": {
          "base_uri": "https://localhost:8080/"
        },
        "id": "pA60ueb540Uh",
        "outputId": "0ee9db7f-688b-4879-ad11-fa99df5bda36"
      },
      "execution_count": null,
      "outputs": [
        {
          "output_type": "stream",
          "name": "stdout",
          "text": [
            "tf.Tensor(\n",
            "[[0 1 2]\n",
            " [3 4 5]\n",
            " [6 7 8]], shape=(3, 3), dtype=int32)\n",
            "Trace:  tf.Tensor(12, shape=(), dtype=int32)\n"
          ]
        }
      ]
    },
    {
      "cell_type": "code",
      "source": [
        "# Batch matrix multiplication \n",
        "s = tf.random.normal(shape=[4,1,3])\n",
        "t = tf.random.normal(shape=[4,3,2])\n",
        "e = tf.einsum('bij,bjk->bik', s, t)\n",
        "# output[a,i,k] = sum_j s[a,i,j] * t[a, j, k]\n",
        "print(\"s: \",s)\n",
        "print(\"t: \",t)\n",
        "print(\"e: \",e)\n",
        "print(\"Shape: \",e.shape)"
      ],
      "metadata": {
        "colab": {
          "base_uri": "https://localhost:8080/"
        },
        "id": "JLMr85c_5M_f",
        "outputId": "6f7d432b-3ac0-4dec-b2b2-beb40e20c4d4"
      },
      "execution_count": null,
      "outputs": [
        {
          "output_type": "stream",
          "name": "stdout",
          "text": [
            "s:  tf.Tensor(\n",
            "[[[-1.6360364  -0.5875084  -2.1128955 ]]\n",
            "\n",
            " [[-1.0677503  -0.26370835 -0.36680022]]\n",
            "\n",
            " [[ 0.4012148  -0.30533656 -0.04695938]]\n",
            "\n",
            " [[ 0.86225426 -0.06065151  1.8529147 ]]], shape=(4, 1, 3), dtype=float32)\n",
            "t:  tf.Tensor(\n",
            "[[[ 0.4721736  -0.24931516]\n",
            "  [-1.1077102   0.30164889]\n",
            "  [ 1.9044129   0.07856104]]\n",
            "\n",
            " [[-2.5674555   1.5218024 ]\n",
            "  [ 0.16024436  1.5072573 ]\n",
            "  [ 0.68749356  0.91875374]]\n",
            "\n",
            " [[-0.3491817   1.2699556 ]\n",
            "  [ 0.32811418 -0.11639549]\n",
            "  [-0.8374061   0.5327191 ]]\n",
            "\n",
            " [[ 1.1781172   0.40680742]\n",
            "  [ 0.57684815 -0.47147682]\n",
            "  [-2.2397666  -0.6480694 ]]], shape=(4, 3, 2), dtype=float32)\n",
            "e:  tf.Tensor(\n",
            "[[[-4.1455293   0.06467617]]\n",
            "\n",
            " [[ 2.446971   -2.3593805 ]]\n",
            "\n",
            " [[-0.20095806  0.5200487 ]]\n",
            "\n",
            " [[-3.1692467  -0.82145005]]], shape=(4, 1, 2), dtype=float32)\n",
            "Shape:  (4, 1, 2)\n"
          ]
        }
      ]
    },
    {
      "cell_type": "code",
      "source": [
        "# Broadcasting batch matrix multiplication \n",
        "s = tf.random.normal(shape=[5,4,2,3])\n",
        "t = tf.random.normal(shape=[5,4,3,1])\n",
        "e = tf.einsum('...ij,...jk->...ik',s,t)\n",
        "print(\"s: \",s)\n",
        "print(\"\\nt: \",t)\n",
        "print(\"\\ne: \",e)\n",
        "print(\"Shape: \",e.shape)"
      ],
      "metadata": {
        "colab": {
          "base_uri": "https://localhost:8080/"
        },
        "id": "zu0oMRSO6M1w",
        "outputId": "1c8f79ce-1155-4b2d-cbe4-849253897f89"
      },
      "execution_count": null,
      "outputs": [
        {
          "output_type": "stream",
          "name": "stdout",
          "text": [
            "s:  tf.Tensor(\n",
            "[[[[-1.1331517   0.67617154  0.2225424 ]\n",
            "   [-1.8830365   0.30079114  0.6541149 ]]\n",
            "\n",
            "  [[-0.12679408  1.4166534  -2.205455  ]\n",
            "   [ 1.039929    1.0424037   0.82712764]]\n",
            "\n",
            "  [[-1.6045022   1.3605288  -0.7419855 ]\n",
            "   [ 0.40414757 -0.6776483   0.82664335]]\n",
            "\n",
            "  [[ 2.36031    -1.4425769   1.2536647 ]\n",
            "   [ 1.1016114  -0.38294932 -0.17249477]]]\n",
            "\n",
            "\n",
            " [[[-0.08818439 -0.8078206  -0.2860677 ]\n",
            "   [ 0.23859608  0.64554024  0.9976837 ]]\n",
            "\n",
            "  [[ 0.03769297 -0.4813898  -0.9097077 ]\n",
            "   [ 2.1258533  -0.68608993  1.232079  ]]\n",
            "\n",
            "  [[ 0.47418126 -0.533622    0.08006232]\n",
            "   [ 0.2800408   0.47423527 -1.3776412 ]]\n",
            "\n",
            "  [[-0.1432205  -1.3870147   1.5837988 ]\n",
            "   [ 0.62638354 -0.28669474  1.2091535 ]]]\n",
            "\n",
            "\n",
            " [[[-0.70820546  2.2528212  -0.7721183 ]\n",
            "   [-1.2931587  -0.7578084  -0.15736277]]\n",
            "\n",
            "  [[ 0.89067006  0.18728809  2.1126668 ]\n",
            "   [ 0.38308275  0.11627229  0.7100349 ]]\n",
            "\n",
            "  [[-0.36454874 -0.20402387 -0.91412705]\n",
            "   [-0.3602542  -0.6500493   0.08505294]]\n",
            "\n",
            "  [[ 0.2962495  -1.3857921   0.46606153]\n",
            "   [-0.7703203  -0.02441794 -0.25433928]]]\n",
            "\n",
            "\n",
            " [[[-1.3453147   0.2048727   1.2897917 ]\n",
            "   [-1.612294   -0.65047944 -0.36849   ]]\n",
            "\n",
            "  [[ 0.27248153  0.08897947 -0.00864708]\n",
            "   [-0.7097009  -0.91121584  0.86674607]]\n",
            "\n",
            "  [[ 0.9391952  -1.7556872   1.1368618 ]\n",
            "   [-1.9009961   1.9646631   1.8093702 ]]\n",
            "\n",
            "  [[-0.70319563  0.17680019 -0.23786186]\n",
            "   [-0.7285071   0.8058232   0.19649088]]]\n",
            "\n",
            "\n",
            " [[[ 0.54588777  1.2742741   0.7787669 ]\n",
            "   [-1.8819947   1.1132783   0.67754877]]\n",
            "\n",
            "  [[-1.89504     1.2617359   0.42461294]\n",
            "   [-0.6624405   0.45323038 -1.1222063 ]]\n",
            "\n",
            "  [[ 0.81934565 -0.47057676  0.17383313]\n",
            "   [-0.39719388  0.22062606 -0.4118121 ]]\n",
            "\n",
            "  [[-1.2621546  -0.17671306  3.229408  ]\n",
            "   [ 0.5512727  -0.5851307  -0.26811135]]]], shape=(5, 4, 2, 3), dtype=float32)\n",
            "\n",
            "t:  tf.Tensor(\n",
            "[[[[ 0.33516803]\n",
            "   [-1.6152825 ]\n",
            "   [-0.5212757 ]]\n",
            "\n",
            "  [[ 0.09969221]\n",
            "   [ 1.4303802 ]\n",
            "   [-0.27560735]]\n",
            "\n",
            "  [[ 0.05094622]\n",
            "   [-2.1924582 ]\n",
            "   [-0.19833305]]\n",
            "\n",
            "  [[-1.9892666 ]\n",
            "   [ 0.09313499]\n",
            "   [-1.0399805 ]]]\n",
            "\n",
            "\n",
            " [[[ 0.0753082 ]\n",
            "   [-0.13023832]\n",
            "   [ 2.0544593 ]]\n",
            "\n",
            "  [[ 0.19525923]\n",
            "   [-0.40691176]\n",
            "   [-0.5538741 ]]\n",
            "\n",
            "  [[-0.00820351]\n",
            "   [ 1.6336967 ]\n",
            "   [-0.7056026 ]]\n",
            "\n",
            "  [[-0.68225676]\n",
            "   [-0.22979651]\n",
            "   [ 0.20633766]]]\n",
            "\n",
            "\n",
            " [[[ 0.9386471 ]\n",
            "   [ 2.865307  ]\n",
            "   [ 1.0360935 ]]\n",
            "\n",
            "  [[ 0.16365546]\n",
            "   [ 1.2311811 ]\n",
            "   [ 2.3611612 ]]\n",
            "\n",
            "  [[-0.65272313]\n",
            "   [ 1.5095528 ]\n",
            "   [ 1.0652465 ]]\n",
            "\n",
            "  [[-1.1630001 ]\n",
            "   [-0.3146414 ]\n",
            "   [-0.80436695]]]\n",
            "\n",
            "\n",
            " [[[-0.80192024]\n",
            "   [-1.4492207 ]\n",
            "   [-0.19377904]]\n",
            "\n",
            "  [[ 0.04227398]\n",
            "   [-1.2198353 ]\n",
            "   [-1.5920949 ]]\n",
            "\n",
            "  [[-0.4035377 ]\n",
            "   [ 0.54882354]\n",
            "   [ 1.2521442 ]]\n",
            "\n",
            "  [[-0.68363553]\n",
            "   [ 0.01252349]\n",
            "   [-0.2818562 ]]]\n",
            "\n",
            "\n",
            " [[[-1.4189    ]\n",
            "   [ 0.08436441]\n",
            "   [ 0.97287583]]\n",
            "\n",
            "  [[ 0.04869137]\n",
            "   [ 1.5644733 ]\n",
            "   [-0.57223827]]\n",
            "\n",
            "  [[ 1.2418174 ]\n",
            "   [ 2.490148  ]\n",
            "   [ 0.48653692]]\n",
            "\n",
            "  [[ 0.44867456]\n",
            "   [-2.1140559 ]\n",
            "   [-0.16361614]]]], shape=(5, 4, 3, 1), dtype=float32)\n",
            "\n",
            "e:  tf.Tensor(\n",
            "[[[[-1.5880102 ]\n",
            "   [-1.4579705 ]]\n",
            "\n",
            "  [[ 2.6215522 ]\n",
            "   [ 1.3667439 ]]\n",
            "\n",
            "  [[-2.9174855 ]\n",
            "   [ 1.3423547 ]]\n",
            "\n",
            "  [[-6.1334276 ]\n",
            "   [-2.0476737 ]]]\n",
            "\n",
            "\n",
            " [[[-0.48914626]\n",
            "   [ 1.9835948 ]]\n",
            "\n",
            "  [[ 0.7071066 ]\n",
            "   [ 0.01185392]]\n",
            "\n",
            "  [[-0.9321587 ]\n",
            "   [ 1.7445265 ]]\n",
            "\n",
            "  [[ 0.7432416 ]\n",
            "   [-0.11197902]]]\n",
            "\n",
            "\n",
            " [[[ 4.9902825 ]\n",
            "   [-3.5482159 ]]\n",
            "\n",
            "  [[ 5.3646955 ]\n",
            "   [ 1.8823527 ]]\n",
            "\n",
            "  [[-1.043806  ]\n",
            "   [-0.6555352 ]]\n",
            "\n",
            "  [[-0.28339514]\n",
            "   [ 1.1081476 ]]]\n",
            "\n",
            "\n",
            " [[[ 0.53199476]\n",
            "   [ 2.3070252 ]]\n",
            "\n",
            "  [[-0.08325444]\n",
            "   [-0.2984106 ]]\n",
            "\n",
            "  [[ 0.08095178]\n",
            "   [ 4.1109695 ]]\n",
            "\n",
            "  [[ 0.54998654]\n",
            "   [ 0.4527429 ]]]\n",
            "\n",
            "\n",
            " [[[ 0.09058667]\n",
            "   [ 3.423454  ]]\n",
            "\n",
            "  [[ 1.6387002 ]\n",
            "   [ 1.318981  ]]\n",
            "\n",
            "  [[-0.06975195]\n",
            "   [-0.1442125 ]]\n",
            "\n",
            "  [[-0.7210986 ]\n",
            "   [ 1.5282084 ]]]], shape=(5, 4, 2, 1), dtype=float32)\n",
            "Shape:  (5, 4, 2, 1)\n"
          ]
        }
      ]
    },
    {
      "cell_type": "markdown",
      "source": [
        "## Tensorflow String"
      ],
      "metadata": {
        "id": "x5Vh1XlaSYGx"
      }
    },
    {
      "cell_type": "code",
      "source": [
        "# Tensors can be strings, too here is a scalar string. - 1D string\n",
        "# b prefix indicates that tf.string dtype is not a unicode string, but a byte-string.\n",
        "# tf.string is a dtype, which is to say you can represent data as strings (variable-length byte arrays) in tensors\n",
        "scalar_string_tensor = tf.constant(\"Ashika Anand Babu\")\n",
        "print(scalar_string_tensor)"
      ],
      "metadata": {
        "colab": {
          "base_uri": "https://localhost:8080/"
        },
        "id": "2PQjsw8QSakl",
        "outputId": "32bbc665-6347-4feb-f800-ec1743677a0e"
      },
      "execution_count": null,
      "outputs": [
        {
          "output_type": "stream",
          "name": "stdout",
          "text": [
            "tf.Tensor(b'Ashika Anand Babu', shape=(), dtype=string)\n"
          ]
        }
      ]
    },
    {
      "cell_type": "code",
      "source": [
        "# Working with unicode:\n",
        "s = tf.constant(u\"Thanks 😊\")\n",
        "print(s)"
      ],
      "metadata": {
        "colab": {
          "base_uri": "https://localhost:8080/"
        },
        "id": "37ppFshuShf9",
        "outputId": "e2f4beaa-ad18-4127-c7ed-f8334a004f41"
      },
      "execution_count": null,
      "outputs": [
        {
          "output_type": "stream",
          "name": "stdout",
          "text": [
            "tf.Tensor(b'Thanks \\xf0\\x9f\\x98\\x8a', shape=(), dtype=string)\n"
          ]
        }
      ]
    },
    {
      "cell_type": "markdown",
      "source": [
        "Unicode Operations"
      ],
      "metadata": {
        "id": "BxA2S774Tjfl"
      }
    },
    {
      "cell_type": "code",
      "source": [
        "# LENGTH : Bytes, Characters\n",
        "\n",
        "# Note that the final character takes up 4 bytes in UTF8.\n",
        "thanks = u'Thanks 😊'.encode('UTF-8')\n",
        "num_bytes = tf.strings.length(thanks).numpy()\n",
        "num_chars = tf.strings.length(thanks, unit='UTF8_CHAR').numpy()\n",
        "print('{} bytes; {} UTF-8 characters'.format(num_bytes, num_chars))"
      ],
      "metadata": {
        "colab": {
          "base_uri": "https://localhost:8080/"
        },
        "id": "evR80AatTDmA",
        "outputId": "e24ccbe4-bc54-4ea2-e880-31335bfe69db"
      },
      "execution_count": null,
      "outputs": [
        {
          "output_type": "stream",
          "name": "stdout",
          "text": [
            "11 bytes; 8 UTF-8 characters\n"
          ]
        }
      ]
    },
    {
      "cell_type": "code",
      "source": [
        "# SUBSTRING\n",
        "\n",
        "# Specifying unit='UTF8_CHAR', returns a single 4 byte character in this case\n",
        "print(tf.strings.substr(thanks, pos=7, len=1, unit='UTF8_CHAR').numpy())"
      ],
      "metadata": {
        "colab": {
          "base_uri": "https://localhost:8080/"
        },
        "id": "OleG4jsQTHWQ",
        "outputId": "a71feee9-40e3-49b8-d434-0c2164fec8ca"
      },
      "execution_count": null,
      "outputs": [
        {
          "output_type": "stream",
          "name": "stdout",
          "text": [
            "b'\\xf0\\x9f\\x98\\x8a'\n"
          ]
        }
      ]
    },
    {
      "cell_type": "code",
      "source": [
        "# SPLIT unicode string\n",
        "\n",
        "print(tf.strings.unicode_split(thanks, 'UTF-8').numpy())"
      ],
      "metadata": {
        "colab": {
          "base_uri": "https://localhost:8080/"
        },
        "id": "SrFu-giHTsRk",
        "outputId": "2be4702f-9336-40a5-c175-82d4d1919b01"
      },
      "execution_count": null,
      "outputs": [
        {
          "output_type": "stream",
          "name": "stdout",
          "text": [
            "[b'T' b'h' b'a' b'n' b'k' b's' b' ' b'\\xf0\\x9f\\x98\\x8a']\n"
          ]
        }
      ]
    },
    {
      "cell_type": "code",
      "source": [
        "# MultiD string tensor\n",
        "# If you have three string tensors of different lengths, this is OK.\n",
        "tensor_of_strings = tf.constant([\"Gray wolf\",\n",
        "                                 \"Quick brown fox\",\n",
        "                                 \"Lazy dog\"])\n",
        "# Note that the shape is (3,). The string length is not included.\n",
        "print(tensor_of_strings)"
      ],
      "metadata": {
        "colab": {
          "base_uri": "https://localhost:8080/"
        },
        "id": "W_V83IGjUAcm",
        "outputId": "fcd249db-7955-4124-a2ce-d24b125970c1"
      },
      "execution_count": null,
      "outputs": [
        {
          "output_type": "stream",
          "name": "stdout",
          "text": [
            "tf.Tensor([b'Gray wolf' b'Quick brown fox' b'Lazy dog'], shape=(3,), dtype=string)\n"
          ]
        }
      ]
    },
    {
      "cell_type": "code",
      "source": [
        "# If you pass unicode characters they are utf-8 encoded.\n",
        "tf.constant(\"😂🥳\")"
      ],
      "metadata": {
        "colab": {
          "base_uri": "https://localhost:8080/"
        },
        "id": "vpbSczqMURQv",
        "outputId": "d94e392d-6607-44e6-81d7-79bbc9f369a5"
      },
      "execution_count": null,
      "outputs": [
        {
          "output_type": "execute_result",
          "data": {
            "text/plain": [
              "<tf.Tensor: shape=(), dtype=string, numpy=b'\\xf0\\x9f\\x98\\x82\\xf0\\x9f\\xa5\\xb3'>"
            ]
          },
          "metadata": {},
          "execution_count": 199
        }
      ]
    },
    {
      "cell_type": "code",
      "source": [
        "# You can use split to split a string into a set of tensors\n",
        "print(tf.strings.split(scalar_string_tensor, sep=\" \"))"
      ],
      "metadata": {
        "colab": {
          "base_uri": "https://localhost:8080/"
        },
        "id": "JKWLLNVsUetT",
        "outputId": "9a99cabe-e2af-4927-a637-615498c194fd"
      },
      "execution_count": null,
      "outputs": [
        {
          "output_type": "stream",
          "name": "stdout",
          "text": [
            "tf.Tensor([b'Ashika' b'Anand' b'Babu'], shape=(3,), dtype=string)\n"
          ]
        }
      ]
    },
    {
      "cell_type": "code",
      "source": [
        "# ...but it turns into a `RaggedTensor` if you split up a tensor of strings,\n",
        "# as each string might be split into a different number of parts.\n",
        "print(tf.strings.split(tensor_of_strings))"
      ],
      "metadata": {
        "colab": {
          "base_uri": "https://localhost:8080/"
        },
        "id": "3yVVNuitU26e",
        "outputId": "14be5691-8c26-40b0-eabf-d18d6c19dd9d"
      },
      "execution_count": null,
      "outputs": [
        {
          "output_type": "stream",
          "name": "stdout",
          "text": [
            "<tf.RaggedTensor [[b'Gray', b'wolf'], [b'Quick', b'brown', b'fox'], [b'Lazy', b'dog']]>\n"
          ]
        }
      ]
    }
  ]
}