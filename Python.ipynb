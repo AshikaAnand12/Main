{
  "nbformat": 4,
  "nbformat_minor": 0,
  "metadata": {
    "colab": {
      "name": "Python.ipynb",
      "provenance": [],
      "collapsed_sections": [],
      "authorship_tag": "ABX9TyM/jYtTCotCeRRScsTEtMW7",
      "include_colab_link": true
    },
    "kernelspec": {
      "name": "python3",
      "display_name": "Python 3"
    },
    "language_info": {
      "name": "python"
    }
  },
  "cells": [
    {
      "cell_type": "markdown",
      "metadata": {
        "id": "view-in-github",
        "colab_type": "text"
      },
      "source": [
        "<a href=\"https://colab.research.google.com/github/AshikaAnand12/Main/blob/main/Python.ipynb\" target=\"_parent\"><img src=\"https://colab.research.google.com/assets/colab-badge.svg\" alt=\"Open In Colab\"/></a>"
      ]
    },
    {
      "cell_type": "code",
      "execution_count": null,
      "metadata": {
        "colab": {
          "base_uri": "https://localhost:8080/"
        },
        "id": "bWITQOuenw3F",
        "outputId": "7a7eeac9-e476-42a0-fd8b-0d10c4ab9ceb"
      },
      "outputs": [
        {
          "output_type": "stream",
          "name": "stdout",
          "text": [
            "Hello, world!\n"
          ]
        }
      ],
      "source": [
        "# Hello world\n",
        "# It is used to validate the development environment \n",
        "# Everything is an object in python\n",
        "# There is no multi line comment\n",
        "print('Hello, world!')"
      ]
    },
    {
      "cell_type": "code",
      "source": [
        "# Python version\n",
        "# Import module from library. Multiple imports in same or different statements.\n",
        "import platform\n",
        "print('This is python version {}'.format(platform.python_version()))\n",
        "#Shebang Line: #! - no lines before this line, no spaces between # and ! - should be the first line of code - common usage for env = #!/usr/bin/env python3 "
      ],
      "metadata": {
        "colab": {
          "base_uri": "https://localhost:8080/"
        },
        "id": "xwhPNLLAs3Tj",
        "outputId": "0e025bcc-6847-4fca-aae4-d9a51e0b71a1"
      },
      "execution_count": null,
      "outputs": [
        {
          "output_type": "stream",
          "name": "stdout",
          "text": [
            "This is python version 3.7.12\n"
          ]
        }
      ]
    },
    {
      "cell_type": "code",
      "source": [
        "# Print func is called inside message function, message func is called in main func. \n",
        "# Using conditional if for calling main(), it forces the interpreter to read the entire script\n",
        "# Indentation is very important. \n",
        "import platform\n",
        "def main():\n",
        "  message()\n",
        "def message():\n",
        "  print('This is python version {}'.format(platform.python_version()))\n",
        "if __name__ == \"__main__\":\n",
        "  main()"
      ],
      "metadata": {
        "colab": {
          "base_uri": "https://localhost:8080/"
        },
        "id": "G9fdAMYMxSEc",
        "outputId": "225605bf-4d7f-4873-c538-e2a09592509b"
      },
      "execution_count": null,
      "outputs": [
        {
          "output_type": "stream",
          "name": "stdout",
          "text": [
            "This is python version 3.7.12\n"
          ]
        }
      ]
    },
    {
      "cell_type": "code",
      "source": [
        "x = 3\n",
        "print('Hello, world{}'.format(x)) # use format method always, %d will be depracated\n",
        "print('%d'%x)\n",
        "print(f'Hello world.{x}') # Format func >python 3.6 # use this"
      ],
      "metadata": {
        "colab": {
          "base_uri": "https://localhost:8080/"
        },
        "id": "CVyUVA361Ehh",
        "outputId": "112f625e-fb45-44c0-87d5-4eae14543359"
      },
      "execution_count": null,
      "outputs": [
        {
          "output_type": "stream",
          "name": "stdout",
          "text": [
            "Hello, world3\n",
            "3\n",
            "Hello world.3\n"
          ]
        }
      ]
    },
    {
      "cell_type": "code",
      "source": [
        "# Blocks do not define scope. Blocks are indicated by indentation \n",
        "x = 3\n",
        "y = 5\n",
        "\n",
        "if x < y: # Colon indicated end of indentation\n",
        "  z = 712\n",
        "  print(f'Sukhi Bday {x} month, {y} day')\n",
        "elif x == y: # It always require condition\n",
        "  print('Yes, wrong input')\n",
        "else:\n",
        "  print('Ashika is the best')\n",
        "\n",
        "print(f'Ashika Bday {z}') # Even if variable defined within the block, it is accessible outside the block."
      ],
      "metadata": {
        "colab": {
          "base_uri": "https://localhost:8080/"
        },
        "id": "q51_Irqn3oF0",
        "outputId": "c531cd32-17e5-47e4-fd07-0b1b885a2f22"
      },
      "execution_count": null,
      "outputs": [
        {
          "output_type": "stream",
          "name": "stdout",
          "text": [
            "Sukhi Bday 3 month, 5 day\n",
            "Ashika Bday 712\n"
          ]
        }
      ]
    },
    {
      "cell_type": "code",
      "source": [
        "# While Loop\n",
        "words = ['one','two','three','four','five']\n",
        "n=0\n",
        "while(n<5):\n",
        "  print(words[n])\n",
        "  n = n+1"
      ],
      "metadata": {
        "colab": {
          "base_uri": "https://localhost:8080/"
        },
        "id": "eyz86cHi4YhT",
        "outputId": "b5616280-241f-4b80-e956-d1c079fc7d4f"
      },
      "execution_count": null,
      "outputs": [
        {
          "output_type": "stream",
          "name": "stdout",
          "text": [
            "one\n",
            "two\n",
            "three\n",
            "four\n",
            "five\n"
          ]
        }
      ]
    },
    {
      "cell_type": "code",
      "source": [
        "# For loop\n",
        "w = ['one','two','three']\n",
        "for i in w:\n",
        "  print(i)"
      ],
      "metadata": {
        "colab": {
          "base_uri": "https://localhost:8080/"
        },
        "id": "-VNvoIHnZmjY",
        "outputId": "e1befecc-4f7d-406d-b01d-bf8fb860a094"
      },
      "execution_count": null,
      "outputs": [
        {
          "output_type": "stream",
          "name": "stdout",
          "text": [
            "one\n",
            "two\n",
            "three\n"
          ]
        }
      ]
    },
    {
      "cell_type": "code",
      "source": [
        "# https://www.geeksforgeeks.org/args-kwargs-python/\n",
        "# Python program to illustrate\n",
        "# *args with first extra argument\n",
        "def myFun(arg1, *argv):\n",
        "    print (\"First argument :\", arg1)\n",
        "    print(\"Rest of the arguments(can be unknown(n) number): \",argv)\n",
        "    for arg in argv:\n",
        "        print(\"Next argument through *argv :\", arg)\n",
        " \n",
        "myFun('Hello', 'I\\'m', 'Ashika', 'Sukhesh Makam')"
      ],
      "metadata": {
        "colab": {
          "base_uri": "https://localhost:8080/"
        },
        "id": "EbMQ6DG4bJM5",
        "outputId": "94c6fe56-fe0a-4739-8d1a-f54440197dc7"
      },
      "execution_count": null,
      "outputs": [
        {
          "output_type": "stream",
          "name": "stdout",
          "text": [
            "First argument : Hello\n",
            "Rest of the arguments(can be unknown(n) number):  (\"I'm\", 'Ashika', 'Sukhesh Makam')\n",
            "Next argument through *argv : I'm\n",
            "Next argument through *argv : Ashika\n",
            "Next argument through *argv : Sukhesh Makam\n"
          ]
        }
      ]
    },
    {
      "cell_type": "code",
      "source": [
        "# Python program to illustrate  **kwargs for\n",
        "# variable number of keyword arguments with\n",
        "# one extra argument.\n",
        " \n",
        "def myFun(arg1, **kwargs):\n",
        "    print(\"First Argument: \",arg1)\n",
        "    print(\"Kwargs is like a dictionary (key:value) pair= \",kwargs)\n",
        "    for key, value in kwargs.items():\n",
        "        print (\"%s : %s\" %(key, value))\n",
        " \n",
        "# Driver code\n",
        "myFun(\"Hi\", first ='Ashika', mid ='Sukhesh', last='Makam') "
      ],
      "metadata": {
        "colab": {
          "base_uri": "https://localhost:8080/"
        },
        "id": "woQqV6dobax0",
        "outputId": "cc81478a-1ee6-4345-d9ff-2e58578c6448"
      },
      "execution_count": null,
      "outputs": [
        {
          "output_type": "stream",
          "name": "stdout",
          "text": [
            "First Argument:  Hi\n",
            "Kwargs is like a dictionary (key:value) pair=  {'first': 'Ashika', 'mid': 'Sukhesh', 'last': 'Makam'}\n",
            "first : Ashika\n",
            "mid : Sukhesh\n",
            "last : Makam\n"
          ]
        }
      ]
    },
    {
      "cell_type": "code",
      "source": [
        "# Having *args and **kwargs in the same function\n",
        "def newFunc(*args, **kwargs):\n",
        "  print(\"*args are: \", args)\n",
        "  print(\"**kwargs are: \", kwargs)\n",
        "  # You can also obtain in for loop\n",
        "  for arg in args:\n",
        "    print(\"Single element in args: \",arg)\n",
        "  print(\"Key:value pair in kwargs are: \")\n",
        "  for key,value in kwargs.items():\n",
        "    print(f'{key} : {value}')\n",
        "newFunc('x','y','z','a',first ='Ashika', mid ='Sukhesh', last='Makam')"
      ],
      "metadata": {
        "colab": {
          "base_uri": "https://localhost:8080/"
        },
        "id": "dLeNvZDWciGq",
        "outputId": "90a9bbc5-27bb-4ce8-f4d9-817b6cc6f40c"
      },
      "execution_count": null,
      "outputs": [
        {
          "output_type": "stream",
          "name": "stdout",
          "text": [
            "*args are:  ('x', 'y', 'z', 'a')\n",
            "**kwargs are:  {'first': 'Ashika', 'mid': 'Sukhesh', 'last': 'Makam'}\n",
            "Single element in args:  x\n",
            "Single element in args:  y\n",
            "Single element in args:  z\n",
            "Single element in args:  a\n",
            "Key:value pair in kwargs are: \n",
            "first : Ashika\n",
            "mid : Sukhesh\n",
            "last : Makam\n"
          ]
        }
      ]
    },
    {
      "cell_type": "code",
      "source": [
        "# https://www.programiz.com/python-programming/decorator\n",
        "# Understanding Decorators\n",
        "\n",
        "def first(msg):\n",
        "    msg = str.upper(msg)\n",
        "    print(msg)\n",
        "\n",
        "\n",
        "first(\"Hello\")\n",
        "\n",
        "second = first\n",
        "second(\"Hello\")\n",
        "\n",
        "\n",
        "# Functions taking another function as an argument\n",
        "def inc(x):\n",
        "    return x + 1\n",
        "\n",
        "\n",
        "def dec(x):\n",
        "    return x - 1\n",
        "\n",
        "\n",
        "def operate(func, x):\n",
        "    result = func(x)\n",
        "    return result\n",
        "\n",
        "print(\"Increment: \",operate(inc,4))\n",
        "print(\"Decrement: \",operate(dec,4))\n",
        "\n",
        "# A function can return another function\n",
        "def is_called():\n",
        "    def is_returned(x):\n",
        "        print(f'Inside {x}')\n",
        "    print(\"Outside \")\n",
        "    print(is_returned)\n",
        "    return is_returned\n",
        "\n",
        "\n",
        "new = is_called() # Pointing to is_returned function\n",
        "print('Calling is_called function')\n",
        "print(new)\n",
        "# Outputs \"Hello\"\n",
        "new('Ashika')\n",
        "\n",
        "# print('\\n')\n",
        "# print(is_called()('Ashika'))"
      ],
      "metadata": {
        "colab": {
          "base_uri": "https://localhost:8080/"
        },
        "id": "dogfvg8JfDyg",
        "outputId": "cf6a4ede-f898-40b1-e0c9-7de1580ba470"
      },
      "execution_count": null,
      "outputs": [
        {
          "output_type": "stream",
          "name": "stdout",
          "text": [
            "HELLO\n",
            "HELLO\n",
            "Increment:  5\n",
            "Decrement:  3\n",
            "Outside \n",
            "<function is_called.<locals>.is_returned at 0x7fd91eed53b0>\n",
            "Calling is_called function\n",
            "<function is_called.<locals>.is_returned at 0x7fd91eed53b0>\n",
            "Inside Ashika\n"
          ]
        }
      ]
    },
    {
      "cell_type": "code",
      "source": [
        "# A Decorator is a callable that returns a callable\n",
        "# A decorator takes in a function, adds some functionality and returns it\n",
        "def make_pretty(func):\n",
        "    def inner():\n",
        "        print(\"I got decorated\")\n",
        "        func()\n",
        "    return inner\n",
        "\n",
        "\n",
        "def ordinary():\n",
        "    print(\"I am ordinary\")\n",
        "\n",
        "# Here, make_pretty is the decorator function\n",
        "x = make_pretty(ordinary)\n",
        "x()"
      ],
      "metadata": {
        "colab": {
          "base_uri": "https://localhost:8080/"
        },
        "id": "ToSghepsjBSv",
        "outputId": "a5c78f03-431e-4c58-d0a7-09fc054f0fbc"
      },
      "execution_count": null,
      "outputs": [
        {
          "output_type": "stream",
          "name": "stdout",
          "text": [
            "I got decorated\n",
            "I am ordinary\n"
          ]
        }
      ]
    },
    {
      "cell_type": "code",
      "source": [
        "# Using the same make_pretty function above\n",
        "@make_pretty\n",
        "def ordinary():\n",
        "    print(\"I am ordinary\")\n",
        "\n",
        "# Equivalent to:\n",
        "# def ordinary():\n",
        "#     print(\"I am ordinary\")\n",
        "# ordinary = make_pretty(ordinary)\n",
        "\n",
        "\n",
        "ordinary()"
      ],
      "metadata": {
        "colab": {
          "base_uri": "https://localhost:8080/"
        },
        "id": "QZ_Qdrd5kXzH",
        "outputId": "c678990b-9120-42c4-a22e-ca454bd4916a"
      },
      "execution_count": null,
      "outputs": [
        {
          "output_type": "stream",
          "name": "stdout",
          "text": [
            "I got decorated\n",
            "I am ordinary\n"
          ]
        }
      ]
    },
    {
      "cell_type": "code",
      "source": [
        "# Decorator with *args and **kwargs\n",
        "def star(func):\n",
        "    def inner(*args, **kwargs):\n",
        "        print(\"*\" * 25)\n",
        "        func(*args, **kwargs)\n",
        "        print(\"*\" * 30)\n",
        "    return inner\n",
        "\n",
        "\n",
        "def percent(func):\n",
        "    def inner(*args, **kwargs):\n",
        "        print(\"%\" * 15)\n",
        "        func(*args, **kwargs)\n",
        "        print(\"%\" * 30)\n",
        "    return inner\n",
        "\n",
        "\n",
        "@star\n",
        "@percent\n",
        "def printer(msg):\n",
        "    print(msg)\n",
        "\n",
        "\n",
        "printer(\"Ashika Makam\")"
      ],
      "metadata": {
        "colab": {
          "base_uri": "https://localhost:8080/"
        },
        "id": "oCPnYvA3lANh",
        "outputId": "62f70cb9-23fa-4a27-802e-fdd9ae1a902c"
      },
      "execution_count": null,
      "outputs": [
        {
          "output_type": "stream",
          "name": "stdout",
          "text": [
            "*************************\n",
            "%%%%%%%%%%%%%%%\n",
            "Ashika Makam\n",
            "%%%%%%%%%%%%%%%%%%%%%%%%%%%%%%\n",
            "******************************\n"
          ]
        }
      ]
    },
    {
      "cell_type": "code",
      "source": [
        "# ZIP function\n",
        "languages = ['Java', 'Python', 'JavaScript']\n",
        "versions = [14, 3, 6]\n",
        "\n",
        "result = zip(languages, versions)\n",
        "print(list(result))\n",
        "\n",
        "# Output: [('Java', 14), ('Python', 3), ('JavaScript', 6)]"
      ],
      "metadata": {
        "colab": {
          "base_uri": "https://localhost:8080/"
        },
        "id": "yNvb2kHDVtFp",
        "outputId": "c6104b52-89fd-415a-ab66-ce2d23a48b6d"
      },
      "execution_count": null,
      "outputs": [
        {
          "output_type": "stream",
          "name": "stdout",
          "text": [
            "[('Java', 14), ('Python', 3), ('JavaScript', 6)]\n"
          ]
        }
      ]
    },
    {
      "cell_type": "code",
      "source": [
        "numbersList = [1, 2, 3]\n",
        "str_list = ['one', 'two']\n",
        "numbers_tuple = ('ONE', 'TWO', 'THREE', 'FOUR')\n",
        "\n",
        "# Notice, the size of numbersList and numbers_tuple is different\n",
        "result = zip(numbersList, numbers_tuple)\n",
        "print(list(result))\n"
      ],
      "metadata": {
        "colab": {
          "base_uri": "https://localhost:8080/"
        },
        "id": "_fiRmnKEg4gh",
        "outputId": "2a5ae65f-bbdb-418a-da1a-6e04bd6bd9cb"
      },
      "execution_count": null,
      "outputs": [
        {
          "output_type": "stream",
          "name": "stdout",
          "text": [
            "[(1, 'ONE'), (2, 'TWO'), (3, 'THREE')]\n"
          ]
        }
      ]
    },
    {
      "cell_type": "code",
      "source": [
        "numbersList = [1, 2, 3]\n",
        "str_list = ['one', 'two']\n",
        "numbers_tuple = ('ONE', 'TWO', 'THREE', 'FOUR')\n",
        "\n",
        "# Notice, the size of numbersList and numbers_tuple is different\n",
        "result = zip(numbersList, numbers_tuple)\n",
        "\n",
        "# Converting to set\n",
        "result_set = set(result)\n",
        "print(result_set)\n",
        "\n",
        "result = zip(numbersList, str_list, numbers_tuple)\n",
        "\n",
        "# Converting to set\n",
        "result_set = set(result)\n",
        "print(result_set)"
      ],
      "metadata": {
        "colab": {
          "base_uri": "https://localhost:8080/"
        },
        "id": "qsoi9Du0hh1R",
        "outputId": "1687cb92-64c0-4ce3-c176-151085ace7ed"
      },
      "execution_count": null,
      "outputs": [
        {
          "output_type": "stream",
          "name": "stdout",
          "text": [
            "{(2, 'TWO'), (1, 'ONE'), (3, 'THREE')}\n",
            "{(2, 'two', 'TWO'), (1, 'one', 'ONE')}\n"
          ]
        }
      ]
    },
    {
      "cell_type": "code",
      "source": [
        "# UN-ZIP\n",
        "coordinate = ['x', 'y', 'z']\n",
        "value = [3, 4, 5]\n",
        "\n",
        "result = zip(coordinate, value)\n",
        "result_list = list(result)\n",
        "print(result_list)\n",
        "\n",
        "c, v =  zip(*result_list)\n",
        "print('c =', c)\n",
        "print('v =', v)"
      ],
      "metadata": {
        "id": "wQI3cEvkhtMW"
      },
      "execution_count": null,
      "outputs": []
    },
    {
      "cell_type": "code",
      "source": [
        "# Counter in Collections\n",
        "# https://pymotw.com/2/collections/counter.html\n",
        "from collections import Counter\n",
        "myList = ['a','b','b','c','c','c','d','d','d','d']\n",
        "x = Counter(myList)\n",
        "print(Counter(myList))\n",
        "print(\"Keys: \",Counter(myList).keys())\n",
        "print(\"Values: \",Counter(myList).values())\n",
        "for i in x:\n",
        "  if i=='a':\n",
        "    print(i,x[i])"
      ],
      "metadata": {
        "colab": {
          "base_uri": "https://localhost:8080/"
        },
        "id": "Lhgqiuatso7p",
        "outputId": "aa66f576-4735-4703-81d7-81a60c5fe5ab"
      },
      "execution_count": null,
      "outputs": [
        {
          "output_type": "stream",
          "name": "stdout",
          "text": [
            "Counter({'d': 4, 'c': 3, 'b': 2, 'a': 1})\n",
            "Keys:  dict_keys(['a', 'b', 'c', 'd'])\n",
            "Values:  dict_values([1, 2, 3, 4])\n",
            "a 1\n"
          ]
        }
      ]
    },
    {
      "cell_type": "code",
      "source": [
        "# Dictionary in Collections\n",
        "from collections import defaultdict\n",
        "myList = ['a','b','b','c','c','c','d','d','d','d']\n",
        "d = defaultdict(int)\n",
        "for i,val in enumerate(myList):\n",
        "  if val not in x:\n",
        "    d[val] = 1\n",
        "  else:\n",
        "    d[val]+=1\n",
        "print(\"Dictionary\",d)\n",
        "\n",
        "for i in d:\n",
        "  if i=='a':\n",
        "    print(i,d[i])"
      ],
      "metadata": {
        "colab": {
          "base_uri": "https://localhost:8080/"
        },
        "id": "orWVspHQuzvP",
        "outputId": "2689755a-1cfe-4384-a247-65eda97d5cc4"
      },
      "execution_count": null,
      "outputs": [
        {
          "output_type": "stream",
          "name": "stdout",
          "text": [
            "Dictionary defaultdict(<class 'int'>, {'a': 1, 'b': 2, 'c': 3, 'd': 4})\n",
            "a 1\n"
          ]
        }
      ]
    },
    {
      "cell_type": "code",
      "source": [
        "# Fibonacci series\n",
        "x,y = 0,1 # assign x = 0 and  y=1\n",
        "while y < 1000:\n",
        "  print(y,end = ' ')\n",
        "  x,y = y,x+y #assign x = y and y=x+y simultaneously. Do no need to use another variable for storing existing values sum"
      ],
      "metadata": {
        "colab": {
          "base_uri": "https://localhost:8080/"
        },
        "id": "t-BnPg7Z65Te",
        "outputId": "919a8b39-e9e4-4874-f0ae-8b4063f658e7"
      },
      "execution_count": null,
      "outputs": [
        {
          "output_type": "stream",
          "name": "stdout",
          "text": [
            "1 1 2 3 5 8 13 21 34 55 89 144 233 377 610 987 "
          ]
        }
      ]
    },
    {
      "cell_type": "code",
      "source": [
        "# Fibonaci series easy version\n",
        "a = 0\n",
        "b = 1\n",
        "while b < 1000:\n",
        "  print(b)\n",
        "  n = a + b # use n for storing a value\n",
        "  a = b\n",
        "  b = n"
      ],
      "metadata": {
        "colab": {
          "base_uri": "https://localhost:8080/"
        },
        "id": "R0Au-Eip7Mwm",
        "outputId": "7da0f957-cf81-410b-ac40-77bd3145545b"
      },
      "execution_count": null,
      "outputs": [
        {
          "output_type": "stream",
          "name": "stdout",
          "text": [
            "1\n",
            "1\n",
            "2\n",
            "3\n",
            "5\n",
            "8\n",
            "13\n",
            "21\n",
            "34\n",
            "55\n",
            "89\n",
            "144\n",
            "233\n",
            "377\n",
            "610\n",
            "987\n"
          ]
        }
      ]
    },
    {
      "cell_type": "code",
      "source": [
        "# Fibonacci series recurrsion version\n",
        "def fibo(n):\n",
        "  if n in {0, 1}:\n",
        "    return n\n",
        "  return fibo(n - 1) + fibo(n - 2)\n",
        "\n",
        "[fibo(n) for n in range(17)]"
      ],
      "metadata": {
        "id": "QJi5mnXI7o7R",
        "colab": {
          "base_uri": "https://localhost:8080/"
        },
        "outputId": "511a494a-5a86-4631-f3aa-be9038ae16a2"
      },
      "execution_count": null,
      "outputs": [
        {
          "output_type": "execute_result",
          "data": {
            "text/plain": [
              "[0, 1, 1, 2, 3, 5, 8, 13, 21, 34, 55, 89, 144, 233, 377, 610, 987]"
            ]
          },
          "metadata": {},
          "execution_count": 75
        }
      ]
    },
    {
      "cell_type": "code",
      "source": [
        "# Fibonacci import\n",
        "# from fibonacci_class import Fibonacci\n",
        "\n",
        "# fibonacci_of = Fibonacci()\n",
        "# fibonacci_of(5)"
      ],
      "metadata": {
        "id": "Po4ntFu-W54Z"
      },
      "execution_count": null,
      "outputs": []
    },
    {
      "cell_type": "code",
      "source": [
        "# Functions\n",
        "# When a return value is not specified explicitly, a python function returns a none value\n",
        "def funcs(n):\n",
        "  print(n)\n",
        "funcs(305)\n",
        "\n",
        "def func(n=1):\n",
        "  print(n)\n",
        "func()\n",
        "func(10)"
      ],
      "metadata": {
        "colab": {
          "base_uri": "https://localhost:8080/"
        },
        "id": "sPvQVUYqadXh",
        "outputId": "d5fbfa05-eea2-44ba-a7bf-ee473a467960"
      },
      "execution_count": null,
      "outputs": [
        {
          "output_type": "stream",
          "name": "stdout",
          "text": [
            "305\n",
            "1\n",
            "10\n"
          ]
        }
      ]
    },
    {
      "cell_type": "code",
      "source": [
        "# Functions\n",
        "# prime numbers\n",
        "def isprime(n):\n",
        "  if n<=1:\n",
        "    return False\n",
        "  for x in range(2,n): # looping through 2 to n as 1 is neither prime nor composite number\n",
        "    if n % x ==0:\n",
        "      return False\n",
        "  else:\n",
        "    return True\n",
        "\n",
        "def list_prime():\n",
        "  for n in range(100):\n",
        "    if isprime(n):\n",
        "      print(n,end=' ',flush=True)\n",
        "\n",
        "list_prime()\n",
        "\n",
        "a=5\n",
        "if isprime(a):\n",
        "  print('Prime')\n",
        "else:\n",
        "  print('Not prime')"
      ],
      "metadata": {
        "colab": {
          "base_uri": "https://localhost:8080/"
        },
        "id": "lUpfMcTbaxei",
        "outputId": "dd2a9e9a-8b32-4ebc-c6a3-cb4764fb4da3"
      },
      "execution_count": null,
      "outputs": [
        {
          "output_type": "stream",
          "name": "stdout",
          "text": [
            "2 3 5 7 11 13 17 19 23 29 31 37 41 43 47 53 59 61 67 71 73 79 83 89 97 Prime\n"
          ]
        }
      ]
    },
    {
      "cell_type": "code",
      "source": [
        "# Classes\n",
        "class D:\n",
        "  sound = 'Quackssss'\n",
        "  walking = 'walking'\n",
        "\n",
        "  def quack(self):\n",
        "    print('Quack!')\n",
        "    print(self.sound)\n",
        "  def walk(self):\n",
        "    print('Walks')\n",
        "    print(self.walking)\n",
        "\n",
        "def main():\n",
        "  do = D()# do is an object of class D\n",
        "  do.quack()\n",
        "  do.walk()\n",
        "\n",
        "if __name__ == '__main__':main()"
      ],
      "metadata": {
        "colab": {
          "base_uri": "https://localhost:8080/"
        },
        "id": "tRwiTxo3b8zR",
        "outputId": "1f8946bd-0f39-4108-d71f-db68cd3b4b78"
      },
      "execution_count": null,
      "outputs": [
        {
          "output_type": "stream",
          "name": "stdout",
          "text": [
            "Quack!\n",
            "Quackssss\n",
            "Walks\n",
            "walking\n"
          ]
        }
      ]
    },
    {
      "cell_type": "code",
      "source": [
        "# Types and Values\n",
        "x=7\n",
        "y= True\n",
        "z = None\n",
        "\n",
        "print(f'x in {x}')\n",
        "print(f'y in {y}')\n",
        "print(f'z in {z}')\n",
        "\n",
        "print(type(x))\n",
        "print(type(y))\n",
        "print(type(z))\n"
      ],
      "metadata": {
        "colab": {
          "base_uri": "https://localhost:8080/"
        },
        "id": "k_RavcRXdrJF",
        "outputId": "7f1c9a54-90cc-4d8c-ae02-3475b239b616"
      },
      "execution_count": null,
      "outputs": [
        {
          "output_type": "stream",
          "name": "stdout",
          "text": [
            "x in 7\n",
            "y in True\n",
            "z in None\n",
            "<class 'int'>\n",
            "<class 'bool'>\n",
            "<class 'NoneType'>\n"
          ]
        }
      ]
    },
    {
      "cell_type": "code",
      "source": [
        "# String functions\n",
        "a='Sukhi' # or \"Sukhi\" or '''Sukhi''' or \"\"\"Sukhi\"\"\"\n",
        "n = 8\n",
        "m = 9\n",
        "ab = f'seven {n:<09} {m:>09}'\n",
        "ad = f'seven {n:<9} {m:>9}'\n",
        "ac = 'sukhi'.capitalize()\n",
        "au = 'sukhi'.upper()\n",
        "af = f'sukhi {n} {m}'\n",
        "al = 'sukhi'.lower()\n",
        "\n",
        "print(f'a in {a}')\n",
        "print(f'ac in {ac}')\n",
        "print(f'au in {au}')\n",
        "print(f'af in {af}')\n",
        "print(f'ab in {ab}')\n",
        "print(f'ad in {ad}')\n",
        "\n",
        "print(type(a))"
      ],
      "metadata": {
        "colab": {
          "base_uri": "https://localhost:8080/"
        },
        "id": "Wvj5kKTueAOH",
        "outputId": "694ca42f-fb6d-4237-e27a-6cc948237450"
      },
      "execution_count": null,
      "outputs": [
        {
          "output_type": "stream",
          "name": "stdout",
          "text": [
            "a in Sukhi\n",
            "ac in Sukhi\n",
            "au in SUKHI\n",
            "af in sukhi 8 9\n",
            "ab in seven 800000000 000000009\n",
            "ad in seven 8                 9\n",
            "<class 'str'>\n"
          ]
        }
      ]
    },
    {
      "cell_type": "code",
      "source": [
        "# Numeric types\n",
        "# Dont use float type for money : Accuracy vs precision\n",
        "x = .1 + .1 + .1 - .3\n",
        "print(f'x is {x}') # Value not precise but almost equal to 0 i.e., it is accurate\n",
        "print(type(x))\n",
        "\n",
        "# use decimal for money\n",
        "from decimal import *\n",
        "a = Decimal('.1')\n",
        "b = Decimal('.3')\n",
        "x = a + a + a - b\n",
        "print(x) # Value accurate and precise"
      ],
      "metadata": {
        "colab": {
          "base_uri": "https://localhost:8080/"
        },
        "id": "ocuVadhnyni1",
        "outputId": "8eb6a72c-71a2-45c2-970f-82e08e2986c3"
      },
      "execution_count": null,
      "outputs": [
        {
          "output_type": "stream",
          "name": "stdout",
          "text": [
            "x is 5.551115123125783e-17\n",
            "<class 'float'>\n",
            "0.0\n"
          ]
        }
      ]
    },
    {
      "cell_type": "code",
      "source": [
        "# Bool type\n",
        "x = 7 > 5 # Returns false for 0, none and '' else it returns true\n",
        "print(f'x is {x}')\n",
        "print(type(x))\n",
        "\n",
        "if x:\n",
        "  print('True')\n",
        "else:\n",
        "  print(\"false\")"
      ],
      "metadata": {
        "colab": {
          "base_uri": "https://localhost:8080/"
        },
        "id": "_yGhpZC0zXxq",
        "outputId": "7c207893-0c4b-4e7f-8458-407537e56dbe"
      },
      "execution_count": null,
      "outputs": [
        {
          "output_type": "stream",
          "name": "stdout",
          "text": [
            "x is True\n",
            "<class 'bool'>\n",
            "True\n"
          ]
        }
      ]
    },
    {
      "cell_type": "code",
      "source": [
        "# Sequence types\n",
        "x = [1,2,3,4,5] # list\n",
        "x[2] = 12 # Reassign value\n",
        "for i in x:\n",
        "  print(i)\n",
        "print()\n",
        "\n",
        "\n",
        "x = (1,'two',3,4,5) # Tuple\n",
        "#x[2] = 12 # Can't Reassign value in tuple - immutable\n",
        "print(type(x))\n",
        "print(type(x[1]))\n",
        "print(id(x[0]))\n",
        "\n",
        "# VERY IMPORTANT\n",
        "if(type(x) == 'tuple'):\n",
        "  print('yes')\n",
        "else:\n",
        "  print('no')\n",
        "\n",
        "if(isinstance(x,tuple)):\n",
        "  print('yes')\n",
        "else:\n",
        "  print('no')\n",
        "for i in x:\n",
        "  print(i)\n",
        "print()\n",
        "\n",
        "\n",
        "x = range(5,50,5) \n",
        "print(type(x))\n",
        "# If range(10) - then it is just end, considering start is 0\n",
        "# If range(5,10) - 5 is start, 10 is end\n",
        "# If range(5,50,5) - start at 5, end at 10 and step value of 5\n",
        "# Range is also immutable like tuple\n",
        "for i in x:\n",
        "  print(i)\n",
        "print()\n",
        "\n",
        "\n",
        "x = {'one':1, 'two':2 , 'three':3 , 'four':4} # Dictionary - Mutable\n",
        "print(type(x))\n",
        "x['three']= 12\n",
        "for k,v in x.items():\n",
        "  print(f'k:{k}, v: {v}')"
      ],
      "metadata": {
        "colab": {
          "base_uri": "https://localhost:8080/"
        },
        "id": "zAypPZq20a1Q",
        "outputId": "00b415e2-80ec-4add-bc68-e2e8980fec4b"
      },
      "execution_count": null,
      "outputs": [
        {
          "output_type": "stream",
          "name": "stdout",
          "text": [
            "1\n",
            "2\n",
            "12\n",
            "4\n",
            "5\n",
            "\n",
            "<class 'tuple'>\n",
            "<class 'str'>\n",
            "94412993505792\n",
            "no\n",
            "yes\n",
            "1\n",
            "two\n",
            "3\n",
            "4\n",
            "5\n",
            "\n",
            "<class 'range'>\n",
            "5\n",
            "10\n",
            "15\n",
            "20\n",
            "25\n",
            "30\n",
            "35\n",
            "40\n",
            "45\n",
            "\n",
            "<class 'dict'>\n",
            "k:one, v: 1\n",
            "k:two, v: 2\n",
            "k:three, v: 12\n",
            "k:four, v: 4\n"
          ]
        }
      ]
    },
    {
      "cell_type": "code",
      "source": [
        "# Practice \n",
        "t = [0,'1','2',3]\n",
        "t[1] = 2\n",
        "for i in t:\n",
        "  print(i)\n",
        "  print(type(i))\n",
        "\n",
        "a = (0,'1',2,1)\n",
        "b = ('0',1,'2','1')\n",
        "if a[1]==b[1]:\n",
        "  print('yes')\n",
        "\n",
        "x='{1} {0}'.format('a','b')\n",
        "y=f'{\"b\"} {\"a\"}'\n",
        "print(x)\n",
        "print(y)"
      ],
      "metadata": {
        "colab": {
          "base_uri": "https://localhost:8080/"
        },
        "id": "oZobciJu5Q91",
        "outputId": "664ae613-c308-4f42-bdd5-9d27be734bc2"
      },
      "execution_count": null,
      "outputs": [
        {
          "output_type": "stream",
          "name": "stdout",
          "text": [
            "0\n",
            "<class 'int'>\n",
            "2\n",
            "<class 'int'>\n",
            "2\n",
            "<class 'str'>\n",
            "3\n",
            "<class 'int'>\n",
            "b a\n",
            "b a\n"
          ]
        }
      ]
    },
    {
      "cell_type": "code",
      "source": [
        "# Conditional statements\n",
        "# Comparison operators: == , != , <, >, <=, >=\n",
        "# Logical operators: and, or, not\n",
        "# Identity operator: \"x is y\" (true if same object) and \"x is not y\" (true if not same object)\n",
        "# Membership operator: \"x in y\" (true if x is a member of collection y) and \"x not in y\" (true if x is not a member of collection y)\n",
        "x = 5 # Can be used like switch statement\n",
        "if x==1:\n",
        "  print('1')\n",
        "elif x==2:\n",
        "  print('2')\n",
        "elif x==3:\n",
        "  print('3')\n",
        "elif x==4:\n",
        "  print('4')\n",
        "else:\n",
        "  print(x)\n",
        "\n",
        "#Ternary condition operator\n",
        "# Doesnot work without else clause\n",
        "hungry = True\n",
        "x = 'Feed the bear now!' if hungry else 'Do not feed the bear'\n",
        "print(x)"
      ],
      "metadata": {
        "colab": {
          "base_uri": "https://localhost:8080/"
        },
        "id": "7IKlGxFZ03gY",
        "outputId": "62a78f08-54cb-44a5-d2f0-3330b4758169"
      },
      "execution_count": null,
      "outputs": [
        {
          "output_type": "stream",
          "name": "stdout",
          "text": [
            "5\n",
            "Feed the bear now!\n"
          ]
        }
      ]
    },
    {
      "cell_type": "code",
      "source": [
        "# Arithematic operations\n",
        "x = 10\n",
        "y = 3\n",
        "a = x + y\n",
        "b = y - x\n",
        "c = x * y\n",
        "d = x / y # Float values\n",
        "e = x // y # Integer division\n",
        "f = x % y\n",
        "g = -x\n",
        "h = +g\n",
        "print(a)\n",
        "print(b)\n",
        "print(c)\n",
        "print(d)\n",
        "print(e)\n",
        "# print(f)\n",
        "# print(g)\n",
        "# print(h)"
      ],
      "metadata": {
        "id": "cO-0jCxG7eux",
        "colab": {
          "base_uri": "https://localhost:8080/"
        },
        "outputId": "0faa9317-e4b2-4322-f7c5-02375331be37"
      },
      "execution_count": null,
      "outputs": [
        {
          "output_type": "stream",
          "name": "stdout",
          "text": [
            "13\n",
            "-7\n",
            "30\n",
            "3.3333333333333335\n",
            "3\n"
          ]
        }
      ]
    },
    {
      "cell_type": "code",
      "source": [
        "# Bitwise operator: &, |, ^, <<, >>\n",
        "# An exclusive OR (XoR) operator will only be true if one of the inputs is true, so applying this operator on two identical inputs will always be 0.\n",
        "x = 0x0a\n",
        "y = 0x02\n",
        "z = x & y\n",
        "a = x | y\n",
        "b = x ^ y\n",
        "c = x << y\n",
        "d = x >> y\n",
        "print(f'hex x is {x:01x}, y is {y:02x} and z is {z:03x}')\n",
        "print(f'Binary x is {x:08b}, y is {y:08b} and z is {z:08b}')\n",
        "print(f'Binary a is {a:08b}, Hex a is {a:02x}')\n",
        "print(f'Binary b is {b:08b}, Hex b is {b:02x}')\n",
        "print(f'Binary c is {c:08b}, Hex c is {c:02x}')\n",
        "print(f'Binary d is {d:08b}, Hex c is {d:02x}')\n"
      ],
      "metadata": {
        "colab": {
          "base_uri": "https://localhost:8080/"
        },
        "id": "_jn97JYrg71z",
        "outputId": "194a68c0-0fce-45a3-b760-dc12a7751528"
      },
      "execution_count": null,
      "outputs": [
        {
          "output_type": "stream",
          "name": "stdout",
          "text": [
            "hex x is a, y is 02 and z is 002\n",
            "Binary x is 00001010, y is 00000010 and z is 00000010\n",
            "Binary a is 00001010, Hex a is 0a\n",
            "Binary b is 00001000, Hex b is 08\n",
            "Binary c is 00101000, Hex c is 28\n",
            "Binary d is 00000010, Hex c is 02\n"
          ]
        }
      ]
    },
    {
      "cell_type": "code",
      "source": [
        "# Comparison operator: <, >, <=, >=, ==, !=\n",
        "# Boolean operators: and, or, notin, not in , is, is not\n",
        "a = True\n",
        "b = False\n",
        "x = ('a','b','c','d')\n",
        "y = ['a','b','c','d']\n",
        "z = 'a'\n",
        "\n",
        "if a and b: # or, not\n",
        "  print('If condition is true')\n",
        "else:\n",
        "  print('If condition is false')\n",
        "\n",
        "if 'a' in y: #Can also be written as 'z in y' or 'z is y[0]/x[0]' \n",
        "  print('Available')\n",
        "else:\n",
        "  print('Unavailable') \n",
        "\n"
      ],
      "metadata": {
        "colab": {
          "base_uri": "https://localhost:8080/"
        },
        "id": "P1DZPW4uj1Ft",
        "outputId": "188da731-80ef-4ab4-9101-b660edfd3d50"
      },
      "execution_count": null,
      "outputs": [
        {
          "output_type": "stream",
          "name": "stdout",
          "text": [
            "If condition is false\n",
            "Available\n"
          ]
        }
      ]
    },
    {
      "cell_type": "code",
      "source": [
        "# Single Linked List\n",
        "# Single link list : add/remove an element an iterator position, first element : O(1). Add last element: O(1). Remove last element: O(n). Access element: O(n) \n",
        "\n",
        "class node:\n",
        "  def __init__(self,data=None): # constructor with \"data\" variable that has value\n",
        "    self.data = data\n",
        "    self.next = None # as default last element's next pointer is set to null\n",
        "\n",
        "class linked_list: # wrapper for the node class, user doe not interface with node class\n",
        "  def __init__(self):\n",
        "    self.head = node() # head node will not have actual data. User will not be able to access head node. Pointer to first node.\n",
        "  \n",
        "  def append(self,data): # Add first element # Add new data point to the existing list. Passing in data point\n",
        "    new_node = node(data) # Creating new node and storing data into the node\n",
        "    cur = self.head\n",
        "    while cur.next!=None:\n",
        "      cur = cur.next # Traverse through the list when we are not at the last element in the list\n",
        "    cur.next = new_node # Set to new node when next is None. Linking \"next\" of lst node to new node \n",
        "  \n",
        "  def length(self): # finding the length of list\n",
        "    cur = self.head\n",
        "    total = 0\n",
        "    while cur.next!=None:\n",
        "      total+=1\n",
        "      cur = cur.next\n",
        "    # print(total)\n",
        "    return total\n",
        "\n",
        "  \n",
        "  def display(self): # Display all elements in the linked list\n",
        "    ele = []\n",
        "    cur = self.head\n",
        "    while cur.next!=None:\n",
        "      cur = cur.next # iterating through the list by moving to the next node\n",
        "      ele.append(cur.data)\n",
        "    print(ele)\n",
        "\n",
        "  def get(self,index): # Getting the element at a specific index\n",
        "    if index >=self.length(): # Using the length function\n",
        "      print(\"ERROR: 'Get' Index out of range\" )\n",
        "      return None\n",
        "    i = 0\n",
        "    cur_node = self.head\n",
        "    while True:\n",
        "      cur_node = cur_node.next\n",
        "      if i == index:\n",
        "        return cur_node.data\n",
        "      i+=1\n",
        "\n",
        "  def erase(self,index): # Erasing/Removing the element at a specific index. Removing last element too\n",
        "    if index >=self.length(): # Using the length function\n",
        "      print(\"ERROR: 'Get' Index out of range\" )\n",
        "      return None\n",
        "    i = 0\n",
        "    cur_node = self.head\n",
        "    while True:\n",
        "      last_node = cur_node\n",
        "      cur_node = cur_node.next\n",
        "      if i == index:\n",
        "        last_node.next = cur_node.next\n",
        "        return\n",
        "      i +=1\n",
        "\n",
        "list1 = linked_list()\n",
        "list1.append(1)\n",
        "list1.append(2)\n",
        "list1.length()\n",
        "list1.display()\n",
        "\n",
        "print(list1.get(1))\n",
        "list1.erase(1)\n",
        "list1.display()"
      ],
      "metadata": {
        "id": "FX8WdQ6dnI-H",
        "colab": {
          "base_uri": "https://localhost:8080/"
        },
        "outputId": "fd96ad84-6934-459a-a863-da39db86108b"
      },
      "execution_count": null,
      "outputs": [
        {
          "output_type": "stream",
          "name": "stdout",
          "text": [
            "[1, 2]\n",
            "2\n",
            "[1]\n"
          ]
        }
      ]
    },
    {
      "cell_type": "code",
      "source": [
        "class node:\n",
        "  def __init__(self,data=None):\n",
        "    self.data= data\n",
        "    self.next = None\n",
        "    self.prev = None\n",
        "\n",
        "class rev_list:\n",
        "  def __init__(self):\n",
        "    self.head = node()\n",
        "\n",
        "  def append(self,data):\n",
        "    new_node = node(data) # Creating new node and storing data into the node\n",
        "    # new_node.prev = None\n",
        "    cur = self.head\n",
        "    while cur.next!=None:\n",
        "      cur = cur.next # Traverse through the list when we are not at the last element in the list\n",
        "    new_node.prev = cur\n",
        "    cur.next = new_node\n",
        "  \n",
        "  def display(self):\n",
        "    ele = []\n",
        "    cur = self.head\n",
        "    while cur.next!=None:\n",
        "      cur = cur.next # iterating through the list by moving to the next node\n",
        "      ele.append(cur.data)\n",
        "    print(ele)\n",
        "\n",
        "  def drev(self,k):\n",
        "    i=0\n",
        "    cur = self.head\n",
        "    while i<k and cur.next!=None:\n",
        "      cur = cur.next\n",
        "      i+=1\n",
        "    temp = cur.next\n",
        "    cur=self.head\n",
        "    while cur.next!=temp:\n",
        "      t = cur.next \n",
        "      cur.next = cur.prev\n",
        "      cur.prev = t\n",
        "      cur = cur.prev\n",
        "    \n",
        "    \n",
        "\n",
        "\n",
        "l2 = rev_list()\n",
        "l2.append(2)\n",
        "l2.append(3)\n",
        "l2.append(4)\n",
        "l2.append(5)\n",
        "l2.append(6)\n",
        "l2.display()\n",
        "l2.drev(2)"
      ],
      "metadata": {
        "colab": {
          "base_uri": "https://localhost:8080/"
        },
        "id": "MzvisueB1XEC",
        "outputId": "8ec05dc5-4c62-4a69-8aa9-706d9a61bed9"
      },
      "execution_count": null,
      "outputs": [
        {
          "output_type": "stream",
          "name": "stdout",
          "text": [
            "[2, 3, 4, 5, 6]\n"
          ]
        }
      ]
    },
    {
      "cell_type": "code",
      "source": [
        "# Double Linked list\n",
        "# Double link list : add/remove an element an iterator position, first element : O(1). Add last element: O(1). Remove last element: O(1). Access element: O(n) \n",
        "class node:\n",
        "  def __init__(self,data=None):\n",
        "    self.data = data\n",
        "    self.next = None\n",
        "    self.prev = None # previous element pointer\n",
        "\n",
        "class double_linked_list:\n",
        "  def __init__(self):\n",
        "    self.head = node()\n",
        "\n",
        "  def append(self,data):\n",
        "    new_node = node(data) # Creating new node and storing data into the node\n",
        "    # new_node.prev = None\n",
        "    cur = self.head\n",
        "    while cur.next!=None:\n",
        "      cur = cur.next # Traverse through the list when we are not at the last element in the list\n",
        "    new_node.prev = cur\n",
        "    cur.next = new_node\n",
        "\n",
        "  def length(self):\n",
        "    total = 0\n",
        "    cur_node = self.head\n",
        "    while cur_node.next!=None:\n",
        "      total+=1\n",
        "      cur_node = cur_node.next\n",
        "    return total\n",
        "\n",
        "  def get(self,index):\n",
        "    if index >=self.length(): # Using the length function\n",
        "      print(\"ERROR: 'Get' Index out of range\" )\n",
        "      return None\n",
        "    i = 0\n",
        "    cur_node = self.head\n",
        "    while True:\n",
        "      cur_node = cur_node.next\n",
        "      if i == index:\n",
        "        return cur_node.data\n",
        "      i+=1\n",
        "  \n",
        "  def erase(self,index):\n",
        "    if index >=self.length(): # Using the length function\n",
        "      print(\"ERROR: 'Get' Index out of range\" )\n",
        "      return None\n",
        "    i = 0\n",
        "    cur_node = self.head\n",
        "    while True:\n",
        "      last_node = cur_node\n",
        "      cur_node = cur_node.next\n",
        "      if i == index:\n",
        "        cur_node.prev = last_node.next\n",
        "        last_node.next = cur_node.next\n",
        "        return\n",
        "      i +=1\n",
        "\n",
        "  def prepend(self,data):\n",
        "    new_node = node(data)\n",
        "    # print(new_node.data)\n",
        "    cur_node = self.head\n",
        "    # print(cur)\n",
        "    # print(cur.prev)\n",
        "    # print(new_node.next)\n",
        "    cur_node.prev = new_node\n",
        "    new_node.prev = None\n",
        "    new_node.next = self.head\n",
        "    self.head = new_node\n",
        "    # print(new_node.next)\n",
        "\n",
        "  def display(self):\n",
        "    ele = []\n",
        "    cur = self.head\n",
        "    while cur.next!=None:\n",
        "      cur = cur.next # iterating through the list by moving to the next node\n",
        "      ele.append(cur.data)\n",
        "    print(ele)\n",
        "\n",
        "\n",
        "l2 = double_linked_list()\n",
        "# l2 = append(1)\n",
        "l2.prepend(1)\n",
        "l2.append(2)\n",
        "l2.append(3)\n",
        "l2.append(4)\n",
        "l2.append(5)\n",
        "l2.append(6)\n",
        "print(l2.get(1))\n",
        "l2.display()\n",
        "l2.erase(3)\n",
        "l2.display()\n",
        "l2.display()"
      ],
      "metadata": {
        "colab": {
          "base_uri": "https://localhost:8080/"
        },
        "id": "D0zPlesNXb35",
        "outputId": "c4e8aa41-dc90-4e29-b273-83ff4d31a9cb"
      },
      "execution_count": null,
      "outputs": [
        {
          "output_type": "stream",
          "name": "stdout",
          "text": [
            "2\n",
            "[None, 2, 3, 4, 5, 6]\n",
            "[None, 2, 3, 5, 6]\n",
            "[None, 2, 3, 5, 6]\n"
          ]
        }
      ]
    },
    {
      "cell_type": "code",
      "source": [
        "class ash : \n",
        "  suk = 1 # Static element \n",
        "  def __init__(self, num) :\n",
        "    self.data = num\n",
        "\n",
        "a1 = ash(2)\n",
        "a2 = ash(4)\n",
        "\n",
        "print(a1.data)\n",
        "print(a2.data)\n",
        "print(a1.suk)\n",
        "print(a2.suk)\n",
        "ash.suk = 2 # If value of static element is updated by parent class, child nodes static elements value will also be changed\n",
        "print(a2.suk)"
      ],
      "metadata": {
        "colab": {
          "base_uri": "https://localhost:8080/"
        },
        "id": "362z8xa6xP0Q",
        "outputId": "7a53c98b-1a8c-4636-837a-cc43fe95ccd2"
      },
      "execution_count": null,
      "outputs": [
        {
          "output_type": "stream",
          "name": "stdout",
          "text": [
            "2\n",
            "4\n",
            "1\n",
            "1\n",
            "2\n"
          ]
        }
      ]
    },
    {
      "cell_type": "code",
      "source": [
        "class node:\n",
        "  def __init__(self,data=None):\n",
        "    self.data = data\n",
        "    self.next = None\n",
        "\n",
        "class c_list:\n",
        "  def __init__(self):\n",
        "    self.head = node()\n",
        "\n",
        "  def append(self,data):\n",
        "    new_node = node(data)\n",
        "    cur = self.head\n",
        "    if cur.next != None:\n",
        "      while cur.next!=self.head:\n",
        "        cur = cur.next\n",
        "      cur.next = new_node\n",
        "      new_node.next = self.head\n",
        "    else:\n",
        "      self.head = new_node\n",
        "      new_node.next = self.head\n",
        "\n",
        "  def prepend(self,data):\n",
        "    new_node = node(data)\n",
        "    cur = self.head\n",
        "    new_node.next = self.head\n",
        "    if cur.next != None:\n",
        "      while cur.next != self.head:\n",
        "        cur = cur.next\n",
        "      cur.next = new_node\n",
        "      self.head = new_node # SEE THIS\n",
        "    else:\n",
        "      self.head = new_node\n",
        "      new_node.next = self.head\n",
        "\n",
        "  def removeInd(self,ind):\n",
        "    i = 1\n",
        "    cur = self.head\n",
        "    if ind == 0:\n",
        "      while cur.next != self.head:\n",
        "        cur = cur.next\n",
        "      cur.next = self.head.next\n",
        "      self.head = self.head.next\n",
        "    else:\n",
        "      while True:\n",
        "        last_node = cur\n",
        "        cur = cur.next\n",
        "        if i == ind:\n",
        "          last_node.next = cur.next\n",
        "          return\n",
        "        i +=1\n",
        "\n",
        "# IMPORTANT IMPORTANT IMPORTANT\n",
        "  def display(self):\n",
        "    cur = self.head\n",
        "    ele = []\n",
        "    while cur: # Different from Linked List \n",
        "      ele.append(cur.data)\n",
        "      cur = cur.next\n",
        "      if cur == self.head:\n",
        "        break\n",
        "    print(ele)\n",
        "\n",
        "c1 = c_list()\n",
        "c1.prepend(4)\n",
        "c1.append(1)\n",
        "c1.append(2)\n",
        "c1.append(3)\n",
        "c1.append(34)\n",
        "c1.append(25)\n",
        "c1.append(12)\n",
        "c1.append(15)\n",
        "c1.prepend(10)\n",
        "c1.display()\n",
        "c1.removeInd(2)\n",
        "c1.display()"
      ],
      "metadata": {
        "colab": {
          "base_uri": "https://localhost:8080/"
        },
        "id": "58eohmSL-pzt",
        "outputId": "6627d6c4-e2df-4e45-e4cf-5b89a4e86611"
      },
      "execution_count": null,
      "outputs": [
        {
          "output_type": "stream",
          "name": "stdout",
          "text": [
            "[10, 4, 1, 2, 3, 34, 25, 12, 15]\n",
            "[10, 4, 2, 3, 34, 25, 12, 15]\n"
          ]
        }
      ]
    },
    {
      "cell_type": "code",
      "source": [
        "# Stack\n",
        "# use case - undo redo\n",
        "class stack:\n",
        "  def __init__(self):\n",
        "    self.items = []\n",
        "\n",
        "  def push(self, item):\n",
        "    self.items.append(item)\n",
        "\n",
        "  def pop(self):\n",
        "    return self.items.pop()\n",
        "\n",
        "  def isempty(self):\n",
        "    return self.items == []\n",
        "    # if self.items == []:\n",
        "    #   print('Empty stack')\n",
        "    # else:\n",
        "    #   print(f'Stack not empty {self.items}')\n",
        "\n",
        "  def peek(self):\n",
        "    if not self.items == []:\n",
        "      return self.items[-1]\n",
        "\n",
        "  def display(self):\n",
        "    return self.items\n",
        "  \n",
        "s = stack()\n",
        "s.isempty()\n",
        "s.push('A')\n",
        "s.push('B')\n",
        "print(s.display())\n",
        "s.push('a')\n",
        "print(s.display())\n",
        "s.pop()\n",
        "print(s.display())\n",
        "s.peek()\n",
        "s.isempty()"
      ],
      "metadata": {
        "colab": {
          "base_uri": "https://localhost:8080/"
        },
        "id": "oymUnGVIXSoa",
        "outputId": "4b3858e6-aa56-417a-ab53-60fcf3b4cdd9"
      },
      "execution_count": null,
      "outputs": [
        {
          "output_type": "stream",
          "name": "stdout",
          "text": [
            "['A', 'B']\n",
            "['A', 'B', 'a']\n",
            "['A', 'B']\n"
          ]
        },
        {
          "output_type": "execute_result",
          "data": {
            "text/plain": [
              "False"
            ]
          },
          "metadata": {},
          "execution_count": 95
        }
      ]
    },
    {
      "cell_type": "code",
      "source": [
        "# Use APPEND for stack(LIFO) functionality and INSERT in queue(FIFO) functionality \n",
        "# stack using list\n",
        "s = []\n",
        "s.append(1)\n",
        "s.append(2)\n",
        "s.append(3)\n",
        "s\n",
        "s.pop()\n",
        "# Stack using collection library\n",
        "from collections import deque\n",
        "s = deque()\n",
        "s.append('1')\n",
        "s.append('2')\n",
        "s.append('3')\n",
        "s.pop()"
      ],
      "metadata": {
        "colab": {
          "base_uri": "https://localhost:8080/",
          "height": 37
        },
        "id": "m9ar7vQqlPxB",
        "outputId": "9d3e66d8-e572-4d71-d42a-4c45a2e178e5"
      },
      "execution_count": null,
      "outputs": [
        {
          "output_type": "execute_result",
          "data": {
            "application/vnd.google.colaboratory.intrinsic+json": {
              "type": "string"
            },
            "text/plain": [
              "'3'"
            ]
          },
          "metadata": {},
          "execution_count": 96
        }
      ]
    },
    {
      "cell_type": "code",
      "source": [
        "s = []\n",
        "s.append(1)\n",
        "s.append(2)\n",
        "s.append(3)\n",
        "s\n",
        "s[-1]"
      ],
      "metadata": {
        "colab": {
          "base_uri": "https://localhost:8080/"
        },
        "id": "IG5T5Ij_qBus",
        "outputId": "148869e7-a5c4-4bee-fdfd-f697ceeecc76"
      },
      "execution_count": null,
      "outputs": [
        {
          "output_type": "execute_result",
          "data": {
            "text/plain": [
              "3"
            ]
          },
          "metadata": {},
          "execution_count": 97
        }
      ]
    },
    {
      "cell_type": "code",
      "source": [
        "# Reverse a string\n",
        "input_str = \"Hello\"\n",
        "# print(input_str[::-1])\n",
        "\n",
        "# Reverse string by using stack\n",
        "def rev_str(stack, input_str):\n",
        "  for i,e in enumerate(input_str):\n",
        "    stack.push(e) \n",
        "  rev = ''\n",
        "  while not stack.isempty():\n",
        "    rev += stack.pop()\n",
        "  return rev\n",
        "\n",
        "\n",
        "s = stack()\n",
        "new_str = \"Hello\"\n",
        "print(rev_str(s, new_str))"
      ],
      "metadata": {
        "colab": {
          "base_uri": "https://localhost:8080/"
        },
        "id": "9u21M0bXZiGZ",
        "outputId": "f8bf508f-f4c2-4053-99fa-e77951b5dbd5"
      },
      "execution_count": null,
      "outputs": [
        {
          "output_type": "stream",
          "name": "stdout",
          "text": [
            "olleH\n"
          ]
        }
      ]
    },
    {
      "cell_type": "code",
      "source": [
        "# FIFO (First in First out) Queue\n",
        "import queue\n",
        "q = queue.Queue()\n",
        "num = [1,2,3,4]\n",
        "for i in num:\n",
        "  q.put(i)\n",
        "print(q.get())\n",
        "\n",
        "# LIFO (Last in First Out) Queue\n",
        "q = queue.LifoQueue()\n",
        "lnum = [1,2,3,4]\n",
        "for i in lnum:\n",
        "  q.put(i)\n",
        "print(q.get())\n",
        "\n",
        "# Priority Queue : Set priority for every element\n",
        "q = queue.PriorityQueue()\n",
        "q.put((2,\"Hello World\"))\n",
        "q.put((11,99))\n",
        "q.put((5, 7.5))\n",
        "q.put((1, True))\n",
        "# 1 has highest priority\n",
        "while not q.empty():\n",
        "  print(q.get())"
      ],
      "metadata": {
        "colab": {
          "base_uri": "https://localhost:8080/"
        },
        "id": "K19wQWrsbNNm",
        "outputId": "9bb71038-7c35-4abb-9aad-d1175ef7f3da"
      },
      "execution_count": null,
      "outputs": [
        {
          "output_type": "stream",
          "name": "stdout",
          "text": [
            "1\n",
            "4\n",
            "(1, True)\n",
            "(2, 'Hello World')\n",
            "(5, 7.5)\n",
            "(11, 99)\n"
          ]
        }
      ]
    },
    {
      "cell_type": "code",
      "source": [
        "# Queue using list - Queue is FIFO \n",
        "q = []\n",
        "q.insert(0,12) # Always insert at 0th position\n",
        "q.insert(0,10.0)\n",
        "q.insert(0,2)\n",
        "q\n",
        "q.pop()\n",
        "# Queue using collections\n",
        "from collections import deque\n",
        "d = deque()\n",
        "d.appendleft(10)\n",
        "d.appendleft(1)\n",
        "d.appendleft(100)\n",
        "d\n",
        "d.pop()"
      ],
      "metadata": {
        "colab": {
          "base_uri": "https://localhost:8080/"
        },
        "id": "SEqyIxxcd_RY",
        "outputId": "7e876c36-1b1d-4967-eafe-27f233493c50"
      },
      "execution_count": null,
      "outputs": [
        {
          "output_type": "execute_result",
          "data": {
            "text/plain": [
              "10"
            ]
          },
          "metadata": {},
          "execution_count": 100
        }
      ]
    },
    {
      "cell_type": "code",
      "source": [
        "def F1(f):\n",
        "    print('A')\n",
        "    def F2():\n",
        "        print('B')\n",
        "        f()\n",
        "        print('C')\n",
        "    print('D')\n",
        "    return F2\n",
        "@F1\n",
        "def F3():\n",
        "    print('E')\n",
        "F3()"
      ],
      "metadata": {
        "id": "edwoTJTNhOiJ",
        "outputId": "cf1d370c-91c2-41d6-f897-3424e6730ca9",
        "colab": {
          "base_uri": "https://localhost:8080/"
        }
      },
      "execution_count": null,
      "outputs": [
        {
          "output_type": "stream",
          "name": "stdout",
          "text": [
            "A\n",
            "D\n",
            "B\n",
            "E\n",
            "C\n"
          ]
        }
      ]
    },
    {
      "cell_type": "code",
      "source": [
        "from collections import defaultdict\n",
        "def Tree():\n",
        "    return defaultdict(Tree)\n",
        "\n",
        "tree = Tree()\n",
        "tree['house']['cap'] = 1950\n",
        "tree['house']['camp'] = 12\n",
        "tree['lift'] = 5\n",
        "print(tree)"
      ],
      "metadata": {
        "id": "cHbg1GN5rQO2",
        "colab": {
          "base_uri": "https://localhost:8080/"
        },
        "outputId": "e9b75385-0df1-49b8-d078-9bd446a4bd4a"
      },
      "execution_count": null,
      "outputs": [
        {
          "output_type": "stream",
          "name": "stdout",
          "text": [
            "defaultdict(<function Tree at 0x7f99f7e88050>, {'house': defaultdict(<function Tree at 0x7f99f7e88050>, {'cap': 1950, 'camp': 12}), 'lift': 5})\n"
          ]
        }
      ]
    },
    {
      "cell_type": "code",
      "source": [
        "# Binary tree traversal\n",
        "class Node(object):\n",
        "  def __init__(self,value):\n",
        "    self.value = value\n",
        "    self.left = None\n",
        "    self.right = None\n",
        "\n",
        "class Queue(object):\n",
        "  def __init__(self):\n",
        "    self.items = []\n",
        "  \n",
        "  def enqueue(self,item):\n",
        "    self.items.insert(0,item)\n",
        "  \n",
        "  def dequeue(self):\n",
        "    if not self.is_empty():\n",
        "      return self.items.pop()\n",
        "  \n",
        "  def is_empty(self):\n",
        "    return len(self.items)==0\n",
        "\n",
        "  def peek(self):\n",
        "    if not self.is_empty():\n",
        "      return self.items[-1].value\n",
        "\n",
        "  def __len__(self):\n",
        "    return len(self.items)\n",
        "\n",
        "class BinaryTree(object):\n",
        "  def __init__(self,root):\n",
        "    self.root = Node(root)\n",
        "\n",
        "  def display_tree(self, traversal_type):\n",
        "    if traversal_type == 'preorder':\n",
        "      return self.preorder_traversal(self.root,\"\")\n",
        "    elif traversal_type == 'inorder':\n",
        "      return self.inorder_traversal(self.root,\"\")\n",
        "    elif traversal_type == 'postorder':\n",
        "      return self.postorder_traversal(self.root,\"\")\n",
        "    elif traversal_type == 'levelorder':\n",
        "      return self.levelorder_traversal(self.root)\n",
        "    else:\n",
        "      print('Not a traversal type')\n",
        "\n",
        "  def preorder_traversal(self,node,traversal):\n",
        "    #node->left->right\n",
        "    if node:\n",
        "      traversal+= (str(node.value) + '-')\n",
        "      traversal = self.preorder_traversal(node.left, traversal)\n",
        "      traversal = self.preorder_traversal(node.right, traversal)\n",
        "    return traversal\n",
        "\n",
        "  def inorder_traversal(self,node,traversal):\n",
        "    #left->node->right\n",
        "    if node:\n",
        "      traversal = self.inorder_traversal(node.left, traversal)\n",
        "      traversal+= (str(node.value) + '-')\n",
        "      traversal = self.inorder_traversal(node.right, traversal)\n",
        "    return traversal\n",
        "\n",
        "  def postorder_traversal(self,node,traversal):\n",
        "    #left->right->node\n",
        "    if node:\n",
        "      traversal = self.postorder_traversal(node.left, traversal)\n",
        "      traversal = self.postorder_traversal(node.right, traversal)\n",
        "      traversal+= (str(node.value) + '-')\n",
        "    return traversal\n",
        "\n",
        "  def height(self, node):\n",
        "    if node is None:\n",
        "      return -1\n",
        "    left_height = self.height(node.left)\n",
        "    right_height = self.height(node.right)\n",
        "    return 1+max(left_height,right_height)\n",
        "\n",
        "  def levelorder_traversal(self,node):\n",
        "    # Using a queue data structure\n",
        "    if node is None:\n",
        "      return\n",
        "\n",
        "    queue = Queue()\n",
        "    queue.enqueue(node)\n",
        "    traversal = ''\n",
        "    while len(queue)>0:\n",
        "      traversal += str(queue.peek()) + '-'\n",
        "      node = queue.dequeue()\n",
        "\n",
        "      if node.left:\n",
        "        queue.enqueue(node.left)\n",
        "\n",
        "      if node.right:\n",
        "        queue.enqueue(node.right)\n",
        "    return traversal\n",
        "    \n",
        "\n",
        "# Setting up a tree\n",
        "bt = BinaryTree(1)\n",
        "bt.root.left = Node(2)\n",
        "bt.root.right = Node(3)\n",
        "bt.root.left.left = Node(4)\n",
        "bt.root.left.right = Node(5)\n",
        "# bt.root.right.left = Node(6)\n",
        "# bt.root.right.right = Node(7)\n",
        "# bt.root.right.right.right = Node(8)\n",
        "\n",
        "bt.display_tree('preorder')"
      ],
      "metadata": {
        "id": "TbSjEThjhZ4Z",
        "colab": {
          "base_uri": "https://localhost:8080/",
          "height": 37
        },
        "outputId": "d94cce4d-7649-4c2e-df13-885b01724c6f"
      },
      "execution_count": null,
      "outputs": [
        {
          "output_type": "execute_result",
          "data": {
            "application/vnd.google.colaboratory.intrinsic+json": {
              "type": "string"
            },
            "text/plain": [
              "'1-2-4-5-3-'"
            ]
          },
          "metadata": {},
          "execution_count": 103
        }
      ]
    },
    {
      "cell_type": "code",
      "source": [
        "bt.display_tree('inorder')"
      ],
      "metadata": {
        "colab": {
          "base_uri": "https://localhost:8080/",
          "height": 37
        },
        "id": "9WolzAvOaiB5",
        "outputId": "69f2f4e8-fd91-4b9f-b5eb-b5a1290461cd"
      },
      "execution_count": null,
      "outputs": [
        {
          "output_type": "execute_result",
          "data": {
            "application/vnd.google.colaboratory.intrinsic+json": {
              "type": "string"
            },
            "text/plain": [
              "'4-2-5-1-3-'"
            ]
          },
          "metadata": {},
          "execution_count": 104
        }
      ]
    },
    {
      "cell_type": "code",
      "source": [
        "bt.display_tree('postorder')"
      ],
      "metadata": {
        "colab": {
          "base_uri": "https://localhost:8080/",
          "height": 37
        },
        "id": "ZUDhf0GiboE-",
        "outputId": "648a70ed-2979-497f-a0af-dba92234dd1d"
      },
      "execution_count": null,
      "outputs": [
        {
          "output_type": "execute_result",
          "data": {
            "application/vnd.google.colaboratory.intrinsic+json": {
              "type": "string"
            },
            "text/plain": [
              "'4-5-2-3-1-'"
            ]
          },
          "metadata": {},
          "execution_count": 105
        }
      ]
    },
    {
      "cell_type": "code",
      "source": [
        "bt.display_tree('levelorder')"
      ],
      "metadata": {
        "colab": {
          "base_uri": "https://localhost:8080/",
          "height": 37
        },
        "id": "83QLTisWcEiD",
        "outputId": "254123b2-d6c9-4290-c07b-413de8bf685c"
      },
      "execution_count": null,
      "outputs": [
        {
          "output_type": "execute_result",
          "data": {
            "application/vnd.google.colaboratory.intrinsic+json": {
              "type": "string"
            },
            "text/plain": [
              "'1-2-3-4-5-'"
            ]
          },
          "metadata": {},
          "execution_count": 106
        }
      ]
    },
    {
      "cell_type": "code",
      "source": [
        "print(bt.height(bt.root))"
      ],
      "metadata": {
        "colab": {
          "base_uri": "https://localhost:8080/"
        },
        "id": "M2wUi1MspLC3",
        "outputId": "5bbcd96e-7143-4a7d-c879-a04415f47e4d"
      },
      "execution_count": null,
      "outputs": [
        {
          "output_type": "stream",
          "name": "stdout",
          "text": [
            "2\n"
          ]
        }
      ]
    },
    {
      "cell_type": "code",
      "source": [
        "# Python Regex\n",
        "import re\n",
        "\n",
        "# Raw string - string prefixed with \"r\" - don't handle backslash in a special way\n",
        "# re.compile - seperate patterns into a variable\n",
        "\n",
        "text_to_search = '''\n",
        "abcdefghijklmnopqrstuvwxyz\n",
        "ABCDEFGHIJKLMNOPQRSTUVWXYZ\n",
        "0123456789\n",
        "\n",
        "Ha HaHa\n",
        "sukhi.com\n",
        "abcde\n",
        "!@#$%^&*()\":}{[];'<>,./?\\|`~-_+=}\n",
        "\n",
        "321-555-4312\n",
        "321.555.4312\n",
        "\n",
        "800-555-4312\n",
        "900-555-4312\n",
        "\n",
        "127.000.000.001:8080\n",
        "\n",
        "cat\n",
        "rat\n",
        "mat\n",
        "pat\n",
        "bat\n",
        "\n",
        "Mr. Sukhesh Makam\n",
        "Mrs. Ashika Makam\n",
        "\n",
        "ashika-makam@gmail.com\n",
        "ashika12pobbathi@my-work.net\n",
        "ashika.anandbabu@sjsu.edu\n",
        "\n",
        "This is a simple sentence\n",
        "\n",
        "'''\n",
        "\n",
        "pattern = re.compile(r'abc')\n",
        "\n",
        "matches = pattern.finditer(text_to_search) # Provides the span - beginning and end index of all of the matches in the text and the match itself\n",
        "for match in matches: # Finditer is case sensitive\n",
        "  print(match)\n",
        "print(text_to_search[1:4]) # prints abc\n",
        "\n",
        "# For metacharacters we need to escape it before searching\n",
        "pattern = re.compile(r'\\.') # test without \\\n",
        "matches = pattern.finditer(text_to_search) \n",
        "for match in matches: \n",
        "  print(match)"
      ],
      "metadata": {
        "id": "TX6es8yyN5vA",
        "colab": {
          "base_uri": "https://localhost:8080/"
        },
        "outputId": "32c04155-12f8-433a-d1ba-506c20e4827c"
      },
      "execution_count": null,
      "outputs": [
        {
          "output_type": "stream",
          "name": "stdout",
          "text": [
            "<re.Match object; span=(1, 4), match='abc'>\n",
            "<re.Match object; span=(85, 88), match='abc'>\n",
            "abc\n",
            "<re.Match object; span=(80, 81), match='.'>\n",
            "<re.Match object; span=(112, 113), match='.'>\n",
            "<re.Match object; span=(142, 143), match='.'>\n",
            "<re.Match object; span=(146, 147), match='.'>\n",
            "<re.Match object; span=(183, 184), match='.'>\n",
            "<re.Match object; span=(187, 188), match='.'>\n",
            "<re.Match object; span=(191, 192), match='.'>\n",
            "<re.Match object; span=(225, 226), match='.'>\n",
            "<re.Match object; span=(244, 245), match='.'>\n",
            "<re.Match object; span=(278, 279), match='.'>\n",
            "<re.Match object; span=(307, 308), match='.'>\n",
            "<re.Match object; span=(318, 319), match='.'>\n",
            "<re.Match object; span=(333, 334), match='.'>\n"
          ]
        }
      ]
    },
    {
      "cell_type": "code",
      "source": [
        "# To search for a URL\n",
        "pattern = re.compile(r'sukhi\\.com')\n",
        "matches = pattern.finditer(text_to_search) \n",
        "for match in matches: \n",
        "  print(match)"
      ],
      "metadata": {
        "colab": {
          "base_uri": "https://localhost:8080/"
        },
        "id": "flNvE-b-PRMC",
        "outputId": "ae97efa4-4ca4-4f55-cba3-42264d774e65"
      },
      "execution_count": null,
      "outputs": [
        {
          "output_type": "stream",
          "name": "stdout",
          "text": [
            "<re.Match object; span=(75, 84), match='sukhi.com'>\n"
          ]
        }
      ]
    },
    {
      "cell_type": "code",
      "source": [
        "# . - match any character except a new line\n",
        "# \\d  - match Digit (0-9)\n",
        "# \\D - Not a digit (0-9)\n",
        "# \\w - Word Character (a-z, A-Z, 0-9, _)\n",
        "# \\W - Not a word character\n",
        "# \\s - Whitespace (space, tab, newline)\n",
        "# \\S - Not whitespace\n",
        "\n",
        "pattern = re.compile(r'\\d') # test with all the above\n",
        "matches = pattern.finditer(text_to_search) \n",
        "for match in matches: \n",
        "  print(match)"
      ],
      "metadata": {
        "id": "xm8VtnffQojW",
        "colab": {
          "base_uri": "https://localhost:8080/"
        },
        "outputId": "3d0a1b20-d301-4f9a-a0b6-7f5f3929c4a2"
      },
      "execution_count": null,
      "outputs": [
        {
          "output_type": "stream",
          "name": "stdout",
          "text": [
            "<re.Match object; span=(55, 56), match='0'>\n",
            "<re.Match object; span=(56, 57), match='1'>\n",
            "<re.Match object; span=(57, 58), match='2'>\n",
            "<re.Match object; span=(58, 59), match='3'>\n",
            "<re.Match object; span=(59, 60), match='4'>\n",
            "<re.Match object; span=(60, 61), match='5'>\n",
            "<re.Match object; span=(61, 62), match='6'>\n",
            "<re.Match object; span=(62, 63), match='7'>\n",
            "<re.Match object; span=(63, 64), match='8'>\n",
            "<re.Match object; span=(64, 65), match='9'>\n",
            "<re.Match object; span=(126, 127), match='3'>\n",
            "<re.Match object; span=(127, 128), match='2'>\n",
            "<re.Match object; span=(128, 129), match='1'>\n",
            "<re.Match object; span=(130, 131), match='5'>\n",
            "<re.Match object; span=(131, 132), match='5'>\n",
            "<re.Match object; span=(132, 133), match='5'>\n",
            "<re.Match object; span=(134, 135), match='4'>\n",
            "<re.Match object; span=(135, 136), match='3'>\n",
            "<re.Match object; span=(136, 137), match='1'>\n",
            "<re.Match object; span=(137, 138), match='2'>\n",
            "<re.Match object; span=(139, 140), match='3'>\n",
            "<re.Match object; span=(140, 141), match='2'>\n",
            "<re.Match object; span=(141, 142), match='1'>\n",
            "<re.Match object; span=(143, 144), match='5'>\n",
            "<re.Match object; span=(144, 145), match='5'>\n",
            "<re.Match object; span=(145, 146), match='5'>\n",
            "<re.Match object; span=(147, 148), match='4'>\n",
            "<re.Match object; span=(148, 149), match='3'>\n",
            "<re.Match object; span=(149, 150), match='1'>\n",
            "<re.Match object; span=(150, 151), match='2'>\n",
            "<re.Match object; span=(153, 154), match='8'>\n",
            "<re.Match object; span=(154, 155), match='0'>\n",
            "<re.Match object; span=(155, 156), match='0'>\n",
            "<re.Match object; span=(157, 158), match='5'>\n",
            "<re.Match object; span=(158, 159), match='5'>\n",
            "<re.Match object; span=(159, 160), match='5'>\n",
            "<re.Match object; span=(161, 162), match='4'>\n",
            "<re.Match object; span=(162, 163), match='3'>\n",
            "<re.Match object; span=(163, 164), match='1'>\n",
            "<re.Match object; span=(164, 165), match='2'>\n",
            "<re.Match object; span=(166, 167), match='9'>\n",
            "<re.Match object; span=(167, 168), match='0'>\n",
            "<re.Match object; span=(168, 169), match='0'>\n",
            "<re.Match object; span=(170, 171), match='5'>\n",
            "<re.Match object; span=(171, 172), match='5'>\n",
            "<re.Match object; span=(172, 173), match='5'>\n",
            "<re.Match object; span=(174, 175), match='4'>\n",
            "<re.Match object; span=(175, 176), match='3'>\n",
            "<re.Match object; span=(176, 177), match='1'>\n",
            "<re.Match object; span=(177, 178), match='2'>\n",
            "<re.Match object; span=(180, 181), match='1'>\n",
            "<re.Match object; span=(181, 182), match='2'>\n",
            "<re.Match object; span=(182, 183), match='7'>\n",
            "<re.Match object; span=(184, 185), match='0'>\n",
            "<re.Match object; span=(185, 186), match='0'>\n",
            "<re.Match object; span=(186, 187), match='0'>\n",
            "<re.Match object; span=(188, 189), match='0'>\n",
            "<re.Match object; span=(189, 190), match='0'>\n",
            "<re.Match object; span=(190, 191), match='0'>\n",
            "<re.Match object; span=(192, 193), match='0'>\n",
            "<re.Match object; span=(193, 194), match='0'>\n",
            "<re.Match object; span=(194, 195), match='1'>\n",
            "<re.Match object; span=(196, 197), match='8'>\n",
            "<re.Match object; span=(197, 198), match='0'>\n",
            "<re.Match object; span=(198, 199), match='8'>\n",
            "<re.Match object; span=(199, 200), match='0'>\n",
            "<re.Match object; span=(289, 290), match='1'>\n",
            "<re.Match object; span=(290, 291), match='2'>\n"
          ]
        }
      ]
    },
    {
      "cell_type": "code",
      "source": [
        "# \\b - Word boundary\n",
        "# \\B - Not a word boundary\n",
        "\n",
        "pattern = re.compile(r'\\bHa') # Start of line, space is a word boundary Ha(Ha) - bracket not matching as it is in word and not having word boundary\n",
        "matches = pattern.finditer(text_to_search) \n",
        "for match in matches: \n",
        "  print(match)"
      ],
      "metadata": {
        "colab": {
          "base_uri": "https://localhost:8080/"
        },
        "id": "ub7_qYlBR-RC",
        "outputId": "6cc24cda-7695-400f-fda8-fcd8f8201e05"
      },
      "execution_count": null,
      "outputs": [
        {
          "output_type": "stream",
          "name": "stdout",
          "text": [
            "<re.Match object; span=(67, 69), match='Ha'>\n",
            "<re.Match object; span=(70, 72), match='Ha'>\n"
          ]
        }
      ]
    },
    {
      "cell_type": "code",
      "source": [
        "# ^ - Beginning of a string\n",
        "# $ - End of a string\n",
        "sent = 'Start and end'\n",
        "pattern = re.compile(r'end$') # ^Start\n",
        "matches = pattern.finditer(sent) \n",
        "for match in matches: \n",
        "  print(match)"
      ],
      "metadata": {
        "colab": {
          "base_uri": "https://localhost:8080/"
        },
        "id": "343az-agT6Nq",
        "outputId": "26b8dcea-29bc-41f3-cd80-96fe4b9f39e1"
      },
      "execution_count": null,
      "outputs": [
        {
          "output_type": "stream",
          "name": "stdout",
          "text": [
            "<re.Match object; span=(10, 13), match='end'>\n"
          ]
        }
      ]
    },
    {
      "cell_type": "code",
      "source": [
        "# Matches 3 numbers - any 1 char - 3 numbers - any 1 char - 3 numbers\n",
        "pattern = re.compile(r'\\d\\d\\d.\\d\\d\\d.\\d\\d\\d\\d') # not matching only phone numbers. picking up IP address as well\n",
        "matches = pattern.finditer(text_to_search) \n",
        "for match in matches: \n",
        "  print(match)"
      ],
      "metadata": {
        "colab": {
          "base_uri": "https://localhost:8080/"
        },
        "id": "5im8CBUAbf5a",
        "outputId": "33d7e564-273a-4e78-deb5-2b90f495ef0a"
      },
      "execution_count": null,
      "outputs": [
        {
          "output_type": "stream",
          "name": "stdout",
          "text": [
            "<re.Match object; span=(126, 138), match='321-555-4312'>\n",
            "<re.Match object; span=(139, 151), match='321.555.4312'>\n",
            "<re.Match object; span=(153, 165), match='800-555-4312'>\n",
            "<re.Match object; span=(166, 178), match='900-555-4312'>\n",
            "<re.Match object; span=(188, 200), match='000.001:8080'>\n"
          ]
        }
      ]
    },
    {
      "cell_type": "code",
      "source": [
        "# To match only phone number\n",
        "# [] one of the charcter within the brackets\n",
        "pattern = re.compile(r'\\d\\d\\d[-.]\\d\\d\\d[-.]\\d\\d\\d\\d')\n",
        "matches = pattern.finditer(text_to_search) \n",
        "for match in matches: \n",
        "  print(match)"
      ],
      "metadata": {
        "colab": {
          "base_uri": "https://localhost:8080/"
        },
        "id": "tEFg2EDKcQR0",
        "outputId": "fa08730c-12c0-49da-848b-34ff1e2591d2"
      },
      "execution_count": null,
      "outputs": [
        {
          "output_type": "stream",
          "name": "stdout",
          "text": [
            "<re.Match object; span=(126, 138), match='321-555-4312'>\n",
            "<re.Match object; span=(139, 151), match='321.555.4312'>\n",
            "<re.Match object; span=(153, 165), match='800-555-4312'>\n",
            "<re.Match object; span=(166, 178), match='900-555-4312'>\n"
          ]
        }
      ]
    },
    {
      "cell_type": "code",
      "source": [
        "# Quantifiers:\n",
        "# * - 0 or more\n",
        "# + - 1 or more\n",
        "# ? - 0 or 1\n",
        "# {3} - exact number of times\n",
        "# {3,4} - Range of numbers (min,max)\n",
        "pattern = re.compile(r'\\d{3}[-.]\\d{3}[-.]\\d{4}')\n",
        "matches = pattern.finditer(text_to_search) \n",
        "for match in matches: \n",
        "  print(match)"
      ],
      "metadata": {
        "colab": {
          "base_uri": "https://localhost:8080/"
        },
        "id": "awJvvDBy6xtb",
        "outputId": "b0de96f2-5663-4b54-e36f-133e451b7b37"
      },
      "execution_count": null,
      "outputs": [
        {
          "output_type": "stream",
          "name": "stdout",
          "text": [
            "<re.Match object; span=(126, 138), match='321-555-4312'>\n",
            "<re.Match object; span=(139, 151), match='321.555.4312'>\n",
            "<re.Match object; span=(153, 165), match='800-555-4312'>\n",
            "<re.Match object; span=(166, 178), match='900-555-4312'>\n"
          ]
        }
      ]
    },
    {
      "cell_type": "code",
      "source": [
        "# match only numbers starting with 800 or 900\n",
        "pattern = re.compile(r'[89]00[-.]\\d\\d\\d[-.]\\d\\d\\d\\d')\n",
        "matches = pattern.finditer(text_to_search) \n",
        "for match in matches: \n",
        "  print(match)"
      ],
      "metadata": {
        "colab": {
          "base_uri": "https://localhost:8080/"
        },
        "id": "5XZ7DIcvdkmP",
        "outputId": "e153f31a-961d-40d2-86ee-1f367d9e8bc7"
      },
      "execution_count": null,
      "outputs": [
        {
          "output_type": "stream",
          "name": "stdout",
          "text": [
            "<re.Match object; span=(153, 165), match='800-555-4312'>\n",
            "<re.Match object; span=(166, 178), match='900-555-4312'>\n"
          ]
        }
      ]
    },
    {
      "cell_type": "code",
      "source": [
        "# Match character that's in  A-Z or a-z or 0-9\n",
        "pattern = re.compile(r'[a-zA-Z]')\n",
        "matches = pattern.finditer(text_to_search) \n",
        "for match in matches: \n",
        "  print(match)"
      ],
      "metadata": {
        "id": "y7q3U655eRJK",
        "colab": {
          "base_uri": "https://localhost:8080/"
        },
        "outputId": "ab68c319-fdf7-4d52-bbb7-b108d5a8e31d"
      },
      "execution_count": null,
      "outputs": [
        {
          "output_type": "stream",
          "name": "stdout",
          "text": [
            "<re.Match object; span=(1, 2), match='a'>\n",
            "<re.Match object; span=(2, 3), match='b'>\n",
            "<re.Match object; span=(3, 4), match='c'>\n",
            "<re.Match object; span=(4, 5), match='d'>\n",
            "<re.Match object; span=(5, 6), match='e'>\n",
            "<re.Match object; span=(6, 7), match='f'>\n",
            "<re.Match object; span=(7, 8), match='g'>\n",
            "<re.Match object; span=(8, 9), match='h'>\n",
            "<re.Match object; span=(9, 10), match='i'>\n",
            "<re.Match object; span=(10, 11), match='j'>\n",
            "<re.Match object; span=(11, 12), match='k'>\n",
            "<re.Match object; span=(12, 13), match='l'>\n",
            "<re.Match object; span=(13, 14), match='m'>\n",
            "<re.Match object; span=(14, 15), match='n'>\n",
            "<re.Match object; span=(15, 16), match='o'>\n",
            "<re.Match object; span=(16, 17), match='p'>\n",
            "<re.Match object; span=(17, 18), match='q'>\n",
            "<re.Match object; span=(18, 19), match='r'>\n",
            "<re.Match object; span=(19, 20), match='s'>\n",
            "<re.Match object; span=(20, 21), match='t'>\n",
            "<re.Match object; span=(21, 22), match='u'>\n",
            "<re.Match object; span=(22, 23), match='v'>\n",
            "<re.Match object; span=(23, 24), match='w'>\n",
            "<re.Match object; span=(24, 25), match='x'>\n",
            "<re.Match object; span=(25, 26), match='y'>\n",
            "<re.Match object; span=(26, 27), match='z'>\n",
            "<re.Match object; span=(28, 29), match='A'>\n",
            "<re.Match object; span=(29, 30), match='B'>\n",
            "<re.Match object; span=(30, 31), match='C'>\n",
            "<re.Match object; span=(31, 32), match='D'>\n",
            "<re.Match object; span=(32, 33), match='E'>\n",
            "<re.Match object; span=(33, 34), match='F'>\n",
            "<re.Match object; span=(34, 35), match='G'>\n",
            "<re.Match object; span=(35, 36), match='H'>\n",
            "<re.Match object; span=(36, 37), match='I'>\n",
            "<re.Match object; span=(37, 38), match='J'>\n",
            "<re.Match object; span=(38, 39), match='K'>\n",
            "<re.Match object; span=(39, 40), match='L'>\n",
            "<re.Match object; span=(40, 41), match='M'>\n",
            "<re.Match object; span=(41, 42), match='N'>\n",
            "<re.Match object; span=(42, 43), match='O'>\n",
            "<re.Match object; span=(43, 44), match='P'>\n",
            "<re.Match object; span=(44, 45), match='Q'>\n",
            "<re.Match object; span=(45, 46), match='R'>\n",
            "<re.Match object; span=(46, 47), match='S'>\n",
            "<re.Match object; span=(47, 48), match='T'>\n",
            "<re.Match object; span=(48, 49), match='U'>\n",
            "<re.Match object; span=(49, 50), match='V'>\n",
            "<re.Match object; span=(50, 51), match='W'>\n",
            "<re.Match object; span=(51, 52), match='X'>\n",
            "<re.Match object; span=(52, 53), match='Y'>\n",
            "<re.Match object; span=(53, 54), match='Z'>\n",
            "<re.Match object; span=(67, 68), match='H'>\n",
            "<re.Match object; span=(68, 69), match='a'>\n",
            "<re.Match object; span=(70, 71), match='H'>\n",
            "<re.Match object; span=(71, 72), match='a'>\n",
            "<re.Match object; span=(72, 73), match='H'>\n",
            "<re.Match object; span=(73, 74), match='a'>\n",
            "<re.Match object; span=(75, 76), match='s'>\n",
            "<re.Match object; span=(76, 77), match='u'>\n",
            "<re.Match object; span=(77, 78), match='k'>\n",
            "<re.Match object; span=(78, 79), match='h'>\n",
            "<re.Match object; span=(79, 80), match='i'>\n",
            "<re.Match object; span=(81, 82), match='c'>\n",
            "<re.Match object; span=(82, 83), match='o'>\n",
            "<re.Match object; span=(83, 84), match='m'>\n",
            "<re.Match object; span=(85, 86), match='a'>\n",
            "<re.Match object; span=(86, 87), match='b'>\n",
            "<re.Match object; span=(87, 88), match='c'>\n",
            "<re.Match object; span=(88, 89), match='d'>\n",
            "<re.Match object; span=(89, 90), match='e'>\n",
            "<re.Match object; span=(202, 203), match='c'>\n",
            "<re.Match object; span=(203, 204), match='a'>\n",
            "<re.Match object; span=(204, 205), match='t'>\n",
            "<re.Match object; span=(206, 207), match='r'>\n",
            "<re.Match object; span=(207, 208), match='a'>\n",
            "<re.Match object; span=(208, 209), match='t'>\n",
            "<re.Match object; span=(210, 211), match='m'>\n",
            "<re.Match object; span=(211, 212), match='a'>\n",
            "<re.Match object; span=(212, 213), match='t'>\n",
            "<re.Match object; span=(214, 215), match='p'>\n",
            "<re.Match object; span=(215, 216), match='a'>\n",
            "<re.Match object; span=(216, 217), match='t'>\n",
            "<re.Match object; span=(218, 219), match='b'>\n",
            "<re.Match object; span=(219, 220), match='a'>\n",
            "<re.Match object; span=(220, 221), match='t'>\n",
            "<re.Match object; span=(223, 224), match='M'>\n",
            "<re.Match object; span=(224, 225), match='r'>\n",
            "<re.Match object; span=(227, 228), match='S'>\n",
            "<re.Match object; span=(228, 229), match='u'>\n",
            "<re.Match object; span=(229, 230), match='k'>\n",
            "<re.Match object; span=(230, 231), match='h'>\n",
            "<re.Match object; span=(231, 232), match='e'>\n",
            "<re.Match object; span=(232, 233), match='s'>\n",
            "<re.Match object; span=(233, 234), match='h'>\n",
            "<re.Match object; span=(235, 236), match='M'>\n",
            "<re.Match object; span=(236, 237), match='a'>\n",
            "<re.Match object; span=(237, 238), match='k'>\n",
            "<re.Match object; span=(238, 239), match='a'>\n",
            "<re.Match object; span=(239, 240), match='m'>\n",
            "<re.Match object; span=(241, 242), match='M'>\n",
            "<re.Match object; span=(242, 243), match='r'>\n",
            "<re.Match object; span=(243, 244), match='s'>\n",
            "<re.Match object; span=(246, 247), match='A'>\n",
            "<re.Match object; span=(247, 248), match='s'>\n",
            "<re.Match object; span=(248, 249), match='h'>\n",
            "<re.Match object; span=(249, 250), match='i'>\n",
            "<re.Match object; span=(250, 251), match='k'>\n",
            "<re.Match object; span=(251, 252), match='a'>\n",
            "<re.Match object; span=(253, 254), match='M'>\n",
            "<re.Match object; span=(254, 255), match='a'>\n",
            "<re.Match object; span=(255, 256), match='k'>\n",
            "<re.Match object; span=(256, 257), match='a'>\n",
            "<re.Match object; span=(257, 258), match='m'>\n",
            "<re.Match object; span=(260, 261), match='a'>\n",
            "<re.Match object; span=(261, 262), match='s'>\n",
            "<re.Match object; span=(262, 263), match='h'>\n",
            "<re.Match object; span=(263, 264), match='i'>\n",
            "<re.Match object; span=(264, 265), match='k'>\n",
            "<re.Match object; span=(265, 266), match='a'>\n",
            "<re.Match object; span=(267, 268), match='m'>\n",
            "<re.Match object; span=(268, 269), match='a'>\n",
            "<re.Match object; span=(269, 270), match='k'>\n",
            "<re.Match object; span=(270, 271), match='a'>\n",
            "<re.Match object; span=(271, 272), match='m'>\n",
            "<re.Match object; span=(273, 274), match='g'>\n",
            "<re.Match object; span=(274, 275), match='m'>\n",
            "<re.Match object; span=(275, 276), match='a'>\n",
            "<re.Match object; span=(276, 277), match='i'>\n",
            "<re.Match object; span=(277, 278), match='l'>\n",
            "<re.Match object; span=(279, 280), match='c'>\n",
            "<re.Match object; span=(280, 281), match='o'>\n",
            "<re.Match object; span=(281, 282), match='m'>\n",
            "<re.Match object; span=(283, 284), match='a'>\n",
            "<re.Match object; span=(284, 285), match='s'>\n",
            "<re.Match object; span=(285, 286), match='h'>\n",
            "<re.Match object; span=(286, 287), match='i'>\n",
            "<re.Match object; span=(287, 288), match='k'>\n",
            "<re.Match object; span=(288, 289), match='a'>\n",
            "<re.Match object; span=(291, 292), match='p'>\n",
            "<re.Match object; span=(292, 293), match='o'>\n",
            "<re.Match object; span=(293, 294), match='b'>\n",
            "<re.Match object; span=(294, 295), match='b'>\n",
            "<re.Match object; span=(295, 296), match='a'>\n",
            "<re.Match object; span=(296, 297), match='t'>\n",
            "<re.Match object; span=(297, 298), match='h'>\n",
            "<re.Match object; span=(298, 299), match='i'>\n",
            "<re.Match object; span=(300, 301), match='m'>\n",
            "<re.Match object; span=(301, 302), match='y'>\n",
            "<re.Match object; span=(303, 304), match='w'>\n",
            "<re.Match object; span=(304, 305), match='o'>\n",
            "<re.Match object; span=(305, 306), match='r'>\n",
            "<re.Match object; span=(306, 307), match='k'>\n",
            "<re.Match object; span=(308, 309), match='n'>\n",
            "<re.Match object; span=(309, 310), match='e'>\n",
            "<re.Match object; span=(310, 311), match='t'>\n",
            "<re.Match object; span=(312, 313), match='a'>\n",
            "<re.Match object; span=(313, 314), match='s'>\n",
            "<re.Match object; span=(314, 315), match='h'>\n",
            "<re.Match object; span=(315, 316), match='i'>\n",
            "<re.Match object; span=(316, 317), match='k'>\n",
            "<re.Match object; span=(317, 318), match='a'>\n",
            "<re.Match object; span=(319, 320), match='a'>\n",
            "<re.Match object; span=(320, 321), match='n'>\n",
            "<re.Match object; span=(321, 322), match='a'>\n",
            "<re.Match object; span=(322, 323), match='n'>\n",
            "<re.Match object; span=(323, 324), match='d'>\n",
            "<re.Match object; span=(324, 325), match='b'>\n",
            "<re.Match object; span=(325, 326), match='a'>\n",
            "<re.Match object; span=(326, 327), match='b'>\n",
            "<re.Match object; span=(327, 328), match='u'>\n",
            "<re.Match object; span=(329, 330), match='s'>\n",
            "<re.Match object; span=(330, 331), match='j'>\n",
            "<re.Match object; span=(331, 332), match='s'>\n",
            "<re.Match object; span=(332, 333), match='u'>\n",
            "<re.Match object; span=(334, 335), match='e'>\n",
            "<re.Match object; span=(335, 336), match='d'>\n",
            "<re.Match object; span=(336, 337), match='u'>\n",
            "<re.Match object; span=(339, 340), match='T'>\n",
            "<re.Match object; span=(340, 341), match='h'>\n",
            "<re.Match object; span=(341, 342), match='i'>\n",
            "<re.Match object; span=(342, 343), match='s'>\n",
            "<re.Match object; span=(344, 345), match='i'>\n",
            "<re.Match object; span=(345, 346), match='s'>\n",
            "<re.Match object; span=(347, 348), match='a'>\n",
            "<re.Match object; span=(349, 350), match='s'>\n",
            "<re.Match object; span=(350, 351), match='i'>\n",
            "<re.Match object; span=(351, 352), match='m'>\n",
            "<re.Match object; span=(352, 353), match='p'>\n",
            "<re.Match object; span=(353, 354), match='l'>\n",
            "<re.Match object; span=(354, 355), match='e'>\n",
            "<re.Match object; span=(356, 357), match='s'>\n",
            "<re.Match object; span=(357, 358), match='e'>\n",
            "<re.Match object; span=(358, 359), match='n'>\n",
            "<re.Match object; span=(359, 360), match='t'>\n",
            "<re.Match object; span=(360, 361), match='e'>\n",
            "<re.Match object; span=(361, 362), match='n'>\n",
            "<re.Match object; span=(362, 363), match='c'>\n",
            "<re.Match object; span=(363, 364), match='e'>\n"
          ]
        }
      ]
    },
    {
      "cell_type": "code",
      "source": [
        "# Match all characters that is not a-z or A-Z\n",
        "pattern = re.compile(r'[^a-zA-Z]') # ^ - negates the condition within brackets. Matches numbers, spaces, newline, special characters\n",
        "matches = pattern.finditer(text_to_search) \n",
        "for match in matches: \n",
        "  print(match)"
      ],
      "metadata": {
        "id": "QozmcNdWeoUD",
        "colab": {
          "base_uri": "https://localhost:8080/"
        },
        "outputId": "303d9170-fcd4-46a6-9579-d86a314922b2"
      },
      "execution_count": null,
      "outputs": [
        {
          "output_type": "stream",
          "name": "stdout",
          "text": [
            "<re.Match object; span=(0, 1), match='\\n'>\n",
            "<re.Match object; span=(27, 28), match='\\n'>\n",
            "<re.Match object; span=(54, 55), match='\\n'>\n",
            "<re.Match object; span=(55, 56), match='0'>\n",
            "<re.Match object; span=(56, 57), match='1'>\n",
            "<re.Match object; span=(57, 58), match='2'>\n",
            "<re.Match object; span=(58, 59), match='3'>\n",
            "<re.Match object; span=(59, 60), match='4'>\n",
            "<re.Match object; span=(60, 61), match='5'>\n",
            "<re.Match object; span=(61, 62), match='6'>\n",
            "<re.Match object; span=(62, 63), match='7'>\n",
            "<re.Match object; span=(63, 64), match='8'>\n",
            "<re.Match object; span=(64, 65), match='9'>\n",
            "<re.Match object; span=(65, 66), match='\\n'>\n",
            "<re.Match object; span=(66, 67), match='\\n'>\n",
            "<re.Match object; span=(69, 70), match=' '>\n",
            "<re.Match object; span=(74, 75), match='\\n'>\n",
            "<re.Match object; span=(80, 81), match='.'>\n",
            "<re.Match object; span=(84, 85), match='\\n'>\n",
            "<re.Match object; span=(90, 91), match='\\n'>\n",
            "<re.Match object; span=(91, 92), match='!'>\n",
            "<re.Match object; span=(92, 93), match='@'>\n",
            "<re.Match object; span=(93, 94), match='#'>\n",
            "<re.Match object; span=(94, 95), match='$'>\n",
            "<re.Match object; span=(95, 96), match='%'>\n",
            "<re.Match object; span=(96, 97), match='^'>\n",
            "<re.Match object; span=(97, 98), match='&'>\n",
            "<re.Match object; span=(98, 99), match='*'>\n",
            "<re.Match object; span=(99, 100), match='('>\n",
            "<re.Match object; span=(100, 101), match=')'>\n",
            "<re.Match object; span=(101, 102), match='\"'>\n",
            "<re.Match object; span=(102, 103), match=':'>\n",
            "<re.Match object; span=(103, 104), match='}'>\n",
            "<re.Match object; span=(104, 105), match='{'>\n",
            "<re.Match object; span=(105, 106), match='['>\n",
            "<re.Match object; span=(106, 107), match=']'>\n",
            "<re.Match object; span=(107, 108), match=';'>\n",
            "<re.Match object; span=(108, 109), match=\"'\">\n",
            "<re.Match object; span=(109, 110), match='<'>\n",
            "<re.Match object; span=(110, 111), match='>'>\n",
            "<re.Match object; span=(111, 112), match=','>\n",
            "<re.Match object; span=(112, 113), match='.'>\n",
            "<re.Match object; span=(113, 114), match='/'>\n",
            "<re.Match object; span=(114, 115), match='?'>\n",
            "<re.Match object; span=(115, 116), match='\\\\'>\n",
            "<re.Match object; span=(116, 117), match='|'>\n",
            "<re.Match object; span=(117, 118), match='`'>\n",
            "<re.Match object; span=(118, 119), match='~'>\n",
            "<re.Match object; span=(119, 120), match='-'>\n",
            "<re.Match object; span=(120, 121), match='_'>\n",
            "<re.Match object; span=(121, 122), match='+'>\n",
            "<re.Match object; span=(122, 123), match='='>\n",
            "<re.Match object; span=(123, 124), match='}'>\n",
            "<re.Match object; span=(124, 125), match='\\n'>\n",
            "<re.Match object; span=(125, 126), match='\\n'>\n",
            "<re.Match object; span=(126, 127), match='3'>\n",
            "<re.Match object; span=(127, 128), match='2'>\n",
            "<re.Match object; span=(128, 129), match='1'>\n",
            "<re.Match object; span=(129, 130), match='-'>\n",
            "<re.Match object; span=(130, 131), match='5'>\n",
            "<re.Match object; span=(131, 132), match='5'>\n",
            "<re.Match object; span=(132, 133), match='5'>\n",
            "<re.Match object; span=(133, 134), match='-'>\n",
            "<re.Match object; span=(134, 135), match='4'>\n",
            "<re.Match object; span=(135, 136), match='3'>\n",
            "<re.Match object; span=(136, 137), match='1'>\n",
            "<re.Match object; span=(137, 138), match='2'>\n",
            "<re.Match object; span=(138, 139), match='\\n'>\n",
            "<re.Match object; span=(139, 140), match='3'>\n",
            "<re.Match object; span=(140, 141), match='2'>\n",
            "<re.Match object; span=(141, 142), match='1'>\n",
            "<re.Match object; span=(142, 143), match='.'>\n",
            "<re.Match object; span=(143, 144), match='5'>\n",
            "<re.Match object; span=(144, 145), match='5'>\n",
            "<re.Match object; span=(145, 146), match='5'>\n",
            "<re.Match object; span=(146, 147), match='.'>\n",
            "<re.Match object; span=(147, 148), match='4'>\n",
            "<re.Match object; span=(148, 149), match='3'>\n",
            "<re.Match object; span=(149, 150), match='1'>\n",
            "<re.Match object; span=(150, 151), match='2'>\n",
            "<re.Match object; span=(151, 152), match='\\n'>\n",
            "<re.Match object; span=(152, 153), match='\\n'>\n",
            "<re.Match object; span=(153, 154), match='8'>\n",
            "<re.Match object; span=(154, 155), match='0'>\n",
            "<re.Match object; span=(155, 156), match='0'>\n",
            "<re.Match object; span=(156, 157), match='-'>\n",
            "<re.Match object; span=(157, 158), match='5'>\n",
            "<re.Match object; span=(158, 159), match='5'>\n",
            "<re.Match object; span=(159, 160), match='5'>\n",
            "<re.Match object; span=(160, 161), match='-'>\n",
            "<re.Match object; span=(161, 162), match='4'>\n",
            "<re.Match object; span=(162, 163), match='3'>\n",
            "<re.Match object; span=(163, 164), match='1'>\n",
            "<re.Match object; span=(164, 165), match='2'>\n",
            "<re.Match object; span=(165, 166), match='\\n'>\n",
            "<re.Match object; span=(166, 167), match='9'>\n",
            "<re.Match object; span=(167, 168), match='0'>\n",
            "<re.Match object; span=(168, 169), match='0'>\n",
            "<re.Match object; span=(169, 170), match='-'>\n",
            "<re.Match object; span=(170, 171), match='5'>\n",
            "<re.Match object; span=(171, 172), match='5'>\n",
            "<re.Match object; span=(172, 173), match='5'>\n",
            "<re.Match object; span=(173, 174), match='-'>\n",
            "<re.Match object; span=(174, 175), match='4'>\n",
            "<re.Match object; span=(175, 176), match='3'>\n",
            "<re.Match object; span=(176, 177), match='1'>\n",
            "<re.Match object; span=(177, 178), match='2'>\n",
            "<re.Match object; span=(178, 179), match='\\n'>\n",
            "<re.Match object; span=(179, 180), match='\\n'>\n",
            "<re.Match object; span=(180, 181), match='1'>\n",
            "<re.Match object; span=(181, 182), match='2'>\n",
            "<re.Match object; span=(182, 183), match='7'>\n",
            "<re.Match object; span=(183, 184), match='.'>\n",
            "<re.Match object; span=(184, 185), match='0'>\n",
            "<re.Match object; span=(185, 186), match='0'>\n",
            "<re.Match object; span=(186, 187), match='0'>\n",
            "<re.Match object; span=(187, 188), match='.'>\n",
            "<re.Match object; span=(188, 189), match='0'>\n",
            "<re.Match object; span=(189, 190), match='0'>\n",
            "<re.Match object; span=(190, 191), match='0'>\n",
            "<re.Match object; span=(191, 192), match='.'>\n",
            "<re.Match object; span=(192, 193), match='0'>\n",
            "<re.Match object; span=(193, 194), match='0'>\n",
            "<re.Match object; span=(194, 195), match='1'>\n",
            "<re.Match object; span=(195, 196), match=':'>\n",
            "<re.Match object; span=(196, 197), match='8'>\n",
            "<re.Match object; span=(197, 198), match='0'>\n",
            "<re.Match object; span=(198, 199), match='8'>\n",
            "<re.Match object; span=(199, 200), match='0'>\n",
            "<re.Match object; span=(200, 201), match='\\n'>\n",
            "<re.Match object; span=(201, 202), match='\\n'>\n",
            "<re.Match object; span=(205, 206), match='\\n'>\n",
            "<re.Match object; span=(209, 210), match='\\n'>\n",
            "<re.Match object; span=(213, 214), match='\\n'>\n",
            "<re.Match object; span=(217, 218), match='\\n'>\n",
            "<re.Match object; span=(221, 222), match='\\n'>\n",
            "<re.Match object; span=(222, 223), match='\\n'>\n",
            "<re.Match object; span=(225, 226), match='.'>\n",
            "<re.Match object; span=(226, 227), match=' '>\n",
            "<re.Match object; span=(234, 235), match=' '>\n",
            "<re.Match object; span=(240, 241), match='\\n'>\n",
            "<re.Match object; span=(244, 245), match='.'>\n",
            "<re.Match object; span=(245, 246), match=' '>\n",
            "<re.Match object; span=(252, 253), match=' '>\n",
            "<re.Match object; span=(258, 259), match='\\n'>\n",
            "<re.Match object; span=(259, 260), match='\\n'>\n",
            "<re.Match object; span=(266, 267), match='-'>\n",
            "<re.Match object; span=(272, 273), match='@'>\n",
            "<re.Match object; span=(278, 279), match='.'>\n",
            "<re.Match object; span=(282, 283), match='\\n'>\n",
            "<re.Match object; span=(289, 290), match='1'>\n",
            "<re.Match object; span=(290, 291), match='2'>\n",
            "<re.Match object; span=(299, 300), match='@'>\n",
            "<re.Match object; span=(302, 303), match='-'>\n",
            "<re.Match object; span=(307, 308), match='.'>\n",
            "<re.Match object; span=(311, 312), match='\\n'>\n",
            "<re.Match object; span=(318, 319), match='.'>\n",
            "<re.Match object; span=(328, 329), match='@'>\n",
            "<re.Match object; span=(333, 334), match='.'>\n",
            "<re.Match object; span=(337, 338), match='\\n'>\n",
            "<re.Match object; span=(338, 339), match='\\n'>\n",
            "<re.Match object; span=(343, 344), match=' '>\n",
            "<re.Match object; span=(346, 347), match=' '>\n",
            "<re.Match object; span=(348, 349), match=' '>\n",
            "<re.Match object; span=(355, 356), match=' '>\n",
            "<re.Match object; span=(364, 365), match='\\n'>\n",
            "<re.Match object; span=(365, 366), match='\\n'>\n"
          ]
        }
      ]
    },
    {
      "cell_type": "code",
      "source": [
        "# Match all 3 letter words that end with at but not starting with b\n",
        "pattern = re.compile(r'[^b]at')\n",
        "matches = pattern.finditer(text_to_search) \n",
        "for match in matches: \n",
        "  print(match)"
      ],
      "metadata": {
        "colab": {
          "base_uri": "https://localhost:8080/"
        },
        "id": "1qvyJQN8fRy6",
        "outputId": "d94e10ea-26c4-4da4-a7fc-9477d7e6ffdb"
      },
      "execution_count": null,
      "outputs": [
        {
          "output_type": "stream",
          "name": "stdout",
          "text": [
            "<re.Match object; span=(202, 205), match='cat'>\n",
            "<re.Match object; span=(206, 209), match='rat'>\n",
            "<re.Match object; span=(210, 213), match='mat'>\n",
            "<re.Match object; span=(214, 217), match='pat'>\n"
          ]
        }
      ]
    },
    {
      "cell_type": "code",
      "source": [
        "# Mr followed by dot or no dot and get the entire first name (word)\n",
        "pattern = re.compile(r'Mr\\.?\\s[A-Za-z]\\w*')\n",
        "matches = pattern.finditer(text_to_search) \n",
        "for match in matches: \n",
        "  print(match)"
      ],
      "metadata": {
        "id": "tmGpk8a5fyln",
        "colab": {
          "base_uri": "https://localhost:8080/"
        },
        "outputId": "03ab7944-f88f-4932-9b28-f17dde75ca7d"
      },
      "execution_count": null,
      "outputs": [
        {
          "output_type": "stream",
          "name": "stdout",
          "text": [
            "<re.Match object; span=(223, 234), match='Mr. Sukhesh'>\n"
          ]
        }
      ]
    },
    {
      "cell_type": "code",
      "source": [
        "# Groups: ()\n",
        "# | : either Or\n",
        "pattern = re.compile(r'M(r|s|rs)\\.?\\s[A-Za-z]\\w*') # Can also be written as: (r'(Mr|Ms|Mrs)\\.?\\s[A-Za-z]\\w*')\n",
        "matches = pattern.finditer(text_to_search) \n",
        "for match in matches: \n",
        "  print(match)"
      ],
      "metadata": {
        "colab": {
          "base_uri": "https://localhost:8080/"
        },
        "id": "TGTtJ9qX-DEW",
        "outputId": "b47c37a8-8a68-4f13-f1d4-535986d89085"
      },
      "execution_count": null,
      "outputs": [
        {
          "output_type": "stream",
          "name": "stdout",
          "text": [
            "<re.Match object; span=(223, 234), match='Mr. Sukhesh'>\n",
            "<re.Match object; span=(241, 252), match='Mrs. Ashika'>\n"
          ]
        }
      ]
    },
    {
      "cell_type": "code",
      "source": [
        "pattern = re.compile(r'[a-zA-Z0-9._+-]+@[a-zA-Z0-9-]+\\.[a-zA-Z0-9-.]+')\n",
        "matches = pattern.finditer(text_to_search) \n",
        "for match in matches: \n",
        "  print(match)"
      ],
      "metadata": {
        "colab": {
          "base_uri": "https://localhost:8080/"
        },
        "id": "iPRpKYYI-1OT",
        "outputId": "32e3f269-f3f4-4576-9d90-1f397b82270c"
      },
      "execution_count": null,
      "outputs": [
        {
          "output_type": "stream",
          "name": "stdout",
          "text": [
            "<re.Match object; span=(260, 282), match='ashika-makam@gmail.com'>\n",
            "<re.Match object; span=(283, 311), match='ashika12pobbathi@my-work.net'>\n",
            "<re.Match object; span=(312, 337), match='ashika.anandbabu@sjsu.edu'>\n"
          ]
        }
      ]
    },
    {
      "cell_type": "code",
      "source": [
        "urls = '''\n",
        "https://www.google.com\n",
        "http://ashika12.in\n",
        "https://youtube.com\n",
        "https://www.nasa.gov\n",
        "'''\n",
        "pattern = re.compile(r'https?://(www\\.)?[a-zA-Z0-9-]+\\.[a-zA-Z0-9]+') #Can be written as: (r'https?://(www\\.)?(\\w+)(\\.\\w+)')\n",
        "matches = pattern.finditer(urls) \n",
        "for match in matches: \n",
        "  print(match.group(0))"
      ],
      "metadata": {
        "colab": {
          "base_uri": "https://localhost:8080/"
        },
        "id": "3bB_toygAIPv",
        "outputId": "53e4e90b-da51-40e0-b3cb-13d1eab01e89"
      },
      "execution_count": null,
      "outputs": [
        {
          "output_type": "stream",
          "name": "stdout",
          "text": [
            "https://www.google.com\n",
            "http://ashika12.in\n",
            "https://youtube.com\n",
            "https://www.nasa.gov\n"
          ]
        }
      ]
    },
    {
      "cell_type": "code",
      "source": [
        "pattern = re.compile(r'https?://(www\\.)?(\\w+)(\\.\\w+)')\n",
        "sub_url = pattern.sub(r'\\2\\3',urls)\n",
        "print(sub_url)\n",
        "# matches = pattern.finditer(urls) \n",
        "# for match in matches: \n",
        "#   print(match.group(3))"
      ],
      "metadata": {
        "colab": {
          "base_uri": "https://localhost:8080/"
        },
        "id": "7USC9-1aB2tm",
        "outputId": "3788bdd2-a43a-4609-95d2-530fa4d9fc55"
      },
      "execution_count": null,
      "outputs": [
        {
          "output_type": "stream",
          "name": "stdout",
          "text": [
            "\n",
            "google.com\n",
            "ashika12.in\n",
            "youtube.com\n",
            "nasa.gov\n",
            "\n"
          ]
        }
      ]
    },
    {
      "cell_type": "code",
      "source": [
        "pattern = re.compile(r'\\d{3}[-.]\\d{3}[-.]\\d{4}')\n",
        "matches = pattern.findall(text_to_search) # Findall only return the string but not the index of the matched string\n",
        "for match in matches: \n",
        "  print(match)"
      ],
      "metadata": {
        "colab": {
          "base_uri": "https://localhost:8080/"
        },
        "id": "RJ78PBXZDVOW",
        "outputId": "f966eb92-36a1-4835-e510-096b5d990246"
      },
      "execution_count": null,
      "outputs": [
        {
          "output_type": "stream",
          "name": "stdout",
          "text": [
            "321-555-4312\n",
            "321.555.4312\n",
            "800-555-4312\n",
            "900-555-4312\n"
          ]
        }
      ]
    },
    {
      "cell_type": "code",
      "source": [
        "sentence = 'Start of sentence'\n",
        "pattern = re.compile(r'sentence')\n",
        "matches = pattern.match(sentence) # Only matches if beginning word in the sentence is the searched word ('Start' will work)\n",
        "print(matches)"
      ],
      "metadata": {
        "colab": {
          "base_uri": "https://localhost:8080/"
        },
        "id": "GJuazW_rDrK1",
        "outputId": "5211faec-805f-4754-ade3-7e9ecd38a486"
      },
      "execution_count": null,
      "outputs": [
        {
          "output_type": "stream",
          "name": "stdout",
          "text": [
            "None\n"
          ]
        }
      ]
    },
    {
      "cell_type": "code",
      "source": [
        "sentence = 'Start of sentence'\n",
        "pattern = re.compile(r'sentence')\n",
        "matches = pattern.search(sentence) # search prints out only the First match of the word in the sentence\n",
        "print(matches)"
      ],
      "metadata": {
        "colab": {
          "base_uri": "https://localhost:8080/"
        },
        "id": "FDK68s9AEMSx",
        "outputId": "9c6a365a-cb63-42cb-edf3-2dc96f615e36"
      },
      "execution_count": null,
      "outputs": [
        {
          "output_type": "stream",
          "name": "stdout",
          "text": [
            "<re.Match object; span=(9, 17), match='sentence'>\n"
          ]
        }
      ]
    },
    {
      "cell_type": "code",
      "source": [
        "# Flags\n",
        "# Ignore case: re.I | re.IGNORECASE\n",
        "sentence = 'Start of sentence'\n",
        "pattern = re.compile(r'start', re.I)\n",
        "matches = pattern.match(sentence) \n",
        "print(matches)"
      ],
      "metadata": {
        "colab": {
          "base_uri": "https://localhost:8080/"
        },
        "id": "DmOdYn0cFBc4",
        "outputId": "8b0396cf-3ca5-441a-b639-d3c36064663c"
      },
      "execution_count": null,
      "outputs": [
        {
          "output_type": "stream",
          "name": "stdout",
          "text": [
            "<re.Match object; span=(0, 5), match='Start'>\n"
          ]
        }
      ]
    },
    {
      "cell_type": "code",
      "source": [
        "# List Comprehension\n",
        "from math import pi\n",
        "seq = range(11)\n",
        "seq2 = [x*2 for x in seq]\n",
        "seq3 = [(x,x*2) for x in seq] #foreach\n",
        "seq4 = [round(pi,x) for x in seq]\n",
        "seq5 = {x:x*2 for x in seq}\n",
        "seq6 = [x for x in 'superduper' if x not in 'pd']\n",
        "print(seq)\n",
        "print(seq2)\n",
        "print(seq3)\n",
        "print(seq4)\n",
        "print(seq5)\n",
        "print(seq6)"
      ],
      "metadata": {
        "colab": {
          "base_uri": "https://localhost:8080/"
        },
        "id": "r_h2BUbXrk3L",
        "outputId": "10454bda-df6f-4871-f525-a755ef16f54e"
      },
      "execution_count": null,
      "outputs": [
        {
          "output_type": "stream",
          "name": "stdout",
          "text": [
            "range(0, 11)\n",
            "[0, 2, 4, 6, 8, 10, 12, 14, 16, 18, 20]\n",
            "[(0, 0), (1, 2), (2, 4), (3, 6), (4, 8), (5, 10), (6, 12), (7, 14), (8, 16), (9, 18), (10, 20)]\n",
            "[3.0, 3.1, 3.14, 3.142, 3.1416, 3.14159, 3.141593, 3.1415927, 3.14159265, 3.141592654, 3.1415926536]\n",
            "{0: 0, 1: 2, 2: 4, 3: 6, 4: 8, 5: 10, 6: 12, 7: 14, 8: 16, 9: 18, 10: 20}\n",
            "['s', 'u', 'e', 'r', 'u', 'e', 'r']\n"
          ]
        }
      ]
    },
    {
      "cell_type": "code",
      "source": [
        "x = set('hello')\n",
        "y = set('world')\n",
        "x-y"
      ],
      "metadata": {
        "colab": {
          "base_uri": "https://localhost:8080/"
        },
        "id": "rJO01_Ejr0fJ",
        "outputId": "108502d4-dee1-41ba-b242-9b28a8cb6c3a"
      },
      "execution_count": null,
      "outputs": [
        {
          "output_type": "execute_result",
          "data": {
            "text/plain": [
              "{'e', 'h'}"
            ]
          },
          "metadata": {},
          "execution_count": 138
        }
      ]
    },
    {
      "cell_type": "code",
      "source": [
        "s = 'Test'\n",
        "s.title()"
      ],
      "metadata": {
        "colab": {
          "base_uri": "https://localhost:8080/",
          "height": 37
        },
        "id": "rgYClDP_4IOc",
        "outputId": "f7781651-2453-408f-c779-76c8b2427287"
      },
      "execution_count": null,
      "outputs": [
        {
          "output_type": "execute_result",
          "data": {
            "application/vnd.google.colaboratory.intrinsic+json": {
              "type": "string"
            },
            "text/plain": [
              "'Test'"
            ]
          },
          "metadata": {},
          "execution_count": 139
        }
      ]
    },
    {
      "cell_type": "code",
      "source": [
        ""
      ],
      "metadata": {
        "id": "iRofsVnEITS2"
      },
      "execution_count": null,
      "outputs": []
    }
  ]
}