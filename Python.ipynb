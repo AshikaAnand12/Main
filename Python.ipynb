{
  "nbformat": 4,
  "nbformat_minor": 0,
  "metadata": {
    "colab": {
      "provenance": [],
      "collapsed_sections": [
        "VeYZVDEDeRv3",
        "4D_6BbB3faU9",
        "MEhYLJpmgDon",
        "JQDmCDj9eTmC",
        "tBjmu_eSeZtb",
        "ImHL3VwdfQyb",
        "RPJlSFvMfTDt",
        "4xdP4llgeon2",
        "EEB4bFqvewC0",
        "C5RNijyIfGIq",
        "CYGAfI-Je82J",
        "s3Ae8HHvh4ju",
        "TdUDXXkYfKdJ",
        "16uBXEe5gGiS",
        "kscXUETvgdy0",
        "2eWOEl4shBgx",
        "1WjN1zIMhWRr",
        "b80aN60ahaDn",
        "Ut6ElP8QhdiS"
      ],
      "include_colab_link": true
    },
    "kernelspec": {
      "name": "python3",
      "display_name": "Python 3"
    },
    "language_info": {
      "name": "python"
    }
  },
  "cells": [
    {
      "cell_type": "markdown",
      "metadata": {
        "id": "view-in-github",
        "colab_type": "text"
      },
      "source": [
        "<a href=\"https://colab.research.google.com/github/AshikaAnand12/NumPy-TensorFlow-Pytorch-Basics/blob/main/Python.ipynb\" target=\"_parent\"><img src=\"https://colab.research.google.com/assets/colab-badge.svg\" alt=\"Open In Colab\"/></a>"
      ]
    },
    {
      "cell_type": "markdown",
      "source": [
        "### Hello Python! "
      ],
      "metadata": {
        "id": "VeYZVDEDeRv3"
      }
    },
    {
      "cell_type": "code",
      "execution_count": null,
      "metadata": {
        "colab": {
          "base_uri": "https://localhost:8080/"
        },
        "id": "bWITQOuenw3F",
        "outputId": "61f0b08a-3fce-4431-bd5a-d0f862ba354d"
      },
      "outputs": [
        {
          "output_type": "stream",
          "name": "stdout",
          "text": [
            "Hello, world!\n"
          ]
        }
      ],
      "source": [
        "# Hello world\n",
        "# It is used to validate the development environment \n",
        "# Everything is an object in python\n",
        "# There is no multi line comment\n",
        "print('Hello, world!')"
      ]
    },
    {
      "cell_type": "code",
      "source": [
        "# Python version\n",
        "# Import module from library. Multiple imports in same or different statements.\n",
        "import platform\n",
        "print('This is python version {}'.format(platform.python_version()))\n",
        "#Shebang Line: #! - no lines before this line, no spaces between # and ! - should be the first line of code - common usage for env = #!/usr/bin/env python3 "
      ],
      "metadata": {
        "colab": {
          "base_uri": "https://localhost:8080/"
        },
        "id": "xwhPNLLAs3Tj",
        "outputId": "6618196c-d67f-4de8-d21a-a0c33807c8ae"
      },
      "execution_count": null,
      "outputs": [
        {
          "output_type": "stream",
          "name": "stdout",
          "text": [
            "This is python version 3.8.10\n"
          ]
        }
      ]
    },
    {
      "cell_type": "code",
      "source": [
        "# Print func is called inside message function, message func is called in main func. \n",
        "# Using conditional if for calling main(), it forces the interpreter to read the entire script\n",
        "# Indentation is very important. \n",
        "import platform\n",
        "def main():\n",
        "  message()\n",
        "def message():\n",
        "  print('This is python version {}'.format(platform.python_version()))\n",
        "if __name__ == \"__main__\":\n",
        "  main()"
      ],
      "metadata": {
        "colab": {
          "base_uri": "https://localhost:8080/"
        },
        "id": "G9fdAMYMxSEc",
        "outputId": "a7347220-ee41-4acc-f863-efbcf2c1747a"
      },
      "execution_count": null,
      "outputs": [
        {
          "output_type": "stream",
          "name": "stdout",
          "text": [
            "This is python version 3.8.10\n"
          ]
        }
      ]
    },
    {
      "cell_type": "code",
      "source": [
        "x = 3\n",
        "print('Hello, world{}'.format(x)) # use format method always, %d will be depracated\n",
        "print('%d'%x)\n",
        "print(f'Hello world.{x}') # Format func >python 3.6 # use this"
      ],
      "metadata": {
        "colab": {
          "base_uri": "https://localhost:8080/"
        },
        "id": "CVyUVA361Ehh",
        "outputId": "170a8c4a-5d6a-4ca4-fb5e-9a60f488e33f"
      },
      "execution_count": null,
      "outputs": [
        {
          "output_type": "stream",
          "name": "stdout",
          "text": [
            "Hello, world3\n",
            "3\n",
            "Hello world.3\n"
          ]
        }
      ]
    },
    {
      "cell_type": "markdown",
      "source": [
        "### Data types"
      ],
      "metadata": {
        "id": "4D_6BbB3faU9"
      }
    },
    {
      "cell_type": "code",
      "source": [
        "# String and it's functions\n",
        "a='Sukhi' # or \"Sukhi\" or '''Sukhi''' or \"\"\"Sukhi\"\"\"\n",
        "n = 8\n",
        "m = 9\n",
        "ab = f'seven {n:<09} {m:>09}'\n",
        "ad = f'seven {n:<9} {m:>9}'\n",
        "ac = 'sukhi'.capitalize()\n",
        "au = 'sukhi'.upper()\n",
        "af = f'sukhi {n} {m}'\n",
        "al = 'sukhi'.lower()\n",
        "\n",
        "print(f'a in {a}')\n",
        "print(f'ac in {ac}')\n",
        "print(f'au in {au}')\n",
        "print(f'af in {af}')\n",
        "print(f'ab in {ab}')\n",
        "print(f'ad in {ad}')\n",
        "print(a[::-1]) # reverse a string\n",
        "print(a[-1]) # last character in a string\n",
        "\n",
        "print(type(a))"
      ],
      "metadata": {
        "colab": {
          "base_uri": "https://localhost:8080/"
        },
        "id": "Wvj5kKTueAOH",
        "outputId": "cf24382b-f9db-4e28-e0bc-b646a0f4c900"
      },
      "execution_count": null,
      "outputs": [
        {
          "output_type": "stream",
          "name": "stdout",
          "text": [
            "a in Sukhi\n",
            "ac in Sukhi\n",
            "au in SUKHI\n",
            "af in sukhi 8 9\n",
            "ab in seven 800000000 000000009\n",
            "ad in seven 8                 9\n",
            "ihkuS\n",
            "i\n",
            "<class 'str'>\n"
          ]
        }
      ]
    },
    {
      "cell_type": "code",
      "source": [
        "# Numeric types\n",
        "# Dont use float type for money : Accuracy vs precision\n",
        "x = .1 + .1 + .1 - .3\n",
        "print(f'x is {x}') # Value not precise but almost equal to 0 i.e., it is accurate\n",
        "print(type(x))\n",
        "\n",
        "# use decimal for money\n",
        "from decimal import *\n",
        "a = Decimal('.1')\n",
        "b = Decimal('.3')\n",
        "x = a + a + a - b\n",
        "print(x) # Value accurate and precise"
      ],
      "metadata": {
        "colab": {
          "base_uri": "https://localhost:8080/"
        },
        "id": "ocuVadhnyni1",
        "outputId": "7fcfb2d8-43cb-49f1-8a39-fb4132cdaf74"
      },
      "execution_count": null,
      "outputs": [
        {
          "output_type": "stream",
          "name": "stdout",
          "text": [
            "x is 5.551115123125783e-17\n",
            "<class 'float'>\n",
            "0.0\n"
          ]
        }
      ]
    },
    {
      "cell_type": "code",
      "source": [
        "# Bool type\n",
        "x = 7 > 5 # Returns false for 0, none and '' else it returns true\n",
        "print(f'x is {x}')\n",
        "print(type(x))\n",
        "\n",
        "if x:\n",
        "  print('True')\n",
        "else:\n",
        "  print(\"false\")"
      ],
      "metadata": {
        "colab": {
          "base_uri": "https://localhost:8080/"
        },
        "id": "_yGhpZC0zXxq",
        "outputId": "4438f339-aa3a-4902-a415-82ab156aff29"
      },
      "execution_count": null,
      "outputs": [
        {
          "output_type": "stream",
          "name": "stdout",
          "text": [
            "x is True\n",
            "<class 'bool'>\n",
            "True\n"
          ]
        }
      ]
    },
    {
      "cell_type": "code",
      "source": [
        "# Sequence types\n",
        "x = [1,2,3,4,5] # list\n",
        "x[2] = 12 # Reassign value\n",
        "for i in x:\n",
        "  print(i)\n",
        "print()\n",
        "\n",
        "\n",
        "x = (1,'two',3,4,5) # Tuple\n",
        "#x[2] = 12 # Can't Reassign value in tuple - immutable\n",
        "print(type(x))\n",
        "print(type(x[1]))\n",
        "print(id(x[0]))\n",
        "\n",
        "# VERY IMPORTANT\n",
        "if(type(x) == 'tuple'):\n",
        "  print('yes')\n",
        "else:\n",
        "  print('no')\n",
        "\n",
        "if(isinstance(x,tuple)):\n",
        "  print('yes')\n",
        "else:\n",
        "  print('no')\n",
        "for i in x:\n",
        "  print(i)\n",
        "print()\n",
        "\n",
        "\n",
        "x = range(5,50,5) \n",
        "print(type(x))\n",
        "# If range(10) - then it is just end, considering start is 0\n",
        "# If range(5,10) - 5 is start, 10 is end\n",
        "# If range(5,50,5) - start at 5, end at 10 and step value of 5\n",
        "# Range is also immutable like tuple\n",
        "for i in x:\n",
        "  print(i)\n",
        "print()\n",
        "\n",
        "\n",
        "x = {'one':1, 'two':2 , 'three':3 , 'four':4} # Dictionary - Mutable\n",
        "print(type(x))\n",
        "x['three']= 12\n",
        "for k,v in x.items():\n",
        "  print(f'k:{k}, v: {v}')"
      ],
      "metadata": {
        "colab": {
          "base_uri": "https://localhost:8080/"
        },
        "id": "zAypPZq20a1Q",
        "outputId": "c3ba8dc9-c366-48a0-de76-84103361fb3b"
      },
      "execution_count": null,
      "outputs": [
        {
          "output_type": "stream",
          "name": "stdout",
          "text": [
            "1\n",
            "2\n",
            "12\n",
            "4\n",
            "5\n",
            "\n",
            "<class 'tuple'>\n",
            "<class 'str'>\n",
            "9793088\n",
            "no\n",
            "yes\n",
            "1\n",
            "two\n",
            "3\n",
            "4\n",
            "5\n",
            "\n",
            "<class 'range'>\n",
            "5\n",
            "10\n",
            "15\n",
            "20\n",
            "25\n",
            "30\n",
            "35\n",
            "40\n",
            "45\n",
            "\n",
            "<class 'dict'>\n",
            "k:one, v: 1\n",
            "k:two, v: 2\n",
            "k:three, v: 12\n",
            "k:four, v: 4\n"
          ]
        }
      ]
    },
    {
      "cell_type": "code",
      "source": [
        "# Practice \n",
        "t = [0,'1','2',3]\n",
        "t[1] = 2\n",
        "for i in t:\n",
        "  print(i)\n",
        "  print(type(i))\n",
        "\n",
        "a = (0,'1',2,1)\n",
        "b = ('0',1,'2','1')\n",
        "if a[1]==b[1]:\n",
        "  print('yes')\n",
        "\n",
        "x='{1} {0}'.format('a','b')\n",
        "y=f'{\"b\"} {\"a\"}'\n",
        "print(x)\n",
        "print(y)"
      ],
      "metadata": {
        "colab": {
          "base_uri": "https://localhost:8080/"
        },
        "id": "oZobciJu5Q91",
        "outputId": "5ec64782-5831-4a6b-f29e-3a4c2ba0c3ad"
      },
      "execution_count": null,
      "outputs": [
        {
          "output_type": "stream",
          "name": "stdout",
          "text": [
            "0\n",
            "<class 'int'>\n",
            "2\n",
            "<class 'int'>\n",
            "2\n",
            "<class 'str'>\n",
            "3\n",
            "<class 'int'>\n",
            "b a\n",
            "b a\n"
          ]
        }
      ]
    },
    {
      "cell_type": "markdown",
      "source": [
        "### Operators"
      ],
      "metadata": {
        "id": "MEhYLJpmgDon"
      }
    },
    {
      "cell_type": "code",
      "source": [
        "# Arithematic operations\n",
        "x = 10\n",
        "y = 3\n",
        "a = x + y\n",
        "b = y - x\n",
        "c = x * y\n",
        "d = x / y # Float values\n",
        "e = x // y # Integer division\n",
        "f = x % y\n",
        "g = -x\n",
        "h = +g\n",
        "print(a)\n",
        "print(b)\n",
        "print(c)\n",
        "print(d)\n",
        "print(e)\n",
        "# print(f)\n",
        "# print(g)\n",
        "# print(h)"
      ],
      "metadata": {
        "id": "cO-0jCxG7eux",
        "colab": {
          "base_uri": "https://localhost:8080/"
        },
        "outputId": "bdec10bd-1612-431f-c341-c4279cafd163"
      },
      "execution_count": null,
      "outputs": [
        {
          "output_type": "stream",
          "name": "stdout",
          "text": [
            "13\n",
            "-7\n",
            "30\n",
            "3.3333333333333335\n",
            "3\n"
          ]
        }
      ]
    },
    {
      "cell_type": "code",
      "source": [
        "# Bitwise operator: &, |, ^, <<, >>\n",
        "# An exclusive OR (XoR) operator will only be true if one of the inputs is true, so applying this operator on two identical inputs will always be 0.\n",
        "x = 0x0a\n",
        "y = 0x02\n",
        "z = x & y\n",
        "a = x | y\n",
        "b = x ^ y\n",
        "c = x << y\n",
        "d = x >> y\n",
        "print(f'hex x is {x:01x}, y is {y:02x} and z is {z:03x}')\n",
        "print(f'Binary x is {x:08b}, y is {y:08b} and z is {z:08b}')\n",
        "print(f'Binary a is {a:08b}, Hex a is {a:02x}')\n",
        "print(f'Binary b is {b:08b}, Hex b is {b:02x}')\n",
        "print(f'Binary c is {c:08b}, Hex c is {c:02x}')\n",
        "print(f'Binary d is {d:08b}, Hex c is {d:02x}')\n"
      ],
      "metadata": {
        "colab": {
          "base_uri": "https://localhost:8080/"
        },
        "id": "_jn97JYrg71z",
        "outputId": "86657f98-9a22-4fb3-8ee7-044cca8b4113"
      },
      "execution_count": null,
      "outputs": [
        {
          "output_type": "stream",
          "name": "stdout",
          "text": [
            "hex x is a, y is 02 and z is 002\n",
            "Binary x is 00001010, y is 00000010 and z is 00000010\n",
            "Binary a is 00001010, Hex a is 0a\n",
            "Binary b is 00001000, Hex b is 08\n",
            "Binary c is 00101000, Hex c is 28\n",
            "Binary d is 00000010, Hex c is 02\n"
          ]
        }
      ]
    },
    {
      "cell_type": "code",
      "source": [
        "# Comparison operator: <, >, <=, >=, ==, !=\n",
        "# Boolean operators: and, or, notin, not in , is, is not\n",
        "a = True\n",
        "b = False\n",
        "x = ('a','b','c','d')\n",
        "y = ['a','b','c','d']\n",
        "z = 'a'\n",
        "\n",
        "if a and b: # or, not\n",
        "  print('If condition is true')\n",
        "else:\n",
        "  print('If condition is false')\n",
        "\n",
        "if 'a' in y: #Can also be written as 'z in y' or 'z is y[0]/x[0]' \n",
        "  print('Available')\n",
        "else:\n",
        "  print('Unavailable') \n",
        "\n"
      ],
      "metadata": {
        "colab": {
          "base_uri": "https://localhost:8080/"
        },
        "id": "P1DZPW4uj1Ft",
        "outputId": "1f0a578e-b450-43c8-d187-1d94f9a50d03"
      },
      "execution_count": null,
      "outputs": [
        {
          "output_type": "stream",
          "name": "stdout",
          "text": [
            "If condition is false\n",
            "Available\n"
          ]
        }
      ]
    },
    {
      "cell_type": "markdown",
      "source": [
        "### Condition Statement"
      ],
      "metadata": {
        "id": "JQDmCDj9eTmC"
      }
    },
    {
      "cell_type": "code",
      "source": [
        "# Blocks do not define scope. Blocks are indicated by indentation \n",
        "x = 3\n",
        "y = 5\n",
        "\n",
        "if x < y: # Colon indicated end of indentation\n",
        "  z = 712\n",
        "  print(f'Sukhi Bday {x} month, {y} day')\n",
        "elif x == y: # It always require condition\n",
        "  print('Yes, wrong input')\n",
        "else:\n",
        "  print('Ashika is the best')\n",
        "\n",
        "print(f'Ashika Bday {z}') # Even if variable defined within the block, it is accessible outside the block."
      ],
      "metadata": {
        "colab": {
          "base_uri": "https://localhost:8080/"
        },
        "id": "q51_Irqn3oF0",
        "outputId": "f6d9ff54-cae2-42c1-b188-1364d2e01f02"
      },
      "execution_count": null,
      "outputs": [
        {
          "output_type": "stream",
          "name": "stdout",
          "text": [
            "Sukhi Bday 3 month, 5 day\n",
            "Ashika Bday 712\n"
          ]
        }
      ]
    },
    {
      "cell_type": "code",
      "source": [
        "# Conditional statements\n",
        "# Comparison operators: == , != , <, >, <=, >=\n",
        "# Logical operators: and, or, not\n",
        "# Identity operator: \"x is y\" (true if same object) and \"x is not y\" (true if not same object)\n",
        "# Membership operator: \"x in y\" (true if x is a member of collection y) and \"x not in y\" (true if x is not a member of collection y)\n",
        "x = 5 # Can be used like switch statement\n",
        "if x==1:\n",
        "  print('1')\n",
        "elif x==2:\n",
        "  print('2')\n",
        "elif x==3:\n",
        "  print('3')\n",
        "elif x==4:\n",
        "  print('4')\n",
        "else:\n",
        "  print(x)\n",
        "\n",
        "#Ternary condition operator\n",
        "# Doesnot work without else clause\n",
        "hungry = True\n",
        "x = 'Feed the bear now!' if hungry else 'Do not feed the bear'\n",
        "print(x)"
      ],
      "metadata": {
        "colab": {
          "base_uri": "https://localhost:8080/"
        },
        "id": "9QxpjNYtf3Sh",
        "outputId": "3b4ad965-3e4b-4f45-aa23-435021d9e155"
      },
      "execution_count": null,
      "outputs": [
        {
          "output_type": "stream",
          "name": "stdout",
          "text": [
            "5\n",
            "Feed the bear now!\n"
          ]
        }
      ]
    },
    {
      "cell_type": "code",
      "source": [
        "x = 3\n",
        "y = 5\n",
        "# Works like a ternary operator\n",
        "w = x if x<1 else y\n",
        "print(w)"
      ],
      "metadata": {
        "colab": {
          "base_uri": "https://localhost:8080/"
        },
        "id": "TMOny8LQeX5h",
        "outputId": "cf72a231-cbd2-4603-8dd7-679c61bef82f"
      },
      "execution_count": null,
      "outputs": [
        {
          "output_type": "stream",
          "name": "stdout",
          "text": [
            "5\n"
          ]
        }
      ]
    },
    {
      "cell_type": "markdown",
      "source": [
        "### Loops"
      ],
      "metadata": {
        "id": "tBjmu_eSeZtb"
      }
    },
    {
      "cell_type": "code",
      "source": [
        "# While Loop\n",
        "words = ['one','two','three','four','five']\n",
        "n=0\n",
        "while(n<5):\n",
        "  print(words[n])\n",
        "  n = n+1"
      ],
      "metadata": {
        "colab": {
          "base_uri": "https://localhost:8080/"
        },
        "id": "eyz86cHi4YhT",
        "outputId": "9ef3990f-e7aa-4ce7-912d-9d2b21fa7524"
      },
      "execution_count": null,
      "outputs": [
        {
          "output_type": "stream",
          "name": "stdout",
          "text": [
            "one\n",
            "two\n",
            "three\n",
            "four\n",
            "five\n"
          ]
        }
      ]
    },
    {
      "cell_type": "code",
      "source": [
        "# For loop\n",
        "print(\"Looping through an array \\n\")\n",
        "a = [1,2,3]\n",
        "for i in range(0,len(a)):\n",
        "  print(a[i])\n",
        "print()\n",
        "\n",
        "for i in range(len(a)):\n",
        "  print(a[i])\n",
        "print()\n",
        "\n",
        "for i in range(0,3):\n",
        "  print(a[i])\n",
        "print()\n",
        "\n",
        "for i in a:\n",
        "  print(i)\n",
        "print()\n",
        "\n",
        "w = ['one','two','three']\n",
        "for i in w:\n",
        "  print(i)\n",
        "print()\n",
        "\n",
        "# For dictionary\n",
        "print(\"Looping through Dictionary:\\n\")\n",
        "\n",
        "statesAndCapitals = {\n",
        "    'Gujarat': 'Gandhinagar',\n",
        "    'Maharashtra': 'Mumbai',\n",
        "    'Rajasthan': 'Jaipur',\n",
        "    'Bihar': 'Patna'\n",
        "}\n",
        " \n",
        "print('List Of given states and their capitals:')\n",
        " \n",
        "for state, capital in statesAndCapitals.items():\n",
        "    print(state, \":\", capital)\n",
        "\n",
        "print(\"\\nPrinting index, key, value: \")\n",
        "\n",
        "d = {1: 'a', 2: 'b'}\n",
        "for index,key in enumerate(d):\n",
        "  print(index,key,d[key])\n",
        "\n",
        "\n",
        "print(\"\\nLooping through tuple: \")\n",
        "# Tuple\n",
        "a = tuple([\n",
        "    (\"hello\", 5), \n",
        "    (\"world\", 25), \n",
        "    (\"computer\", 125), \n",
        "    (\"science\", 625), \n",
        "    (\"python\", 3125)\n",
        "])\n",
        "\n",
        "\n",
        "for x, y in a:\n",
        "    print(f\"{x}: {y}\")"
      ],
      "metadata": {
        "colab": {
          "base_uri": "https://localhost:8080/"
        },
        "id": "-VNvoIHnZmjY",
        "outputId": "ff7fe824-9f53-4eab-f3ef-7f496f9a9f34"
      },
      "execution_count": null,
      "outputs": [
        {
          "output_type": "stream",
          "name": "stdout",
          "text": [
            "Looping through an array \n",
            "\n",
            "1\n",
            "2\n",
            "3\n",
            "\n",
            "1\n",
            "2\n",
            "3\n",
            "\n",
            "1\n",
            "2\n",
            "3\n",
            "\n",
            "1\n",
            "2\n",
            "3\n",
            "\n",
            "one\n",
            "two\n",
            "three\n",
            "\n",
            "Looping through Dictionary:\n",
            "\n",
            "List Of given states and their capitals:\n",
            "Gujarat : Gandhinagar\n",
            "Maharashtra : Mumbai\n",
            "Rajasthan : Jaipur\n",
            "Bihar : Patna\n",
            "\n",
            "Printing index, key, value: \n",
            "0 1 a\n",
            "1 2 b\n",
            "\n",
            "Looping through tuple: \n",
            "hello: 5\n",
            "world: 25\n",
            "computer: 125\n",
            "science: 625\n",
            "python: 3125\n"
          ]
        }
      ]
    },
    {
      "cell_type": "code",
      "source": [
        "# List Comprehension\n",
        "from math import pi\n",
        "seq = range(11)\n",
        "seq2 = [x*2 for x in seq]\n",
        "seq3 = [(x,x*2) for x in seq] #foreach\n",
        "seq4 = [round(pi,x) for x in seq]\n",
        "seq5 = {x:x*2 for x in seq}\n",
        "seq6 = [x for x in 'superduper' if x not in 'pd']\n",
        "print(seq)\n",
        "print(seq2)\n",
        "print(seq3)\n",
        "print(seq4)\n",
        "print(seq5)\n",
        "print(seq6)"
      ],
      "metadata": {
        "colab": {
          "base_uri": "https://localhost:8080/"
        },
        "id": "TWcdACZghxwj",
        "outputId": "5eb74036-796f-433b-8694-5c877d4d8053"
      },
      "execution_count": null,
      "outputs": [
        {
          "output_type": "stream",
          "name": "stdout",
          "text": [
            "range(0, 11)\n",
            "[0, 2, 4, 6, 8, 10, 12, 14, 16, 18, 20]\n",
            "[(0, 0), (1, 2), (2, 4), (3, 6), (4, 8), (5, 10), (6, 12), (7, 14), (8, 16), (9, 18), (10, 20)]\n",
            "[3.0, 3.1, 3.14, 3.142, 3.1416, 3.14159, 3.141593, 3.1415927, 3.14159265, 3.141592654, 3.1415926536]\n",
            "{0: 0, 1: 2, 2: 4, 3: 6, 4: 8, 5: 10, 6: 12, 7: 14, 8: 16, 9: 18, 10: 20}\n",
            "['s', 'u', 'e', 'r', 'u', 'e', 'r']\n"
          ]
        }
      ]
    },
    {
      "cell_type": "markdown",
      "source": [
        "### Functions"
      ],
      "metadata": {
        "id": "ImHL3VwdfQyb"
      }
    },
    {
      "cell_type": "code",
      "source": [
        "# Functions\n",
        "# When a return value is not specified explicitly, a python function returns a none value\n",
        "def funcs(n):\n",
        "  print(n)\n",
        "funcs(305)\n",
        "\n",
        "def func(n=1):\n",
        "  print(n)\n",
        "func()\n",
        "func(10)"
      ],
      "metadata": {
        "colab": {
          "base_uri": "https://localhost:8080/"
        },
        "id": "sPvQVUYqadXh",
        "outputId": "19c719d2-beba-4fa4-a312-5828f6a52762"
      },
      "execution_count": null,
      "outputs": [
        {
          "output_type": "stream",
          "name": "stdout",
          "text": [
            "305\n",
            "1\n",
            "10\n"
          ]
        }
      ]
    },
    {
      "cell_type": "code",
      "source": [
        "# Functions\n",
        "# prime numbers\n",
        "def isprime(n):\n",
        "  if n<=1:\n",
        "    return False\n",
        "  for x in range(2,n): # looping through 2 to n as 1 is neither prime nor composite number\n",
        "    if n % x ==0:\n",
        "      return False\n",
        "  else:\n",
        "    return True\n",
        "\n",
        "def list_prime():\n",
        "  for n in range(100):\n",
        "    if isprime(n):\n",
        "      print(n,end=' ',flush=True)\n",
        "\n",
        "list_prime()\n",
        "\n",
        "a=5\n",
        "if isprime(a):\n",
        "  print('Prime')\n",
        "else:\n",
        "  print('Not prime')"
      ],
      "metadata": {
        "colab": {
          "base_uri": "https://localhost:8080/"
        },
        "id": "lUpfMcTbaxei",
        "outputId": "7e21cecd-f3ed-46f1-e71e-ab100cacb6b1"
      },
      "execution_count": null,
      "outputs": [
        {
          "output_type": "stream",
          "name": "stdout",
          "text": [
            "2 3 5 7 11 13 17 19 23 29 31 37 41 43 47 53 59 61 67 71 73 79 83 89 97 Prime\n"
          ]
        }
      ]
    },
    {
      "cell_type": "code",
      "source": [
        "def F1(f):\n",
        "    print('A')\n",
        "    def F2():\n",
        "        print('B')\n",
        "        f()\n",
        "        print('C')\n",
        "    print('D')\n",
        "    return F2\n",
        "@F1\n",
        "def F3():\n",
        "    print('E')\n",
        "F3()"
      ],
      "metadata": {
        "colab": {
          "base_uri": "https://localhost:8080/"
        },
        "id": "ZfjeFPa7hOYO",
        "outputId": "d5044140-2099-4b40-d931-bcfd8197262b"
      },
      "execution_count": null,
      "outputs": [
        {
          "output_type": "stream",
          "name": "stdout",
          "text": [
            "A\n",
            "D\n",
            "B\n",
            "E\n",
            "C\n"
          ]
        }
      ]
    },
    {
      "cell_type": "markdown",
      "source": [
        "### Class"
      ],
      "metadata": {
        "id": "RPJlSFvMfTDt"
      }
    },
    {
      "cell_type": "code",
      "source": [
        "# Classes\n",
        "class D:\n",
        "  sound = 'Quackssss'\n",
        "  walking = 'walking'\n",
        "\n",
        "  def quack(self):\n",
        "    print('Quack!')\n",
        "    print(self.sound)\n",
        "  def walk(self):\n",
        "    print('Walks')\n",
        "    print(self.walking)\n",
        "\n",
        "def main():\n",
        "  do = D()# do is an object of class D\n",
        "  do.quack()\n",
        "  do.walk()\n",
        "\n",
        "if __name__ == '__main__':main()"
      ],
      "metadata": {
        "colab": {
          "base_uri": "https://localhost:8080/"
        },
        "id": "tRwiTxo3b8zR",
        "outputId": "6ed7bde3-ed40-4ebb-a36f-bfa6a9244b2a"
      },
      "execution_count": null,
      "outputs": [
        {
          "output_type": "stream",
          "name": "stdout",
          "text": [
            "Quack!\n",
            "Quackssss\n",
            "Walks\n",
            "walking\n"
          ]
        }
      ]
    },
    {
      "cell_type": "code",
      "source": [
        "class ash : \n",
        "  suk = 1 # Static element \n",
        "  def __init__(self, num) :\n",
        "    self.data = num\n",
        "\n",
        "a1 = ash(2)\n",
        "a2 = ash(4)\n",
        "\n",
        "print(a1.data)\n",
        "print(a2.data)\n",
        "print(a1.suk)\n",
        "print(a2.suk)\n",
        "ash.suk = 2 # If value of static element is updated by parent class, child nodes static elements value will also be changed\n",
        "print(a2.suk)"
      ],
      "metadata": {
        "colab": {
          "base_uri": "https://localhost:8080/"
        },
        "id": "YXgxxBR2gVve",
        "outputId": "fa46de0b-87b9-4ae1-dc77-5b20c07a0c91"
      },
      "execution_count": null,
      "outputs": [
        {
          "output_type": "stream",
          "name": "stdout",
          "text": [
            "2\n",
            "4\n",
            "1\n",
            "1\n",
            "2\n"
          ]
        }
      ]
    },
    {
      "cell_type": "code",
      "source": [
        "# Types and Values\n",
        "x=7\n",
        "y= True\n",
        "z = None\n",
        "\n",
        "print(f'x in {x}')\n",
        "print(f'y in {y}')\n",
        "print(f'z in {z}')\n",
        "\n",
        "print(type(x))\n",
        "print(type(y))\n",
        "print(type(z))\n"
      ],
      "metadata": {
        "colab": {
          "base_uri": "https://localhost:8080/"
        },
        "id": "k_RavcRXdrJF",
        "outputId": "57000298-b935-4835-de8a-d17fe2d0715e"
      },
      "execution_count": null,
      "outputs": [
        {
          "output_type": "stream",
          "name": "stdout",
          "text": [
            "x in 7\n",
            "y in True\n",
            "z in None\n",
            "<class 'int'>\n",
            "<class 'bool'>\n",
            "<class 'NoneType'>\n"
          ]
        }
      ]
    },
    {
      "cell_type": "markdown",
      "source": [
        "### Argv and kwargs"
      ],
      "metadata": {
        "id": "4xdP4llgeon2"
      }
    },
    {
      "cell_type": "code",
      "source": [
        "# https://www.geeksforgeeks.org/args-kwargs-python/\n",
        "# Python program to illustrate\n",
        "# *args with first extra argument\n",
        "def myFun(arg1, *argv):\n",
        "    print (\"First argument :\", arg1)\n",
        "    print(\"Rest of the arguments(can be unknown(n) number): \",argv)\n",
        "    for arg in argv:\n",
        "        print(\"Next argument through *argv :\", arg)\n",
        " \n",
        "myFun('Hello', 'I\\'m', 'Ashika', 'Sukhesh Makam')"
      ],
      "metadata": {
        "colab": {
          "base_uri": "https://localhost:8080/"
        },
        "id": "EbMQ6DG4bJM5",
        "outputId": "e6d5e2c5-13e7-4797-aeb0-abba2a4a9467"
      },
      "execution_count": null,
      "outputs": [
        {
          "output_type": "stream",
          "name": "stdout",
          "text": [
            "First argument : Hello\n",
            "Rest of the arguments(can be unknown(n) number):  (\"I'm\", 'Ashika', 'Sukhesh Makam')\n",
            "Next argument through *argv : I'm\n",
            "Next argument through *argv : Ashika\n",
            "Next argument through *argv : Sukhesh Makam\n"
          ]
        }
      ]
    },
    {
      "cell_type": "code",
      "source": [
        "# Python program to illustrate  **kwargs for\n",
        "# variable number of keyword arguments with\n",
        "# one extra argument.\n",
        " \n",
        "def myFun(arg1, **kwargs):\n",
        "    print(\"First Argument: \",arg1)\n",
        "    print(\"Kwargs is like a dictionary (key:value) pair= \",kwargs)\n",
        "    for key, value in kwargs.items():\n",
        "        print (\"%s : %s\" %(key, value))\n",
        " \n",
        "# Driver code\n",
        "myFun(\"Hi\", first ='Ashika', mid ='Sukhesh', last='Makam') "
      ],
      "metadata": {
        "colab": {
          "base_uri": "https://localhost:8080/"
        },
        "id": "woQqV6dobax0",
        "outputId": "7ea18035-2975-4a37-cbc7-b1b5b84195a4"
      },
      "execution_count": null,
      "outputs": [
        {
          "output_type": "stream",
          "name": "stdout",
          "text": [
            "First Argument:  Hi\n",
            "Kwargs is like a dictionary (key:value) pair=  {'first': 'Ashika', 'mid': 'Sukhesh', 'last': 'Makam'}\n",
            "first : Ashika\n",
            "mid : Sukhesh\n",
            "last : Makam\n"
          ]
        }
      ]
    },
    {
      "cell_type": "code",
      "source": [
        "# Having *args and **kwargs in the same function\n",
        "def newFunc(*args, **kwargs):\n",
        "  print(\"*args are: \", args)\n",
        "  print(\"**kwargs are: \", kwargs)\n",
        "  # You can also obtain in for loop\n",
        "  for arg in args:\n",
        "    print(\"Single element in args: \",arg)\n",
        "  print(\"Key:value pair in kwargs are: \")\n",
        "  for key,value in kwargs.items():\n",
        "    print(f'{key} : {value}')\n",
        "newFunc('x','y','z','a',first ='Ashika', mid ='Sukhesh', last='Makam')"
      ],
      "metadata": {
        "colab": {
          "base_uri": "https://localhost:8080/"
        },
        "id": "dLeNvZDWciGq",
        "outputId": "8a589371-bec0-4966-d1da-1061e26e1b50"
      },
      "execution_count": null,
      "outputs": [
        {
          "output_type": "stream",
          "name": "stdout",
          "text": [
            "*args are:  ('x', 'y', 'z', 'a')\n",
            "**kwargs are:  {'first': 'Ashika', 'mid': 'Sukhesh', 'last': 'Makam'}\n",
            "Single element in args:  x\n",
            "Single element in args:  y\n",
            "Single element in args:  z\n",
            "Single element in args:  a\n",
            "Key:value pair in kwargs are: \n",
            "first : Ashika\n",
            "mid : Sukhesh\n",
            "last : Makam\n"
          ]
        }
      ]
    },
    {
      "cell_type": "markdown",
      "source": [
        "### Decorators"
      ],
      "metadata": {
        "id": "EEB4bFqvewC0"
      }
    },
    {
      "cell_type": "code",
      "source": [
        "# https://www.programiz.com/python-programming/decorator\n",
        "# Understanding Decorators\n",
        "\n",
        "def first(msg):\n",
        "    msg = str.upper(msg)\n",
        "    print(msg)\n",
        "\n",
        "\n",
        "first(\"Hello\")\n",
        "\n",
        "second = first\n",
        "second(\"Hello\")\n",
        "\n",
        "\n",
        "# Functions taking another function as an argument\n",
        "def inc(x):\n",
        "    return x + 1\n",
        "\n",
        "\n",
        "def dec(x):\n",
        "    return x - 1\n",
        "\n",
        "\n",
        "def operate(func, x):\n",
        "    result = func(x)\n",
        "    return result\n",
        "\n",
        "print(\"Increment: \",operate(inc,4))\n",
        "print(\"Decrement: \",operate(dec,4))\n",
        "\n",
        "# A function can return another function\n",
        "def is_called():\n",
        "    def is_returned(x):\n",
        "        print(f'Inside {x}')\n",
        "    print(\"Outside \")\n",
        "    print(is_returned)\n",
        "    return is_returned\n",
        "\n",
        "\n",
        "new = is_called() # Pointing to is_returned function\n",
        "print('Calling is_called function')\n",
        "print(new)\n",
        "# Outputs \"Hello\"\n",
        "new('Ashika')\n",
        "\n",
        "# print('\\n')\n",
        "# print(is_called()('Ashika'))"
      ],
      "metadata": {
        "colab": {
          "base_uri": "https://localhost:8080/"
        },
        "id": "dogfvg8JfDyg",
        "outputId": "16df9159-f2a3-48e6-a378-460be02cfdcd"
      },
      "execution_count": null,
      "outputs": [
        {
          "output_type": "stream",
          "name": "stdout",
          "text": [
            "HELLO\n",
            "HELLO\n",
            "Increment:  5\n",
            "Decrement:  3\n",
            "Outside \n",
            "<function is_called.<locals>.is_returned at 0x7f09a2a87820>\n",
            "Calling is_called function\n",
            "<function is_called.<locals>.is_returned at 0x7f09a2a87820>\n",
            "Inside Ashika\n"
          ]
        }
      ]
    },
    {
      "cell_type": "code",
      "source": [
        "# A Decorator is a callable that returns a callable\n",
        "# A decorator takes in a function, adds some functionality and returns it\n",
        "def make_pretty(func):\n",
        "    def inner():\n",
        "        print(\"I got decorated\")\n",
        "        func()\n",
        "    return inner\n",
        "\n",
        "\n",
        "def ordinary():\n",
        "    print(\"I am ordinary\")\n",
        "\n",
        "# Here, make_pretty is the decorator function\n",
        "x = make_pretty(ordinary)\n",
        "x()"
      ],
      "metadata": {
        "colab": {
          "base_uri": "https://localhost:8080/"
        },
        "id": "ToSghepsjBSv",
        "outputId": "8bbaf7c8-6515-4a3e-cf04-f094a2872aee"
      },
      "execution_count": null,
      "outputs": [
        {
          "output_type": "stream",
          "name": "stdout",
          "text": [
            "I got decorated\n",
            "I am ordinary\n"
          ]
        }
      ]
    },
    {
      "cell_type": "code",
      "source": [
        "# Using the same make_pretty function above\n",
        "@make_pretty\n",
        "def ordinary():\n",
        "    print(\"I am ordinary\")\n",
        "\n",
        "# Equivalent to:\n",
        "# def ordinary():\n",
        "#     print(\"I am ordinary\")\n",
        "# ordinary = make_pretty(ordinary)\n",
        "\n",
        "\n",
        "ordinary()"
      ],
      "metadata": {
        "colab": {
          "base_uri": "https://localhost:8080/"
        },
        "id": "QZ_Qdrd5kXzH",
        "outputId": "e9d6974d-2e80-4561-cf79-f222e8240bba"
      },
      "execution_count": null,
      "outputs": [
        {
          "output_type": "stream",
          "name": "stdout",
          "text": [
            "I got decorated\n",
            "I am ordinary\n"
          ]
        }
      ]
    },
    {
      "cell_type": "code",
      "source": [
        "# Decorator with *args and **kwargs\n",
        "def star(func):\n",
        "    def inner(*args, **kwargs):\n",
        "        print(\"*\" * 25)\n",
        "        func(*args, **kwargs)\n",
        "        print(\"*\" * 30)\n",
        "    return inner\n",
        "\n",
        "\n",
        "def percent(func):\n",
        "    def inner(*args, **kwargs):\n",
        "        print(\"%\" * 15)\n",
        "        func(*args, **kwargs)\n",
        "        print(\"%\" * 30)\n",
        "    return inner\n",
        "\n",
        "\n",
        "@star\n",
        "@percent\n",
        "def printer(msg):\n",
        "    print(msg)\n",
        "\n",
        "\n",
        "printer(\"Ashika Makam\")"
      ],
      "metadata": {
        "colab": {
          "base_uri": "https://localhost:8080/"
        },
        "id": "oCPnYvA3lANh",
        "outputId": "ac0f8ae1-970f-43c6-fd2b-5df96f3a9851"
      },
      "execution_count": null,
      "outputs": [
        {
          "output_type": "stream",
          "name": "stdout",
          "text": [
            "*************************\n",
            "%%%%%%%%%%%%%%%\n",
            "Ashika Makam\n",
            "%%%%%%%%%%%%%%%%%%%%%%%%%%%%%%\n",
            "******************************\n"
          ]
        }
      ]
    },
    {
      "cell_type": "markdown",
      "source": [
        "### Collection"
      ],
      "metadata": {
        "id": "C5RNijyIfGIq"
      }
    },
    {
      "cell_type": "code",
      "source": [
        "# Counter in Collections\n",
        "# https://pymotw.com/2/collections/counter.html\n",
        "from collections import Counter\n",
        "myList = ['a','b','b','c','c','c','d','d','d','d']\n",
        "x = Counter(myList)\n",
        "print(Counter(myList))\n",
        "print(\"Keys: \",Counter(myList).keys())\n",
        "print(\"Values: \",Counter(myList).values())\n",
        "for i in x:\n",
        "  if i=='a':\n",
        "    print(i,x[i])"
      ],
      "metadata": {
        "colab": {
          "base_uri": "https://localhost:8080/"
        },
        "id": "Lhgqiuatso7p",
        "outputId": "76ffd629-22c8-4d6e-dc2d-0ec08469d87b"
      },
      "execution_count": null,
      "outputs": [
        {
          "output_type": "stream",
          "name": "stdout",
          "text": [
            "Counter({'d': 4, 'c': 3, 'b': 2, 'a': 1})\n",
            "Keys:  dict_keys(['a', 'b', 'c', 'd'])\n",
            "Values:  dict_values([1, 2, 3, 4])\n",
            "a 1\n"
          ]
        }
      ]
    },
    {
      "cell_type": "code",
      "source": [
        "# Dictionary in Collections\n",
        "from collections import defaultdict\n",
        "myList = ['a','b','b','c','c','c','d','d','d','d']\n",
        "d = defaultdict(int)\n",
        "for i,val in enumerate(myList):\n",
        "  if val not in x:\n",
        "    d[val] = 1\n",
        "  else:\n",
        "    d[val]+=1\n",
        "print(\"Dictionary\",d)\n",
        "\n",
        "for i in d:\n",
        "  if i=='a':\n",
        "    print(i,d[i])"
      ],
      "metadata": {
        "colab": {
          "base_uri": "https://localhost:8080/"
        },
        "id": "orWVspHQuzvP",
        "outputId": "9cbd2c14-d9d4-4946-fe4f-b37a915c4a17"
      },
      "execution_count": null,
      "outputs": [
        {
          "output_type": "stream",
          "name": "stdout",
          "text": [
            "Dictionary defaultdict(<class 'int'>, {'a': 1, 'b': 2, 'c': 3, 'd': 4})\n",
            "a 1\n"
          ]
        }
      ]
    },
    {
      "cell_type": "markdown",
      "source": [
        "### ZIP"
      ],
      "metadata": {
        "id": "CYGAfI-Je82J"
      }
    },
    {
      "cell_type": "code",
      "source": [
        "# ZIP function\n",
        "languages = ['Java', 'Python', 'JavaScript']\n",
        "versions = [14, 3, 6]\n",
        "\n",
        "result = zip(languages, versions)\n",
        "print(list(result))\n",
        "\n",
        "# Output: [('Java', 14), ('Python', 3), ('JavaScript', 6)]"
      ],
      "metadata": {
        "colab": {
          "base_uri": "https://localhost:8080/"
        },
        "id": "yNvb2kHDVtFp",
        "outputId": "c4d9875d-8097-4d8d-963d-c001d73f115e"
      },
      "execution_count": null,
      "outputs": [
        {
          "output_type": "stream",
          "name": "stdout",
          "text": [
            "[('Java', 14), ('Python', 3), ('JavaScript', 6)]\n"
          ]
        }
      ]
    },
    {
      "cell_type": "code",
      "source": [
        "numbersList = [1, 2, 3]\n",
        "str_list = ['one', 'two']\n",
        "numbers_tuple = ('ONE', 'TWO', 'THREE', 'FOUR')\n",
        "\n",
        "# Notice, the size of numbersList and numbers_tuple is different\n",
        "result = zip(numbersList, numbers_tuple)\n",
        "print(list(result))\n"
      ],
      "metadata": {
        "colab": {
          "base_uri": "https://localhost:8080/"
        },
        "id": "_fiRmnKEg4gh",
        "outputId": "4a1a4fff-3546-4648-b7bb-2936ff7f5ffb"
      },
      "execution_count": null,
      "outputs": [
        {
          "output_type": "stream",
          "name": "stdout",
          "text": [
            "[(1, 'ONE'), (2, 'TWO'), (3, 'THREE')]\n"
          ]
        }
      ]
    },
    {
      "cell_type": "code",
      "source": [
        "numbersList = [1, 2, 3]\n",
        "str_list = ['one', 'two']\n",
        "numbers_tuple = ('ONE', 'TWO', 'THREE', 'FOUR')\n",
        "\n",
        "# Notice, the size of numbersList and numbers_tuple is different\n",
        "result = zip(numbersList, numbers_tuple)\n",
        "\n",
        "# Converting to set\n",
        "result_set = set(result)\n",
        "print(result_set)\n",
        "\n",
        "result = zip(numbersList, str_list, numbers_tuple)\n",
        "\n",
        "# Converting to set\n",
        "result_set = set(result)\n",
        "print(result_set)"
      ],
      "metadata": {
        "colab": {
          "base_uri": "https://localhost:8080/"
        },
        "id": "qsoi9Du0hh1R",
        "outputId": "ee988ccd-13d4-432e-909e-eed2018f53ee"
      },
      "execution_count": null,
      "outputs": [
        {
          "output_type": "stream",
          "name": "stdout",
          "text": [
            "{(1, 'ONE'), (3, 'THREE'), (2, 'TWO')}\n",
            "{(2, 'two', 'TWO'), (1, 'one', 'ONE')}\n"
          ]
        }
      ]
    },
    {
      "cell_type": "code",
      "source": [
        "# UN-ZIP\n",
        "coordinate = ['x', 'y', 'z']\n",
        "value = [3, 4, 5]\n",
        "\n",
        "result = zip(coordinate, value)\n",
        "result_list = list(result)\n",
        "print(result_list)\n",
        "\n",
        "c, v =  zip(*result_list)\n",
        "print('c =', c)\n",
        "print('v =', v)"
      ],
      "metadata": {
        "id": "wQI3cEvkhtMW",
        "outputId": "7c3c5125-a50d-4c77-93b1-899b150311fb",
        "colab": {
          "base_uri": "https://localhost:8080/"
        }
      },
      "execution_count": null,
      "outputs": [
        {
          "output_type": "stream",
          "name": "stdout",
          "text": [
            "[('x', 3), ('y', 4), ('z', 5)]\n",
            "c = ('x', 'y', 'z')\n",
            "v = (3, 4, 5)\n"
          ]
        }
      ]
    },
    {
      "cell_type": "markdown",
      "source": [
        "### Sets"
      ],
      "metadata": {
        "id": "s3Ae8HHvh4ju"
      }
    },
    {
      "cell_type": "code",
      "source": [
        "# Sets can not have duplicates\n",
        "thisset = {\"apple\", \"banana\", \"cherry\", \"apple\"}\n",
        "print(thisset)\n",
        "\n",
        "#set can have different data type\n",
        "set1 = {\"abc\", 34, True, 40, \"male\"}\n",
        "print(set1)\n",
        "\n",
        "# It is also possible to use the set() constructor to make a set.\n",
        "thisset = set((\"apple\", \"banana\", \"cherry\")) # note the double round-brackets\n",
        "print(thisset)"
      ],
      "metadata": {
        "colab": {
          "base_uri": "https://localhost:8080/"
        },
        "id": "FXeaoxzNiw-I",
        "outputId": "5164eba1-bb1c-40bd-bf8a-317530a42a21"
      },
      "execution_count": null,
      "outputs": [
        {
          "output_type": "stream",
          "name": "stdout",
          "text": [
            "{'apple', 'cherry', 'banana'}\n",
            "{True, 34, 40, 'abc', 'male'}\n",
            "{'apple', 'cherry', 'banana'}\n"
          ]
        }
      ]
    },
    {
      "cell_type": "code",
      "source": [
        "x = set('hello')\n",
        "y = set('world')\n",
        "x-y"
      ],
      "metadata": {
        "colab": {
          "base_uri": "https://localhost:8080/"
        },
        "id": "rJO01_Ejr0fJ",
        "outputId": "f963e049-aa03-4b76-9a2c-34e8d8822dcf"
      },
      "execution_count": null,
      "outputs": [
        {
          "output_type": "execute_result",
          "data": {
            "text/plain": [
              "{'e', 'h'}"
            ]
          },
          "metadata": {},
          "execution_count": 70
        }
      ]
    },
    {
      "cell_type": "markdown",
      "source": [
        "### Fibonacci Algorithm"
      ],
      "metadata": {
        "id": "TdUDXXkYfKdJ"
      }
    },
    {
      "cell_type": "code",
      "source": [
        "# Fibonacci series\n",
        "x,y = 0,1 # assign x = 0 and  y=1\n",
        "while y < 1000:\n",
        "  print(y,end = ' ')\n",
        "  x,y = y,x+y #assign x = y and y=x+y simultaneously. Do no need to use another variable for storing existing values sum"
      ],
      "metadata": {
        "colab": {
          "base_uri": "https://localhost:8080/"
        },
        "id": "t-BnPg7Z65Te",
        "outputId": "6f5cad46-73ac-44bf-ebb1-f268306cea7c"
      },
      "execution_count": null,
      "outputs": [
        {
          "output_type": "stream",
          "name": "stdout",
          "text": [
            "1 1 2 3 5 8 13 21 34 55 89 144 233 377 610 987 "
          ]
        }
      ]
    },
    {
      "cell_type": "code",
      "source": [
        "# Fibonaci series easy version\n",
        "a = 0\n",
        "b = 1\n",
        "while b < 1000:\n",
        "  print(b)\n",
        "  n = a + b # use n for storing a value\n",
        "  a = b\n",
        "  b = n"
      ],
      "metadata": {
        "colab": {
          "base_uri": "https://localhost:8080/"
        },
        "id": "R0Au-Eip7Mwm",
        "outputId": "f101510c-8c89-4a91-f637-77fbc0f6cb00"
      },
      "execution_count": null,
      "outputs": [
        {
          "output_type": "stream",
          "name": "stdout",
          "text": [
            "1\n",
            "1\n",
            "2\n",
            "3\n",
            "5\n",
            "8\n",
            "13\n",
            "21\n",
            "34\n",
            "55\n",
            "89\n",
            "144\n",
            "233\n",
            "377\n",
            "610\n",
            "987\n"
          ]
        }
      ]
    },
    {
      "cell_type": "code",
      "source": [
        "# Fibonacci series recurrsion version\n",
        "def fibo(n):\n",
        "  if n in {0, 1}:\n",
        "    return n\n",
        "  return fibo(n - 1) + fibo(n - 2)\n",
        "\n",
        "[fibo(n) for n in range(17)]"
      ],
      "metadata": {
        "id": "QJi5mnXI7o7R",
        "colab": {
          "base_uri": "https://localhost:8080/"
        },
        "outputId": "c45ee5cd-32e1-4340-ce89-b6f2165b7c1e"
      },
      "execution_count": null,
      "outputs": [
        {
          "output_type": "execute_result",
          "data": {
            "text/plain": [
              "[0, 1, 1, 2, 3, 5, 8, 13, 21, 34, 55, 89, 144, 233, 377, 610, 987]"
            ]
          },
          "metadata": {},
          "execution_count": 73
        }
      ]
    },
    {
      "cell_type": "code",
      "source": [
        "# Fibonacci import\n",
        "# from fibonacci_class import Fibonacci\n",
        "\n",
        "# fibonacci_of = Fibonacci()\n",
        "# fibonacci_of(5)"
      ],
      "metadata": {
        "id": "Po4ntFu-W54Z"
      },
      "execution_count": null,
      "outputs": []
    },
    {
      "cell_type": "markdown",
      "source": [
        "### Linked List"
      ],
      "metadata": {
        "id": "16uBXEe5gGiS"
      }
    },
    {
      "cell_type": "code",
      "source": [
        "# Single Linked List\n",
        "# Single link list : add/remove an element an iterator position, first element : O(1). Add last element: O(1). Remove last element: O(n). Access element: O(n) \n",
        "\n",
        "class node:\n",
        "  def __init__(self,data=None): # constructor with \"data\" variable that has value\n",
        "    self.data = data\n",
        "    self.next = None # as default last element's next pointer is set to null\n",
        "\n",
        "class linked_list: # wrapper for the node class, user doe not interface with node class\n",
        "  def __init__(self):\n",
        "    self.head = node() # head node will not have actual data. User will not be able to access head node. Pointer to first node.\n",
        "  \n",
        "  def append(self,data): # Add first element # Add new data point to the existing list. Passing in data point\n",
        "    new_node = node(data) # Creating new node and storing data into the node\n",
        "    cur = self.head\n",
        "    while cur.next!=None:\n",
        "      cur = cur.next # Traverse through the list when we are not at the last element in the list\n",
        "    cur.next = new_node # Set to new node when next is None. Linking \"next\" of lst node to new node \n",
        "  \n",
        "  def length(self): # finding the length of list\n",
        "    cur = self.head\n",
        "    total = 0\n",
        "    while cur.next!=None:\n",
        "      total+=1\n",
        "      cur = cur.next\n",
        "    # print(total)\n",
        "    return total\n",
        "\n",
        "  \n",
        "  def display(self): # Display all elements in the linked list\n",
        "    ele = []\n",
        "    cur = self.head\n",
        "    while cur.next!=None:\n",
        "      cur = cur.next # iterating through the list by moving to the next node\n",
        "      ele.append(cur.data)\n",
        "    print(ele)\n",
        "\n",
        "  def get(self,index): # Getting the element at a specific index\n",
        "    if index >=self.length(): # Using the length function\n",
        "      print(\"ERROR: 'Get' Index out of range\" )\n",
        "      return None\n",
        "    i = 0\n",
        "    cur_node = self.head\n",
        "    while True:\n",
        "      cur_node = cur_node.next\n",
        "      if i == index:\n",
        "        return cur_node.data\n",
        "      i+=1\n",
        "\n",
        "  def erase(self,index): # Erasing/Removing the element at a specific index. Removing last element too\n",
        "    if index >=self.length(): # Using the length function\n",
        "      print(\"ERROR: 'Get' Index out of range\" )\n",
        "      return None\n",
        "    i = 0\n",
        "    cur_node = self.head\n",
        "    while True:\n",
        "      last_node = cur_node\n",
        "      cur_node = cur_node.next\n",
        "      if i == index:\n",
        "        last_node.next = cur_node.next\n",
        "        return\n",
        "      i +=1\n",
        "\n",
        "list1 = linked_list()\n",
        "list1.append(1)\n",
        "list1.append(2)\n",
        "list1.length()\n",
        "list1.display()\n",
        "\n",
        "print(list1.get(1))\n",
        "list1.erase(1)\n",
        "list1.display()"
      ],
      "metadata": {
        "id": "FX8WdQ6dnI-H",
        "colab": {
          "base_uri": "https://localhost:8080/"
        },
        "outputId": "31fabf22-5744-4b02-aefa-a08c07825822"
      },
      "execution_count": null,
      "outputs": [
        {
          "output_type": "stream",
          "name": "stdout",
          "text": [
            "[1, 2]\n",
            "2\n",
            "[1]\n"
          ]
        }
      ]
    },
    {
      "cell_type": "code",
      "source": [
        "class node:\n",
        "  def __init__(self,data=None):\n",
        "    self.data= data\n",
        "    self.next = None\n",
        "    self.prev = None\n",
        "\n",
        "class rev_list:\n",
        "  def __init__(self):\n",
        "    self.head = node()\n",
        "\n",
        "  def append(self,data):\n",
        "    new_node = node(data) # Creating new node and storing data into the node\n",
        "    # new_node.prev = None\n",
        "    cur = self.head\n",
        "    while cur.next!=None:\n",
        "      cur = cur.next # Traverse through the list when we are not at the last element in the list\n",
        "    new_node.prev = cur\n",
        "    cur.next = new_node\n",
        "  \n",
        "  def display(self):\n",
        "    ele = []\n",
        "    cur = self.head\n",
        "    while cur.next!=None:\n",
        "      cur = cur.next # iterating through the list by moving to the next node\n",
        "      ele.append(cur.data)\n",
        "    print(ele)\n",
        "\n",
        "  def drev(self,k):\n",
        "    i=0\n",
        "    cur = self.head\n",
        "    while i<k and cur.next!=None:\n",
        "      cur = cur.next\n",
        "      i+=1\n",
        "    temp = cur.next\n",
        "    cur=self.head\n",
        "    while cur.next!=temp:\n",
        "      t = cur.next \n",
        "      cur.next = cur.prev\n",
        "      cur.prev = t\n",
        "      cur = cur.prev\n",
        "    \n",
        "    \n",
        "\n",
        "\n",
        "l2 = rev_list()\n",
        "l2.append(2)\n",
        "l2.append(3)\n",
        "l2.append(4)\n",
        "l2.append(5)\n",
        "l2.append(6)\n",
        "l2.display()\n",
        "l2.drev(2)"
      ],
      "metadata": {
        "colab": {
          "base_uri": "https://localhost:8080/"
        },
        "id": "MzvisueB1XEC",
        "outputId": "756cd9bf-a924-4e7d-c2d3-ff649f58d889"
      },
      "execution_count": null,
      "outputs": [
        {
          "output_type": "stream",
          "name": "stdout",
          "text": [
            "[2, 3, 4, 5, 6]\n"
          ]
        }
      ]
    },
    {
      "cell_type": "code",
      "source": [
        "# Double Linked list\n",
        "# Double link list : add/remove an element an iterator position, first element : O(1). Add last element: O(1). Remove last element: O(1). Access element: O(n) \n",
        "class node:\n",
        "  def __init__(self,data=None):\n",
        "    self.data = data\n",
        "    self.next = None\n",
        "    self.prev = None # previous element pointer\n",
        "\n",
        "class double_linked_list:\n",
        "  def __init__(self):\n",
        "    self.head = node()\n",
        "\n",
        "  def append(self,data):\n",
        "    new_node = node(data) # Creating new node and storing data into the node\n",
        "    # new_node.prev = None\n",
        "    cur = self.head\n",
        "    while cur.next!=None:\n",
        "      cur = cur.next # Traverse through the list when we are not at the last element in the list\n",
        "    new_node.prev = cur\n",
        "    cur.next = new_node\n",
        "\n",
        "  def length(self):\n",
        "    total = 0\n",
        "    cur_node = self.head\n",
        "    while cur_node.next!=None:\n",
        "      total+=1\n",
        "      cur_node = cur_node.next\n",
        "    return total\n",
        "\n",
        "  def get(self,index):\n",
        "    if index >=self.length(): # Using the length function\n",
        "      print(\"ERROR: 'Get' Index out of range\" )\n",
        "      return None\n",
        "    i = 0\n",
        "    cur_node = self.head\n",
        "    while True:\n",
        "      cur_node = cur_node.next\n",
        "      if i == index:\n",
        "        return cur_node.data\n",
        "      i+=1\n",
        "  \n",
        "  def erase(self,index):\n",
        "    if index >=self.length(): # Using the length function\n",
        "      print(\"ERROR: 'Get' Index out of range\" )\n",
        "      return None\n",
        "    i = 0\n",
        "    cur_node = self.head\n",
        "    while True:\n",
        "      last_node = cur_node\n",
        "      cur_node = cur_node.next\n",
        "      if i == index:\n",
        "        cur_node.prev = last_node.next\n",
        "        last_node.next = cur_node.next\n",
        "        return\n",
        "      i +=1\n",
        "\n",
        "  def prepend(self,data):\n",
        "    new_node = node(data)\n",
        "    # print(new_node.data)\n",
        "    cur_node = self.head\n",
        "    # print(cur)\n",
        "    # print(cur.prev)\n",
        "    # print(new_node.next)\n",
        "    cur_node.prev = new_node\n",
        "    new_node.prev = None\n",
        "    new_node.next = self.head\n",
        "    self.head = new_node\n",
        "    # print(new_node.next)\n",
        "\n",
        "  def display(self):\n",
        "    ele = []\n",
        "    cur = self.head\n",
        "    while cur.next!=None:\n",
        "      cur = cur.next # iterating through the list by moving to the next node\n",
        "      ele.append(cur.data)\n",
        "    print(ele)\n",
        "\n",
        "\n",
        "l2 = double_linked_list()\n",
        "# l2 = append(1)\n",
        "l2.prepend(1)\n",
        "l2.append(2)\n",
        "l2.append(3)\n",
        "l2.append(4)\n",
        "l2.append(5)\n",
        "l2.append(6)\n",
        "print(l2.get(1))\n",
        "l2.display()\n",
        "l2.erase(3)\n",
        "l2.display()\n",
        "l2.display()"
      ],
      "metadata": {
        "colab": {
          "base_uri": "https://localhost:8080/"
        },
        "id": "D0zPlesNXb35",
        "outputId": "be5eb437-8297-44de-9b57-2a1321f329bc"
      },
      "execution_count": null,
      "outputs": [
        {
          "output_type": "stream",
          "name": "stdout",
          "text": [
            "2\n",
            "[None, 2, 3, 4, 5, 6]\n",
            "[None, 2, 3, 5, 6]\n",
            "[None, 2, 3, 5, 6]\n"
          ]
        }
      ]
    },
    {
      "cell_type": "code",
      "source": [
        "class node:\n",
        "  def __init__(self,data=None):\n",
        "    self.data = data\n",
        "    self.next = None\n",
        "\n",
        "class c_list:\n",
        "  def __init__(self):\n",
        "    self.head = node()\n",
        "\n",
        "  def append(self,data):\n",
        "    new_node = node(data)\n",
        "    cur = self.head\n",
        "    if cur.next != None:\n",
        "      while cur.next!=self.head:\n",
        "        cur = cur.next\n",
        "      cur.next = new_node\n",
        "      new_node.next = self.head\n",
        "    else:\n",
        "      self.head = new_node\n",
        "      new_node.next = self.head\n",
        "\n",
        "  def prepend(self,data):\n",
        "    new_node = node(data)\n",
        "    cur = self.head\n",
        "    new_node.next = self.head\n",
        "    if cur.next != None:\n",
        "      while cur.next != self.head:\n",
        "        cur = cur.next\n",
        "      cur.next = new_node\n",
        "      self.head = new_node # SEE THIS\n",
        "    else:\n",
        "      self.head = new_node\n",
        "      new_node.next = self.head\n",
        "\n",
        "  def removeInd(self,ind):\n",
        "    i = 1\n",
        "    cur = self.head\n",
        "    if ind == 0:\n",
        "      while cur.next != self.head:\n",
        "        cur = cur.next\n",
        "      cur.next = self.head.next\n",
        "      self.head = self.head.next\n",
        "    else:\n",
        "      while True:\n",
        "        last_node = cur\n",
        "        cur = cur.next\n",
        "        if i == ind:\n",
        "          last_node.next = cur.next\n",
        "          return\n",
        "        i +=1\n",
        "\n",
        "# IMPORTANT IMPORTANT IMPORTANT\n",
        "  def display(self):\n",
        "    cur = self.head\n",
        "    ele = []\n",
        "    while cur: # Different from Linked List \n",
        "      ele.append(cur.data)\n",
        "      cur = cur.next\n",
        "      if cur == self.head:\n",
        "        break\n",
        "    print(ele)\n",
        "\n",
        "c1 = c_list()\n",
        "c1.prepend(4)\n",
        "c1.append(1)\n",
        "c1.append(2)\n",
        "c1.append(3)\n",
        "c1.append(34)\n",
        "c1.append(25)\n",
        "c1.append(12)\n",
        "c1.append(15)\n",
        "c1.prepend(10)\n",
        "c1.display()\n",
        "c1.removeInd(2)\n",
        "c1.display()"
      ],
      "metadata": {
        "colab": {
          "base_uri": "https://localhost:8080/"
        },
        "id": "58eohmSL-pzt",
        "outputId": "a5746c17-6cd7-477a-dea7-d71580a25d48"
      },
      "execution_count": null,
      "outputs": [
        {
          "output_type": "stream",
          "name": "stdout",
          "text": [
            "[10, 4, 1, 2, 3, 34, 25, 12, 15]\n",
            "[10, 4, 2, 3, 34, 25, 12, 15]\n"
          ]
        }
      ]
    },
    {
      "cell_type": "markdown",
      "source": [
        "### Stack Implementation using List"
      ],
      "metadata": {
        "id": "kscXUETvgdy0"
      }
    },
    {
      "cell_type": "code",
      "source": [
        "# Stack\n",
        "# use case - undo redo\n",
        "class stack:\n",
        "  def __init__(self):\n",
        "    self.items = []\n",
        "\n",
        "  def push(self, item):\n",
        "    self.items.append(item)\n",
        "\n",
        "  def pop(self):\n",
        "    return self.items.pop()\n",
        "\n",
        "  def isempty(self):\n",
        "    return self.items == []\n",
        "    # if self.items == []:\n",
        "    #   print('Empty stack')\n",
        "    # else:\n",
        "    #   print(f'Stack not empty {self.items}')\n",
        "\n",
        "  def peek(self):\n",
        "    if not self.items == []:\n",
        "      return self.items[-1]\n",
        "\n",
        "  def display(self):\n",
        "    return self.items\n",
        "  \n",
        "s = stack()\n",
        "s.isempty()\n",
        "s.push('A')\n",
        "s.push('B')\n",
        "print(s.display())\n",
        "s.push('a')\n",
        "print(s.display())\n",
        "s.pop()\n",
        "print(s.display())\n",
        "s.peek()\n",
        "s.isempty()"
      ],
      "metadata": {
        "colab": {
          "base_uri": "https://localhost:8080/"
        },
        "id": "oymUnGVIXSoa",
        "outputId": "c410ac21-b5de-41d5-d447-92aba8bd6171"
      },
      "execution_count": null,
      "outputs": [
        {
          "output_type": "stream",
          "name": "stdout",
          "text": [
            "['A', 'B']\n",
            "['A', 'B', 'a']\n",
            "['A', 'B']\n"
          ]
        },
        {
          "output_type": "execute_result",
          "data": {
            "text/plain": [
              "False"
            ]
          },
          "metadata": {},
          "execution_count": 79
        }
      ]
    },
    {
      "cell_type": "code",
      "source": [
        "# Reverse string by using stack\n",
        "def rev_str(stack, input_str):\n",
        "  for i,e in enumerate(input_str):\n",
        "    stack.push(e) \n",
        "  rev = ''\n",
        "  while not stack.isempty():\n",
        "    rev += stack.pop()\n",
        "  return rev\n",
        "\n",
        "\n",
        "s = stack()\n",
        "new_str = \"Hello\"\n",
        "print(rev_str(s, new_str))\n",
        "\n",
        "# Reverse a string\n",
        "input_str = \"Hello\"\n",
        "# print(input_str[::-1])"
      ],
      "metadata": {
        "colab": {
          "base_uri": "https://localhost:8080/"
        },
        "id": "BpPgc8Zpgz-W",
        "outputId": "06c3228b-07d8-426b-f750-a692896288d4"
      },
      "execution_count": null,
      "outputs": [
        {
          "output_type": "stream",
          "name": "stdout",
          "text": [
            "olleH\n"
          ]
        }
      ]
    },
    {
      "cell_type": "code",
      "source": [
        "# Use APPEND for stack(LIFO) functionality and INSERT in queue(FIFO) functionality \n",
        "# stack using list\n",
        "s = []\n",
        "s.append(1)\n",
        "s.append(2)\n",
        "s.append(3)\n",
        "s\n",
        "s.pop()\n",
        "# Stack using collection library\n",
        "from collections import deque\n",
        "s = deque()\n",
        "s.append('1')\n",
        "s.append('2')\n",
        "s.append('3')\n",
        "s.pop()"
      ],
      "metadata": {
        "colab": {
          "base_uri": "https://localhost:8080/",
          "height": 106
        },
        "id": "m9ar7vQqlPxB",
        "outputId": "70afba7c-0698-43ee-e346-e1ff98387530"
      },
      "execution_count": null,
      "outputs": [
        {
          "output_type": "execute_result",
          "data": {
            "text/plain": [
              "'3'"
            ],
            "application/vnd.google.colaboratory.intrinsic+json": {
              "type": "string"
            }
          },
          "metadata": {},
          "execution_count": 81
        }
      ]
    },
    {
      "cell_type": "code",
      "source": [
        "s = []\n",
        "s.append(1)\n",
        "s.append(2)\n",
        "s.append(3)\n",
        "s\n",
        "s[-1]"
      ],
      "metadata": {
        "colab": {
          "base_uri": "https://localhost:8080/"
        },
        "id": "IG5T5Ij_qBus",
        "outputId": "e385cee2-0dac-49ca-c785-be1e02639d38"
      },
      "execution_count": null,
      "outputs": [
        {
          "output_type": "execute_result",
          "data": {
            "text/plain": [
              "3"
            ]
          },
          "metadata": {},
          "execution_count": 82
        }
      ]
    },
    {
      "cell_type": "markdown",
      "source": [
        "### Queue"
      ],
      "metadata": {
        "id": "2eWOEl4shBgx"
      }
    },
    {
      "cell_type": "code",
      "source": [
        "# FIFO (First in First out) Queue\n",
        "import queue\n",
        "q = queue.Queue()\n",
        "num = [1,2,3,4]\n",
        "for i in num:\n",
        "  q.put(i)\n",
        "print(q.get())\n",
        "\n",
        "# LIFO (Last in First Out) Queue\n",
        "q = queue.LifoQueue()\n",
        "lnum = [1,2,3,4]\n",
        "for i in lnum:\n",
        "  q.put(i)\n",
        "print(q.get())\n",
        "\n",
        "# Priority Queue : Set priority for every element\n",
        "q = queue.PriorityQueue()\n",
        "q.put((2,\"Hello World\"))\n",
        "q.put((11,99))\n",
        "q.put((5, 7.5))\n",
        "q.put((1, True))\n",
        "# 1 has highest priority\n",
        "while not q.empty():\n",
        "  print(q.get())"
      ],
      "metadata": {
        "colab": {
          "base_uri": "https://localhost:8080/"
        },
        "id": "K19wQWrsbNNm",
        "outputId": "cc75b3d3-004d-4a72-8424-5dd20e768a0c"
      },
      "execution_count": null,
      "outputs": [
        {
          "output_type": "stream",
          "name": "stdout",
          "text": [
            "1\n",
            "4\n",
            "(1, True)\n",
            "(2, 'Hello World')\n",
            "(5, 7.5)\n",
            "(11, 99)\n"
          ]
        }
      ]
    },
    {
      "cell_type": "code",
      "source": [
        "# Queue using list - Queue is FIFO \n",
        "q = []\n",
        "q.insert(0,12) # Always insert at 0th position\n",
        "q.insert(0,10.0)\n",
        "q.insert(0,2)\n",
        "q\n",
        "q.pop()\n",
        "# Queue using collections\n",
        "from collections import deque\n",
        "d = deque()\n",
        "d.appendleft(10)\n",
        "d.appendleft(1)\n",
        "d.appendleft(100)\n",
        "d\n",
        "d.pop()"
      ],
      "metadata": {
        "colab": {
          "base_uri": "https://localhost:8080/"
        },
        "id": "SEqyIxxcd_RY",
        "outputId": "c1c969be-59ce-419b-92f8-51c5e8cefd07"
      },
      "execution_count": null,
      "outputs": [
        {
          "output_type": "execute_result",
          "data": {
            "text/plain": [
              "10"
            ]
          },
          "metadata": {},
          "execution_count": 84
        }
      ]
    },
    {
      "cell_type": "markdown",
      "source": [
        "### Tree "
      ],
      "metadata": {
        "id": "1WjN1zIMhWRr"
      }
    },
    {
      "cell_type": "code",
      "source": [
        "from collections import defaultdict\n",
        "def Tree():\n",
        "    return defaultdict(Tree)\n",
        "\n",
        "tree = Tree()\n",
        "tree['house']['cap'] = 1950\n",
        "tree['house']['camp'] = 12\n",
        "tree['lift'] = 5\n",
        "print(tree)"
      ],
      "metadata": {
        "id": "cHbg1GN5rQO2",
        "colab": {
          "base_uri": "https://localhost:8080/"
        },
        "outputId": "43abb378-41fe-4dd5-9d63-cf9d7e502939"
      },
      "execution_count": null,
      "outputs": [
        {
          "output_type": "stream",
          "name": "stdout",
          "text": [
            "defaultdict(<function Tree at 0x7f09a2ac14c0>, {'house': defaultdict(<function Tree at 0x7f09a2ac14c0>, {'cap': 1950, 'camp': 12}), 'lift': 5})\n"
          ]
        }
      ]
    },
    {
      "cell_type": "markdown",
      "source": [
        "### Binary Tree Traversal"
      ],
      "metadata": {
        "id": "b80aN60ahaDn"
      }
    },
    {
      "cell_type": "code",
      "source": [
        "# Binary tree traversal\n",
        "class Node(object):\n",
        "  def __init__(self,value):\n",
        "    self.value = value\n",
        "    self.left = None\n",
        "    self.right = None\n",
        "\n",
        "class Queue(object):\n",
        "  def __init__(self):\n",
        "    self.items = []\n",
        "  \n",
        "  def enqueue(self,item):\n",
        "    self.items.insert(0,item)\n",
        "  \n",
        "  def dequeue(self):\n",
        "    if not self.is_empty():\n",
        "      return self.items.pop()\n",
        "  \n",
        "  def is_empty(self):\n",
        "    return len(self.items)==0\n",
        "\n",
        "  def peek(self):\n",
        "    if not self.is_empty():\n",
        "      return self.items[-1].value\n",
        "\n",
        "  def __len__(self):\n",
        "    return len(self.items)\n",
        "\n",
        "class BinaryTree(object):\n",
        "  def __init__(self,root):\n",
        "    self.root = Node(root)\n",
        "\n",
        "  def display_tree(self, traversal_type):\n",
        "    if traversal_type == 'preorder':\n",
        "      return self.preorder_traversal(self.root,\"\")\n",
        "    elif traversal_type == 'inorder':\n",
        "      return self.inorder_traversal(self.root,\"\")\n",
        "    elif traversal_type == 'postorder':\n",
        "      return self.postorder_traversal(self.root,\"\")\n",
        "    elif traversal_type == 'levelorder':\n",
        "      return self.levelorder_traversal(self.root)\n",
        "    else:\n",
        "      print('Not a traversal type')\n",
        "\n",
        "  def preorder_traversal(self,node,traversal):\n",
        "    #node->left->right\n",
        "    if node:\n",
        "      traversal+= (str(node.value) + '-')\n",
        "      traversal = self.preorder_traversal(node.left, traversal)\n",
        "      traversal = self.preorder_traversal(node.right, traversal)\n",
        "    return traversal\n",
        "\n",
        "  def inorder_traversal(self,node,traversal):\n",
        "    #left->node->right\n",
        "    if node:\n",
        "      traversal = self.inorder_traversal(node.left, traversal)\n",
        "      traversal+= (str(node.value) + '-')\n",
        "      traversal = self.inorder_traversal(node.right, traversal)\n",
        "    return traversal\n",
        "\n",
        "  def postorder_traversal(self,node,traversal):\n",
        "    #left->right->node\n",
        "    if node:\n",
        "      traversal = self.postorder_traversal(node.left, traversal)\n",
        "      traversal = self.postorder_traversal(node.right, traversal)\n",
        "      traversal+= (str(node.value) + '-')\n",
        "    return traversal\n",
        "\n",
        "  def height(self, node):\n",
        "    if node is None:\n",
        "      return -1\n",
        "    left_height = self.height(node.left)\n",
        "    right_height = self.height(node.right)\n",
        "    return 1+max(left_height,right_height)\n",
        "\n",
        "  def levelorder_traversal(self,node):\n",
        "    # Using a queue data structure\n",
        "    if node is None:\n",
        "      return\n",
        "\n",
        "    queue = Queue()\n",
        "    queue.enqueue(node)\n",
        "    traversal = ''\n",
        "    while len(queue)>0:\n",
        "      traversal += str(queue.peek()) + '-'\n",
        "      node = queue.dequeue()\n",
        "\n",
        "      if node.left:\n",
        "        queue.enqueue(node.left)\n",
        "\n",
        "      if node.right:\n",
        "        queue.enqueue(node.right)\n",
        "    return traversal\n",
        "    \n",
        "\n",
        "# Setting up a tree\n",
        "bt = BinaryTree(1)\n",
        "bt.root.left = Node(2)\n",
        "bt.root.right = Node(3)\n",
        "bt.root.left.left = Node(4)\n",
        "bt.root.left.right = Node(5)\n",
        "# bt.root.right.left = Node(6)\n",
        "# bt.root.right.right = Node(7)\n",
        "# bt.root.right.right.right = Node(8)\n",
        "\n",
        "bt.display_tree('preorder')"
      ],
      "metadata": {
        "id": "TbSjEThjhZ4Z",
        "colab": {
          "base_uri": "https://localhost:8080/",
          "height": 259
        },
        "outputId": "6cbf367b-94be-4e93-a2bf-aebd9879ba76"
      },
      "execution_count": null,
      "outputs": [
        {
          "output_type": "execute_result",
          "data": {
            "text/plain": [
              "'1-2-4-5-3-'"
            ],
            "application/vnd.google.colaboratory.intrinsic+json": {
              "type": "string"
            }
          },
          "metadata": {},
          "execution_count": 86
        }
      ]
    },
    {
      "cell_type": "code",
      "source": [
        "bt.display_tree('inorder')"
      ],
      "metadata": {
        "colab": {
          "base_uri": "https://localhost:8080/",
          "height": 259
        },
        "id": "9WolzAvOaiB5",
        "outputId": "a0abbb3b-6358-4843-ba27-e0d52707dee9"
      },
      "execution_count": null,
      "outputs": [
        {
          "output_type": "execute_result",
          "data": {
            "text/plain": [
              "'4-2-5-1-3-'"
            ],
            "application/vnd.google.colaboratory.intrinsic+json": {
              "type": "string"
            }
          },
          "metadata": {},
          "execution_count": 87
        }
      ]
    },
    {
      "cell_type": "code",
      "source": [
        "bt.display_tree('postorder')"
      ],
      "metadata": {
        "colab": {
          "base_uri": "https://localhost:8080/",
          "height": 259
        },
        "id": "ZUDhf0GiboE-",
        "outputId": "a97ef6d7-4a84-442f-a0db-aea78b787cf7"
      },
      "execution_count": null,
      "outputs": [
        {
          "output_type": "execute_result",
          "data": {
            "text/plain": [
              "'4-5-2-3-1-'"
            ],
            "application/vnd.google.colaboratory.intrinsic+json": {
              "type": "string"
            }
          },
          "metadata": {},
          "execution_count": 88
        }
      ]
    },
    {
      "cell_type": "code",
      "source": [
        "bt.display_tree('levelorder')"
      ],
      "metadata": {
        "colab": {
          "base_uri": "https://localhost:8080/",
          "height": 259
        },
        "id": "83QLTisWcEiD",
        "outputId": "1cf7019f-dad2-4a6a-a3e3-d0f639746084"
      },
      "execution_count": null,
      "outputs": [
        {
          "output_type": "execute_result",
          "data": {
            "text/plain": [
              "'1-2-3-4-5-'"
            ],
            "application/vnd.google.colaboratory.intrinsic+json": {
              "type": "string"
            }
          },
          "metadata": {},
          "execution_count": 89
        }
      ]
    },
    {
      "cell_type": "code",
      "source": [
        "print(bt.height(bt.root))"
      ],
      "metadata": {
        "colab": {
          "base_uri": "https://localhost:8080/"
        },
        "id": "M2wUi1MspLC3",
        "outputId": "459f84ac-ef27-4b8b-af29-67ec160057cb"
      },
      "execution_count": null,
      "outputs": [
        {
          "output_type": "stream",
          "name": "stdout",
          "text": [
            "2\n"
          ]
        }
      ]
    },
    {
      "cell_type": "markdown",
      "source": [
        "### Sorting"
      ],
      "metadata": {
        "id": "jQUBS61YBwNb"
      }
    },
    {
      "cell_type": "markdown",
      "source": [
        "### Selection Sort\n",
        "Time Complexity\n",
        "Best: O(n^2)\n",
        "Worst: O(n^2)\n",
        "Average: O(n^2)\n",
        "Space Complexity: O(1)"
      ],
      "metadata": {
        "id": "CPc5Jb8VB3-w"
      }
    },
    {
      "cell_type": "code",
      "source": [
        "# Selection Sort\n",
        "def selectionSort(array):\n",
        "  for i in range(len(array)):\n",
        "    min_index = i\n",
        "    for j in range (i+1, len(array)):\n",
        "      if array[j] < array[min_index]:\n",
        "        min_index = j\n",
        "    array[i],array[min_index] = array[min_index],array[i]\n",
        "  return array\n",
        "\n",
        "data = [-2, 45, 0, 11, -9]\n",
        "\n",
        "print(selectionSort(data))\n",
        "\n",
        "# print('Sorted Array in Ascending Order:')\n",
        "# print(data)"
      ],
      "metadata": {
        "id": "BOpdmj5yB1VO"
      },
      "execution_count": null,
      "outputs": []
    },
    {
      "cell_type": "markdown",
      "source": [
        "### Bubble Sort\n",
        "Time Complexity\n",
        "Best: O(n)\n",
        "Worst: O(n^2)\n",
        "Average: O(n^2)\n",
        "Space Complexity: O(1)"
      ],
      "metadata": {
        "id": "pr8V_zl_CDYN"
      }
    },
    {
      "cell_type": "code",
      "source": [
        "# Bubble Sort\n",
        "\n",
        "def bubbleSort(array):\n",
        "    \n",
        "  # loop to access each array element\n",
        "  for i in range(len(array)):\n",
        "\n",
        "    # loop to compare array elements\n",
        "    for j in range(0, len(array) - i - 1):\n",
        "\n",
        "      # compare two adjacent elements\n",
        "      # change > to < to sort in descending order\n",
        "      if array[j] > array[j + 1]:\n",
        "\n",
        "        # swapping elements if elements\n",
        "        # are not in the intended order\n",
        "        temp = array[j]\n",
        "        array[j] = array[j+1]\n",
        "        array[j+1] = temp\n",
        "\n",
        "\n",
        "data = [-2, 45, 0, 11, -9]\n",
        "\n",
        "bubbleSort(data)\n",
        "\n",
        "print('Sorted Array in Ascending Order:')\n",
        "print(data)"
      ],
      "metadata": {
        "id": "1-pq9tGcB8qQ"
      },
      "execution_count": null,
      "outputs": []
    },
    {
      "cell_type": "code",
      "source": [
        "# Bubble Sort Optimized\n",
        "# In every loop, the largest element of the array will move to the end of the array and hence for the inner loop we only need to compare until length of array - (number of completed loops(i)) -1 (as we are comparing 2 numbers)\n",
        "# It will still work if we run the inner loop until the length of the array\n",
        "def bubbleSort(array):\n",
        "    \n",
        "  # loop through each element of array\n",
        "  for i in range(len(array)):\n",
        "        \n",
        "    # keep track of swapping\n",
        "    swapped = False\n",
        "    \n",
        "    # loop to compare array elements\n",
        "    for j in range(0, len(array) - i - 1):\n",
        "\n",
        "      # compare two adjacent elements\n",
        "      # change > to < to sort in descending order\n",
        "      if array[j] > array[j + 1]:\n",
        "\n",
        "        # swapping occurs if elements\n",
        "        # are not in the intended order\n",
        "        # temp = array[j]\n",
        "        # array[j] = array[j+1]\n",
        "        # array[j+1] = temp\n",
        "        array[j],array[j+1] = array[j+1],array[j]\n",
        "\n",
        "        swapped = True\n",
        "          \n",
        "    # no swapping means the array is already sorted\n",
        "    # so no need for further comparison\n",
        "    if not swapped:\n",
        "      break\n",
        "\n",
        "data = [-2, 45, 0, 11, -9]\n",
        "\n",
        "bubbleSort(data)\n",
        "\n",
        "print('Sorted Array in Ascending Order:')\n",
        "print(data)"
      ],
      "metadata": {
        "id": "jQLp3XvPCKix"
      },
      "execution_count": null,
      "outputs": []
    },
    {
      "cell_type": "markdown",
      "source": [
        "### Quick Sort\n",
        "Time Complexity\n",
        "Best: O(nlog n)\n",
        "Worst: O(n^2)\n",
        "Average: O(nlog n)\n",
        "Space Complexity: O(log n)"
      ],
      "metadata": {
        "id": "gAjmLxP7CE7a"
      }
    },
    {
      "cell_type": "code",
      "source": [
        "# Quick sort in Python\n",
        "\n",
        "# function to find the partition position\n",
        "def partition(array, low, high):\n",
        "\n",
        "  # choose the rightmost element as pivot\n",
        "  pivot = array[high]\n",
        "\n",
        "  # pointer for greater element\n",
        "  i = low - 1\n",
        "\n",
        "  # traverse through all elements\n",
        "  # compare each element with pivot\n",
        "  for j in range(low, high):\n",
        "    if array[j] <= pivot:\n",
        "      # if element smaller than pivot is found\n",
        "      # swap it with the greater element pointed by i\n",
        "      i = i + 1\n",
        "\n",
        "      # swapping element at i with element at j\n",
        "      (array[i], array[j]) = (array[j], array[i])\n",
        "\n",
        "  # swap the pivot element with the greater element specified by i\n",
        "  (array[i + 1], array[high]) = (array[high], array[i + 1])\n",
        "\n",
        "  # return the position from where partition is done\n",
        "  return i + 1\n",
        "\n",
        "# function to perform quicksort\n",
        "def quickSort(array, low, high):\n",
        "  if low < high:\n",
        "\n",
        "    # find pivot element such that\n",
        "    # element smaller than pivot are on the left\n",
        "    # element greater than pivot are on the right\n",
        "    pi = partition(array, low, high)\n",
        "\n",
        "    # recursive call on the left of pivot\n",
        "    quickSort(array, low, pi - 1)\n",
        "\n",
        "    # recursive call on the right of pivot\n",
        "    quickSort(array, pi + 1, high)\n",
        "\n",
        "\n",
        "data = [8, 7, 2, 1, 0, 9, 6]\n",
        "print(\"Unsorted Array\")\n",
        "print(data)\n",
        "\n",
        "size = len(data)\n",
        "\n",
        "quickSort(data, 0, size - 1)\n",
        "\n",
        "print('Sorted Array in Ascending Order:')\n",
        "print(data)"
      ],
      "metadata": {
        "id": "hqC3Wo2aCQr_"
      },
      "execution_count": null,
      "outputs": []
    },
    {
      "cell_type": "markdown",
      "source": [
        "### Merge Sort \n",
        "\n",
        "**Time Complexity**\n",
        "\n",
        "Best: O(nlog n)\n",
        "\n",
        "Worst: O(nlog n)\n",
        "\n",
        "Average: O(nlog n)\n",
        "\n",
        "**Space Complexity**: O(n)\n",
        "\n",
        "Based on ***Divide and Conquer Algorithm***"
      ],
      "metadata": {
        "id": "12X0LUkCCUWG"
      }
    },
    {
      "cell_type": "code",
      "source": [
        "# MergeSort in Python\n",
        "\n",
        "\n",
        "def mergeSort(array):\n",
        "    if len(array) > 1:\n",
        "\n",
        "        #  r is the point where the array is divided into two subarrays\n",
        "        r = len(array)//2\n",
        "        L = array[:r]\n",
        "        M = array[r:]\n",
        "\n",
        "        # Sort the two halves\n",
        "        mergeSort(L)\n",
        "        mergeSort(M)\n",
        "\n",
        "        i = j = k = 0\n",
        "\n",
        "        # Until we reach either end of either L or M, pick larger among\n",
        "        # elements L and M and place them in the correct position at A[p..r]\n",
        "        while i < len(L) and j < len(M):\n",
        "            if L[i] < M[j]:\n",
        "                array[k] = L[i]\n",
        "                i += 1\n",
        "            else:\n",
        "                array[k] = M[j]\n",
        "                j += 1\n",
        "            k += 1\n",
        "\n",
        "        # When we run out of elements in either L or M,\n",
        "        # pick up the remaining elements and put in A[p..r]\n",
        "        while i < len(L):\n",
        "            array[k] = L[i]\n",
        "            i += 1\n",
        "            k += 1\n",
        "\n",
        "        while j < len(M):\n",
        "            array[k] = M[j]\n",
        "            j += 1\n",
        "            k += 1\n",
        "\n",
        "\n",
        "# Print the array\n",
        "def printList(array):\n",
        "    for i in range(len(array)):\n",
        "        print(array[i], end=\" \")\n",
        "    print()\n",
        "\n",
        "\n",
        "# Driver program\n",
        "if __name__ == '__main__':\n",
        "    array = [6, 5, 12, 10, 9, 1]\n",
        "\n",
        "    mergeSort(array)\n",
        "\n",
        "    print(\"Sorted array is: \")\n",
        "    printList(array)"
      ],
      "metadata": {
        "id": "5xBldjBxCVJ-"
      },
      "execution_count": null,
      "outputs": []
    },
    {
      "cell_type": "markdown",
      "source": [
        "### Tim sort: https://hackernoon.com/timsort-the-fastest-sorting-algorithm-youve-never-heard-of-36b28417f399"
      ],
      "metadata": {
        "id": "-ZS3gHP6CbT8"
      }
    },
    {
      "cell_type": "markdown",
      "source": [
        "### Searching"
      ],
      "metadata": {
        "id": "2SPN36w4E5xs"
      }
    },
    {
      "cell_type": "markdown",
      "source": [
        "### Linear Search\n",
        "\n",
        "**Time complexity:** O(N)\n",
        "\n",
        "**Space complexity:** O(1)"
      ],
      "metadata": {
        "id": "hB1EDvrYE7br"
      }
    },
    {
      "cell_type": "code",
      "source": [
        "# Python3 code to linearly search x in arr[].\n",
        "# If x is present then return its location,\n",
        "# otherwise return -1\n",
        "\n",
        "\n",
        "def search(arr, N, x):\n",
        "\n",
        "\tfor i in range(0, N):\n",
        "\t\tif (arr[i] == x):\n",
        "\t\t\treturn i\n",
        "\treturn -1\n",
        "\n",
        "\n",
        "# Driver Code\n",
        "if __name__ == \"__main__\":\n",
        "\tarr = [2, 3, 4, 10, 40]\n",
        "\tx = 10\n",
        "\tN = len(arr)\n",
        "\n",
        "\t# Function call\n",
        "\tresult = search(arr, N, x)\n",
        "\tif(result == -1):\n",
        "\t\tprint(\"Element is not present in array\")\n",
        "\telse:\n",
        "\t\tprint(\"Element is present at index\", result)\n"
      ],
      "metadata": {
        "id": "IBRbX5zmE89D"
      },
      "execution_count": null,
      "outputs": []
    },
    {
      "cell_type": "markdown",
      "source": [
        "### Binary Search"
      ],
      "metadata": {
        "id": "kcvnH4NDE_bH"
      }
    },
    {
      "cell_type": "code",
      "source": [
        "# Python3 code to implement iterative Binary\n",
        "# Search.\n",
        "\n",
        "# It returns location of x in given array arr\n",
        "# if present, else returns -1\n",
        "\n",
        "\n",
        "def binarySearch(arr, l, r, x):\n",
        "\n",
        "\twhile l <= r:\n",
        "\n",
        "\t\tmid = l + (r - l) // 2\n",
        "\n",
        "\t\t# Check if x is present at mid\n",
        "\t\tif arr[mid] == x:\n",
        "\t\t\treturn mid\n",
        "\n",
        "\t\t# If x is greater, ignore left half\n",
        "\t\telif arr[mid] < x:\n",
        "\t\t\tl = mid + 1\n",
        "\n",
        "\t\t# If x is smaller, ignore right half\n",
        "\t\telse:\n",
        "\t\t\tr = mid - 1\n",
        "\n",
        "\t# If we reach here, then the element\n",
        "\t# was not present\n",
        "\treturn -1\n",
        "\n",
        "\n",
        "# Driver Code\n",
        "arr = [2, 3, 4, 10, 40]\n",
        "x = 10\n",
        "\n",
        "# Function call\n",
        "result = binarySearch(arr, 0, len(arr)-1, x)\n",
        "\n",
        "if result != -1:\n",
        "\tprint(\"Element is present at index % d\" % result)\n",
        "else:\n",
        "\tprint(\"Element is not present in array\")\n"
      ],
      "metadata": {
        "id": "HhlXVaYhFCZM"
      },
      "execution_count": null,
      "outputs": []
    },
    {
      "cell_type": "markdown",
      "source": [
        "### Regex"
      ],
      "metadata": {
        "id": "Ut6ElP8QhdiS"
      }
    },
    {
      "cell_type": "code",
      "source": [
        "# Python Regex\n",
        "import re\n",
        "\n",
        "# Raw string - string prefixed with \"r\" - don't handle backslash in a special way\n",
        "# re.compile - seperate patterns into a variable\n",
        "\n",
        "text_to_search = '''\n",
        "abcdefghijklmnopqrstuvwxyz\n",
        "ABCDEFGHIJKLMNOPQRSTUVWXYZ\n",
        "0123456789\n",
        "\n",
        "Ha HaHa\n",
        "sukhi.com\n",
        "abcde\n",
        "!@#$%^&*()\":}{[];'<>,./?\\|`~-_+=}\n",
        "\n",
        "321-555-4312\n",
        "321.555.4312\n",
        "\n",
        "800-555-4312\n",
        "900-555-4312\n",
        "\n",
        "127.000.000.001:8080\n",
        "\n",
        "cat\n",
        "rat\n",
        "mat\n",
        "pat\n",
        "bat\n",
        "\n",
        "Mr. Sukhesh Makam\n",
        "Mrs. Ashika Makam\n",
        "\n",
        "ashika-makam@gmail.com\n",
        "ashika12pobbathi@my-work.net\n",
        "ashika.anandbabu@sjsu.edu\n",
        "\n",
        "This is a simple sentence\n",
        "\n",
        "'''\n",
        "\n",
        "pattern = re.compile(r'abc')\n",
        "\n",
        "matches = pattern.finditer(text_to_search) # Provides the span - beginning and end index of all of the matches in the text and the match itself\n",
        "for match in matches: # Finditer is case sensitive\n",
        "  print(match)\n",
        "print(text_to_search[1:4]) # prints abc\n",
        "\n",
        "# For metacharacters we need to escape it before searching\n",
        "pattern = re.compile(r'\\.') # test without \\\n",
        "matches = pattern.finditer(text_to_search) \n",
        "for match in matches: \n",
        "  print(match)"
      ],
      "metadata": {
        "id": "TX6es8yyN5vA",
        "colab": {
          "base_uri": "https://localhost:8080/"
        },
        "outputId": "b45c9e2a-1a0a-4f68-e053-5f9cda4219b0"
      },
      "execution_count": null,
      "outputs": [
        {
          "output_type": "stream",
          "name": "stdout",
          "text": [
            "<re.Match object; span=(1, 4), match='abc'>\n",
            "<re.Match object; span=(85, 88), match='abc'>\n",
            "abc\n",
            "<re.Match object; span=(80, 81), match='.'>\n",
            "<re.Match object; span=(112, 113), match='.'>\n",
            "<re.Match object; span=(142, 143), match='.'>\n",
            "<re.Match object; span=(146, 147), match='.'>\n",
            "<re.Match object; span=(183, 184), match='.'>\n",
            "<re.Match object; span=(187, 188), match='.'>\n",
            "<re.Match object; span=(191, 192), match='.'>\n",
            "<re.Match object; span=(225, 226), match='.'>\n",
            "<re.Match object; span=(244, 245), match='.'>\n",
            "<re.Match object; span=(278, 279), match='.'>\n",
            "<re.Match object; span=(307, 308), match='.'>\n",
            "<re.Match object; span=(318, 319), match='.'>\n",
            "<re.Match object; span=(333, 334), match='.'>\n"
          ]
        }
      ]
    },
    {
      "cell_type": "code",
      "source": [
        "# To search for a URL\n",
        "pattern = re.compile(r'sukhi\\.com')\n",
        "matches = pattern.finditer(text_to_search) \n",
        "for match in matches: \n",
        "  print(match)"
      ],
      "metadata": {
        "colab": {
          "base_uri": "https://localhost:8080/"
        },
        "id": "flNvE-b-PRMC",
        "outputId": "e48e6df2-9134-4ae5-eaee-5a8df6275a5e"
      },
      "execution_count": null,
      "outputs": [
        {
          "output_type": "stream",
          "name": "stdout",
          "text": [
            "<re.Match object; span=(75, 84), match='sukhi.com'>\n"
          ]
        }
      ]
    },
    {
      "cell_type": "code",
      "source": [
        "# . - match any character except a new line\n",
        "# \\d  - match Digit (0-9)\n",
        "# \\D - Not a digit (0-9)\n",
        "# \\w - Word Character (a-z, A-Z, 0-9, _)\n",
        "# \\W - Not a word character\n",
        "# \\s - Whitespace (space, tab, newline)\n",
        "# \\S - Not whitespace\n",
        "\n",
        "pattern = re.compile(r'\\d') # test with all the above\n",
        "matches = pattern.finditer(text_to_search) \n",
        "for match in matches: \n",
        "  print(match)"
      ],
      "metadata": {
        "id": "xm8VtnffQojW",
        "colab": {
          "base_uri": "https://localhost:8080/"
        },
        "outputId": "82a2a7e8-7716-421f-f8ae-e55d8a02a801"
      },
      "execution_count": null,
      "outputs": [
        {
          "output_type": "stream",
          "name": "stdout",
          "text": [
            "<re.Match object; span=(55, 56), match='0'>\n",
            "<re.Match object; span=(56, 57), match='1'>\n",
            "<re.Match object; span=(57, 58), match='2'>\n",
            "<re.Match object; span=(58, 59), match='3'>\n",
            "<re.Match object; span=(59, 60), match='4'>\n",
            "<re.Match object; span=(60, 61), match='5'>\n",
            "<re.Match object; span=(61, 62), match='6'>\n",
            "<re.Match object; span=(62, 63), match='7'>\n",
            "<re.Match object; span=(63, 64), match='8'>\n",
            "<re.Match object; span=(64, 65), match='9'>\n",
            "<re.Match object; span=(126, 127), match='3'>\n",
            "<re.Match object; span=(127, 128), match='2'>\n",
            "<re.Match object; span=(128, 129), match='1'>\n",
            "<re.Match object; span=(130, 131), match='5'>\n",
            "<re.Match object; span=(131, 132), match='5'>\n",
            "<re.Match object; span=(132, 133), match='5'>\n",
            "<re.Match object; span=(134, 135), match='4'>\n",
            "<re.Match object; span=(135, 136), match='3'>\n",
            "<re.Match object; span=(136, 137), match='1'>\n",
            "<re.Match object; span=(137, 138), match='2'>\n",
            "<re.Match object; span=(139, 140), match='3'>\n",
            "<re.Match object; span=(140, 141), match='2'>\n",
            "<re.Match object; span=(141, 142), match='1'>\n",
            "<re.Match object; span=(143, 144), match='5'>\n",
            "<re.Match object; span=(144, 145), match='5'>\n",
            "<re.Match object; span=(145, 146), match='5'>\n",
            "<re.Match object; span=(147, 148), match='4'>\n",
            "<re.Match object; span=(148, 149), match='3'>\n",
            "<re.Match object; span=(149, 150), match='1'>\n",
            "<re.Match object; span=(150, 151), match='2'>\n",
            "<re.Match object; span=(153, 154), match='8'>\n",
            "<re.Match object; span=(154, 155), match='0'>\n",
            "<re.Match object; span=(155, 156), match='0'>\n",
            "<re.Match object; span=(157, 158), match='5'>\n",
            "<re.Match object; span=(158, 159), match='5'>\n",
            "<re.Match object; span=(159, 160), match='5'>\n",
            "<re.Match object; span=(161, 162), match='4'>\n",
            "<re.Match object; span=(162, 163), match='3'>\n",
            "<re.Match object; span=(163, 164), match='1'>\n",
            "<re.Match object; span=(164, 165), match='2'>\n",
            "<re.Match object; span=(166, 167), match='9'>\n",
            "<re.Match object; span=(167, 168), match='0'>\n",
            "<re.Match object; span=(168, 169), match='0'>\n",
            "<re.Match object; span=(170, 171), match='5'>\n",
            "<re.Match object; span=(171, 172), match='5'>\n",
            "<re.Match object; span=(172, 173), match='5'>\n",
            "<re.Match object; span=(174, 175), match='4'>\n",
            "<re.Match object; span=(175, 176), match='3'>\n",
            "<re.Match object; span=(176, 177), match='1'>\n",
            "<re.Match object; span=(177, 178), match='2'>\n",
            "<re.Match object; span=(180, 181), match='1'>\n",
            "<re.Match object; span=(181, 182), match='2'>\n",
            "<re.Match object; span=(182, 183), match='7'>\n",
            "<re.Match object; span=(184, 185), match='0'>\n",
            "<re.Match object; span=(185, 186), match='0'>\n",
            "<re.Match object; span=(186, 187), match='0'>\n",
            "<re.Match object; span=(188, 189), match='0'>\n",
            "<re.Match object; span=(189, 190), match='0'>\n",
            "<re.Match object; span=(190, 191), match='0'>\n",
            "<re.Match object; span=(192, 193), match='0'>\n",
            "<re.Match object; span=(193, 194), match='0'>\n",
            "<re.Match object; span=(194, 195), match='1'>\n",
            "<re.Match object; span=(196, 197), match='8'>\n",
            "<re.Match object; span=(197, 198), match='0'>\n",
            "<re.Match object; span=(198, 199), match='8'>\n",
            "<re.Match object; span=(199, 200), match='0'>\n",
            "<re.Match object; span=(289, 290), match='1'>\n",
            "<re.Match object; span=(290, 291), match='2'>\n"
          ]
        }
      ]
    },
    {
      "cell_type": "code",
      "source": [
        "# \\b - Word boundary\n",
        "# \\B - Not a word boundary\n",
        "\n",
        "pattern = re.compile(r'\\bHa') # Start of line, space is a word boundary Ha(Ha) - bracket not matching as it is in word and not having word boundary\n",
        "matches = pattern.finditer(text_to_search) \n",
        "for match in matches: \n",
        "  print(match)"
      ],
      "metadata": {
        "colab": {
          "base_uri": "https://localhost:8080/"
        },
        "id": "ub7_qYlBR-RC",
        "outputId": "2ea11ef1-95a8-41c4-8c5d-e6d2482ae728"
      },
      "execution_count": null,
      "outputs": [
        {
          "output_type": "stream",
          "name": "stdout",
          "text": [
            "<re.Match object; span=(67, 69), match='Ha'>\n",
            "<re.Match object; span=(70, 72), match='Ha'>\n"
          ]
        }
      ]
    },
    {
      "cell_type": "code",
      "source": [
        "# ^ - Beginning of a string\n",
        "# $ - End of a string\n",
        "sent = 'Start and end'\n",
        "pattern = re.compile(r'end$') # ^Start\n",
        "matches = pattern.finditer(sent) \n",
        "for match in matches: \n",
        "  print(match)"
      ],
      "metadata": {
        "colab": {
          "base_uri": "https://localhost:8080/"
        },
        "id": "343az-agT6Nq",
        "outputId": "05542ba7-e5d5-4014-ec79-b1fa5dde328e"
      },
      "execution_count": null,
      "outputs": [
        {
          "output_type": "stream",
          "name": "stdout",
          "text": [
            "<re.Match object; span=(10, 13), match='end'>\n"
          ]
        }
      ]
    },
    {
      "cell_type": "code",
      "source": [
        "# Matches 3 numbers - any 1 char - 3 numbers - any 1 char - 3 numbers\n",
        "pattern = re.compile(r'\\d\\d\\d.\\d\\d\\d.\\d\\d\\d\\d') # not matching only phone numbers. picking up IP address as well\n",
        "matches = pattern.finditer(text_to_search) \n",
        "for match in matches: \n",
        "  print(match)"
      ],
      "metadata": {
        "colab": {
          "base_uri": "https://localhost:8080/"
        },
        "id": "5im8CBUAbf5a",
        "outputId": "b8526b91-47b7-4a29-f511-ed05bc85acc3"
      },
      "execution_count": null,
      "outputs": [
        {
          "output_type": "stream",
          "name": "stdout",
          "text": [
            "<re.Match object; span=(126, 138), match='321-555-4312'>\n",
            "<re.Match object; span=(139, 151), match='321.555.4312'>\n",
            "<re.Match object; span=(153, 165), match='800-555-4312'>\n",
            "<re.Match object; span=(166, 178), match='900-555-4312'>\n",
            "<re.Match object; span=(188, 200), match='000.001:8080'>\n"
          ]
        }
      ]
    },
    {
      "cell_type": "code",
      "source": [
        "# To match only phone number\n",
        "# [] one of the charcter within the brackets\n",
        "pattern = re.compile(r'\\d\\d\\d[-.]\\d\\d\\d[-.]\\d\\d\\d\\d')\n",
        "matches = pattern.finditer(text_to_search) \n",
        "for match in matches: \n",
        "  print(match)"
      ],
      "metadata": {
        "colab": {
          "base_uri": "https://localhost:8080/"
        },
        "id": "tEFg2EDKcQR0",
        "outputId": "af64e8ba-d2d7-42da-c46d-1bcb2f072e31"
      },
      "execution_count": null,
      "outputs": [
        {
          "output_type": "stream",
          "name": "stdout",
          "text": [
            "<re.Match object; span=(126, 138), match='321-555-4312'>\n",
            "<re.Match object; span=(139, 151), match='321.555.4312'>\n",
            "<re.Match object; span=(153, 165), match='800-555-4312'>\n",
            "<re.Match object; span=(166, 178), match='900-555-4312'>\n"
          ]
        }
      ]
    },
    {
      "cell_type": "code",
      "source": [
        "# Quantifiers:\n",
        "# * - 0 or more\n",
        "# + - 1 or more\n",
        "# ? - 0 or 1\n",
        "# {3} - exact number of times\n",
        "# {3,4} - Range of numbers (min,max)\n",
        "pattern = re.compile(r'\\d{3}[-.]\\d{3}[-.]\\d{4}')\n",
        "matches = pattern.finditer(text_to_search) \n",
        "for match in matches: \n",
        "  print(match)"
      ],
      "metadata": {
        "colab": {
          "base_uri": "https://localhost:8080/"
        },
        "id": "awJvvDBy6xtb",
        "outputId": "1c893d77-a677-401d-9490-d734efd30781"
      },
      "execution_count": null,
      "outputs": [
        {
          "output_type": "stream",
          "name": "stdout",
          "text": [
            "<re.Match object; span=(126, 138), match='321-555-4312'>\n",
            "<re.Match object; span=(139, 151), match='321.555.4312'>\n",
            "<re.Match object; span=(153, 165), match='800-555-4312'>\n",
            "<re.Match object; span=(166, 178), match='900-555-4312'>\n"
          ]
        }
      ]
    },
    {
      "cell_type": "code",
      "source": [
        "# match only numbers starting with 800 or 900\n",
        "pattern = re.compile(r'[89]00[-.]\\d\\d\\d[-.]\\d\\d\\d\\d')\n",
        "matches = pattern.finditer(text_to_search) \n",
        "for match in matches: \n",
        "  print(match)"
      ],
      "metadata": {
        "colab": {
          "base_uri": "https://localhost:8080/"
        },
        "id": "5XZ7DIcvdkmP",
        "outputId": "a21f4634-cb93-488b-f845-1979f665d65d"
      },
      "execution_count": null,
      "outputs": [
        {
          "output_type": "stream",
          "name": "stdout",
          "text": [
            "<re.Match object; span=(153, 165), match='800-555-4312'>\n",
            "<re.Match object; span=(166, 178), match='900-555-4312'>\n"
          ]
        }
      ]
    },
    {
      "cell_type": "code",
      "source": [
        "# Match character that's in  A-Z or a-z or 0-9\n",
        "pattern = re.compile(r'[a-zA-Z]')\n",
        "matches = pattern.finditer(text_to_search) \n",
        "for match in matches: \n",
        "  print(match)"
      ],
      "metadata": {
        "id": "y7q3U655eRJK",
        "colab": {
          "base_uri": "https://localhost:8080/"
        },
        "outputId": "fb7af6ff-8601-4b03-849a-4b8d43c4a56d"
      },
      "execution_count": null,
      "outputs": [
        {
          "output_type": "stream",
          "name": "stdout",
          "text": [
            "<re.Match object; span=(1, 2), match='a'>\n",
            "<re.Match object; span=(2, 3), match='b'>\n",
            "<re.Match object; span=(3, 4), match='c'>\n",
            "<re.Match object; span=(4, 5), match='d'>\n",
            "<re.Match object; span=(5, 6), match='e'>\n",
            "<re.Match object; span=(6, 7), match='f'>\n",
            "<re.Match object; span=(7, 8), match='g'>\n",
            "<re.Match object; span=(8, 9), match='h'>\n",
            "<re.Match object; span=(9, 10), match='i'>\n",
            "<re.Match object; span=(10, 11), match='j'>\n",
            "<re.Match object; span=(11, 12), match='k'>\n",
            "<re.Match object; span=(12, 13), match='l'>\n",
            "<re.Match object; span=(13, 14), match='m'>\n",
            "<re.Match object; span=(14, 15), match='n'>\n",
            "<re.Match object; span=(15, 16), match='o'>\n",
            "<re.Match object; span=(16, 17), match='p'>\n",
            "<re.Match object; span=(17, 18), match='q'>\n",
            "<re.Match object; span=(18, 19), match='r'>\n",
            "<re.Match object; span=(19, 20), match='s'>\n",
            "<re.Match object; span=(20, 21), match='t'>\n",
            "<re.Match object; span=(21, 22), match='u'>\n",
            "<re.Match object; span=(22, 23), match='v'>\n",
            "<re.Match object; span=(23, 24), match='w'>\n",
            "<re.Match object; span=(24, 25), match='x'>\n",
            "<re.Match object; span=(25, 26), match='y'>\n",
            "<re.Match object; span=(26, 27), match='z'>\n",
            "<re.Match object; span=(28, 29), match='A'>\n",
            "<re.Match object; span=(29, 30), match='B'>\n",
            "<re.Match object; span=(30, 31), match='C'>\n",
            "<re.Match object; span=(31, 32), match='D'>\n",
            "<re.Match object; span=(32, 33), match='E'>\n",
            "<re.Match object; span=(33, 34), match='F'>\n",
            "<re.Match object; span=(34, 35), match='G'>\n",
            "<re.Match object; span=(35, 36), match='H'>\n",
            "<re.Match object; span=(36, 37), match='I'>\n",
            "<re.Match object; span=(37, 38), match='J'>\n",
            "<re.Match object; span=(38, 39), match='K'>\n",
            "<re.Match object; span=(39, 40), match='L'>\n",
            "<re.Match object; span=(40, 41), match='M'>\n",
            "<re.Match object; span=(41, 42), match='N'>\n",
            "<re.Match object; span=(42, 43), match='O'>\n",
            "<re.Match object; span=(43, 44), match='P'>\n",
            "<re.Match object; span=(44, 45), match='Q'>\n",
            "<re.Match object; span=(45, 46), match='R'>\n",
            "<re.Match object; span=(46, 47), match='S'>\n",
            "<re.Match object; span=(47, 48), match='T'>\n",
            "<re.Match object; span=(48, 49), match='U'>\n",
            "<re.Match object; span=(49, 50), match='V'>\n",
            "<re.Match object; span=(50, 51), match='W'>\n",
            "<re.Match object; span=(51, 52), match='X'>\n",
            "<re.Match object; span=(52, 53), match='Y'>\n",
            "<re.Match object; span=(53, 54), match='Z'>\n",
            "<re.Match object; span=(67, 68), match='H'>\n",
            "<re.Match object; span=(68, 69), match='a'>\n",
            "<re.Match object; span=(70, 71), match='H'>\n",
            "<re.Match object; span=(71, 72), match='a'>\n",
            "<re.Match object; span=(72, 73), match='H'>\n",
            "<re.Match object; span=(73, 74), match='a'>\n",
            "<re.Match object; span=(75, 76), match='s'>\n",
            "<re.Match object; span=(76, 77), match='u'>\n",
            "<re.Match object; span=(77, 78), match='k'>\n",
            "<re.Match object; span=(78, 79), match='h'>\n",
            "<re.Match object; span=(79, 80), match='i'>\n",
            "<re.Match object; span=(81, 82), match='c'>\n",
            "<re.Match object; span=(82, 83), match='o'>\n",
            "<re.Match object; span=(83, 84), match='m'>\n",
            "<re.Match object; span=(85, 86), match='a'>\n",
            "<re.Match object; span=(86, 87), match='b'>\n",
            "<re.Match object; span=(87, 88), match='c'>\n",
            "<re.Match object; span=(88, 89), match='d'>\n",
            "<re.Match object; span=(89, 90), match='e'>\n",
            "<re.Match object; span=(202, 203), match='c'>\n",
            "<re.Match object; span=(203, 204), match='a'>\n",
            "<re.Match object; span=(204, 205), match='t'>\n",
            "<re.Match object; span=(206, 207), match='r'>\n",
            "<re.Match object; span=(207, 208), match='a'>\n",
            "<re.Match object; span=(208, 209), match='t'>\n",
            "<re.Match object; span=(210, 211), match='m'>\n",
            "<re.Match object; span=(211, 212), match='a'>\n",
            "<re.Match object; span=(212, 213), match='t'>\n",
            "<re.Match object; span=(214, 215), match='p'>\n",
            "<re.Match object; span=(215, 216), match='a'>\n",
            "<re.Match object; span=(216, 217), match='t'>\n",
            "<re.Match object; span=(218, 219), match='b'>\n",
            "<re.Match object; span=(219, 220), match='a'>\n",
            "<re.Match object; span=(220, 221), match='t'>\n",
            "<re.Match object; span=(223, 224), match='M'>\n",
            "<re.Match object; span=(224, 225), match='r'>\n",
            "<re.Match object; span=(227, 228), match='S'>\n",
            "<re.Match object; span=(228, 229), match='u'>\n",
            "<re.Match object; span=(229, 230), match='k'>\n",
            "<re.Match object; span=(230, 231), match='h'>\n",
            "<re.Match object; span=(231, 232), match='e'>\n",
            "<re.Match object; span=(232, 233), match='s'>\n",
            "<re.Match object; span=(233, 234), match='h'>\n",
            "<re.Match object; span=(235, 236), match='M'>\n",
            "<re.Match object; span=(236, 237), match='a'>\n",
            "<re.Match object; span=(237, 238), match='k'>\n",
            "<re.Match object; span=(238, 239), match='a'>\n",
            "<re.Match object; span=(239, 240), match='m'>\n",
            "<re.Match object; span=(241, 242), match='M'>\n",
            "<re.Match object; span=(242, 243), match='r'>\n",
            "<re.Match object; span=(243, 244), match='s'>\n",
            "<re.Match object; span=(246, 247), match='A'>\n",
            "<re.Match object; span=(247, 248), match='s'>\n",
            "<re.Match object; span=(248, 249), match='h'>\n",
            "<re.Match object; span=(249, 250), match='i'>\n",
            "<re.Match object; span=(250, 251), match='k'>\n",
            "<re.Match object; span=(251, 252), match='a'>\n",
            "<re.Match object; span=(253, 254), match='M'>\n",
            "<re.Match object; span=(254, 255), match='a'>\n",
            "<re.Match object; span=(255, 256), match='k'>\n",
            "<re.Match object; span=(256, 257), match='a'>\n",
            "<re.Match object; span=(257, 258), match='m'>\n",
            "<re.Match object; span=(260, 261), match='a'>\n",
            "<re.Match object; span=(261, 262), match='s'>\n",
            "<re.Match object; span=(262, 263), match='h'>\n",
            "<re.Match object; span=(263, 264), match='i'>\n",
            "<re.Match object; span=(264, 265), match='k'>\n",
            "<re.Match object; span=(265, 266), match='a'>\n",
            "<re.Match object; span=(267, 268), match='m'>\n",
            "<re.Match object; span=(268, 269), match='a'>\n",
            "<re.Match object; span=(269, 270), match='k'>\n",
            "<re.Match object; span=(270, 271), match='a'>\n",
            "<re.Match object; span=(271, 272), match='m'>\n",
            "<re.Match object; span=(273, 274), match='g'>\n",
            "<re.Match object; span=(274, 275), match='m'>\n",
            "<re.Match object; span=(275, 276), match='a'>\n",
            "<re.Match object; span=(276, 277), match='i'>\n",
            "<re.Match object; span=(277, 278), match='l'>\n",
            "<re.Match object; span=(279, 280), match='c'>\n",
            "<re.Match object; span=(280, 281), match='o'>\n",
            "<re.Match object; span=(281, 282), match='m'>\n",
            "<re.Match object; span=(283, 284), match='a'>\n",
            "<re.Match object; span=(284, 285), match='s'>\n",
            "<re.Match object; span=(285, 286), match='h'>\n",
            "<re.Match object; span=(286, 287), match='i'>\n",
            "<re.Match object; span=(287, 288), match='k'>\n",
            "<re.Match object; span=(288, 289), match='a'>\n",
            "<re.Match object; span=(291, 292), match='p'>\n",
            "<re.Match object; span=(292, 293), match='o'>\n",
            "<re.Match object; span=(293, 294), match='b'>\n",
            "<re.Match object; span=(294, 295), match='b'>\n",
            "<re.Match object; span=(295, 296), match='a'>\n",
            "<re.Match object; span=(296, 297), match='t'>\n",
            "<re.Match object; span=(297, 298), match='h'>\n",
            "<re.Match object; span=(298, 299), match='i'>\n",
            "<re.Match object; span=(300, 301), match='m'>\n",
            "<re.Match object; span=(301, 302), match='y'>\n",
            "<re.Match object; span=(303, 304), match='w'>\n",
            "<re.Match object; span=(304, 305), match='o'>\n",
            "<re.Match object; span=(305, 306), match='r'>\n",
            "<re.Match object; span=(306, 307), match='k'>\n",
            "<re.Match object; span=(308, 309), match='n'>\n",
            "<re.Match object; span=(309, 310), match='e'>\n",
            "<re.Match object; span=(310, 311), match='t'>\n",
            "<re.Match object; span=(312, 313), match='a'>\n",
            "<re.Match object; span=(313, 314), match='s'>\n",
            "<re.Match object; span=(314, 315), match='h'>\n",
            "<re.Match object; span=(315, 316), match='i'>\n",
            "<re.Match object; span=(316, 317), match='k'>\n",
            "<re.Match object; span=(317, 318), match='a'>\n",
            "<re.Match object; span=(319, 320), match='a'>\n",
            "<re.Match object; span=(320, 321), match='n'>\n",
            "<re.Match object; span=(321, 322), match='a'>\n",
            "<re.Match object; span=(322, 323), match='n'>\n",
            "<re.Match object; span=(323, 324), match='d'>\n",
            "<re.Match object; span=(324, 325), match='b'>\n",
            "<re.Match object; span=(325, 326), match='a'>\n",
            "<re.Match object; span=(326, 327), match='b'>\n",
            "<re.Match object; span=(327, 328), match='u'>\n",
            "<re.Match object; span=(329, 330), match='s'>\n",
            "<re.Match object; span=(330, 331), match='j'>\n",
            "<re.Match object; span=(331, 332), match='s'>\n",
            "<re.Match object; span=(332, 333), match='u'>\n",
            "<re.Match object; span=(334, 335), match='e'>\n",
            "<re.Match object; span=(335, 336), match='d'>\n",
            "<re.Match object; span=(336, 337), match='u'>\n",
            "<re.Match object; span=(339, 340), match='T'>\n",
            "<re.Match object; span=(340, 341), match='h'>\n",
            "<re.Match object; span=(341, 342), match='i'>\n",
            "<re.Match object; span=(342, 343), match='s'>\n",
            "<re.Match object; span=(344, 345), match='i'>\n",
            "<re.Match object; span=(345, 346), match='s'>\n",
            "<re.Match object; span=(347, 348), match='a'>\n",
            "<re.Match object; span=(349, 350), match='s'>\n",
            "<re.Match object; span=(350, 351), match='i'>\n",
            "<re.Match object; span=(351, 352), match='m'>\n",
            "<re.Match object; span=(352, 353), match='p'>\n",
            "<re.Match object; span=(353, 354), match='l'>\n",
            "<re.Match object; span=(354, 355), match='e'>\n",
            "<re.Match object; span=(356, 357), match='s'>\n",
            "<re.Match object; span=(357, 358), match='e'>\n",
            "<re.Match object; span=(358, 359), match='n'>\n",
            "<re.Match object; span=(359, 360), match='t'>\n",
            "<re.Match object; span=(360, 361), match='e'>\n",
            "<re.Match object; span=(361, 362), match='n'>\n",
            "<re.Match object; span=(362, 363), match='c'>\n",
            "<re.Match object; span=(363, 364), match='e'>\n"
          ]
        }
      ]
    },
    {
      "cell_type": "code",
      "source": [
        "# Match all characters that is not a-z or A-Z\n",
        "pattern = re.compile(r'[^a-zA-Z]') # ^ - negates the condition within brackets. Matches numbers, spaces, newline, special characters\n",
        "matches = pattern.finditer(text_to_search) \n",
        "for match in matches: \n",
        "  print(match)"
      ],
      "metadata": {
        "id": "QozmcNdWeoUD",
        "colab": {
          "base_uri": "https://localhost:8080/"
        },
        "outputId": "4a162d82-6889-493f-f66e-a4ef300d7997"
      },
      "execution_count": null,
      "outputs": [
        {
          "output_type": "stream",
          "name": "stdout",
          "text": [
            "<re.Match object; span=(0, 1), match='\\n'>\n",
            "<re.Match object; span=(27, 28), match='\\n'>\n",
            "<re.Match object; span=(54, 55), match='\\n'>\n",
            "<re.Match object; span=(55, 56), match='0'>\n",
            "<re.Match object; span=(56, 57), match='1'>\n",
            "<re.Match object; span=(57, 58), match='2'>\n",
            "<re.Match object; span=(58, 59), match='3'>\n",
            "<re.Match object; span=(59, 60), match='4'>\n",
            "<re.Match object; span=(60, 61), match='5'>\n",
            "<re.Match object; span=(61, 62), match='6'>\n",
            "<re.Match object; span=(62, 63), match='7'>\n",
            "<re.Match object; span=(63, 64), match='8'>\n",
            "<re.Match object; span=(64, 65), match='9'>\n",
            "<re.Match object; span=(65, 66), match='\\n'>\n",
            "<re.Match object; span=(66, 67), match='\\n'>\n",
            "<re.Match object; span=(69, 70), match=' '>\n",
            "<re.Match object; span=(74, 75), match='\\n'>\n",
            "<re.Match object; span=(80, 81), match='.'>\n",
            "<re.Match object; span=(84, 85), match='\\n'>\n",
            "<re.Match object; span=(90, 91), match='\\n'>\n",
            "<re.Match object; span=(91, 92), match='!'>\n",
            "<re.Match object; span=(92, 93), match='@'>\n",
            "<re.Match object; span=(93, 94), match='#'>\n",
            "<re.Match object; span=(94, 95), match='$'>\n",
            "<re.Match object; span=(95, 96), match='%'>\n",
            "<re.Match object; span=(96, 97), match='^'>\n",
            "<re.Match object; span=(97, 98), match='&'>\n",
            "<re.Match object; span=(98, 99), match='*'>\n",
            "<re.Match object; span=(99, 100), match='('>\n",
            "<re.Match object; span=(100, 101), match=')'>\n",
            "<re.Match object; span=(101, 102), match='\"'>\n",
            "<re.Match object; span=(102, 103), match=':'>\n",
            "<re.Match object; span=(103, 104), match='}'>\n",
            "<re.Match object; span=(104, 105), match='{'>\n",
            "<re.Match object; span=(105, 106), match='['>\n",
            "<re.Match object; span=(106, 107), match=']'>\n",
            "<re.Match object; span=(107, 108), match=';'>\n",
            "<re.Match object; span=(108, 109), match=\"'\">\n",
            "<re.Match object; span=(109, 110), match='<'>\n",
            "<re.Match object; span=(110, 111), match='>'>\n",
            "<re.Match object; span=(111, 112), match=','>\n",
            "<re.Match object; span=(112, 113), match='.'>\n",
            "<re.Match object; span=(113, 114), match='/'>\n",
            "<re.Match object; span=(114, 115), match='?'>\n",
            "<re.Match object; span=(115, 116), match='\\\\'>\n",
            "<re.Match object; span=(116, 117), match='|'>\n",
            "<re.Match object; span=(117, 118), match='`'>\n",
            "<re.Match object; span=(118, 119), match='~'>\n",
            "<re.Match object; span=(119, 120), match='-'>\n",
            "<re.Match object; span=(120, 121), match='_'>\n",
            "<re.Match object; span=(121, 122), match='+'>\n",
            "<re.Match object; span=(122, 123), match='='>\n",
            "<re.Match object; span=(123, 124), match='}'>\n",
            "<re.Match object; span=(124, 125), match='\\n'>\n",
            "<re.Match object; span=(125, 126), match='\\n'>\n",
            "<re.Match object; span=(126, 127), match='3'>\n",
            "<re.Match object; span=(127, 128), match='2'>\n",
            "<re.Match object; span=(128, 129), match='1'>\n",
            "<re.Match object; span=(129, 130), match='-'>\n",
            "<re.Match object; span=(130, 131), match='5'>\n",
            "<re.Match object; span=(131, 132), match='5'>\n",
            "<re.Match object; span=(132, 133), match='5'>\n",
            "<re.Match object; span=(133, 134), match='-'>\n",
            "<re.Match object; span=(134, 135), match='4'>\n",
            "<re.Match object; span=(135, 136), match='3'>\n",
            "<re.Match object; span=(136, 137), match='1'>\n",
            "<re.Match object; span=(137, 138), match='2'>\n",
            "<re.Match object; span=(138, 139), match='\\n'>\n",
            "<re.Match object; span=(139, 140), match='3'>\n",
            "<re.Match object; span=(140, 141), match='2'>\n",
            "<re.Match object; span=(141, 142), match='1'>\n",
            "<re.Match object; span=(142, 143), match='.'>\n",
            "<re.Match object; span=(143, 144), match='5'>\n",
            "<re.Match object; span=(144, 145), match='5'>\n",
            "<re.Match object; span=(145, 146), match='5'>\n",
            "<re.Match object; span=(146, 147), match='.'>\n",
            "<re.Match object; span=(147, 148), match='4'>\n",
            "<re.Match object; span=(148, 149), match='3'>\n",
            "<re.Match object; span=(149, 150), match='1'>\n",
            "<re.Match object; span=(150, 151), match='2'>\n",
            "<re.Match object; span=(151, 152), match='\\n'>\n",
            "<re.Match object; span=(152, 153), match='\\n'>\n",
            "<re.Match object; span=(153, 154), match='8'>\n",
            "<re.Match object; span=(154, 155), match='0'>\n",
            "<re.Match object; span=(155, 156), match='0'>\n",
            "<re.Match object; span=(156, 157), match='-'>\n",
            "<re.Match object; span=(157, 158), match='5'>\n",
            "<re.Match object; span=(158, 159), match='5'>\n",
            "<re.Match object; span=(159, 160), match='5'>\n",
            "<re.Match object; span=(160, 161), match='-'>\n",
            "<re.Match object; span=(161, 162), match='4'>\n",
            "<re.Match object; span=(162, 163), match='3'>\n",
            "<re.Match object; span=(163, 164), match='1'>\n",
            "<re.Match object; span=(164, 165), match='2'>\n",
            "<re.Match object; span=(165, 166), match='\\n'>\n",
            "<re.Match object; span=(166, 167), match='9'>\n",
            "<re.Match object; span=(167, 168), match='0'>\n",
            "<re.Match object; span=(168, 169), match='0'>\n",
            "<re.Match object; span=(169, 170), match='-'>\n",
            "<re.Match object; span=(170, 171), match='5'>\n",
            "<re.Match object; span=(171, 172), match='5'>\n",
            "<re.Match object; span=(172, 173), match='5'>\n",
            "<re.Match object; span=(173, 174), match='-'>\n",
            "<re.Match object; span=(174, 175), match='4'>\n",
            "<re.Match object; span=(175, 176), match='3'>\n",
            "<re.Match object; span=(176, 177), match='1'>\n",
            "<re.Match object; span=(177, 178), match='2'>\n",
            "<re.Match object; span=(178, 179), match='\\n'>\n",
            "<re.Match object; span=(179, 180), match='\\n'>\n",
            "<re.Match object; span=(180, 181), match='1'>\n",
            "<re.Match object; span=(181, 182), match='2'>\n",
            "<re.Match object; span=(182, 183), match='7'>\n",
            "<re.Match object; span=(183, 184), match='.'>\n",
            "<re.Match object; span=(184, 185), match='0'>\n",
            "<re.Match object; span=(185, 186), match='0'>\n",
            "<re.Match object; span=(186, 187), match='0'>\n",
            "<re.Match object; span=(187, 188), match='.'>\n",
            "<re.Match object; span=(188, 189), match='0'>\n",
            "<re.Match object; span=(189, 190), match='0'>\n",
            "<re.Match object; span=(190, 191), match='0'>\n",
            "<re.Match object; span=(191, 192), match='.'>\n",
            "<re.Match object; span=(192, 193), match='0'>\n",
            "<re.Match object; span=(193, 194), match='0'>\n",
            "<re.Match object; span=(194, 195), match='1'>\n",
            "<re.Match object; span=(195, 196), match=':'>\n",
            "<re.Match object; span=(196, 197), match='8'>\n",
            "<re.Match object; span=(197, 198), match='0'>\n",
            "<re.Match object; span=(198, 199), match='8'>\n",
            "<re.Match object; span=(199, 200), match='0'>\n",
            "<re.Match object; span=(200, 201), match='\\n'>\n",
            "<re.Match object; span=(201, 202), match='\\n'>\n",
            "<re.Match object; span=(205, 206), match='\\n'>\n",
            "<re.Match object; span=(209, 210), match='\\n'>\n",
            "<re.Match object; span=(213, 214), match='\\n'>\n",
            "<re.Match object; span=(217, 218), match='\\n'>\n",
            "<re.Match object; span=(221, 222), match='\\n'>\n",
            "<re.Match object; span=(222, 223), match='\\n'>\n",
            "<re.Match object; span=(225, 226), match='.'>\n",
            "<re.Match object; span=(226, 227), match=' '>\n",
            "<re.Match object; span=(234, 235), match=' '>\n",
            "<re.Match object; span=(240, 241), match='\\n'>\n",
            "<re.Match object; span=(244, 245), match='.'>\n",
            "<re.Match object; span=(245, 246), match=' '>\n",
            "<re.Match object; span=(252, 253), match=' '>\n",
            "<re.Match object; span=(258, 259), match='\\n'>\n",
            "<re.Match object; span=(259, 260), match='\\n'>\n",
            "<re.Match object; span=(266, 267), match='-'>\n",
            "<re.Match object; span=(272, 273), match='@'>\n",
            "<re.Match object; span=(278, 279), match='.'>\n",
            "<re.Match object; span=(282, 283), match='\\n'>\n",
            "<re.Match object; span=(289, 290), match='1'>\n",
            "<re.Match object; span=(290, 291), match='2'>\n",
            "<re.Match object; span=(299, 300), match='@'>\n",
            "<re.Match object; span=(302, 303), match='-'>\n",
            "<re.Match object; span=(307, 308), match='.'>\n",
            "<re.Match object; span=(311, 312), match='\\n'>\n",
            "<re.Match object; span=(318, 319), match='.'>\n",
            "<re.Match object; span=(328, 329), match='@'>\n",
            "<re.Match object; span=(333, 334), match='.'>\n",
            "<re.Match object; span=(337, 338), match='\\n'>\n",
            "<re.Match object; span=(338, 339), match='\\n'>\n",
            "<re.Match object; span=(343, 344), match=' '>\n",
            "<re.Match object; span=(346, 347), match=' '>\n",
            "<re.Match object; span=(348, 349), match=' '>\n",
            "<re.Match object; span=(355, 356), match=' '>\n",
            "<re.Match object; span=(364, 365), match='\\n'>\n",
            "<re.Match object; span=(365, 366), match='\\n'>\n"
          ]
        }
      ]
    },
    {
      "cell_type": "code",
      "source": [
        "# Match all 3 letter words that end with at but not starting with b\n",
        "pattern = re.compile(r'[^b]at')\n",
        "matches = pattern.finditer(text_to_search) \n",
        "for match in matches: \n",
        "  print(match)"
      ],
      "metadata": {
        "colab": {
          "base_uri": "https://localhost:8080/"
        },
        "id": "1qvyJQN8fRy6",
        "outputId": "fe0aa7a8-aa44-42b6-94d5-ab0664b62d8d"
      },
      "execution_count": null,
      "outputs": [
        {
          "output_type": "stream",
          "name": "stdout",
          "text": [
            "<re.Match object; span=(202, 205), match='cat'>\n",
            "<re.Match object; span=(206, 209), match='rat'>\n",
            "<re.Match object; span=(210, 213), match='mat'>\n",
            "<re.Match object; span=(214, 217), match='pat'>\n"
          ]
        }
      ]
    },
    {
      "cell_type": "code",
      "source": [
        "# Mr followed by dot or no dot and get the entire first name (word)\n",
        "pattern = re.compile(r'Mr\\.?\\s[A-Za-z]\\w*')\n",
        "matches = pattern.finditer(text_to_search) \n",
        "for match in matches: \n",
        "  print(match)"
      ],
      "metadata": {
        "id": "tmGpk8a5fyln",
        "colab": {
          "base_uri": "https://localhost:8080/"
        },
        "outputId": "34324bb2-5d11-42dd-b4b1-64b3e9866f65"
      },
      "execution_count": null,
      "outputs": [
        {
          "output_type": "stream",
          "name": "stdout",
          "text": [
            "<re.Match object; span=(223, 234), match='Mr. Sukhesh'>\n"
          ]
        }
      ]
    },
    {
      "cell_type": "code",
      "source": [
        "# Groups: ()\n",
        "# | : either Or\n",
        "pattern = re.compile(r'M(r|s|rs)\\.?\\s[A-Za-z]\\w*') # Can also be written as: (r'(Mr|Ms|Mrs)\\.?\\s[A-Za-z]\\w*')\n",
        "matches = pattern.finditer(text_to_search) \n",
        "for match in matches: \n",
        "  print(match)"
      ],
      "metadata": {
        "colab": {
          "base_uri": "https://localhost:8080/"
        },
        "id": "TGTtJ9qX-DEW",
        "outputId": "eb680a0e-3bea-4f63-d6ab-5f92dc31c8f3"
      },
      "execution_count": null,
      "outputs": [
        {
          "output_type": "stream",
          "name": "stdout",
          "text": [
            "<re.Match object; span=(223, 234), match='Mr. Sukhesh'>\n",
            "<re.Match object; span=(241, 252), match='Mrs. Ashika'>\n"
          ]
        }
      ]
    },
    {
      "cell_type": "code",
      "source": [
        "pattern = re.compile(r'[a-zA-Z0-9._+-]+@[a-zA-Z0-9-]+\\.[a-zA-Z0-9-.]+')\n",
        "matches = pattern.finditer(text_to_search) \n",
        "for match in matches: \n",
        "  print(match)"
      ],
      "metadata": {
        "colab": {
          "base_uri": "https://localhost:8080/"
        },
        "id": "iPRpKYYI-1OT",
        "outputId": "f0048104-394a-4445-fb48-6ca585783bd5"
      },
      "execution_count": null,
      "outputs": [
        {
          "output_type": "stream",
          "name": "stdout",
          "text": [
            "<re.Match object; span=(260, 282), match='ashika-makam@gmail.com'>\n",
            "<re.Match object; span=(283, 311), match='ashika12pobbathi@my-work.net'>\n",
            "<re.Match object; span=(312, 337), match='ashika.anandbabu@sjsu.edu'>\n"
          ]
        }
      ]
    },
    {
      "cell_type": "code",
      "source": [
        "urls = '''\n",
        "https://www.google.com\n",
        "http://ashika12.in\n",
        "https://youtube.com\n",
        "https://www.nasa.gov\n",
        "'''\n",
        "pattern = re.compile(r'https?://(www\\.)?[a-zA-Z0-9-]+\\.[a-zA-Z0-9]+') #Can be written as: (r'https?://(www\\.)?(\\w+)(\\.\\w+)')\n",
        "matches = pattern.finditer(urls) \n",
        "for match in matches: \n",
        "  print(match.group(0))"
      ],
      "metadata": {
        "colab": {
          "base_uri": "https://localhost:8080/"
        },
        "id": "3bB_toygAIPv",
        "outputId": "4a12200e-3059-48b7-99c9-961bcf56214d"
      },
      "execution_count": null,
      "outputs": [
        {
          "output_type": "stream",
          "name": "stdout",
          "text": [
            "https://www.google.com\n",
            "http://ashika12.in\n",
            "https://youtube.com\n",
            "https://www.nasa.gov\n"
          ]
        }
      ]
    },
    {
      "cell_type": "code",
      "source": [
        "pattern = re.compile(r'https?://(www\\.)?(\\w+)(\\.\\w+)')\n",
        "sub_url = pattern.sub(r'\\2\\3',urls)\n",
        "print(sub_url)\n",
        "# matches = pattern.finditer(urls) \n",
        "# for match in matches: \n",
        "#   print(match.group(3))"
      ],
      "metadata": {
        "colab": {
          "base_uri": "https://localhost:8080/"
        },
        "id": "7USC9-1aB2tm",
        "outputId": "7f3c2a4b-0d46-4183-97b4-c99f3efc07df"
      },
      "execution_count": null,
      "outputs": [
        {
          "output_type": "stream",
          "name": "stdout",
          "text": [
            "\n",
            "google.com\n",
            "ashika12.in\n",
            "youtube.com\n",
            "nasa.gov\n",
            "\n"
          ]
        }
      ]
    },
    {
      "cell_type": "code",
      "source": [
        "pattern = re.compile(r'\\d{3}[-.]\\d{3}[-.]\\d{4}')\n",
        "matches = pattern.findall(text_to_search) # Findall only return the string but not the index of the matched string\n",
        "for match in matches: \n",
        "  print(match)"
      ],
      "metadata": {
        "colab": {
          "base_uri": "https://localhost:8080/"
        },
        "id": "RJ78PBXZDVOW",
        "outputId": "9122d660-c9af-47b6-a459-b9ae8daeb5d0"
      },
      "execution_count": null,
      "outputs": [
        {
          "output_type": "stream",
          "name": "stdout",
          "text": [
            "321-555-4312\n",
            "321.555.4312\n",
            "800-555-4312\n",
            "900-555-4312\n"
          ]
        }
      ]
    },
    {
      "cell_type": "code",
      "source": [
        "sentence = 'Start of sentence'\n",
        "pattern = re.compile(r'sentence')\n",
        "matches = pattern.match(sentence) # Only matches if beginning word in the sentence is the searched word ('Start' will work)\n",
        "print(matches)"
      ],
      "metadata": {
        "colab": {
          "base_uri": "https://localhost:8080/"
        },
        "id": "GJuazW_rDrK1",
        "outputId": "3406ead6-89b0-4ffc-94f2-9f256a985c9a"
      },
      "execution_count": null,
      "outputs": [
        {
          "output_type": "stream",
          "name": "stdout",
          "text": [
            "None\n"
          ]
        }
      ]
    },
    {
      "cell_type": "code",
      "source": [
        "sentence = 'Start of sentence'\n",
        "pattern = re.compile(r'sentence')\n",
        "matches = pattern.search(sentence) # search prints out only the First match of the word in the sentence\n",
        "print(matches)"
      ],
      "metadata": {
        "colab": {
          "base_uri": "https://localhost:8080/"
        },
        "id": "FDK68s9AEMSx",
        "outputId": "82b41de3-e06c-4fce-9286-a1353332ff18"
      },
      "execution_count": null,
      "outputs": [
        {
          "output_type": "stream",
          "name": "stdout",
          "text": [
            "<re.Match object; span=(9, 17), match='sentence'>\n"
          ]
        }
      ]
    },
    {
      "cell_type": "code",
      "source": [
        "# Flags\n",
        "# Ignore case: re.I | re.IGNORECASE\n",
        "sentence = 'Start of sentence'\n",
        "pattern = re.compile(r'start', re.I)\n",
        "matches = pattern.match(sentence) \n",
        "print(matches)"
      ],
      "metadata": {
        "colab": {
          "base_uri": "https://localhost:8080/"
        },
        "id": "DmOdYn0cFBc4",
        "outputId": "d63c609f-ae55-4f13-b089-6b677f8fe199"
      },
      "execution_count": null,
      "outputs": [
        {
          "output_type": "stream",
          "name": "stdout",
          "text": [
            "<re.Match object; span=(0, 5), match='Start'>\n"
          ]
        }
      ]
    }
  ]
}