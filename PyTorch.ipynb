{
  "nbformat": 4,
  "nbformat_minor": 0,
  "metadata": {
    "colab": {
      "name": "PyTorch.ipynb",
      "provenance": [],
      "authorship_tag": "ABX9TyN9juSUt3knHS8xuqcPVuk8",
      "include_colab_link": true
    },
    "kernelspec": {
      "name": "python3",
      "display_name": "Python 3"
    },
    "language_info": {
      "name": "python"
    },
    "accelerator": "GPU"
  },
  "cells": [
    {
      "cell_type": "markdown",
      "metadata": {
        "id": "view-in-github",
        "colab_type": "text"
      },
      "source": [
        "<a href=\"https://colab.research.google.com/github/AshikaAnand12/Main/blob/main/PyTorch.ipynb\" target=\"_parent\"><img src=\"https://colab.research.google.com/assets/colab-badge.svg\" alt=\"Open In Colab\"/></a>"
      ]
    },
    {
      "cell_type": "code",
      "execution_count": null,
      "metadata": {
        "id": "K44JgMEA7t1k"
      },
      "outputs": [],
      "source": [
        "# pytorch operations\n",
        "import torch\n",
        "import numpy as np"
      ]
    },
    {
      "cell_type": "code",
      "source": [
        "a1 = torch.ones(3)\n",
        "print(a1)"
      ],
      "metadata": {
        "colab": {
          "base_uri": "https://localhost:8080/"
        },
        "id": "aqWe8s3jA8rH",
        "outputId": "9304109b-3705-458a-de26-89eefc6955bf"
      },
      "execution_count": null,
      "outputs": [
        {
          "output_type": "stream",
          "name": "stdout",
          "text": [
            "tensor([1., 1., 1.])\n"
          ]
        }
      ]
    },
    {
      "cell_type": "code",
      "source": [
        "print(float(a1[1]))"
      ],
      "metadata": {
        "colab": {
          "base_uri": "https://localhost:8080/"
        },
        "id": "c2ZIL5dZBPNu",
        "outputId": "3f594733-63ed-4dbc-b762-b6736850ee48"
      },
      "execution_count": null,
      "outputs": [
        {
          "output_type": "stream",
          "name": "stdout",
          "text": [
            "1.0\n"
          ]
        }
      ]
    },
    {
      "cell_type": "code",
      "source": [
        "a1[2] = 5\n",
        "print(a1)"
      ],
      "metadata": {
        "colab": {
          "base_uri": "https://localhost:8080/"
        },
        "id": "XBrb31eUBVd1",
        "outputId": "3bb8b24d-3483-4174-9059-701530875938"
      },
      "execution_count": null,
      "outputs": [
        {
          "output_type": "stream",
          "name": "stdout",
          "text": [
            "tensor([1., 1., 5.])\n"
          ]
        }
      ]
    },
    {
      "cell_type": "code",
      "source": [
        "# 2D tensor\n",
        "arr = torch.tensor([[2,3],[4,5],[8,9]])\n",
        "print(\"Array: \",arr)\n",
        "# print(\"Size: \", torch.Size([3,2]))\n",
        "print(\"Shape: \", arr.shape)"
      ],
      "metadata": {
        "colab": {
          "base_uri": "https://localhost:8080/"
        },
        "id": "jub5OaVCBiGs",
        "outputId": "dadac5a3-c94b-456d-890c-69ab7630d746"
      },
      "execution_count": null,
      "outputs": [
        {
          "output_type": "stream",
          "name": "stdout",
          "text": [
            "Array:  tensor([[2, 3],\n",
            "        [4, 5],\n",
            "        [8, 9]])\n",
            "Shape:  torch.Size([3, 2])\n"
          ]
        }
      ]
    },
    {
      "cell_type": "code",
      "source": [
        "zer = torch.zeros([2,3,4])\n",
        "print(\"Array looks like:\",zer)\n",
        "print(\"Shape: \", zer.shape)\n",
        "print(\"Size: \",zer.size())"
      ],
      "metadata": {
        "colab": {
          "base_uri": "https://localhost:8080/"
        },
        "id": "XIRcqQkWmeki",
        "outputId": "8d445746-d02a-4a76-bc2f-3ac03a1bfbcb"
      },
      "execution_count": null,
      "outputs": [
        {
          "output_type": "stream",
          "name": "stdout",
          "text": [
            "Array looks like: tensor([[[0., 0., 0., 0.],\n",
            "         [0., 0., 0., 0.],\n",
            "         [0., 0., 0., 0.]],\n",
            "\n",
            "        [[0., 0., 0., 0.],\n",
            "         [0., 0., 0., 0.],\n",
            "         [0., 0., 0., 0.]]])\n",
            "Shape:  torch.Size([2, 3, 4])\n",
            "Size:  torch.Size([2, 3, 4])\n"
          ]
        }
      ]
    },
    {
      "cell_type": "code",
      "source": [
        "torch.zeros([2, 4], dtype=torch.int32)"
      ],
      "metadata": {
        "colab": {
          "base_uri": "https://localhost:8080/"
        },
        "id": "_DbB4CCon1MH",
        "outputId": "afad98a6-9a50-49b4-d63b-ab7062cc562d"
      },
      "execution_count": null,
      "outputs": [
        {
          "output_type": "execute_result",
          "data": {
            "text/plain": [
              "tensor([[0, 0, 0, 0],\n",
              "        [0, 0, 0, 0]], dtype=torch.int32)"
            ]
          },
          "metadata": {},
          "execution_count": 9
        }
      ]
    },
    {
      "cell_type": "code",
      "source": [
        "!nvidia-smi"
      ],
      "metadata": {
        "colab": {
          "base_uri": "https://localhost:8080/"
        },
        "id": "Mn30Aeb_ooDZ",
        "outputId": "5c27abad-c3ad-4828-d4aa-9ce7bcfb1041"
      },
      "execution_count": null,
      "outputs": [
        {
          "output_type": "stream",
          "name": "stdout",
          "text": [
            "Thu Feb 24 04:05:59 2022       \n",
            "+-----------------------------------------------------------------------------+\n",
            "| NVIDIA-SMI 460.32.03    Driver Version: 460.32.03    CUDA Version: 11.2     |\n",
            "|-------------------------------+----------------------+----------------------+\n",
            "| GPU  Name        Persistence-M| Bus-Id        Disp.A | Volatile Uncorr. ECC |\n",
            "| Fan  Temp  Perf  Pwr:Usage/Cap|         Memory-Usage | GPU-Util  Compute M. |\n",
            "|                               |                      |               MIG M. |\n",
            "|===============================+======================+======================|\n",
            "|   0  Tesla K80           Off  | 00000000:00:04.0 Off |                    0 |\n",
            "| N/A   31C    P8    28W / 149W |      0MiB / 11441MiB |      0%      Default |\n",
            "|                               |                      |                  N/A |\n",
            "+-------------------------------+----------------------+----------------------+\n",
            "                                                                               \n",
            "+-----------------------------------------------------------------------------+\n",
            "| Processes:                                                                  |\n",
            "|  GPU   GI   CI        PID   Type   Process name                  GPU Memory |\n",
            "|        ID   ID                                                   Usage      |\n",
            "|=============================================================================|\n",
            "|  No running processes found                                                 |\n",
            "+-----------------------------------------------------------------------------+\n"
          ]
        }
      ]
    },
    {
      "cell_type": "code",
      "source": [
        "torch.cuda.is_available()"
      ],
      "metadata": {
        "colab": {
          "base_uri": "https://localhost:8080/"
        },
        "id": "wJEYBfFfo94q",
        "outputId": "b7851d36-8d15-488b-947f-446857e0e955"
      },
      "execution_count": null,
      "outputs": [
        {
          "output_type": "execute_result",
          "data": {
            "text/plain": [
              "True"
            ]
          },
          "metadata": {},
          "execution_count": 11
        }
      ]
    },
    {
      "cell_type": "code",
      "source": [
        "# To use CUDA\n",
        "cuda0 = torch.device('cuda:0')\n",
        "torch.ones([2, 4], dtype=torch.float64, device=cuda0)"
      ],
      "metadata": {
        "colab": {
          "base_uri": "https://localhost:8080/"
        },
        "id": "Oz4NdJJZohPT",
        "outputId": "b8cb10ec-1ed2-413e-c71b-0de1994fb8c0"
      },
      "execution_count": null,
      "outputs": [
        {
          "output_type": "execute_result",
          "data": {
            "text/plain": [
              "tensor([[1., 1., 1., 1.],\n",
              "        [1., 1., 1., 1.]], device='cuda:0', dtype=torch.float64)"
            ]
          },
          "metadata": {},
          "execution_count": 12
        }
      ]
    },
    {
      "cell_type": "code",
      "source": [
        "# You can access the storage for a given tensor by using the .storage property\n",
        "arr2 = torch.tensor([[2.0,5.5,3.3],[2,3,5],[3,3,3],[5.5,5.5,5.5]])\n",
        "arr2.storage()\n",
        "print(arr2)\n"
      ],
      "metadata": {
        "colab": {
          "base_uri": "https://localhost:8080/"
        },
        "id": "1gnfrvBRpBut",
        "outputId": "6d7d1f64-1dba-43cd-e798-033f6249f6bc"
      },
      "execution_count": null,
      "outputs": [
        {
          "output_type": "stream",
          "name": "stdout",
          "text": [
            "tensor([[2.0000, 5.5000, 3.3000],\n",
            "        [2.0000, 3.0000, 5.0000],\n",
            "        [3.0000, 3.0000, 3.0000],\n",
            "        [5.5000, 5.5000, 5.5000]])\n"
          ]
        }
      ]
    },
    {
      "cell_type": "code",
      "source": [
        "arr2[0]"
      ],
      "metadata": {
        "colab": {
          "base_uri": "https://localhost:8080/"
        },
        "id": "XS18-KHMx0j8",
        "outputId": "bc9e5d0e-b847-407e-bfe2-bd7fa84512de"
      },
      "execution_count": null,
      "outputs": [
        {
          "output_type": "execute_result",
          "data": {
            "text/plain": [
              "tensor([2.0000, 5.5000, 3.3000])"
            ]
          },
          "metadata": {},
          "execution_count": 14
        }
      ]
    },
    {
      "cell_type": "code",
      "source": [
        "arr2.storage()[1]"
      ],
      "metadata": {
        "colab": {
          "base_uri": "https://localhost:8080/"
        },
        "id": "CJ4-84ftyQdD",
        "outputId": "fd958a6a-2ff9-4a13-d1e5-20f2f4cd2669"
      },
      "execution_count": null,
      "outputs": [
        {
          "output_type": "execute_result",
          "data": {
            "text/plain": [
              "5.5"
            ]
          },
          "metadata": {},
          "execution_count": 15
        }
      ]
    },
    {
      "cell_type": "code",
      "source": [
        "points = torch.tensor([[4.0, 1.0], [5.0, 3.0], [2.0, 1.0]])\n",
        "second_point = points[1]\n",
        "print(second_point)\n",
        "second_point.storage_offset()"
      ],
      "metadata": {
        "id": "YDojMq2_yXUF",
        "colab": {
          "base_uri": "https://localhost:8080/"
        },
        "outputId": "8f7a3b13-2f47-40b7-a4f7-548e64299952"
      },
      "execution_count": null,
      "outputs": [
        {
          "output_type": "stream",
          "name": "stdout",
          "text": [
            "tensor([5., 3.])\n"
          ]
        },
        {
          "output_type": "execute_result",
          "data": {
            "text/plain": [
              "2"
            ]
          },
          "metadata": {},
          "execution_count": 17
        }
      ]
    },
    {
      "cell_type": "code",
      "source": [
        "# Cloning a tensor\n",
        "points = torch.tensor([[4.0, 1.0], [5.0, 3.0], [2.0, 1.0]])\n",
        "second_point = points[1].clone()\n",
        "second_point[0] = 10.0\n",
        "points"
      ],
      "metadata": {
        "colab": {
          "base_uri": "https://localhost:8080/"
        },
        "id": "pDqBdXuE50DD",
        "outputId": "5ab113c3-bda8-42eb-f2af-e4e7b682bc6f"
      },
      "execution_count": null,
      "outputs": [
        {
          "output_type": "execute_result",
          "data": {
            "text/plain": [
              "tensor([[4., 1.],\n",
              "        [5., 3.],\n",
              "        [2., 1.]])"
            ]
          },
          "metadata": {},
          "execution_count": 18
        }
      ]
    },
    {
      "cell_type": "code",
      "source": [
        "# Transpose view\n",
        "points_t = points.t()\n",
        "points_t"
      ],
      "metadata": {
        "colab": {
          "base_uri": "https://localhost:8080/"
        },
        "id": "AJPNi_Ym6T2T",
        "outputId": "1dee7662-b730-4bd5-b247-daa8ee031d3e"
      },
      "execution_count": null,
      "outputs": [
        {
          "output_type": "execute_result",
          "data": {
            "text/plain": [
              "tensor([[4., 5., 2.],\n",
              "        [1., 3., 1.]])"
            ]
          },
          "metadata": {},
          "execution_count": 19
        }
      ]
    },
    {
      "cell_type": "code",
      "source": [
        "# IDs of points and transpose of points is same, only view has changed\n",
        "id(points.storage()) == id(points_t.storage())"
      ],
      "metadata": {
        "colab": {
          "base_uri": "https://localhost:8080/"
        },
        "id": "MevDjZq56fas",
        "outputId": "eecd3e28-e237-4580-dd20-7fe92661d30b"
      },
      "execution_count": null,
      "outputs": [
        {
          "output_type": "execute_result",
          "data": {
            "text/plain": [
              "True"
            ]
          },
          "metadata": {},
          "execution_count": 20
        }
      ]
    },
    {
      "cell_type": "code",
      "source": [
        "print(points.shape)\n",
        "print(points_t.shape)"
      ],
      "metadata": {
        "colab": {
          "base_uri": "https://localhost:8080/"
        },
        "id": "5ctxm3sw6vF3",
        "outputId": "e461a6bd-bce1-4ac8-d437-7488a80ba68a"
      },
      "execution_count": null,
      "outputs": [
        {
          "output_type": "stream",
          "name": "stdout",
          "text": [
            "torch.Size([3, 2])\n",
            "torch.Size([2, 3])\n"
          ]
        }
      ]
    },
    {
      "cell_type": "code",
      "source": [
        "one_t = torch.ones(3, 4, 5)\n",
        "transpose_t = one_t.transpose(0, 2)\n",
        "print(one_t)\n",
        "print(transpose_t)\n",
        "one_t.shape"
      ],
      "metadata": {
        "colab": {
          "base_uri": "https://localhost:8080/"
        },
        "id": "0AvUaJm-604G",
        "outputId": "624c21cb-deaa-4def-ded9-e365c6d9deb2"
      },
      "execution_count": null,
      "outputs": [
        {
          "output_type": "stream",
          "name": "stdout",
          "text": [
            "tensor([[[1., 1., 1., 1., 1.],\n",
            "         [1., 1., 1., 1., 1.],\n",
            "         [1., 1., 1., 1., 1.],\n",
            "         [1., 1., 1., 1., 1.]],\n",
            "\n",
            "        [[1., 1., 1., 1., 1.],\n",
            "         [1., 1., 1., 1., 1.],\n",
            "         [1., 1., 1., 1., 1.],\n",
            "         [1., 1., 1., 1., 1.]],\n",
            "\n",
            "        [[1., 1., 1., 1., 1.],\n",
            "         [1., 1., 1., 1., 1.],\n",
            "         [1., 1., 1., 1., 1.],\n",
            "         [1., 1., 1., 1., 1.]]])\n",
            "tensor([[[1., 1., 1.],\n",
            "         [1., 1., 1.],\n",
            "         [1., 1., 1.],\n",
            "         [1., 1., 1.]],\n",
            "\n",
            "        [[1., 1., 1.],\n",
            "         [1., 1., 1.],\n",
            "         [1., 1., 1.],\n",
            "         [1., 1., 1.]],\n",
            "\n",
            "        [[1., 1., 1.],\n",
            "         [1., 1., 1.],\n",
            "         [1., 1., 1.],\n",
            "         [1., 1., 1.]],\n",
            "\n",
            "        [[1., 1., 1.],\n",
            "         [1., 1., 1.],\n",
            "         [1., 1., 1.],\n",
            "         [1., 1., 1.]],\n",
            "\n",
            "        [[1., 1., 1.],\n",
            "         [1., 1., 1.],\n",
            "         [1., 1., 1.],\n",
            "         [1., 1., 1.]]])\n"
          ]
        },
        {
          "output_type": "execute_result",
          "data": {
            "text/plain": [
              "torch.Size([3, 4, 5])"
            ]
          },
          "metadata": {},
          "execution_count": 28
        }
      ]
    },
    {
      "cell_type": "code",
      "source": [
        "# Stride example: https://zhang-yang.medium.com/explain-pytorch-tensor-stride-and-tensor-storage-with-code-examples-50e637f1076d\n",
        "x = torch.arange(12).view((3,4))\n",
        "x"
      ],
      "metadata": {
        "colab": {
          "base_uri": "https://localhost:8080/"
        },
        "id": "Y8PIHHNo7DgM",
        "outputId": "37627808-c277-4cd7-cb23-199bebe1af71"
      },
      "execution_count": null,
      "outputs": [
        {
          "output_type": "execute_result",
          "data": {
            "text/plain": [
              "tensor([[ 0,  1,  2,  3],\n",
              "        [ 4,  5,  6,  7],\n",
              "        [ 8,  9, 10, 11]])"
            ]
          },
          "metadata": {},
          "execution_count": 30
        }
      ]
    },
    {
      "cell_type": "code",
      "source": [
        "# Stride is a tuple indicating the number of elements in the storage that have to be skipped when the index is increased by 1 in each dimension\n",
        "stride = x.stride()\n",
        "stride"
      ],
      "metadata": {
        "colab": {
          "base_uri": "https://localhost:8080/"
        },
        "id": "QhxISHIH7orr",
        "outputId": "57512d31-c81b-4acf-8a8d-cb70c98c6960"
      },
      "execution_count": null,
      "outputs": [
        {
          "output_type": "execute_result",
          "data": {
            "text/plain": [
              "(4, 1)"
            ]
          },
          "metadata": {},
          "execution_count": 31
        }
      ]
    },
    {
      "cell_type": "code",
      "source": [
        "# To get value at x[2][1]\n",
        "'''Here comes the part that explains stride. \n",
        "Suppose you want to access the element of the tensor x at row-2 and column-1, whose value is 9. \n",
        "We can write this in code. Note that idx are the indices of the element being accessed.'''\n",
        "idx = (2, 1)\n",
        "item = x[idx].item()\n",
        "item"
      ],
      "metadata": {
        "colab": {
          "base_uri": "https://localhost:8080/"
        },
        "id": "fc3shVfj8owM",
        "outputId": "163c9788-8d4f-4e1d-b74a-ffd25cccb603"
      },
      "execution_count": null,
      "outputs": [
        {
          "output_type": "execute_result",
          "data": {
            "text/plain": [
              "9"
            ]
          },
          "metadata": {},
          "execution_count": 32
        }
      ]
    },
    {
      "cell_type": "code",
      "source": [
        "# Equivalent to the previous cell\n",
        "loc = idx[0]*stride[0] + idx[1]*stride[1]\n",
        "loc"
      ],
      "metadata": {
        "colab": {
          "base_uri": "https://localhost:8080/"
        },
        "id": "EIRh1zeQ9UfX",
        "outputId": "d12038df-89f3-455b-8e12-feffbb03c2db"
      },
      "execution_count": null,
      "outputs": [
        {
          "output_type": "execute_result",
          "data": {
            "text/plain": [
              "9"
            ]
          },
          "metadata": {},
          "execution_count": 34
        }
      ]
    },
    {
      "cell_type": "code",
      "source": [
        "# Generally\n",
        "loc = sum([i*s for i,s in zip(idx, stride)])\n",
        "loc"
      ],
      "metadata": {
        "colab": {
          "base_uri": "https://localhost:8080/"
        },
        "id": "8uYj9iwe9Y8V",
        "outputId": "507d38bd-1326-445d-8bb4-87dbdbd94de7"
      },
      "execution_count": null,
      "outputs": [
        {
          "output_type": "execute_result",
          "data": {
            "text/plain": [
              "9"
            ]
          },
          "metadata": {},
          "execution_count": 35
        }
      ]
    },
    {
      "cell_type": "code",
      "source": [
        "''' Contiguous: Returns a contiguous in memory tensor containing the same data as self tensor. \n",
        "If self tensor is already in the specified memory format, this function returns the self tensor. '''\n",
        "print(points.is_contiguous())\n",
        "print(points_t.is_contiguous())"
      ],
      "metadata": {
        "colab": {
          "base_uri": "https://localhost:8080/"
        },
        "id": "tUsJjIke9huk",
        "outputId": "d50f6d81-6d3f-4dbe-b065-7d3038b3ae6b"
      },
      "execution_count": null,
      "outputs": [
        {
          "output_type": "stream",
          "name": "stdout",
          "text": [
            "True\n",
            "False\n"
          ]
        }
      ]
    },
    {
      "cell_type": "code",
      "source": [
        "# Different data types\n",
        "double_points = torch.ones(10, 2, dtype=torch.double)\n",
        "short_points = torch.tensor([[1, 2], [3, 4]], dtype=torch.short)\n",
        "print(\"Double DataType: \",double_points)\n",
        "print(\"Short DataType: \",short_points)"
      ],
      "metadata": {
        "colab": {
          "base_uri": "https://localhost:8080/"
        },
        "id": "FhGuCj7_-cVd",
        "outputId": "6ea906d5-eaf2-4bc7-ed1a-8c104f27efcf"
      },
      "execution_count": null,
      "outputs": [
        {
          "output_type": "stream",
          "name": "stdout",
          "text": [
            "Double DataType:  tensor([[1., 1.],\n",
            "        [1., 1.],\n",
            "        [1., 1.],\n",
            "        [1., 1.],\n",
            "        [1., 1.],\n",
            "        [1., 1.],\n",
            "        [1., 1.],\n",
            "        [1., 1.],\n",
            "        [1., 1.],\n",
            "        [1., 1.]], dtype=torch.float64)\n",
            "Short DataType:  tensor([[1, 2],\n",
            "        [3, 4]], dtype=torch.int16)\n"
          ]
        }
      ]
    },
    {
      "cell_type": "code",
      "source": [
        "# Typecasting\n",
        "double_points = torch.zeros(10, 2).double() # Can also be written as .to(torch.double)\n",
        "short_points = torch.ones(10, 2).short()"
      ],
      "metadata": {
        "id": "DmjA7wBI-zO5"
      },
      "execution_count": null,
      "outputs": []
    },
    {
      "cell_type": "code",
      "source": [
        "# Random Initialization\n",
        "tens = torch.randn(10,2) # 10, 2D array whose value is between 0-1\n",
        "print(tens)"
      ],
      "metadata": {
        "colab": {
          "base_uri": "https://localhost:8080/"
        },
        "id": "Xp9JfUiJ_Wmv",
        "outputId": "5381a07b-bad3-4d38-fff9-e62f84c9307b"
      },
      "execution_count": null,
      "outputs": [
        {
          "output_type": "stream",
          "name": "stdout",
          "text": [
            "tensor([[-1.1681,  0.2643],\n",
            "        [ 0.4563, -0.3781],\n",
            "        [-0.4220, -0.6726],\n",
            "        [-0.0180,  0.3261],\n",
            "        [-0.7610, -0.9417],\n",
            "        [ 0.2582, -0.5313],\n",
            "        [-0.0597, -0.7191],\n",
            "        [ 0.9988, -0.9465],\n",
            "        [-0.1074,  0.3311],\n",
            "        [ 0.5154,  1.3582]])\n"
          ]
        }
      ]
    },
    {
      "cell_type": "code",
      "source": [
        "# Broadcasting\n",
        "x = torch.ones(3,2,4)\n",
        "y = torch.ones(3,2,4)\n",
        "print(x+y)\n",
        "print((x+y).size())"
      ],
      "metadata": {
        "colab": {
          "base_uri": "https://localhost:8080/"
        },
        "id": "znKMVCOJACsY",
        "outputId": "485cb759-e61f-41b9-b51a-93a6d8fcb9d0"
      },
      "execution_count": null,
      "outputs": [
        {
          "output_type": "stream",
          "name": "stdout",
          "text": [
            "tensor([[[2., 2., 2., 2.],\n",
            "         [2., 2., 2., 2.]],\n",
            "\n",
            "        [[2., 2., 2., 2.],\n",
            "         [2., 2., 2., 2.]],\n",
            "\n",
            "        [[2., 2., 2., 2.],\n",
            "         [2., 2., 2., 2.]]])\n",
            "torch.Size([3, 2, 4])\n"
          ]
        }
      ]
    },
    {
      "cell_type": "code",
      "source": [
        "x = torch.ones(3,2,4)\n",
        "y = torch.ones(2,4)\n",
        "print(x+y)\n",
        "print((x+y).size())"
      ],
      "metadata": {
        "colab": {
          "base_uri": "https://localhost:8080/"
        },
        "id": "RTlHkKQxAwfv",
        "outputId": "fa19ccb6-ec9d-498e-b723-ded5ee39a29b"
      },
      "execution_count": null,
      "outputs": [
        {
          "output_type": "stream",
          "name": "stdout",
          "text": [
            "tensor([[[2., 2., 2., 2.],\n",
            "         [2., 2., 2., 2.]],\n",
            "\n",
            "        [[2., 2., 2., 2.],\n",
            "         [2., 2., 2., 2.]],\n",
            "\n",
            "        [[2., 2., 2., 2.],\n",
            "         [2., 2., 2., 2.]]])\n",
            "torch.Size([3, 2, 4])\n"
          ]
        }
      ]
    },
    {
      "cell_type": "code",
      "source": [
        "# Named tensors\n",
        "x = torch.zeros(2,3,names=('rows','columns'))\n",
        "x"
      ],
      "metadata": {
        "colab": {
          "base_uri": "https://localhost:8080/"
        },
        "id": "DpfXCG8SA4jL",
        "outputId": "157e0669-876f-44ed-cb14-89d53f623293"
      },
      "execution_count": null,
      "outputs": [
        {
          "output_type": "execute_result",
          "data": {
            "text/plain": [
              "tensor([[0., 0., 0.],\n",
              "        [0., 0., 0.]], names=('rows', 'columns'))"
            ]
          },
          "metadata": {},
          "execution_count": 48
        }
      ]
    },
    {
      "cell_type": "code",
      "source": [
        "y = x.rename(rows = 'Rows')\n",
        "y"
      ],
      "metadata": {
        "colab": {
          "base_uri": "https://localhost:8080/"
        },
        "id": "uITR9L9dBgsB",
        "outputId": "4625fb35-810a-4e81-ae42-41c4ad2ad918"
      },
      "execution_count": null,
      "outputs": [
        {
          "output_type": "execute_result",
          "data": {
            "text/plain": [
              "tensor([[0., 0., 0.],\n",
              "        [0., 0., 0.]], names=('Rows', 'columns'))"
            ]
          },
          "metadata": {},
          "execution_count": 49
        }
      ]
    },
    {
      "cell_type": "code",
      "source": [
        "# Matrix multiplication\n",
        "t1 = torch.randn(3,5) * 10\n",
        "t2 = torch.randn(5,3) * 10\n",
        "print(t1)\n",
        "print(t2)\n",
        "print(torch.matmul(t1,t2))"
      ],
      "metadata": {
        "colab": {
          "base_uri": "https://localhost:8080/"
        },
        "id": "57ybM10dB19K",
        "outputId": "ca0f9191-c08e-4eab-b522-d948c0e19df1"
      },
      "execution_count": null,
      "outputs": [
        {
          "output_type": "stream",
          "name": "stdout",
          "text": [
            "tensor([[-14.5930,   8.0915,   3.5935,   4.2028,  -4.9383],\n",
            "        [ -6.0198,  -0.2768,  -2.8306,   6.5161,   2.2366],\n",
            "        [ -5.0220, -11.4222,  13.1325,  -2.3110, -20.2467]])\n",
            "tensor([[ -3.7085,   7.4405,   4.0615],\n",
            "        [ -8.2074,   6.6774, -16.1681],\n",
            "        [ -2.9461,  -0.8994,  -5.8619],\n",
            "        [ 13.1821,  -4.7818,  -6.5008],\n",
            "        [-10.7932,  -6.3255,  -0.9603]])\n",
            "tensor([[  85.8235,  -46.6406, -233.7383],\n",
            "        [  94.6911,  -89.3995,  -47.8882],\n",
            "        [ 261.7440,   13.6748,  121.7633]])\n"
          ]
        }
      ]
    },
    {
      "cell_type": "markdown",
      "source": [
        "### Einsum"
      ],
      "metadata": {
        "id": "VAuJb1aeEW77"
      }
    },
    {
      "cell_type": "code",
      "source": [
        "# Transpose\n",
        "a = torch.arange(6).reshape(2, 3)\n",
        "print(\"A: \",a)\n",
        "torch.einsum('ij->ji', [a])"
      ],
      "metadata": {
        "colab": {
          "base_uri": "https://localhost:8080/"
        },
        "id": "co0pJoW3DaeT",
        "outputId": "2612251c-64d7-41c6-ffcc-f4cd50b2d575"
      },
      "execution_count": null,
      "outputs": [
        {
          "output_type": "stream",
          "name": "stdout",
          "text": [
            "A:  tensor([[0, 1, 2],\n",
            "        [3, 4, 5]])\n"
          ]
        },
        {
          "output_type": "execute_result",
          "data": {
            "text/plain": [
              "tensor([[0, 3],\n",
              "        [1, 4],\n",
              "        [2, 5]])"
            ]
          },
          "metadata": {},
          "execution_count": 53
        }
      ]
    },
    {
      "cell_type": "code",
      "source": [
        "# Sum of all values in the matrix\n",
        "torch.einsum('ij->', [a])"
      ],
      "metadata": {
        "colab": {
          "base_uri": "https://localhost:8080/"
        },
        "id": "k47z2KsNEdg4",
        "outputId": "fde1be59-62d2-4364-fffc-1207032e7750"
      },
      "execution_count": null,
      "outputs": [
        {
          "output_type": "execute_result",
          "data": {
            "text/plain": [
              "tensor(15)"
            ]
          },
          "metadata": {},
          "execution_count": 55
        }
      ]
    },
    {
      "cell_type": "code",
      "source": [
        "# Sum of all values in all column of the matrix\n",
        "torch.einsum('ij->j', [a])"
      ],
      "metadata": {
        "colab": {
          "base_uri": "https://localhost:8080/"
        },
        "id": "qHUhZyuxEnXP",
        "outputId": "32f3b271-8632-471c-fe66-04f45ada8ca0"
      },
      "execution_count": null,
      "outputs": [
        {
          "output_type": "execute_result",
          "data": {
            "text/plain": [
              "tensor([3, 5, 7])"
            ]
          },
          "metadata": {},
          "execution_count": 56
        }
      ]
    },
    {
      "cell_type": "code",
      "source": [
        "# Sum of all values in all rows of the matrix\n",
        "torch.einsum('ij->i', [a])"
      ],
      "metadata": {
        "colab": {
          "base_uri": "https://localhost:8080/"
        },
        "id": "1J_osPR8Exjl",
        "outputId": "2de7ccd3-d3b6-46cb-e9fb-9e7387e130c1"
      },
      "execution_count": null,
      "outputs": [
        {
          "output_type": "execute_result",
          "data": {
            "text/plain": [
              "tensor([ 3, 12])"
            ]
          },
          "metadata": {},
          "execution_count": 57
        }
      ]
    },
    {
      "cell_type": "code",
      "source": [
        "# Matrix vector multiplication - Regular matrix multiplication (No need for second matrix to transpose)\n",
        "b = torch.arange(3)\n",
        "print(a)\n",
        "print(b)\n",
        "torch.einsum('ik,k->i', [a, b]) # (2X3)X(3X1) = (2X1)"
      ],
      "metadata": {
        "colab": {
          "base_uri": "https://localhost:8080/"
        },
        "id": "bWCVMnsNE62C",
        "outputId": "6892aba8-e75a-49b0-8d44-df7c369ccffe"
      },
      "execution_count": null,
      "outputs": [
        {
          "output_type": "stream",
          "name": "stdout",
          "text": [
            "tensor([[0, 1, 2],\n",
            "        [3, 4, 5]])\n",
            "tensor([0, 1, 2])\n"
          ]
        },
        {
          "output_type": "execute_result",
          "data": {
            "text/plain": [
              "tensor([ 5, 14])"
            ]
          },
          "metadata": {},
          "execution_count": 59
        }
      ]
    },
    {
      "cell_type": "code",
      "source": [
        "# 2D matrix multiplication \n",
        "a = torch.arange(6).reshape(2, 3)\n",
        "b = torch.arange(15).reshape(3, 5)\n",
        "print(torch.einsum('ik,kj->ij', [a, b]))\n",
        "print(torch.matmul(a,b))"
      ],
      "metadata": {
        "colab": {
          "base_uri": "https://localhost:8080/"
        },
        "id": "srwXi9e-FFuy",
        "outputId": "be1768e8-34a4-4929-c1ed-3b3e6e94a256"
      },
      "execution_count": null,
      "outputs": [
        {
          "output_type": "stream",
          "name": "stdout",
          "text": [
            "tensor([[ 25,  28,  31,  34,  37],\n",
            "        [ 70,  82,  94, 106, 118]])\n",
            "tensor([[ 25,  28,  31,  34,  37],\n",
            "        [ 70,  82,  94, 106, 118]])\n"
          ]
        }
      ]
    },
    {
      "cell_type": "code",
      "source": [
        "# DOT product\n",
        "a = torch.arange(3)     # -- a: vector of length 3 containing [0, 1, 2]\n",
        "b = torch.arange(3,6)   # -- b: vector of length 3 containing [3, 4, 5]\n",
        "print(torch.einsum('i,i->', [a, b])) # (0*3)+(1*4)+(5*2)\n",
        "print(torch.dot(a,b))"
      ],
      "metadata": {
        "colab": {
          "base_uri": "https://localhost:8080/"
        },
        "id": "ffEjRmoJHDEu",
        "outputId": "62251bc0-15ab-4962-b20a-f28766a6a882"
      },
      "execution_count": null,
      "outputs": [
        {
          "output_type": "stream",
          "name": "stdout",
          "text": [
            "tensor(14)\n",
            "tensor(14)\n"
          ]
        }
      ]
    },
    {
      "cell_type": "code",
      "source": [
        "# HADAMARD PRODUCT\n",
        "a = torch.arange(6).reshape(2, 3)\n",
        "b = torch.arange(6,12).reshape(2, 3)\n",
        "print(a)\n",
        "print(b)\n",
        "print(torch.einsum('ij,ij->ij', [a, b]))\n",
        "print(a*b)"
      ],
      "metadata": {
        "colab": {
          "base_uri": "https://localhost:8080/"
        },
        "id": "theTywzQHScL",
        "outputId": "3f9748f0-f324-4e3e-f5df-664a0c0d4ca5"
      },
      "execution_count": null,
      "outputs": [
        {
          "output_type": "stream",
          "name": "stdout",
          "text": [
            "tensor([[0, 1, 2],\n",
            "        [3, 4, 5]])\n",
            "tensor([[ 6,  7,  8],\n",
            "        [ 9, 10, 11]])\n",
            "tensor([[ 0,  7, 16],\n",
            "        [27, 40, 55]])\n",
            "tensor([[ 0,  7, 16],\n",
            "        [27, 40, 55]])\n"
          ]
        }
      ]
    },
    {
      "cell_type": "code",
      "source": [
        "# Outer product\n",
        "a = torch.arange(3)\n",
        "b = torch.arange(3,7)  # -- a vector of length 4 containing [3, 4, 5, 6]\n",
        "print(a)\n",
        "print(b)\n",
        "print(torch.einsum('i,j->ij', [a, b]))\n",
        "print(torch.ger(a,b))"
      ],
      "metadata": {
        "colab": {
          "base_uri": "https://localhost:8080/"
        },
        "id": "Gpexp99oHhu6",
        "outputId": "21c53085-edec-431d-a597-d3b9c6d72d35"
      },
      "execution_count": null,
      "outputs": [
        {
          "output_type": "stream",
          "name": "stdout",
          "text": [
            "tensor([0, 1, 2])\n",
            "tensor([3, 4, 5, 6])\n",
            "tensor([[ 0,  0,  0,  0],\n",
            "        [ 3,  4,  5,  6],\n",
            "        [ 6,  8, 10, 12]])\n",
            "tensor([[ 0,  0,  0,  0],\n",
            "        [ 3,  4,  5,  6],\n",
            "        [ 6,  8, 10, 12]])\n"
          ]
        }
      ]
    },
    {
      "cell_type": "code",
      "source": [
        "# Batch Matrix Multiplication\n",
        "a = torch.randn(3,2,5)\n",
        "b = torch.randn(3,5,3)\n",
        "print(a)\n",
        "print(b)\n",
        "print(torch.einsum('ijk,ikl->ijl', [a, b]))\n",
        "print(torch.bmm(a,b))"
      ],
      "metadata": {
        "colab": {
          "base_uri": "https://localhost:8080/"
        },
        "id": "YHgtGYn8HwSa",
        "outputId": "2d85cca7-24c0-4abe-93b7-bb14dfd155e1"
      },
      "execution_count": null,
      "outputs": [
        {
          "output_type": "stream",
          "name": "stdout",
          "text": [
            "tensor([[[ 1.5158,  2.3045,  0.5048,  1.4461,  1.2550],\n",
            "         [ 0.7375, -2.6923, -1.3704, -0.4043, -1.4620]],\n",
            "\n",
            "        [[-0.5269,  1.0985,  0.9800, -0.7948,  1.7089],\n",
            "         [-1.5985,  0.2092, -0.0551,  2.3682,  0.1505]],\n",
            "\n",
            "        [[ 1.0826,  0.7265,  0.1437,  2.5787,  0.2504],\n",
            "         [-0.9803,  0.1184, -0.8868, -0.3849, -0.0944]]])\n",
            "tensor([[[ 0.3481,  0.5353, -1.4027],\n",
            "         [ 0.3937, -0.2770,  0.4656],\n",
            "         [ 0.6304, -0.5168,  0.0263],\n",
            "         [ 0.3980,  1.0180,  0.0382],\n",
            "         [-1.0523, -1.5134,  0.6494]],\n",
            "\n",
            "        [[ 0.5052,  1.2546, -1.6933],\n",
            "         [ 0.9788, -0.6731,  1.0471],\n",
            "         [ 0.9191, -1.9851, -0.2188],\n",
            "         [ 0.4296, -0.5518, -0.1745],\n",
            "         [-0.8272, -2.2703,  0.3589]],\n",
            "\n",
            "        [[-0.8504,  0.5176, -0.2650],\n",
            "         [ 0.5245,  0.3778, -0.4943],\n",
            "         [-0.1178, -0.9145,  0.7978],\n",
            "         [-0.0092, -0.6454, -0.4488],\n",
            "         [ 0.0068,  0.7553, -1.7950]]])\n"
          ]
        },
        {
          "output_type": "execute_result",
          "data": {
            "text/plain": [
              "tensor([[[ 1.0079, -0.5151, -0.1695],\n",
              "         [-0.2894,  3.6500, -3.2890]],\n",
              "\n",
              "        [[-0.0453, -6.7871,  2.5801],\n",
              "         [ 0.2394, -3.6852,  2.5785]],\n",
              "\n",
              "        [[-0.5786, -0.7718, -2.1383],\n",
              "         [ 1.0030,  0.5255, -0.1641]]])"
            ]
          },
          "metadata": {},
          "execution_count": 67
        }
      ]
    },
    {
      "cell_type": "code",
      "source": [
        "# Tensor Contraction\n",
        "a = torch.randn(2,3,5,7)\n",
        "b = torch.randn(11,13,3,17,5)\n",
        "torch.einsum('pqrs,tuqvr->pst', [a, b]) #Change pst to pstu,pstuv... and test"
      ],
      "metadata": {
        "colab": {
          "base_uri": "https://localhost:8080/"
        },
        "id": "OSykzmasH-_y",
        "outputId": "ee37ad3b-ab27-4381-e59f-db9b695dfea1"
      },
      "execution_count": null,
      "outputs": [
        {
          "output_type": "execute_result",
          "data": {
            "text/plain": [
              "tensor([[[  50.0475,   24.3400,   22.8494,   11.7058,   14.6462,  -60.7501,\n",
              "             1.1200,    1.9720,  -40.6161,  -92.1696,   11.9068],\n",
              "         [ -62.7750,  -24.4923,   32.1977,  -63.4768,   22.0814,  -43.7728,\n",
              "            27.1874,   14.1574,   29.1888,   94.6570,   26.0478],\n",
              "         [ -24.7593, -109.6854,   53.8858,  -26.2571,  -80.6565,  130.0378,\n",
              "           -39.6676,  113.5811,   65.6690,    2.9302,   -1.7818],\n",
              "         [  34.5109,    1.8121,   86.4162,  -33.8272,    3.4089,   43.1397,\n",
              "           -91.5289,  -29.4734,    7.9893,  -36.6308,   -1.0183],\n",
              "         [ -27.0221,  -17.0977,  -76.9605,  -48.5294,  -46.6143,   43.5913,\n",
              "           -30.3892,    5.1924,   10.0819,  113.3814,   78.5701],\n",
              "         [  39.0595,   10.9674, -157.9719,  -57.1692,  -24.0597,   43.6933,\n",
              "          -114.2538,  -77.2655,   74.8693, -110.9970,   82.7980],\n",
              "         [-124.8004, -117.7841,  -68.6979,   33.1127,  -28.4969,   29.6455,\n",
              "           -40.6118,   31.2820,   12.6646,  -17.9418,   38.8668]],\n",
              "\n",
              "        [[  -8.1896,  -11.2304,  -40.1619,   12.9262,  -41.6019,   50.7621,\n",
              "            14.0918,  -18.7591,  -65.0662, -179.2047,   64.9522],\n",
              "         [ -55.1348,   81.4429,  -74.0268,   44.1603,   27.0302,  -31.8797,\n",
              "            -5.1746,    2.1318,   12.2927,  -51.0470,   51.4746],\n",
              "         [ -49.7876,   32.5902,  -33.7496,    6.6658,   28.0507,  -32.0597,\n",
              "            36.4671,  -12.6113,   17.8818,   67.7463,  -12.9410],\n",
              "         [ -84.9446,   -9.4188,    3.7995,   86.9679,   35.3287,  -94.7402,\n",
              "            94.8599,   41.7687,  -33.4448,  110.4358, -106.2452],\n",
              "         [  25.6250,  106.3933, -106.2407,   25.8965,   13.2078,  -51.4845,\n",
              "            -1.2960,  -66.9092,   71.7758,   -3.0895,  -18.3638],\n",
              "         [  44.3183,  106.1092,  -67.7836,    0.7256,  -32.4036,  -18.5117,\n",
              "            49.9969,   64.5540,  -82.8856,   54.7151,   13.9492],\n",
              "         [ -51.8441,   27.1147,   37.4386,  -49.2083,  -30.4397,   13.3789,\n",
              "            24.2692,    7.7468,   30.2172,   61.9720,   -4.7340]]])"
            ]
          },
          "metadata": {},
          "execution_count": 89
        }
      ]
    },
    {
      "cell_type": "code",
      "source": [
        "# Bilinear transformation\n",
        "a = torch.randn(2,3)\n",
        "b = torch.randn(5,3,7)\n",
        "c = torch.randn(2,7)\n",
        "torch.einsum('ik,jkl,il->ij', [a, b, c])"
      ],
      "metadata": {
        "colab": {
          "base_uri": "https://localhost:8080/"
        },
        "id": "DW_FSDxqIICC",
        "outputId": "cf179bfa-57db-4cbd-edeb-af7431f03394"
      },
      "execution_count": null,
      "outputs": [
        {
          "output_type": "execute_result",
          "data": {
            "text/plain": [
              "tensor([[-1.4793,  0.0967,  0.1389, -2.3219,  1.0196],\n",
              "        [ 4.7391, -0.5521, -0.9015,  1.8890,  2.7373]])"
            ]
          },
          "metadata": {},
          "execution_count": 74
        }
      ]
    },
    {
      "cell_type": "code",
      "source": [
        "# Element wise squaring\n",
        "a=torch.arange(6).reshape(2,3)\n",
        "print(a)\n",
        "print(torch.einsum('ij,ij->ij',a,a))\n",
        "print(a**2)"
      ],
      "metadata": {
        "colab": {
          "base_uri": "https://localhost:8080/"
        },
        "id": "Xtb03APgIidc",
        "outputId": "cee4703c-3d27-46a9-bdd2-241cedda9976"
      },
      "execution_count": null,
      "outputs": [
        {
          "output_type": "stream",
          "name": "stdout",
          "text": [
            "tensor([[0, 1, 2],\n",
            "        [3, 4, 5]])\n",
            "tensor([[ 0,  1,  4],\n",
            "        [ 9, 16, 25]])\n",
            "tensor([[ 0,  1,  4],\n",
            "        [ 9, 16, 25]])\n"
          ]
        }
      ]
    },
    {
      "cell_type": "code",
      "source": [
        "# Sum of main diagonal\n",
        "a=torch.arange(4).reshape(2,2)\n",
        "print(a)\n",
        "print(torch.einsum('ii->',a))\n",
        "print(torch.trace(a))"
      ],
      "metadata": {
        "colab": {
          "base_uri": "https://localhost:8080/"
        },
        "id": "HUMgTUZFJ_TR",
        "outputId": "af76ab26-b831-44b8-b595-0afe8aaa7e7e"
      },
      "execution_count": null,
      "outputs": [
        {
          "output_type": "stream",
          "name": "stdout",
          "text": [
            "tensor([[0, 1],\n",
            "        [2, 3]])\n",
            "tensor(3)\n",
            "tensor(3)\n"
          ]
        }
      ]
    },
    {
      "cell_type": "code",
      "source": [
        "# Sum along axis 0\n",
        "a=torch.arange(6).reshape(2,3)\n",
        "print(a)\n",
        "print(torch.einsum('ij->j',a))\n",
        "print(torch.sum(a,0))"
      ],
      "metadata": {
        "colab": {
          "base_uri": "https://localhost:8080/"
        },
        "id": "wyBAuxGcKJIX",
        "outputId": "cf3649fc-b19a-4c84-d48e-e76c69747492"
      },
      "execution_count": null,
      "outputs": [
        {
          "output_type": "stream",
          "name": "stdout",
          "text": [
            "tensor([[0, 1, 2],\n",
            "        [3, 4, 5]])\n",
            "tensor([3, 5, 7])\n",
            "tensor([3, 5, 7])\n"
          ]
        }
      ]
    },
    {
      "cell_type": "code",
      "source": [
        "# Sum along axis 1\n",
        "a=torch.arange(6).reshape(2,3)\n",
        "print(a)\n",
        "print(torch.einsum('ij->i',a))\n",
        "print(torch.sum(a,1))"
      ],
      "metadata": {
        "colab": {
          "base_uri": "https://localhost:8080/"
        },
        "id": "FaAAZLZmKxhq",
        "outputId": "408ccbd4-d0a7-42a0-9fd3-7d94d7c56d2a"
      },
      "execution_count": null,
      "outputs": [
        {
          "output_type": "stream",
          "name": "stdout",
          "text": [
            "tensor([[0, 1, 2],\n",
            "        [3, 4, 5]])\n",
            "tensor([ 3, 12])\n",
            "tensor([ 3, 12])\n"
          ]
        }
      ]
    },
    {
      "cell_type": "code",
      "source": [
        "# Sum over multiple axis\n",
        "a = torch.randn((3,5,4,7,6))\n",
        "print(a.shape)\n",
        "print(torch.einsum('ijklm->',a))\n",
        "print(torch.sum(a, dim = (0,1,2,3,4)))"
      ],
      "metadata": {
        "colab": {
          "base_uri": "https://localhost:8080/"
        },
        "id": "fj-S4a8oK8xD",
        "outputId": "c13ea7f2-f8b8-465b-d57e-3808ee6b3dc5"
      },
      "execution_count": null,
      "outputs": [
        {
          "output_type": "stream",
          "name": "stdout",
          "text": [
            "torch.Size([3, 5, 4, 7, 6])\n",
            "tensor(-23.6154)\n",
            "tensor(-23.6154)\n"
          ]
        }
      ]
    },
    {
      "cell_type": "code",
      "source": [
        "a = torch.randn((3,5,4,7,6))\n",
        "print(a.shape)\n",
        "print(torch.einsum('ijklm->k',a))\n",
        "print(torch.sum(a, dim = (0,1,3,4)))"
      ],
      "metadata": {
        "colab": {
          "base_uri": "https://localhost:8080/"
        },
        "id": "lpBxaAcVMY4h",
        "outputId": "50821bbe-12c0-4fce-aced-125b55e792e8"
      },
      "execution_count": null,
      "outputs": [
        {
          "output_type": "stream",
          "name": "stdout",
          "text": [
            "torch.Size([3, 5, 4, 7, 6])\n",
            "tensor([-33.2010,   1.5513,  34.6175,  48.4488])\n",
            "tensor([-33.2010,   1.5513,  34.6175,  48.4488])\n"
          ]
        }
      ]
    }
  ]
}