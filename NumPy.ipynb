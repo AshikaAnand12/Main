{
  "nbformat": 4,
  "nbformat_minor": 0,
  "metadata": {
    "colab": {
      "name": "NumPy.ipynb",
      "provenance": [],
      "collapsed_sections": [],
      "authorship_tag": "ABX9TyPOAMJl225v83AqDO4wuR+Y",
      "include_colab_link": true
    },
    "kernelspec": {
      "name": "python3",
      "display_name": "Python 3"
    },
    "language_info": {
      "name": "python"
    }
  },
  "cells": [
    {
      "cell_type": "markdown",
      "metadata": {
        "id": "view-in-github",
        "colab_type": "text"
      },
      "source": [
        "<a href=\"https://colab.research.google.com/github/AshikaAnand12/Main/blob/main/NumPy.ipynb\" target=\"_parent\"><img src=\"https://colab.research.google.com/assets/colab-badge.svg\" alt=\"Open In Colab\"/></a>"
      ]
    },
    {
      "cell_type": "code",
      "execution_count": null,
      "metadata": {
        "id": "HtX9shrzkGBH"
      },
      "outputs": [],
      "source": [
        "import numpy as np"
      ]
    },
    {
      "cell_type": "code",
      "source": [
        "'''\n",
        "Python lists:\n",
        "- No support for vectorized operations\n",
        "- No fixed type\n",
        "- For loops not efficient \n",
        "\n",
        "NumPy Arrays:\n",
        "- Support vectorized operations (addition, multiplication)\n",
        "- Fixed data type\n",
        "- More efficient\n",
        "- Code is cleaner\n",
        "'''"
      ],
      "metadata": {
        "id": "5hRX4vMDkYcU",
        "colab": {
          "base_uri": "https://localhost:8080/",
          "height": 54
        },
        "outputId": "f5e4f7ba-b797-4e22-aad8-18034d550a6f"
      },
      "execution_count": null,
      "outputs": [
        {
          "output_type": "execute_result",
          "data": {
            "application/vnd.google.colaboratory.intrinsic+json": {
              "type": "string"
            },
            "text/plain": [
              "'\\nPython lists:\\n- No support for vectorized operations\\n- No fixed type\\n- For loops not efficient \\n\\nNumPy Arrays:\\n- Support vectorized operations (addition, multiplication)\\n- Fixed data type\\n- More efficient\\n- Code is cleaner\\n'"
            ]
          },
          "metadata": {},
          "execution_count": 3
        }
      ]
    },
    {
      "cell_type": "code",
      "source": [
        "''' \n",
        "Python list v/s NumPy Array\n",
        "- Both are ordered, mutable, duplicate\n",
        "- We can perform indexing, iterating and slicing on both\n",
        "\n",
        "- List are built in data structure\n",
        "- To use array, we need to import\n",
        "\n",
        "- List can use elements of different data types\n",
        "- We can add element to list by list.append(value)\n",
        "\n",
        "- Arrays have elements of a single data type\n",
        "- NumPy Arrays consume less memory (6 times less memory)\n",
        "\n",
        "- NumPy arrays ust hold the address of the element\n",
        "- List need to keep info such as: object type, reference count, object value and size for each element\n",
        "\n",
        "- NumPy Arrays are faster : See multiplication example\n",
        "- NumPy Arrays objects have fixed memory\n",
        "'''\n",
        "list1 = [1,2,3]\n",
        "n = [i*5 for i in list1 ] \n",
        "print(n)"
      ],
      "metadata": {
        "colab": {
          "base_uri": "https://localhost:8080/"
        },
        "id": "QcRbAPy5lF_y",
        "outputId": "8b1797ad-66ef-431d-97b5-97e7de3de613"
      },
      "execution_count": null,
      "outputs": [
        {
          "output_type": "stream",
          "name": "stdout",
          "text": [
            "[5, 10, 15]\n"
          ]
        }
      ]
    },
    {
      "cell_type": "code",
      "source": [
        "''' Arrays are convenient to use '''\n",
        "array = np.array([1,2,3])\n",
        "print(array*5)"
      ],
      "metadata": {
        "colab": {
          "base_uri": "https://localhost:8080/"
        },
        "id": "xcc9ieiJmefR",
        "outputId": "c0c88bd3-368a-4937-968c-cdddbd38a31c"
      },
      "execution_count": null,
      "outputs": [
        {
          "output_type": "stream",
          "name": "stdout",
          "text": [
            "[ 5 10 15]\n"
          ]
        }
      ]
    },
    {
      "cell_type": "code",
      "source": [
        "#  Array Datatype\n",
        "n = np.array([10,20,30,40,50])\n",
        "print(n)"
      ],
      "metadata": {
        "colab": {
          "base_uri": "https://localhost:8080/"
        },
        "id": "h6_D_CpemlPx",
        "outputId": "2c742e91-3861-43c9-eb35-63f3425576eb"
      },
      "execution_count": null,
      "outputs": [
        {
          "output_type": "stream",
          "name": "stdout",
          "text": [
            "[10 20 30 40 50]\n"
          ]
        }
      ]
    },
    {
      "cell_type": "code",
      "source": [
        "# Index starts with 0\n",
        "n[0]"
      ],
      "metadata": {
        "colab": {
          "base_uri": "https://localhost:8080/"
        },
        "id": "NQMMal9Cn5x3",
        "outputId": "5a6ad4d8-1e88-4b95-deee-c6ba1458de14"
      },
      "execution_count": null,
      "outputs": [
        {
          "output_type": "execute_result",
          "data": {
            "text/plain": [
              "10"
            ]
          },
          "metadata": {},
          "execution_count": 7
        }
      ]
    },
    {
      "cell_type": "code",
      "source": [
        "n[0]=20\n",
        "print(n)"
      ],
      "metadata": {
        "colab": {
          "base_uri": "https://localhost:8080/"
        },
        "id": "g4pE186fn6gX",
        "outputId": "5cda5433-f38c-4a2f-d793-ca42efcb744d"
      },
      "execution_count": null,
      "outputs": [
        {
          "output_type": "stream",
          "name": "stdout",
          "text": [
            "[20 20 30 40 50]\n"
          ]
        }
      ]
    },
    {
      "cell_type": "code",
      "source": [
        "n[0] = 21.5 #truncated\n",
        "print(n)"
      ],
      "metadata": {
        "colab": {
          "base_uri": "https://localhost:8080/"
        },
        "id": "2ieXbtaeoBAI",
        "outputId": "16adc145-9f31-4636-d931-7b45ee25ccb8"
      },
      "execution_count": null,
      "outputs": [
        {
          "output_type": "stream",
          "name": "stdout",
          "text": [
            "[21 20 30 40 50]\n"
          ]
        }
      ]
    },
    {
      "cell_type": "code",
      "source": [
        "n.dtype"
      ],
      "metadata": {
        "colab": {
          "base_uri": "https://localhost:8080/"
        },
        "id": "wbIPBXjuoFa0",
        "outputId": "21435c45-98cd-4638-e909-28a46de4ec9b"
      },
      "execution_count": null,
      "outputs": [
        {
          "output_type": "execute_result",
          "data": {
            "text/plain": [
              "dtype('int64')"
            ]
          },
          "metadata": {},
          "execution_count": 10
        }
      ]
    },
    {
      "cell_type": "code",
      "source": [
        "# To convert integer to smaller integer and occupy less memory, change dtype\n",
        "sn = np.array(n,dtype = np.int8)\n",
        "sn"
      ],
      "metadata": {
        "colab": {
          "base_uri": "https://localhost:8080/"
        },
        "id": "0QieiF-koHC_",
        "outputId": "9c1403be-48c0-4afb-a434-e425a16a2c72"
      },
      "execution_count": null,
      "outputs": [
        {
          "output_type": "execute_result",
          "data": {
            "text/plain": [
              "array([21, 20, 30, 40, 50], dtype=int8)"
            ]
          },
          "metadata": {},
          "execution_count": 11
        }
      ]
    },
    {
      "cell_type": "code",
      "source": [
        "# When values are float, it automatically sets dtype to float\n",
        "f = np.array([2.3,4.5])\n",
        "f.dtype"
      ],
      "metadata": {
        "colab": {
          "base_uri": "https://localhost:8080/"
        },
        "id": "qqcU1ma0oTPZ",
        "outputId": "a3181968-b126-4b18-9b11-4972f5c7c70f"
      },
      "execution_count": null,
      "outputs": [
        {
          "output_type": "execute_result",
          "data": {
            "text/plain": [
              "dtype('float64')"
            ]
          },
          "metadata": {},
          "execution_count": 12
        }
      ]
    },
    {
      "cell_type": "code",
      "source": [
        "# Multidimensional array\n",
        "'''\n",
        "One Dimensional array - Vector\n",
        "Two Dimensional array - Matrix\n",
        "More than 2 dimensional array - Tensor\n",
        "'''\n",
        "nums = np.array([[1,2,3],[4,5,6]])\n",
        "nums"
      ],
      "metadata": {
        "colab": {
          "base_uri": "https://localhost:8080/"
        },
        "id": "AB7dI24soaXm",
        "outputId": "b6b3d28b-5fd9-4376-be16-c7395904e58d"
      },
      "execution_count": null,
      "outputs": [
        {
          "output_type": "execute_result",
          "data": {
            "text/plain": [
              "array([[1, 2, 3],\n",
              "       [4, 5, 6]])"
            ]
          },
          "metadata": {},
          "execution_count": 13
        }
      ]
    },
    {
      "cell_type": "code",
      "source": [
        "nums[0][0]"
      ],
      "metadata": {
        "colab": {
          "base_uri": "https://localhost:8080/"
        },
        "id": "jse28ZqmpUBm",
        "outputId": "523b30e2-0b47-46e9-ccc7-aa5be1a8735b"
      },
      "execution_count": null,
      "outputs": [
        {
          "output_type": "execute_result",
          "data": {
            "text/plain": [
              "1"
            ]
          },
          "metadata": {},
          "execution_count": 14
        }
      ]
    },
    {
      "cell_type": "code",
      "source": [
        "# 2D array\n",
        "nums.ndim"
      ],
      "metadata": {
        "colab": {
          "base_uri": "https://localhost:8080/"
        },
        "id": "2B6mf6zUpZEb",
        "outputId": "83fca2ce-389b-43e9-e787-fc0407a38537"
      },
      "execution_count": null,
      "outputs": [
        {
          "output_type": "execute_result",
          "data": {
            "text/plain": [
              "2"
            ]
          },
          "metadata": {},
          "execution_count": 15
        }
      ]
    },
    {
      "cell_type": "code",
      "source": [
        "# Create 3D array\n",
        "m = np.array([[[1,2,3],[5,6,7]],[[7,8,9],[10,11,12]]])\n",
        "m"
      ],
      "metadata": {
        "colab": {
          "base_uri": "https://localhost:8080/"
        },
        "id": "LyfMt_bDpdlV",
        "outputId": "c716def1-a0ef-4261-8ad0-7821dfc2bbcb"
      },
      "execution_count": null,
      "outputs": [
        {
          "output_type": "execute_result",
          "data": {
            "text/plain": [
              "array([[[ 1,  2,  3],\n",
              "        [ 5,  6,  7]],\n",
              "\n",
              "       [[ 7,  8,  9],\n",
              "        [10, 11, 12]]])"
            ]
          },
          "metadata": {},
          "execution_count": 16
        }
      ]
    },
    {
      "cell_type": "code",
      "source": [
        "m[1][0][2]"
      ],
      "metadata": {
        "colab": {
          "base_uri": "https://localhost:8080/"
        },
        "id": "p1DnCPf_pxDE",
        "outputId": "3ddf2fcd-408e-472d-e5dd-d88ff5ec53d8"
      },
      "execution_count": null,
      "outputs": [
        {
          "output_type": "execute_result",
          "data": {
            "text/plain": [
              "9"
            ]
          },
          "metadata": {},
          "execution_count": 17
        }
      ]
    },
    {
      "cell_type": "code",
      "source": [
        "# Multi dimensional arrays can be created effortlessly \n",
        "m.ndim"
      ],
      "metadata": {
        "colab": {
          "base_uri": "https://localhost:8080/"
        },
        "id": "x0MOV9w6qOKl",
        "outputId": "def108ce-8dbf-49a7-fba4-db8612b7f4a2"
      },
      "execution_count": null,
      "outputs": [
        {
          "output_type": "execute_result",
          "data": {
            "text/plain": [
              "3"
            ]
          },
          "metadata": {},
          "execution_count": 18
        }
      ]
    },
    {
      "cell_type": "code",
      "source": [
        "# Creating array from lists and Python structures\n",
        "\n",
        "list1 = [1,2,3]\n",
        "array1 = np.array(list1)"
      ],
      "metadata": {
        "id": "1yXXrGG6qT3o"
      },
      "execution_count": null,
      "outputs": []
    },
    {
      "cell_type": "code",
      "source": [
        "#List of different types\n",
        "list2 = [1,2.2,'1']\n",
        "array2 = np.array(list2)"
      ],
      "metadata": {
        "id": "xrSTB6H9qngc"
      },
      "execution_count": null,
      "outputs": []
    },
    {
      "cell_type": "code",
      "source": [
        "# All elements in the list are compared to the largest datatype\n",
        "print(array2)"
      ],
      "metadata": {
        "colab": {
          "base_uri": "https://localhost:8080/"
        },
        "id": "BQDkW4U7quRL",
        "outputId": "ab51455b-28e3-4305-e07f-3a907b6d8066"
      },
      "execution_count": null,
      "outputs": [
        {
          "output_type": "stream",
          "name": "stdout",
          "text": [
            "['1' '2.2' '1']\n"
          ]
        }
      ]
    },
    {
      "cell_type": "code",
      "source": [
        "array2.dtype"
      ],
      "metadata": {
        "colab": {
          "base_uri": "https://localhost:8080/"
        },
        "id": "R39kP393qv5i",
        "outputId": "15a3ea1e-cefc-4262-eab6-9bd595ddd495"
      },
      "execution_count": null,
      "outputs": [
        {
          "output_type": "execute_result",
          "data": {
            "text/plain": [
              "dtype('<U32')"
            ]
          },
          "metadata": {},
          "execution_count": 22
        }
      ]
    },
    {
      "cell_type": "code",
      "source": [
        "# Array from tuples\n",
        "# Works similar to list for tuple\n",
        "tuple1 = (1,2,3)\n",
        "arrayt1 = np.array(tuple1)"
      ],
      "metadata": {
        "id": "3HA-cdpWq0dq"
      },
      "execution_count": null,
      "outputs": []
    },
    {
      "cell_type": "code",
      "source": [
        "arrayt1"
      ],
      "metadata": {
        "colab": {
          "base_uri": "https://localhost:8080/"
        },
        "id": "9HEppQBJrLKw",
        "outputId": "1c5b9cb5-c632-461a-8b24-c813c119f13d"
      },
      "execution_count": null,
      "outputs": [
        {
          "output_type": "execute_result",
          "data": {
            "text/plain": [
              "array([1, 2, 3])"
            ]
          },
          "metadata": {},
          "execution_count": 24
        }
      ]
    },
    {
      "cell_type": "code",
      "source": [
        "# Array for multidimensional list\n",
        "m1 = [[[1,2,3],[5,6,7]],[[7,8,9],[10,11,12]]]"
      ],
      "metadata": {
        "id": "2YUToIBSrMGw"
      },
      "execution_count": null,
      "outputs": []
    },
    {
      "cell_type": "code",
      "source": [
        "arraym1 = np.array(m1)"
      ],
      "metadata": {
        "id": "1HfM72zprZue"
      },
      "execution_count": null,
      "outputs": []
    },
    {
      "cell_type": "code",
      "source": [
        "arraym1"
      ],
      "metadata": {
        "colab": {
          "base_uri": "https://localhost:8080/"
        },
        "id": "r1rFKG_crevp",
        "outputId": "02370138-0154-45b2-9e86-81ac8098e61a"
      },
      "execution_count": null,
      "outputs": [
        {
          "output_type": "execute_result",
          "data": {
            "text/plain": [
              "array([[[ 1,  2,  3],\n",
              "        [ 5,  6,  7]],\n",
              "\n",
              "       [[ 7,  8,  9],\n",
              "        [10, 11, 12]]])"
            ]
          },
          "metadata": {},
          "execution_count": 27
        }
      ]
    },
    {
      "cell_type": "code",
      "source": [
        "# Intrinsic NumPy Array Creation\n",
        "# with np.arange and np.linspace - create nD array with equally distributed data\n",
        "# np.arange(end) - default starts with 0\n",
        "n = np.arange(10)\n",
        "n"
      ],
      "metadata": {
        "colab": {
          "base_uri": "https://localhost:8080/"
        },
        "id": "qTo_DAZLrfcy",
        "outputId": "0790a9f2-8b9c-4a56-a810-8e00cdc7072a"
      },
      "execution_count": null,
      "outputs": [
        {
          "output_type": "execute_result",
          "data": {
            "text/plain": [
              "array([0, 1, 2, 3, 4, 5, 6, 7, 8, 9])"
            ]
          },
          "metadata": {},
          "execution_count": 28
        }
      ]
    },
    {
      "cell_type": "code",
      "source": [
        "# np.arange(start,end)\n",
        "n2 = np.arange(20,25)\n",
        "n2"
      ],
      "metadata": {
        "colab": {
          "base_uri": "https://localhost:8080/"
        },
        "id": "N2bLeMrfCK9r",
        "outputId": "43648475-ccfa-4a3e-96f1-5305cbbbd0a5"
      },
      "execution_count": null,
      "outputs": [
        {
          "output_type": "execute_result",
          "data": {
            "text/plain": [
              "array([20, 21, 22, 23, 24])"
            ]
          },
          "metadata": {},
          "execution_count": 29
        }
      ]
    },
    {
      "cell_type": "code",
      "source": [
        "# np.arange(start,end, step)\n",
        "n3 = np.arange(10,50,5)\n",
        "n3"
      ],
      "metadata": {
        "colab": {
          "base_uri": "https://localhost:8080/"
        },
        "id": "E9cZW32ECRqh",
        "outputId": "e28953cc-dd2c-45a7-a317-d3f55a09ef91"
      },
      "execution_count": null,
      "outputs": [
        {
          "output_type": "execute_result",
          "data": {
            "text/plain": [
              "array([10, 15, 20, 25, 30, 35, 40, 45])"
            ]
          },
          "metadata": {},
          "execution_count": 30
        }
      ]
    },
    {
      "cell_type": "code",
      "source": [
        "# Linspace\n",
        "a = np.linspace(10,20)\n",
        "a"
      ],
      "metadata": {
        "colab": {
          "base_uri": "https://localhost:8080/"
        },
        "id": "-QwyWh4gCclI",
        "outputId": "4a2668a7-d852-4762-a48b-28fb68027f7c"
      },
      "execution_count": null,
      "outputs": [
        {
          "output_type": "execute_result",
          "data": {
            "text/plain": [
              "array([10.        , 10.20408163, 10.40816327, 10.6122449 , 10.81632653,\n",
              "       11.02040816, 11.2244898 , 11.42857143, 11.63265306, 11.83673469,\n",
              "       12.04081633, 12.24489796, 12.44897959, 12.65306122, 12.85714286,\n",
              "       13.06122449, 13.26530612, 13.46938776, 13.67346939, 13.87755102,\n",
              "       14.08163265, 14.28571429, 14.48979592, 14.69387755, 14.89795918,\n",
              "       15.10204082, 15.30612245, 15.51020408, 15.71428571, 15.91836735,\n",
              "       16.12244898, 16.32653061, 16.53061224, 16.73469388, 16.93877551,\n",
              "       17.14285714, 17.34693878, 17.55102041, 17.75510204, 17.95918367,\n",
              "       18.16326531, 18.36734694, 18.57142857, 18.7755102 , 18.97959184,\n",
              "       19.18367347, 19.3877551 , 19.59183673, 19.79591837, 20.        ])"
            ]
          },
          "metadata": {},
          "execution_count": 31
        }
      ]
    },
    {
      "cell_type": "code",
      "source": [
        "a2 = np.linspace(10,20)\n",
        "a2"
      ],
      "metadata": {
        "colab": {
          "base_uri": "https://localhost:8080/"
        },
        "id": "P7XZgqb8C560",
        "outputId": "f7d13594-b116-4b01-ee7d-3dd2e0c257fa"
      },
      "execution_count": null,
      "outputs": [
        {
          "output_type": "execute_result",
          "data": {
            "text/plain": [
              "array([10.        , 10.20408163, 10.40816327, 10.6122449 , 10.81632653,\n",
              "       11.02040816, 11.2244898 , 11.42857143, 11.63265306, 11.83673469,\n",
              "       12.04081633, 12.24489796, 12.44897959, 12.65306122, 12.85714286,\n",
              "       13.06122449, 13.26530612, 13.46938776, 13.67346939, 13.87755102,\n",
              "       14.08163265, 14.28571429, 14.48979592, 14.69387755, 14.89795918,\n",
              "       15.10204082, 15.30612245, 15.51020408, 15.71428571, 15.91836735,\n",
              "       16.12244898, 16.32653061, 16.53061224, 16.73469388, 16.93877551,\n",
              "       17.14285714, 17.34693878, 17.55102041, 17.75510204, 17.95918367,\n",
              "       18.16326531, 18.36734694, 18.57142857, 18.7755102 , 18.97959184,\n",
              "       19.18367347, 19.3877551 , 19.59183673, 19.79591837, 20.        ])"
            ]
          },
          "metadata": {},
          "execution_count": 32
        }
      ]
    },
    {
      "cell_type": "code",
      "source": [
        "# np.linspace(start,end, number of points) \n",
        "a3 = np.linspace(10,20,5)\n",
        "a3"
      ],
      "metadata": {
        "colab": {
          "base_uri": "https://localhost:8080/"
        },
        "id": "XncijDRHC_wX",
        "outputId": "6042b8a5-4298-47e3-c175-bf988480f49e"
      },
      "execution_count": null,
      "outputs": [
        {
          "output_type": "execute_result",
          "data": {
            "text/plain": [
              "array([10. , 12.5, 15. , 17.5, 20. ])"
            ]
          },
          "metadata": {},
          "execution_count": 33
        }
      ]
    },
    {
      "cell_type": "code",
      "source": [
        "# rand function\n",
        "# Used to generate randomly distributed data\n",
        "# random.rand(val1) - 1D array\n",
        "r = np.random.rand(10)\n",
        "r"
      ],
      "metadata": {
        "colab": {
          "base_uri": "https://localhost:8080/"
        },
        "id": "WqWhX8ZsDKq4",
        "outputId": "e02898b4-815a-4ecb-99fb-e5ce968f5cdf"
      },
      "execution_count": null,
      "outputs": [
        {
          "output_type": "execute_result",
          "data": {
            "text/plain": [
              "array([0.51325008, 0.61203417, 0.15842125, 0.03452947, 0.98374535,\n",
              "       0.11441267, 0.57698313, 0.95084775, 0.71632624, 0.98303948])"
            ]
          },
          "metadata": {},
          "execution_count": 34
        }
      ]
    },
    {
      "cell_type": "code",
      "source": [
        "r2 = np.random.rand(4,4)\n",
        "r2"
      ],
      "metadata": {
        "colab": {
          "base_uri": "https://localhost:8080/"
        },
        "id": "mMPYMAiGDqpH",
        "outputId": "c9f47451-9553-4c4b-cfd3-32cd10e623a6"
      },
      "execution_count": null,
      "outputs": [
        {
          "output_type": "execute_result",
          "data": {
            "text/plain": [
              "array([[0.2830354 , 0.47500098, 0.29358669, 0.76364666],\n",
              "       [0.46557478, 0.7506771 , 0.83611745, 0.82139381],\n",
              "       [0.92018895, 0.44653236, 0.57063278, 0.08575447],\n",
              "       [0.75879653, 0.42002005, 0.66211348, 0.91371175]])"
            ]
          },
          "metadata": {},
          "execution_count": 35
        }
      ]
    },
    {
      "cell_type": "code",
      "source": [
        "# To populate random integer values\n",
        "r3 = np.random.randint(10,50,5)\n",
        "r3"
      ],
      "metadata": {
        "colab": {
          "base_uri": "https://localhost:8080/"
        },
        "id": "vHh0PzxID1xW",
        "outputId": "46a5999c-a83a-4071-ab8a-43a7d9196cd1"
      },
      "execution_count": null,
      "outputs": [
        {
          "output_type": "execute_result",
          "data": {
            "text/plain": [
              "array([12, 36, 35, 37, 44])"
            ]
          },
          "metadata": {},
          "execution_count": 36
        }
      ]
    },
    {
      "cell_type": "code",
      "source": [
        "# Create arrays filled with constant values\n",
        "# Array of Zeros \n",
        "c = np.zeros(5)\n",
        "c"
      ],
      "metadata": {
        "colab": {
          "base_uri": "https://localhost:8080/"
        },
        "id": "E2NZCNt_JEIY",
        "outputId": "0103f5bf-fcc3-4732-b268-924def084c20"
      },
      "execution_count": null,
      "outputs": [
        {
          "output_type": "execute_result",
          "data": {
            "text/plain": [
              "array([0., 0., 0., 0., 0.])"
            ]
          },
          "metadata": {},
          "execution_count": 37
        }
      ]
    },
    {
      "cell_type": "code",
      "source": [
        "# 2D constant array\n",
        "# Pass tuple into np.zeros()\n",
        "c2 = np.zeros((5,4))\n",
        "c2"
      ],
      "metadata": {
        "colab": {
          "base_uri": "https://localhost:8080/"
        },
        "id": "uxusenh6JTIz",
        "outputId": "087dd27c-d025-4342-d9a6-985f72b603c6"
      },
      "execution_count": null,
      "outputs": [
        {
          "output_type": "execute_result",
          "data": {
            "text/plain": [
              "array([[0., 0., 0., 0.],\n",
              "       [0., 0., 0., 0.],\n",
              "       [0., 0., 0., 0.],\n",
              "       [0., 0., 0., 0.],\n",
              "       [0., 0., 0., 0.]])"
            ]
          },
          "metadata": {},
          "execution_count": 38
        }
      ]
    },
    {
      "cell_type": "code",
      "source": [
        "c3 = np.zeros([3,2,4,5])\n",
        "c3"
      ],
      "metadata": {
        "colab": {
          "base_uri": "https://localhost:8080/"
        },
        "id": "nWvWjH_rD4vQ",
        "outputId": "6cb0620f-df2e-4d89-ba6e-86fdbedadadd"
      },
      "execution_count": null,
      "outputs": [
        {
          "output_type": "execute_result",
          "data": {
            "text/plain": [
              "array([[[[0., 0., 0., 0., 0.],\n",
              "         [0., 0., 0., 0., 0.],\n",
              "         [0., 0., 0., 0., 0.],\n",
              "         [0., 0., 0., 0., 0.]],\n",
              "\n",
              "        [[0., 0., 0., 0., 0.],\n",
              "         [0., 0., 0., 0., 0.],\n",
              "         [0., 0., 0., 0., 0.],\n",
              "         [0., 0., 0., 0., 0.]]],\n",
              "\n",
              "\n",
              "       [[[0., 0., 0., 0., 0.],\n",
              "         [0., 0., 0., 0., 0.],\n",
              "         [0., 0., 0., 0., 0.],\n",
              "         [0., 0., 0., 0., 0.]],\n",
              "\n",
              "        [[0., 0., 0., 0., 0.],\n",
              "         [0., 0., 0., 0., 0.],\n",
              "         [0., 0., 0., 0., 0.],\n",
              "         [0., 0., 0., 0., 0.]]],\n",
              "\n",
              "\n",
              "       [[[0., 0., 0., 0., 0.],\n",
              "         [0., 0., 0., 0., 0.],\n",
              "         [0., 0., 0., 0., 0.],\n",
              "         [0., 0., 0., 0., 0.]],\n",
              "\n",
              "        [[0., 0., 0., 0., 0.],\n",
              "         [0., 0., 0., 0., 0.],\n",
              "         [0., 0., 0., 0., 0.],\n",
              "         [0., 0., 0., 0., 0.]]]])"
            ]
          },
          "metadata": {},
          "execution_count": 80
        }
      ]
    },
    {
      "cell_type": "code",
      "source": [
        "# Array of ones\n",
        "c3 = np.ones(4)\n",
        "c3"
      ],
      "metadata": {
        "colab": {
          "base_uri": "https://localhost:8080/"
        },
        "id": "MRZV61FxJh3E",
        "outputId": "d67d893d-7b29-4189-f80b-e1f10e99da2f"
      },
      "execution_count": null,
      "outputs": [
        {
          "output_type": "execute_result",
          "data": {
            "text/plain": [
              "array([1., 1., 1., 1.])"
            ]
          },
          "metadata": {},
          "execution_count": 39
        }
      ]
    },
    {
      "cell_type": "code",
      "source": [
        "c4 = np.ones((2,2))\n",
        "c4"
      ],
      "metadata": {
        "colab": {
          "base_uri": "https://localhost:8080/"
        },
        "id": "ZVawcZF8JrS2",
        "outputId": "5c2aa8d6-41e8-4ea1-830d-f0672e581298"
      },
      "execution_count": null,
      "outputs": [
        {
          "output_type": "execute_result",
          "data": {
            "text/plain": [
              "array([[1., 1.],\n",
              "       [1., 1.]])"
            ]
          },
          "metadata": {},
          "execution_count": 40
        }
      ]
    },
    {
      "cell_type": "code",
      "source": [
        "# Integer 2D array of ones\n",
        "c5 = np.ones((2,2), dtype=int)\n",
        "c5"
      ],
      "metadata": {
        "colab": {
          "base_uri": "https://localhost:8080/"
        },
        "id": "Ey6mISPtJuX8",
        "outputId": "fac1a859-8457-4e52-8dcb-2af1cb13223a"
      },
      "execution_count": null,
      "outputs": [
        {
          "output_type": "execute_result",
          "data": {
            "text/plain": [
              "array([[1, 1],\n",
              "       [1, 1]])"
            ]
          },
          "metadata": {},
          "execution_count": 41
        }
      ]
    },
    {
      "cell_type": "code",
      "source": [
        "# Fill function : Used to create 1D array\n",
        "# Fill already exisitng array with singular values\n",
        "\n",
        "fi = np.empty(5, dtype=int) # np.empty() creates an empty array \n",
        "fi"
      ],
      "metadata": {
        "colab": {
          "base_uri": "https://localhost:8080/"
        },
        "id": "RFoKpbc7KB9G",
        "outputId": "4c39affa-74c9-49a0-96a2-5c58980265ad"
      },
      "execution_count": null,
      "outputs": [
        {
          "output_type": "execute_result",
          "data": {
            "text/plain": [
              "array([0, 0, 0, 0, 0])"
            ]
          },
          "metadata": {},
          "execution_count": 42
        }
      ]
    },
    {
      "cell_type": "code",
      "source": [
        "fi.fill(3)\n",
        "fi"
      ],
      "metadata": {
        "colab": {
          "base_uri": "https://localhost:8080/"
        },
        "id": "9TNsWDW0KpUL",
        "outputId": "f85543ad-9018-470c-dc9e-c55c70ef4d0e"
      },
      "execution_count": null,
      "outputs": [
        {
          "output_type": "execute_result",
          "data": {
            "text/plain": [
              "array([3, 3, 3, 3, 3])"
            ]
          },
          "metadata": {},
          "execution_count": 43
        }
      ]
    },
    {
      "cell_type": "code",
      "source": [
        "# Full function: Used to create both 1D and 2D array\n",
        "# Full Function : np.full(array length, value in array)\n",
        "fu = np.full(5,10)\n",
        "fu"
      ],
      "metadata": {
        "colab": {
          "base_uri": "https://localhost:8080/"
        },
        "id": "-eJkGoctKMJn",
        "outputId": "c172f770-b3a9-4981-a320-a078476344be"
      },
      "execution_count": null,
      "outputs": [
        {
          "output_type": "execute_result",
          "data": {
            "text/plain": [
              "array([10, 10, 10, 10, 10])"
            ]
          },
          "metadata": {},
          "execution_count": 44
        }
      ]
    },
    {
      "cell_type": "code",
      "source": [
        "# Full function to create a 2D array: np.full((rows, colums), value in array)\n",
        "fu2 = np.full((3,5),7)\n",
        "fu2"
      ],
      "metadata": {
        "colab": {
          "base_uri": "https://localhost:8080/"
        },
        "id": "BFA710bcK5lk",
        "outputId": "3712441c-941d-4a3b-bcf6-30d8885fb2f2"
      },
      "execution_count": null,
      "outputs": [
        {
          "output_type": "execute_result",
          "data": {
            "text/plain": [
              "array([[7, 7, 7, 7, 7],\n",
              "       [7, 7, 7, 7, 7],\n",
              "       [7, 7, 7, 7, 7]])"
            ]
          },
          "metadata": {},
          "execution_count": 45
        }
      ]
    },
    {
      "cell_type": "code",
      "source": [
        "# Shape and Size of an array\n",
        "n = np.array([[1,2],[3,5]])\n",
        "n\n",
        "# n is 2D array\n",
        "# n has size of 4 (4 elements in the array)\n",
        "# n has dtype: int\n",
        "# n has a shape(2,2) i.e., rows and columns\n",
        "\n",
        "s = np.arange(20)\n",
        "s"
      ],
      "metadata": {
        "colab": {
          "base_uri": "https://localhost:8080/"
        },
        "id": "1kzRaKdvK938",
        "outputId": "f3ab05d5-5dc9-45cb-c0f3-090fc58611a8"
      },
      "execution_count": null,
      "outputs": [
        {
          "output_type": "execute_result",
          "data": {
            "text/plain": [
              "array([ 0,  1,  2,  3,  4,  5,  6,  7,  8,  9, 10, 11, 12, 13, 14, 15, 16,\n",
              "       17, 18, 19])"
            ]
          },
          "metadata": {},
          "execution_count": 46
        }
      ]
    },
    {
      "cell_type": "code",
      "source": [
        "s2 = np.linspace((1,2),(3,4))\n",
        "s2"
      ],
      "metadata": {
        "colab": {
          "base_uri": "https://localhost:8080/"
        },
        "id": "iz3Hk5noLkd6",
        "outputId": "c930cee7-1797-4b65-8003-ac32fca4ebe5"
      },
      "execution_count": null,
      "outputs": [
        {
          "output_type": "execute_result",
          "data": {
            "text/plain": [
              "array([[1.        , 2.        ],\n",
              "       [1.04081633, 2.04081633],\n",
              "       [1.08163265, 2.08163265],\n",
              "       [1.12244898, 2.12244898],\n",
              "       [1.16326531, 2.16326531],\n",
              "       [1.20408163, 2.20408163],\n",
              "       [1.24489796, 2.24489796],\n",
              "       [1.28571429, 2.28571429],\n",
              "       [1.32653061, 2.32653061],\n",
              "       [1.36734694, 2.36734694],\n",
              "       [1.40816327, 2.40816327],\n",
              "       [1.44897959, 2.44897959],\n",
              "       [1.48979592, 2.48979592],\n",
              "       [1.53061224, 2.53061224],\n",
              "       [1.57142857, 2.57142857],\n",
              "       [1.6122449 , 2.6122449 ],\n",
              "       [1.65306122, 2.65306122],\n",
              "       [1.69387755, 2.69387755],\n",
              "       [1.73469388, 2.73469388],\n",
              "       [1.7755102 , 2.7755102 ],\n",
              "       [1.81632653, 2.81632653],\n",
              "       [1.85714286, 2.85714286],\n",
              "       [1.89795918, 2.89795918],\n",
              "       [1.93877551, 2.93877551],\n",
              "       [1.97959184, 2.97959184],\n",
              "       [2.02040816, 3.02040816],\n",
              "       [2.06122449, 3.06122449],\n",
              "       [2.10204082, 3.10204082],\n",
              "       [2.14285714, 3.14285714],\n",
              "       [2.18367347, 3.18367347],\n",
              "       [2.2244898 , 3.2244898 ],\n",
              "       [2.26530612, 3.26530612],\n",
              "       [2.30612245, 3.30612245],\n",
              "       [2.34693878, 3.34693878],\n",
              "       [2.3877551 , 3.3877551 ],\n",
              "       [2.42857143, 3.42857143],\n",
              "       [2.46938776, 3.46938776],\n",
              "       [2.51020408, 3.51020408],\n",
              "       [2.55102041, 3.55102041],\n",
              "       [2.59183673, 3.59183673],\n",
              "       [2.63265306, 3.63265306],\n",
              "       [2.67346939, 3.67346939],\n",
              "       [2.71428571, 3.71428571],\n",
              "       [2.75510204, 3.75510204],\n",
              "       [2.79591837, 3.79591837],\n",
              "       [2.83673469, 3.83673469],\n",
              "       [2.87755102, 3.87755102],\n",
              "       [2.91836735, 3.91836735],\n",
              "       [2.95918367, 3.95918367],\n",
              "       [3.        , 4.        ]])"
            ]
          },
          "metadata": {},
          "execution_count": 47
        }
      ]
    },
    {
      "cell_type": "code",
      "source": [
        "s3 = np.full((2,2,2),10)\n",
        "s3"
      ],
      "metadata": {
        "colab": {
          "base_uri": "https://localhost:8080/"
        },
        "id": "MZWs-CeuMHYP",
        "outputId": "e21ff725-b740-4c56-e64a-30b7dc2e74a1"
      },
      "execution_count": null,
      "outputs": [
        {
          "output_type": "execute_result",
          "data": {
            "text/plain": [
              "array([[[10, 10],\n",
              "        [10, 10]],\n",
              "\n",
              "       [[10, 10],\n",
              "        [10, 10]]])"
            ]
          },
          "metadata": {},
          "execution_count": 48
        }
      ]
    },
    {
      "cell_type": "code",
      "source": [
        "# Array has only 1D\n",
        "np.shape(s)"
      ],
      "metadata": {
        "colab": {
          "base_uri": "https://localhost:8080/"
        },
        "id": "8OUHiVeIMYHj",
        "outputId": "613a25f3-4118-4253-a35d-86c4b5a58c58"
      },
      "execution_count": null,
      "outputs": [
        {
          "output_type": "execute_result",
          "data": {
            "text/plain": [
              "(20,)"
            ]
          },
          "metadata": {},
          "execution_count": 49
        }
      ]
    },
    {
      "cell_type": "code",
      "source": [
        "np.shape(s2)"
      ],
      "metadata": {
        "colab": {
          "base_uri": "https://localhost:8080/"
        },
        "id": "a7aT7zeBMZWe",
        "outputId": "eadae01e-307e-43ae-f9be-d3d51abdf1fa"
      },
      "execution_count": null,
      "outputs": [
        {
          "output_type": "execute_result",
          "data": {
            "text/plain": [
              "(50, 2)"
            ]
          },
          "metadata": {},
          "execution_count": 50
        }
      ]
    },
    {
      "cell_type": "code",
      "source": [
        "np.shape(s3)"
      ],
      "metadata": {
        "colab": {
          "base_uri": "https://localhost:8080/"
        },
        "id": "D6TGg-ImMgjt",
        "outputId": "64ac6e10-c8a3-4d90-ab30-b032fb7e9406"
      },
      "execution_count": null,
      "outputs": [
        {
          "output_type": "execute_result",
          "data": {
            "text/plain": [
              "(2, 2, 2)"
            ]
          },
          "metadata": {},
          "execution_count": 51
        }
      ]
    },
    {
      "cell_type": "code",
      "source": [
        "np.size(s)"
      ],
      "metadata": {
        "colab": {
          "base_uri": "https://localhost:8080/"
        },
        "id": "u14HPWF9Mix9",
        "outputId": "cbfff692-9298-4d99-f79b-1c100c40531b"
      },
      "execution_count": null,
      "outputs": [
        {
          "output_type": "execute_result",
          "data": {
            "text/plain": [
              "20"
            ]
          },
          "metadata": {},
          "execution_count": 52
        }
      ]
    },
    {
      "cell_type": "code",
      "source": [
        "np.size(s2)"
      ],
      "metadata": {
        "colab": {
          "base_uri": "https://localhost:8080/"
        },
        "id": "VycWanhfMkvC",
        "outputId": "a311b64e-40fd-4df9-bdb1-d720b04b57c4"
      },
      "execution_count": null,
      "outputs": [
        {
          "output_type": "execute_result",
          "data": {
            "text/plain": [
              "100"
            ]
          },
          "metadata": {},
          "execution_count": 53
        }
      ]
    },
    {
      "cell_type": "code",
      "source": [
        "np.size(s3)"
      ],
      "metadata": {
        "colab": {
          "base_uri": "https://localhost:8080/"
        },
        "id": "oKFL6dqFMoyc",
        "outputId": "849b92d8-5fe2-4cc5-cc52-7cb2089f8eb9"
      },
      "execution_count": null,
      "outputs": [
        {
          "output_type": "execute_result",
          "data": {
            "text/plain": [
              "8"
            ]
          },
          "metadata": {},
          "execution_count": 54
        }
      ]
    },
    {
      "cell_type": "code",
      "source": [
        "# Inserting/Adding/Appending, removing and sorting elements in array\n",
        "i = np.array([1,2,3,5])\n",
        "i"
      ],
      "metadata": {
        "colab": {
          "base_uri": "https://localhost:8080/"
        },
        "id": "zlC75kP1MxsA",
        "outputId": "fdc580ea-607e-4928-bb0d-a6454a40fe29"
      },
      "execution_count": null,
      "outputs": [
        {
          "output_type": "execute_result",
          "data": {
            "text/plain": [
              "array([1, 2, 3, 5])"
            ]
          },
          "metadata": {},
          "execution_count": 55
        }
      ]
    },
    {
      "cell_type": "code",
      "source": [
        "# Insert : np.insert(array, index,value to be inserted)\n",
        "i = np.insert(i,3,4)\n",
        "i"
      ],
      "metadata": {
        "colab": {
          "base_uri": "https://localhost:8080/"
        },
        "id": "UsnJ3pkOOIP7",
        "outputId": "3370a068-605d-4a79-d5ed-9ab2c8133491"
      },
      "execution_count": null,
      "outputs": [
        {
          "output_type": "execute_result",
          "data": {
            "text/plain": [
              "array([1, 2, 3, 4, 5])"
            ]
          },
          "metadata": {},
          "execution_count": 56
        }
      ]
    },
    {
      "cell_type": "code",
      "source": [
        "i = np.append(i,6)\n",
        "i"
      ],
      "metadata": {
        "colab": {
          "base_uri": "https://localhost:8080/"
        },
        "id": "3ghhXHqxOPGM",
        "outputId": "4325976c-892f-4cf7-ba8e-99e1fc86fa0e"
      },
      "execution_count": null,
      "outputs": [
        {
          "output_type": "execute_result",
          "data": {
            "text/plain": [
              "array([1, 2, 3, 4, 5, 6])"
            ]
          },
          "metadata": {},
          "execution_count": 57
        }
      ]
    },
    {
      "cell_type": "code",
      "source": [
        "# Delete: np.delete(array,index)\n",
        "i = np.delete(i,4)\n",
        "i"
      ],
      "metadata": {
        "colab": {
          "base_uri": "https://localhost:8080/"
        },
        "id": "yJ1MxAnjOZs5",
        "outputId": "5df9c2d0-e1ef-42f3-e3e4-df70927d196f"
      },
      "execution_count": null,
      "outputs": [
        {
          "output_type": "execute_result",
          "data": {
            "text/plain": [
              "array([1, 2, 3, 4, 6])"
            ]
          },
          "metadata": {},
          "execution_count": 58
        }
      ]
    },
    {
      "cell_type": "code",
      "source": [
        "# Sorting array\n",
        "i2 = np.random.randint(0,20,6)\n",
        "i2"
      ],
      "metadata": {
        "colab": {
          "base_uri": "https://localhost:8080/"
        },
        "id": "qNffA_IPOnql",
        "outputId": "447b35e1-2130-48cd-e855-c1f957368c12"
      },
      "execution_count": null,
      "outputs": [
        {
          "output_type": "execute_result",
          "data": {
            "text/plain": [
              "array([14,  1, 10,  5,  1, 16])"
            ]
          },
          "metadata": {},
          "execution_count": 59
        }
      ]
    },
    {
      "cell_type": "code",
      "source": [
        "print(np.sort(i2))"
      ],
      "metadata": {
        "colab": {
          "base_uri": "https://localhost:8080/"
        },
        "id": "YLxyS1LcO7so",
        "outputId": "a0ce1890-475c-4267-8078-1d8e5485bc2b"
      },
      "execution_count": null,
      "outputs": [
        {
          "output_type": "stream",
          "name": "stdout",
          "text": [
            "[ 1  1  5 10 14 16]\n"
          ]
        }
      ]
    },
    {
      "cell_type": "code",
      "source": [
        "i3 = np.array([[1,4,5,3,2],[5,0,3,1,2]])\n",
        "i3"
      ],
      "metadata": {
        "colab": {
          "base_uri": "https://localhost:8080/"
        },
        "id": "TCFRSpcCPD5y",
        "outputId": "78623046-24e1-4479-83d3-3c9e18ed5bd7"
      },
      "execution_count": null,
      "outputs": [
        {
          "output_type": "execute_result",
          "data": {
            "text/plain": [
              "array([[1, 4, 5, 3, 2],\n",
              "       [5, 0, 3, 1, 2]])"
            ]
          },
          "metadata": {},
          "execution_count": 61
        }
      ]
    },
    {
      "cell_type": "code",
      "source": [
        "print(np.sort(i3))"
      ],
      "metadata": {
        "colab": {
          "base_uri": "https://localhost:8080/"
        },
        "id": "fZ5hgSZ9PbcE",
        "outputId": "6e4af3ab-f2e4-4b94-ed8d-c70b39a6e5dd"
      },
      "execution_count": null,
      "outputs": [
        {
          "output_type": "stream",
          "name": "stdout",
          "text": [
            "[[1 2 3 4 5]\n",
            " [0 1 2 3 5]]\n"
          ]
        }
      ]
    },
    {
      "cell_type": "code",
      "source": [
        "# Sorting an array of string\n",
        "i4 = np.array(['Z','a','AQ','X','p','P','A','!'])\n",
        "i4"
      ],
      "metadata": {
        "colab": {
          "base_uri": "https://localhost:8080/"
        },
        "id": "1Jvec5UXPeLb",
        "outputId": "1b714913-f680-4a7b-9d9f-05df3e572a4d"
      },
      "execution_count": null,
      "outputs": [
        {
          "output_type": "execute_result",
          "data": {
            "text/plain": [
              "array(['Z', 'a', 'AQ', 'X', 'p', 'P', 'A', '!'], dtype='<U2')"
            ]
          },
          "metadata": {},
          "execution_count": 63
        }
      ]
    },
    {
      "cell_type": "code",
      "source": [
        "print(np.sort(i4))"
      ],
      "metadata": {
        "colab": {
          "base_uri": "https://localhost:8080/"
        },
        "id": "2z41gWprPrkN",
        "outputId": "3d044272-d245-4eb8-82f4-8d3ad7e931fd"
      },
      "execution_count": null,
      "outputs": [
        {
          "output_type": "stream",
          "name": "stdout",
          "text": [
            "['!' 'A' 'AQ' 'P' 'X' 'Z' 'a' 'p']\n"
          ]
        }
      ]
    },
    {
      "cell_type": "code",
      "source": [
        "# Copies and views\n",
        "x = np.array([1,2,3])\n",
        "x"
      ],
      "metadata": {
        "colab": {
          "base_uri": "https://localhost:8080/"
        },
        "id": "KwV3vC73BoZ4",
        "outputId": "a26d299a-7d6e-4121-fdbf-157bd6834bfa"
      },
      "execution_count": null,
      "outputs": [
        {
          "output_type": "execute_result",
          "data": {
            "text/plain": [
              "array([1, 2, 3])"
            ]
          },
          "metadata": {},
          "execution_count": 65
        }
      ]
    },
    {
      "cell_type": "code",
      "source": [
        "y=x\n",
        "print(id(x))\n",
        "print(id(y))"
      ],
      "metadata": {
        "colab": {
          "base_uri": "https://localhost:8080/"
        },
        "id": "2ZCmPGjBByPh",
        "outputId": "50ccd21d-0838-4ffa-d110-fb447a8ebdf2"
      },
      "execution_count": null,
      "outputs": [
        {
          "output_type": "stream",
          "name": "stdout",
          "text": [
            "140008382550304\n",
            "140008382550304\n"
          ]
        }
      ]
    },
    {
      "cell_type": "code",
      "source": [
        "y[1] = 3"
      ],
      "metadata": {
        "id": "q78lIy1JB6Ks"
      },
      "execution_count": null,
      "outputs": []
    },
    {
      "cell_type": "code",
      "source": [
        "x"
      ],
      "metadata": {
        "colab": {
          "base_uri": "https://localhost:8080/"
        },
        "id": "OPttAk6OB-xV",
        "outputId": "b0d1de1b-f60f-4737-d668-9d157a87ff84"
      },
      "execution_count": null,
      "outputs": [
        {
          "output_type": "execute_result",
          "data": {
            "text/plain": [
              "array([1, 3, 3])"
            ]
          },
          "metadata": {},
          "execution_count": 69
        }
      ]
    },
    {
      "cell_type": "code",
      "source": [
        "# creates a completely new array and copies the values : Deep copy\n",
        "z = x.copy()"
      ],
      "metadata": {
        "id": "Hw2TbUNQB_rH"
      },
      "execution_count": null,
      "outputs": []
    },
    {
      "cell_type": "code",
      "source": [
        "z[1] = 5"
      ],
      "metadata": {
        "id": "Ixu6CufiCFNr"
      },
      "execution_count": null,
      "outputs": []
    },
    {
      "cell_type": "code",
      "source": [
        "z"
      ],
      "metadata": {
        "colab": {
          "base_uri": "https://localhost:8080/"
        },
        "id": "tLx3FcnQCGpi",
        "outputId": "947ac73b-2883-428e-acac-22c1cd0b0215"
      },
      "execution_count": null,
      "outputs": [
        {
          "output_type": "execute_result",
          "data": {
            "text/plain": [
              "array([1, 5, 3])"
            ]
          },
          "metadata": {},
          "execution_count": 72
        }
      ]
    },
    {
      "cell_type": "code",
      "source": [
        "x"
      ],
      "metadata": {
        "colab": {
          "base_uri": "https://localhost:8080/"
        },
        "id": "8TDudUS4CHL9",
        "outputId": "d413b989-2496-4bf2-9fd1-574c0ad3421c"
      },
      "execution_count": null,
      "outputs": [
        {
          "output_type": "execute_result",
          "data": {
            "text/plain": [
              "array([1, 3, 3])"
            ]
          },
          "metadata": {},
          "execution_count": 74
        }
      ]
    },
    {
      "cell_type": "code",
      "source": [
        "# View doesn't own the data, just presents the data with a different view\n",
        "view = x.view()\n",
        "view[0] = 10\n",
        "print(view)\n",
        "print(x)"
      ],
      "metadata": {
        "colab": {
          "base_uri": "https://localhost:8080/"
        },
        "id": "SZ6bmEUKCHzS",
        "outputId": "cf89dcce-e741-4279-c4ff-8c0fb44b4d27"
      },
      "execution_count": null,
      "outputs": [
        {
          "output_type": "stream",
          "name": "stdout",
          "text": [
            "[10  3  3]\n",
            "[10  3  3]\n"
          ]
        }
      ]
    },
    {
      "cell_type": "code",
      "source": [
        "# Reshaping arrays - change shape of the data while data is retained\n",
        "r = np.arange(1,13)\n",
        "r"
      ],
      "metadata": {
        "colab": {
          "base_uri": "https://localhost:8080/"
        },
        "id": "EI4lscgdCcKg",
        "outputId": "147ecc67-c54f-475d-c2a8-f6c6523ffdcf"
      },
      "execution_count": null,
      "outputs": [
        {
          "output_type": "execute_result",
          "data": {
            "text/plain": [
              "array([ 1,  2,  3,  4,  5,  6,  7,  8,  9, 10, 11, 12])"
            ]
          },
          "metadata": {},
          "execution_count": 81
        }
      ]
    },
    {
      "cell_type": "code",
      "source": [
        "# Converting 1D array of 12 elements to 2 X 2 X 3 3D array\n",
        "r2 = np.reshape(r,[2,2,3])\n",
        "print(r2)\n",
        "print('Dimension:',r2.ndim)"
      ],
      "metadata": {
        "colab": {
          "base_uri": "https://localhost:8080/"
        },
        "id": "pEmRruZNEbzf",
        "outputId": "6af4afb2-eaee-4b65-c8d2-18589932e266"
      },
      "execution_count": null,
      "outputs": [
        {
          "output_type": "stream",
          "name": "stdout",
          "text": [
            "[[[ 1  2  3]\n",
            "  [ 4  5  6]]\n",
            "\n",
            " [[ 7  8  9]\n",
            "  [10 11 12]]]\n",
            "Dimension: 3\n"
          ]
        }
      ]
    },
    {
      "cell_type": "code",
      "source": [
        "# Converting 1D array to 2D array of size 6 X 2\n",
        "r3 = np.reshape(r,(6,2)) # can also be written as np.reshape(r,[6,2]) : tuple and list accepted\n",
        "r3"
      ],
      "metadata": {
        "colab": {
          "base_uri": "https://localhost:8080/"
        },
        "id": "cszRHux_Eqnj",
        "outputId": "595c0ccc-95e3-4e22-e4da-528c465b8751"
      },
      "execution_count": null,
      "outputs": [
        {
          "output_type": "execute_result",
          "data": {
            "text/plain": [
              "array([[ 1,  2],\n",
              "       [ 3,  4],\n",
              "       [ 5,  6],\n",
              "       [ 7,  8],\n",
              "       [ 9, 10],\n",
              "       [11, 12]])"
            ]
          },
          "metadata": {},
          "execution_count": 85
        }
      ]
    },
    {
      "cell_type": "code",
      "source": [
        "# Flattening : Reducing n-dimesnional array to 1D array\n",
        "r4 = np.reshape(r2,-1)\n",
        "r4"
      ],
      "metadata": {
        "id": "X10gjDQRE-CS",
        "colab": {
          "base_uri": "https://localhost:8080/"
        },
        "outputId": "ec5ffe9b-ff14-4e3b-82e3-08a660c8eb0d"
      },
      "execution_count": null,
      "outputs": [
        {
          "output_type": "execute_result",
          "data": {
            "text/plain": [
              "array([ 1,  2,  3,  4,  5,  6,  7,  8,  9, 10, 11, 12])"
            ]
          },
          "metadata": {},
          "execution_count": 88
        }
      ]
    },
    {
      "cell_type": "code",
      "source": [
        "# 2 other functions for flattening: flatten and ravel\n",
        "# Flatten will create a copy of the given array\n",
        "# Raven will flatten the given array. Ay changes to the raven array will make changes to the original array\n",
        "# NOTE : its array.flatten() : NOT np.flatten\n",
        "r5 = r2.flatten()\n",
        "r5"
      ],
      "metadata": {
        "colab": {
          "base_uri": "https://localhost:8080/"
        },
        "id": "tvkv1vbaGj4-",
        "outputId": "1920c44c-2776-4971-fa69-f3738fbe9f7b"
      },
      "execution_count": null,
      "outputs": [
        {
          "output_type": "execute_result",
          "data": {
            "text/plain": [
              "array([ 1,  2,  3,  4,  5,  6,  7,  8,  9, 10, 11, 12])"
            ]
          },
          "metadata": {},
          "execution_count": 91
        }
      ]
    },
    {
      "cell_type": "code",
      "source": [
        "r6 = r2.ravel()\n",
        "r6"
      ],
      "metadata": {
        "colab": {
          "base_uri": "https://localhost:8080/"
        },
        "id": "1UE9py5QHSg1",
        "outputId": "e4fe5c4c-d6cb-4bea-eb33-bbcb12da4a6c"
      },
      "execution_count": null,
      "outputs": [
        {
          "output_type": "execute_result",
          "data": {
            "text/plain": [
              "array([ 1,  2,  3,  4,  5,  6,  7,  8,  9, 10, 11, 12])"
            ]
          },
          "metadata": {},
          "execution_count": 93
        }
      ]
    },
    {
      "cell_type": "code",
      "source": [
        "r5[0] = 10\n",
        "r6[0] = 20\n",
        "print(r5)\n",
        "print(r6)\n",
        "print(r2)"
      ],
      "metadata": {
        "colab": {
          "base_uri": "https://localhost:8080/"
        },
        "id": "XsV4XjI6Hi-P",
        "outputId": "8dcf04d7-c56f-45fb-adc3-f26b5db3c4c9"
      },
      "execution_count": null,
      "outputs": [
        {
          "output_type": "stream",
          "name": "stdout",
          "text": [
            "[10  2  3  4  5  6  7  8  9 10 11 12]\n",
            "[20  2  3  4  5  6  7  8  9 10 11 12]\n",
            "[[[20  2  3]\n",
            "  [ 4  5  6]]\n",
            "\n",
            " [[ 7  8  9]\n",
            "  [10 11 12]]]\n"
          ]
        }
      ]
    },
    {
      "cell_type": "code",
      "source": [
        "# Indexing and Slicing\n",
        "si = np.reshape(np.arange(1,13),[3,4])\n",
        "si"
      ],
      "metadata": {
        "colab": {
          "base_uri": "https://localhost:8080/"
        },
        "id": "Y_j_TJUtHtIK",
        "outputId": "a7c3c605-20b2-4040-e0fe-eda5ae7644ca"
      },
      "execution_count": null,
      "outputs": [
        {
          "output_type": "execute_result",
          "data": {
            "text/plain": [
              "array([[ 1,  2,  3,  4],\n",
              "       [ 5,  6,  7,  8],\n",
              "       [ 9, 10, 11, 12]])"
            ]
          },
          "metadata": {},
          "execution_count": 96
        }
      ]
    },
    {
      "cell_type": "code",
      "source": [
        "si[1,1]"
      ],
      "metadata": {
        "colab": {
          "base_uri": "https://localhost:8080/"
        },
        "id": "OlkpqnkHIUBY",
        "outputId": "319480e7-32a7-41bb-d483-0652c9ed8038"
      },
      "execution_count": null,
      "outputs": [
        {
          "output_type": "execute_result",
          "data": {
            "text/plain": [
              "6"
            ]
          },
          "metadata": {},
          "execution_count": 97
        }
      ]
    },
    {
      "cell_type": "code",
      "source": [
        "si[1]"
      ],
      "metadata": {
        "colab": {
          "base_uri": "https://localhost:8080/"
        },
        "id": "KAXB5UcxIZ-L",
        "outputId": "72b02f5c-092e-42c2-fa18-7fa9c0c3c1bd"
      },
      "execution_count": null,
      "outputs": [
        {
          "output_type": "execute_result",
          "data": {
            "text/plain": [
              "array([5, 6, 7, 8])"
            ]
          },
          "metadata": {},
          "execution_count": 98
        }
      ]
    },
    {
      "cell_type": "code",
      "source": [
        "si2 = np.reshape(si, [2,2,3])\n",
        "si2"
      ],
      "metadata": {
        "colab": {
          "base_uri": "https://localhost:8080/"
        },
        "id": "0afeIJ-hIdDn",
        "outputId": "69bb6a54-2cf1-41a0-8964-267a14f25392"
      },
      "execution_count": null,
      "outputs": [
        {
          "output_type": "execute_result",
          "data": {
            "text/plain": [
              "array([[[ 1,  2,  3],\n",
              "        [ 4,  5,  6]],\n",
              "\n",
              "       [[ 7,  8,  9],\n",
              "        [10, 11, 12]]])"
            ]
          },
          "metadata": {},
          "execution_count": 100
        }
      ]
    },
    {
      "cell_type": "code",
      "source": [
        "si2[1]"
      ],
      "metadata": {
        "colab": {
          "base_uri": "https://localhost:8080/"
        },
        "id": "69DMsJV_Ii01",
        "outputId": "af9a8e14-0194-4608-e365-897d5e3d1065"
      },
      "execution_count": null,
      "outputs": [
        {
          "output_type": "execute_result",
          "data": {
            "text/plain": [
              "array([[ 7,  8,  9],\n",
              "       [10, 11, 12]])"
            ]
          },
          "metadata": {},
          "execution_count": 102
        }
      ]
    },
    {
      "cell_type": "code",
      "source": [
        "si2[1,1]"
      ],
      "metadata": {
        "colab": {
          "base_uri": "https://localhost:8080/"
        },
        "id": "pGdYA1hZIlhE",
        "outputId": "ccbfca99-c1ec-4519-9203-de1fe62b0756"
      },
      "execution_count": null,
      "outputs": [
        {
          "output_type": "execute_result",
          "data": {
            "text/plain": [
              "array([10, 11, 12])"
            ]
          },
          "metadata": {},
          "execution_count": 103
        }
      ]
    },
    {
      "cell_type": "code",
      "source": [
        "si2[1,1,1]"
      ],
      "metadata": {
        "colab": {
          "base_uri": "https://localhost:8080/"
        },
        "id": "wzq9bb9tIqzx",
        "outputId": "98e08a17-8bcc-42f1-98ac-52be41bd7682"
      },
      "execution_count": null,
      "outputs": [
        {
          "output_type": "execute_result",
          "data": {
            "text/plain": [
              "11"
            ]
          },
          "metadata": {},
          "execution_count": 104
        }
      ]
    },
    {
      "cell_type": "code",
      "source": [
        "si2[1,-1,-1]"
      ],
      "metadata": {
        "colab": {
          "base_uri": "https://localhost:8080/"
        },
        "id": "b8VfIG-2Ivgt",
        "outputId": "9c6c6dfd-2f6c-49f5-abb4-25bf929cca0c"
      },
      "execution_count": null,
      "outputs": [
        {
          "output_type": "execute_result",
          "data": {
            "text/plain": [
              "12"
            ]
          },
          "metadata": {},
          "execution_count": 105
        }
      ]
    },
    {
      "cell_type": "code",
      "source": [
        "si3 = np.arange(0,10)\n",
        "si3"
      ],
      "metadata": {
        "colab": {
          "base_uri": "https://localhost:8080/"
        },
        "id": "Jqvf3XweI8EP",
        "outputId": "18133b2b-ecf6-416e-cdfa-2a5eded61614"
      },
      "execution_count": null,
      "outputs": [
        {
          "output_type": "execute_result",
          "data": {
            "text/plain": [
              "array([0, 1, 2, 3, 4, 5, 6, 7, 8, 9])"
            ]
          },
          "metadata": {},
          "execution_count": 106
        }
      ]
    },
    {
      "cell_type": "code",
      "source": [
        "# Slice : array[start:stop)\n",
        "si4 = si3[2:6]\n",
        "print(si4)\n",
        "si5 = si3[:5]\n",
        "print(si5)\n",
        "si6 = si3[::2]\n",
        "print(si6)\n",
        "si7 = si3[-3:] # From last-3 element to last element\n",
        "print(si7)"
      ],
      "metadata": {
        "colab": {
          "base_uri": "https://localhost:8080/"
        },
        "id": "2TITv6WMJEnH",
        "outputId": "366e044f-e62c-40b3-ecac-7a8264d5c7ff"
      },
      "execution_count": null,
      "outputs": [
        {
          "output_type": "stream",
          "name": "stdout",
          "text": [
            "[2 3 4 5]\n",
            "[0 1 2 3 4]\n",
            "[0 2 4 6 8]\n",
            "[7 8 9]\n"
          ]
        }
      ]
    },
    {
      "cell_type": "code",
      "source": [
        "# Slice 2D array\n",
        "si8 = si2[1:,1:]\n",
        "print(si8)\n",
        "si9 = si2[1:]\n",
        "print(si9)\n",
        "si1 = si2[:1,:1,:1]\n",
        "print(si1)"
      ],
      "metadata": {
        "colab": {
          "base_uri": "https://localhost:8080/"
        },
        "id": "rJvGpV3RJNb8",
        "outputId": "04ede376-c6e9-4e56-b371-3f3067f1c0bb"
      },
      "execution_count": null,
      "outputs": [
        {
          "output_type": "stream",
          "name": "stdout",
          "text": [
            "[[[10 11 12]]]\n",
            "[[[ 7  8  9]\n",
            "  [10 11 12]]]\n"
          ]
        }
      ]
    },
    {
      "cell_type": "code",
      "source": [
        "# Joining and Splitting\n",
        "# 1. stack   2. vstack     3. concatenate      4. hstack"
      ],
      "metadata": {
        "colab": {
          "base_uri": "https://localhost:8080/"
        },
        "id": "Apm9S-uOJ-Yy",
        "outputId": "c66d0357-7a08-47a9-ebd4-a284a9f80b66"
      },
      "execution_count": null,
      "outputs": [
        {
          "output_type": "stream",
          "name": "stdout",
          "text": [
            "[[[1]]]\n"
          ]
        }
      ]
    },
    {
      "cell_type": "code",
      "source": [
        "# Concatenate 1D array\n",
        "arr = np.arange(0,10)\n",
        "arr2 = np.arange(10,20)\n",
        "arr3 = np.concatenate([arr,arr2])\n",
        "print(arr3)"
      ],
      "metadata": {
        "colab": {
          "base_uri": "https://localhost:8080/"
        },
        "id": "dynmvxdFKyO2",
        "outputId": "ab99d2aa-6895-4338-83d9-9496d7706b0e"
      },
      "execution_count": null,
      "outputs": [
        {
          "output_type": "stream",
          "name": "stdout",
          "text": [
            "[ 0  1  2  3  4  5  6  7  8  9 10 11 12 13 14 15 16 17 18 19]\n"
          ]
        }
      ]
    },
    {
      "cell_type": "code",
      "source": [
        "# Concatenate 2D array over y axis:\n",
        "arr1 = np.reshape(np.arange(12),(3,4))\n",
        "arr2 = np.reshape(np.arange(12,24),[3,4])\n",
        "arr3 = np.concatenate((arr1,arr2), axis = 1) # check without axis\n",
        "print(arr3)\n",
        "print(arr1)"
      ],
      "metadata": {
        "colab": {
          "base_uri": "https://localhost:8080/"
        },
        "id": "ac0jE006LxMp",
        "outputId": "21c2688e-fa8a-4446-93c6-42d415a163bb"
      },
      "execution_count": null,
      "outputs": [
        {
          "output_type": "stream",
          "name": "stdout",
          "text": [
            "[[ 0  1  2  3 12 13 14 15]\n",
            " [ 4  5  6  7 16 17 18 19]\n",
            " [ 8  9 10 11 20 21 22 23]]\n",
            "[[ 0  1  2  3]\n",
            " [ 4  5  6  7]\n",
            " [ 8  9 10 11]]\n"
          ]
        }
      ]
    },
    {
      "cell_type": "code",
      "source": [
        "# Concatentate with stack. :works like a stack\n",
        "# Notice all the shapes in the arguments are tuples or list : stack(()) concatenate(())\n",
        "stack_arr = np.stack((arr1,arr2))\n",
        "stack_arr"
      ],
      "metadata": {
        "colab": {
          "base_uri": "https://localhost:8080/"
        },
        "id": "SXKr9uerMTuX",
        "outputId": "62660ed8-b2dc-4069-ab67-72a8ce165d70"
      },
      "execution_count": null,
      "outputs": [
        {
          "output_type": "execute_result",
          "data": {
            "text/plain": [
              "array([[[ 0,  1,  2,  3],\n",
              "        [ 4,  5,  6,  7],\n",
              "        [ 8,  9, 10, 11]],\n",
              "\n",
              "       [[12, 13, 14, 15],\n",
              "        [16, 17, 18, 19],\n",
              "        [20, 21, 22, 23]]])"
            ]
          },
          "metadata": {},
          "execution_count": 122
        }
      ]
    },
    {
      "cell_type": "code",
      "source": [
        "# Concatenate with hstack: horizontal stacking : Similar to concatenating on axis = 1\n",
        "harr = np.hstack((arr1,arr2))\n",
        "harr "
      ],
      "metadata": {
        "colab": {
          "base_uri": "https://localhost:8080/"
        },
        "id": "QHFV2q2LM1kC",
        "outputId": "dd2aec7f-dc32-41fe-e1e7-32e86f50b16f"
      },
      "execution_count": null,
      "outputs": [
        {
          "output_type": "execute_result",
          "data": {
            "text/plain": [
              "array([[ 0,  1,  2,  3, 12, 13, 14, 15],\n",
              "       [ 4,  5,  6,  7, 16, 17, 18, 19],\n",
              "       [ 8,  9, 10, 11, 20, 21, 22, 23]])"
            ]
          },
          "metadata": {},
          "execution_count": 123
        }
      ]
    },
    {
      "cell_type": "code",
      "source": [
        "# Concatenate with vstack: Vertical stacking : : Similar to concatenating without axis (axis = 0)\n",
        "varr = np.vstack((arr1,arr2))\n",
        "varr"
      ],
      "metadata": {
        "colab": {
          "base_uri": "https://localhost:8080/"
        },
        "id": "25PN9NeLNSw5",
        "outputId": "5d2075e7-b425-4cf0-8a72-8be75ce16d70"
      },
      "execution_count": null,
      "outputs": [
        {
          "output_type": "execute_result",
          "data": {
            "text/plain": [
              "array([[ 0,  1,  2,  3],\n",
              "       [ 4,  5,  6,  7],\n",
              "       [ 8,  9, 10, 11],\n",
              "       [12, 13, 14, 15],\n",
              "       [16, 17, 18, 19],\n",
              "       [20, 21, 22, 23]])"
            ]
          },
          "metadata": {},
          "execution_count": 124
        }
      ]
    },
    {
      "cell_type": "code",
      "source": [
        "# Splitting arrays\n",
        "# Splitting into multiple arrays\n",
        "# Functions: 1. split   2. array_split   3. hsplit   4. vsplit\n",
        "\n",
        "# array_split\n",
        "split_arr = np.array_split(si3 ,5) # Array split can split array into specified number of parts\n",
        "split_arr   "
      ],
      "metadata": {
        "colab": {
          "base_uri": "https://localhost:8080/"
        },
        "id": "x0dxm9GkNiL2",
        "outputId": "45fb6e11-cebc-434a-f1b7-238cad58ab18"
      },
      "execution_count": null,
      "outputs": [
        {
          "output_type": "execute_result",
          "data": {
            "text/plain": [
              "[array([0, 1]), array([2, 3]), array([4, 5]), array([6, 7]), array([8, 9])]"
            ]
          },
          "metadata": {},
          "execution_count": 137
        }
      ]
    },
    {
      "cell_type": "code",
      "source": [
        "split_arr[0]"
      ],
      "metadata": {
        "colab": {
          "base_uri": "https://localhost:8080/"
        },
        "id": "8xC8PockOYpb",
        "outputId": "146826fe-df59-4948-f58b-17b26284486b"
      },
      "execution_count": null,
      "outputs": [
        {
          "output_type": "execute_result",
          "data": {
            "text/plain": [
              "array([0, 1])"
            ]
          },
          "metadata": {},
          "execution_count": 138
        }
      ]
    },
    {
      "cell_type": "code",
      "source": [
        "arr5 = np.array_split(si3,8)\n",
        "arr5"
      ],
      "metadata": {
        "colab": {
          "base_uri": "https://localhost:8080/"
        },
        "id": "0bjJhzaBOcP3",
        "outputId": "7d6036bd-e242-4cc3-fa70-564f18d4b7c6"
      },
      "execution_count": null,
      "outputs": [
        {
          "output_type": "execute_result",
          "data": {
            "text/plain": [
              "[array([0, 1]),\n",
              " array([2, 3]),\n",
              " array([4]),\n",
              " array([5]),\n",
              " array([6]),\n",
              " array([7]),\n",
              " array([8]),\n",
              " array([9])]"
            ]
          },
          "metadata": {},
          "execution_count": 141
        }
      ]
    },
    {
      "cell_type": "code",
      "source": [
        "hs_arr = np.hsplit(arr1,2) # Try 4\n",
        "hs_arr"
      ],
      "metadata": {
        "colab": {
          "base_uri": "https://localhost:8080/"
        },
        "id": "QxZ5YiJHO7aw",
        "outputId": "cc87af58-bf2e-4a53-b58c-7d2ba86bf6da"
      },
      "execution_count": null,
      "outputs": [
        {
          "output_type": "execute_result",
          "data": {
            "text/plain": [
              "[array([[0, 1],\n",
              "        [4, 5],\n",
              "        [8, 9]]), array([[ 2,  3],\n",
              "        [ 6,  7],\n",
              "        [10, 11]])]"
            ]
          },
          "metadata": {},
          "execution_count": 150
        }
      ]
    },
    {
      "cell_type": "code",
      "source": [
        "arr1 = np.reshape(np.arange(12),(3,4))\n",
        "vs_arr = np.vsplit(arr1,3)\n",
        "vs_arr"
      ],
      "metadata": {
        "colab": {
          "base_uri": "https://localhost:8080/"
        },
        "id": "QbRniL2uPqDI",
        "outputId": "4047d05f-11a7-4f60-f897-89bb87675597"
      },
      "execution_count": null,
      "outputs": [
        {
          "output_type": "execute_result",
          "data": {
            "text/plain": [
              "[array([[0, 1, 2, 3]]), array([[4, 5, 6, 7]]), array([[ 8,  9, 10, 11]])]"
            ]
          },
          "metadata": {},
          "execution_count": 158
        }
      ]
    },
    {
      "cell_type": "code",
      "source": [
        "# Arithematic functions\n",
        "# Vectorization\n",
        "a = np.arange(1,11)\n",
        "b = np.arange(21,31)\n",
        "print(a+b)\n",
        "print(a-b)\n",
        "print(a*b)\n",
        "print(b/a)\n",
        "print(a**2)\n",
        "print(a*2)\n",
        "print(a%2)"
      ],
      "metadata": {
        "colab": {
          "base_uri": "https://localhost:8080/"
        },
        "id": "yD5_8ye1RPk3",
        "outputId": "9092efb3-ab4f-43a4-da06-672ff058ca10"
      },
      "execution_count": null,
      "outputs": [
        {
          "output_type": "stream",
          "name": "stdout",
          "text": [
            "[22 24 26 28 30 32 34 36 38 40]\n",
            "[-20 -20 -20 -20 -20 -20 -20 -20 -20 -20]\n",
            "[ 21  44  69  96 125 156 189 224 261 300]\n",
            "[21.         11.          7.66666667  6.          5.          4.33333333\n",
            "  3.85714286  3.5         3.22222222  3.        ]\n",
            "[  1   4   9  16  25  36  49  64  81 100]\n",
            "[ 2  4  6  8 10 12 14 16 18 20]\n",
            "[1 0 1 0 1 0 1 0 1 0]\n"
          ]
        }
      ]
    },
    {
      "cell_type": "code",
      "source": [
        "c = np.add(a,b) #subtract, multiply, divide, mod, power, sqrt\n",
        "print(c)"
      ],
      "metadata": {
        "colab": {
          "base_uri": "https://localhost:8080/"
        },
        "id": "1L5Rwrt3W6fy",
        "outputId": "b1a29355-791e-4d0d-d6b2-bba3b49572be"
      },
      "execution_count": null,
      "outputs": [
        {
          "output_type": "stream",
          "name": "stdout",
          "text": [
            "[22 24 26 28 30 32 34 36 38 40]\n"
          ]
        }
      ]
    },
    {
      "cell_type": "code",
      "source": [
        "# Broadcasting\n",
        "# We need to apply arithmetic operations on arrays with different shapes : Broadcasting\n",
        "# Smaller array is broadcast across larger array so that they have compatible shapes\n",
        "# (3,3) + (1,3)  = (3,3) - (1,3) array is converted to (3,3) by copying the 1st row into all 3 columns\n",
        "# Dimensions are compatible if their axes on a 1-1 basis, they have either the same length or length of one\n",
        "\n",
        "a = np.arange(1,10).reshape(3,3)\n",
        "a"
      ],
      "metadata": {
        "colab": {
          "base_uri": "https://localhost:8080/"
        },
        "id": "HqmGrAwbXSub",
        "outputId": "97d157c5-b2cd-4705-abb2-3c2cb2f1e65a"
      },
      "execution_count": null,
      "outputs": [
        {
          "output_type": "execute_result",
          "data": {
            "text/plain": [
              "array([[1, 2, 3],\n",
              "       [4, 5, 6],\n",
              "       [7, 8, 9]])"
            ]
          },
          "metadata": {},
          "execution_count": 169
        }
      ]
    },
    {
      "cell_type": "code",
      "source": [
        "b = np.arange(1,4)\n",
        "b"
      ],
      "metadata": {
        "colab": {
          "base_uri": "https://localhost:8080/"
        },
        "id": "8UNDXZ9pYrLW",
        "outputId": "234ec56e-5c56-4e66-f05b-eaf668d6a50b"
      },
      "execution_count": null,
      "outputs": [
        {
          "output_type": "execute_result",
          "data": {
            "text/plain": [
              "array([1, 2, 3])"
            ]
          },
          "metadata": {},
          "execution_count": 170
        }
      ]
    },
    {
      "cell_type": "code",
      "source": [
        "a+b"
      ],
      "metadata": {
        "colab": {
          "base_uri": "https://localhost:8080/"
        },
        "id": "Q1WH1whzYtTj",
        "outputId": "3f370ae5-d273-4eba-f759-02ef71f9bb57"
      },
      "execution_count": null,
      "outputs": [
        {
          "output_type": "execute_result",
          "data": {
            "text/plain": [
              "array([[ 2,  4,  6],\n",
              "       [ 5,  7,  9],\n",
              "       [ 8, 10, 12]])"
            ]
          },
          "metadata": {},
          "execution_count": 168
        }
      ]
    },
    {
      "cell_type": "code",
      "source": [
        "a = np.array([[ 0,  0,  0], [10, 10, 10], [20, 20, 20], [30, 30, 30]])\n",
        "b = np.array([1.0, 2.0, 3.0])\n",
        "print(a + b)"
      ],
      "metadata": {
        "colab": {
          "base_uri": "https://localhost:8080/"
        },
        "id": "l3iNobRZmKGx",
        "outputId": "6ee12145-75c1-4926-d40e-af18ecb97206"
      },
      "execution_count": null,
      "outputs": [
        {
          "output_type": "stream",
          "name": "stdout",
          "text": [
            "[[ 1.  2.  3.]\n",
            " [11. 12. 13.]\n",
            " [21. 22. 23.]\n",
            " [31. 32. 33.]]\n"
          ]
        }
      ]
    },
    {
      "cell_type": "code",
      "source": [
        "c = np.arange(1,3)\n",
        "c\n",
        "# a+c # Dimensions are not compatible # Uncomment a+c"
      ],
      "metadata": {
        "colab": {
          "base_uri": "https://localhost:8080/"
        },
        "id": "D0OwgMBzYuk_",
        "outputId": "9a54c3ff-5b30-4de5-90ba-292b6e53ea4a"
      },
      "execution_count": null,
      "outputs": [
        {
          "output_type": "execute_result",
          "data": {
            "text/plain": [
              "array([1, 2])"
            ]
          },
          "metadata": {},
          "execution_count": 171
        }
      ]
    },
    {
      "cell_type": "code",
      "source": [
        "# Broadcating on 3D array\n",
        "d = np.arange(0,12).reshape(2,2,3)\n",
        "d"
      ],
      "metadata": {
        "colab": {
          "base_uri": "https://localhost:8080/"
        },
        "id": "ZFwqYs2SY3CS",
        "outputId": "47f91969-d5de-4459-a562-a1164d64dc8e"
      },
      "execution_count": null,
      "outputs": [
        {
          "output_type": "execute_result",
          "data": {
            "text/plain": [
              "array([[[ 0,  1,  2],\n",
              "        [ 3,  4,  5]],\n",
              "\n",
              "       [[ 6,  7,  8],\n",
              "        [ 9, 10, 11]]])"
            ]
          },
          "metadata": {},
          "execution_count": 173
        }
      ]
    },
    {
      "cell_type": "code",
      "source": [
        "e = np.arange(3)\n",
        "e"
      ],
      "metadata": {
        "colab": {
          "base_uri": "https://localhost:8080/"
        },
        "id": "H5OKRkYvY5Aj",
        "outputId": "0c988194-1b2a-495e-8e74-61f423152557"
      },
      "execution_count": null,
      "outputs": [
        {
          "output_type": "execute_result",
          "data": {
            "text/plain": [
              "array([0, 1, 2])"
            ]
          },
          "metadata": {},
          "execution_count": 175
        }
      ]
    },
    {
      "cell_type": "code",
      "source": [
        "d-e"
      ],
      "metadata": {
        "colab": {
          "base_uri": "https://localhost:8080/"
        },
        "id": "or6muYo-ZVyO",
        "outputId": "b282cdd3-97fe-4a86-d116-1fe56cf8189c"
      },
      "execution_count": null,
      "outputs": [
        {
          "output_type": "execute_result",
          "data": {
            "text/plain": [
              "array([[[0, 0, 0],\n",
              "        [3, 3, 3]],\n",
              "\n",
              "       [[6, 6, 6],\n",
              "        [9, 9, 9]]])"
            ]
          },
          "metadata": {},
          "execution_count": 176
        }
      ]
    },
    {
      "cell_type": "code",
      "source": [
        "# Aggregate functions\n",
        "p = np.arange(10,110,10)\n",
        "q = np.arange(10,100,10).reshape(3,3)\n",
        "r = np.arange(10,110,10).reshape(2,5)\n",
        "print(\"P:\",p)\n",
        "print(\"Q:\",q)\n",
        "print(\"R:\",r)"
      ],
      "metadata": {
        "colab": {
          "base_uri": "https://localhost:8080/"
        },
        "id": "hP4lXKEXZaLz",
        "outputId": "e4f65aeb-b270-4bbf-bf32-5bb5e04740a4"
      },
      "execution_count": null,
      "outputs": [
        {
          "output_type": "stream",
          "name": "stdout",
          "text": [
            "P: [ 10  20  30  40  50  60  70  80  90 100]\n",
            "Q: [[10 20 30]\n",
            " [40 50 60]\n",
            " [70 80 90]]\n",
            "R: [[ 10  20  30  40  50]\n",
            " [ 60  70  80  90 100]]\n"
          ]
        }
      ]
    },
    {
      "cell_type": "code",
      "source": [
        "p.sum()"
      ],
      "metadata": {
        "colab": {
          "base_uri": "https://localhost:8080/"
        },
        "id": "eJbJXEprZrcl",
        "outputId": "e7c48965-98f7-43bf-fef0-9141a715a4c7"
      },
      "execution_count": null,
      "outputs": [
        {
          "output_type": "execute_result",
          "data": {
            "text/plain": [
              "550"
            ]
          },
          "metadata": {},
          "execution_count": 181
        }
      ]
    },
    {
      "cell_type": "code",
      "source": [
        "q.sum(axis=0)"
      ],
      "metadata": {
        "colab": {
          "base_uri": "https://localhost:8080/"
        },
        "id": "HnNvfPOaaJUu",
        "outputId": "c659604c-0b10-40b5-b422-6cac6bb9b4c4"
      },
      "execution_count": null,
      "outputs": [
        {
          "output_type": "execute_result",
          "data": {
            "text/plain": [
              "array([120, 150, 180])"
            ]
          },
          "metadata": {},
          "execution_count": 183
        }
      ]
    },
    {
      "cell_type": "code",
      "source": [
        "r.prod(axis = 0)"
      ],
      "metadata": {
        "colab": {
          "base_uri": "https://localhost:8080/"
        },
        "id": "3acv8u1KaNpW",
        "outputId": "9fbf19c5-015d-4586-d353-b802d8ddbe90"
      },
      "execution_count": null,
      "outputs": [
        {
          "output_type": "execute_result",
          "data": {
            "text/plain": [
              "array([ 600, 1400, 2400, 3600, 5000])"
            ]
          },
          "metadata": {},
          "execution_count": 184
        }
      ]
    },
    {
      "cell_type": "code",
      "source": [
        "np.average(p) #q,r"
      ],
      "metadata": {
        "colab": {
          "base_uri": "https://localhost:8080/"
        },
        "id": "NJ99PNG-aWZc",
        "outputId": "0d7d8a90-c2e0-404c-e306-556ce4ed7237"
      },
      "execution_count": null,
      "outputs": [
        {
          "output_type": "execute_result",
          "data": {
            "text/plain": [
              "55.0"
            ]
          },
          "metadata": {},
          "execution_count": 185
        }
      ]
    },
    {
      "cell_type": "code",
      "source": [
        "np.min(q) #p,r"
      ],
      "metadata": {
        "colab": {
          "base_uri": "https://localhost:8080/"
        },
        "id": "pnLTVAtOadDX",
        "outputId": "7dce771b-d421-4c14-b321-8aa8044f9bdf"
      },
      "execution_count": null,
      "outputs": [
        {
          "output_type": "execute_result",
          "data": {
            "text/plain": [
              "10"
            ]
          },
          "metadata": {},
          "execution_count": 187
        }
      ]
    },
    {
      "cell_type": "code",
      "source": [
        "np.max(r) #p,q"
      ],
      "metadata": {
        "colab": {
          "base_uri": "https://localhost:8080/"
        },
        "id": "5l6ldnjbaoCX",
        "outputId": "d634d089-1d9b-434b-c4fc-8cf4ce920a0e"
      },
      "execution_count": null,
      "outputs": [
        {
          "output_type": "execute_result",
          "data": {
            "text/plain": [
              "100"
            ]
          },
          "metadata": {},
          "execution_count": 188
        }
      ]
    },
    {
      "cell_type": "code",
      "source": [
        "# mean or average\n",
        "np.mean(p) #q,r"
      ],
      "metadata": {
        "colab": {
          "base_uri": "https://localhost:8080/"
        },
        "id": "YgISlF8Oat7C",
        "outputId": "5a8abcd4-00a0-40b1-8f02-f220ae9efeca"
      },
      "execution_count": null,
      "outputs": [
        {
          "output_type": "execute_result",
          "data": {
            "text/plain": [
              "55.0"
            ]
          },
          "metadata": {},
          "execution_count": 189
        }
      ]
    },
    {
      "cell_type": "code",
      "source": [
        "# Standard deviation\n",
        "np.std(q) #p,r"
      ],
      "metadata": {
        "colab": {
          "base_uri": "https://localhost:8080/"
        },
        "id": "p2JGYSR_a0Yk",
        "outputId": "24a43a53-0a71-45e6-a618-f60fe6add988"
      },
      "execution_count": null,
      "outputs": [
        {
          "output_type": "execute_result",
          "data": {
            "text/plain": [
              "25.81988897471611"
            ]
          },
          "metadata": {},
          "execution_count": 190
        }
      ]
    },
    {
      "cell_type": "code",
      "source": [
        "#Unique items and counts\n",
        "u = np.random.randint(0,10,14)\n",
        "u"
      ],
      "metadata": {
        "colab": {
          "base_uri": "https://localhost:8080/"
        },
        "id": "tAiidPgQa807",
        "outputId": "bad9e091-302d-48b1-ce01-c1042f65aede"
      },
      "execution_count": null,
      "outputs": [
        {
          "output_type": "execute_result",
          "data": {
            "text/plain": [
              "array([0, 2, 1, 2, 6, 0, 8, 2, 6, 6, 0, 1, 7, 4])"
            ]
          },
          "metadata": {},
          "execution_count": 196
        }
      ]
    },
    {
      "cell_type": "code",
      "source": [
        "np.unique(u)"
      ],
      "metadata": {
        "colab": {
          "base_uri": "https://localhost:8080/"
        },
        "id": "Rg7pPm41bTUX",
        "outputId": "d6e230a6-7b31-4be8-ec55-aff0b0457cc2"
      },
      "execution_count": null,
      "outputs": [
        {
          "output_type": "execute_result",
          "data": {
            "text/plain": [
              "array([0, 1, 2, 4, 6, 7, 8])"
            ]
          },
          "metadata": {},
          "execution_count": 197
        }
      ]
    },
    {
      "cell_type": "code",
      "source": [
        "v = np.random.randint(0,10,16).reshape(4,4)\n",
        "v"
      ],
      "metadata": {
        "colab": {
          "base_uri": "https://localhost:8080/"
        },
        "id": "n6j_3o_FblSD",
        "outputId": "91c07a23-e426-487f-d886-7ea35c3ea4a3"
      },
      "execution_count": null,
      "outputs": [
        {
          "output_type": "execute_result",
          "data": {
            "text/plain": [
              "array([[5, 4, 3, 9],\n",
              "       [1, 0, 7, 5],\n",
              "       [7, 8, 1, 5],\n",
              "       [2, 7, 1, 8]])"
            ]
          },
          "metadata": {},
          "execution_count": 199
        }
      ]
    },
    {
      "cell_type": "code",
      "source": [
        "np.unique(v)"
      ],
      "metadata": {
        "colab": {
          "base_uri": "https://localhost:8080/"
        },
        "id": "k6yiCzOabw1F",
        "outputId": "17adbed3-2314-47a9-84f7-643a700ec0f0"
      },
      "execution_count": null,
      "outputs": [
        {
          "output_type": "execute_result",
          "data": {
            "text/plain": [
              "array([0, 1, 2, 3, 4, 5, 7, 8, 9])"
            ]
          },
          "metadata": {},
          "execution_count": 200
        }
      ]
    },
    {
      "cell_type": "code",
      "source": [
        "v = np.array([[1,1,2,1],[3,1,2,1],[1,1,2,1],[7,1,1,1]])\n",
        "print(v)\n",
        "np.unique(v,axis=0) #axis =1"
      ],
      "metadata": {
        "colab": {
          "base_uri": "https://localhost:8080/"
        },
        "id": "OHAUdmd_b4T9",
        "outputId": "4fd629c0-bfe5-496e-c713-e1e93cf01c96"
      },
      "execution_count": null,
      "outputs": [
        {
          "output_type": "stream",
          "name": "stdout",
          "text": [
            "[[1 1 2 1]\n",
            " [3 1 2 1]\n",
            " [1 1 2 1]\n",
            " [7 1 1 1]]\n"
          ]
        },
        {
          "output_type": "execute_result",
          "data": {
            "text/plain": [
              "array([[1, 1, 2, 1],\n",
              "       [3, 1, 2, 1],\n",
              "       [7, 1, 1, 1]])"
            ]
          },
          "metadata": {},
          "execution_count": 203
        }
      ]
    },
    {
      "cell_type": "code",
      "source": [
        "# Get indices of unique elements \n",
        "np.unique(u, return_index=True)"
      ],
      "metadata": {
        "colab": {
          "base_uri": "https://localhost:8080/"
        },
        "id": "N8Crx4OccDAt",
        "outputId": "e3521fde-5ee1-4ed8-9fb2-8ea9a8fc859f"
      },
      "execution_count": null,
      "outputs": [
        {
          "output_type": "execute_result",
          "data": {
            "text/plain": [
              "(array([0, 1, 2, 4, 6, 7, 8]), array([ 0,  2,  1, 13,  4, 12,  6]))"
            ]
          },
          "metadata": {},
          "execution_count": 204
        }
      ]
    },
    {
      "cell_type": "code",
      "source": [
        "# Number of times 0 occured in the array\n",
        "np.unique(u, return_counts=True)"
      ],
      "metadata": {
        "colab": {
          "base_uri": "https://localhost:8080/"
        },
        "id": "IvZ_S002cjq4",
        "outputId": "8c386e89-9254-4d9a-92f5-d99eac2141e6"
      },
      "execution_count": null,
      "outputs": [
        {
          "output_type": "execute_result",
          "data": {
            "text/plain": [
              "(array([0, 1, 2, 4, 6, 7, 8]), array([3, 2, 3, 1, 3, 1, 1]))"
            ]
          },
          "metadata": {},
          "execution_count": 207
        }
      ]
    },
    {
      "cell_type": "code",
      "source": [
        "# Transpose : move axis and swap axis\n",
        "# converts rows to columns and columns to rows\n",
        "v = np.random.randint(0,10,12).reshape(3,4)\n",
        "v"
      ],
      "metadata": {
        "colab": {
          "base_uri": "https://localhost:8080/"
        },
        "id": "1lEfdrdJcqW8",
        "outputId": "23e89bb0-03cb-45b5-9d2d-c30e488bd9de"
      },
      "execution_count": null,
      "outputs": [
        {
          "output_type": "execute_result",
          "data": {
            "text/plain": [
              "array([[9, 9, 9, 2],\n",
              "       [2, 2, 0, 9],\n",
              "       [9, 6, 6, 2]])"
            ]
          },
          "metadata": {},
          "execution_count": 208
        }
      ]
    },
    {
      "cell_type": "code",
      "source": [
        "np.transpose(v)"
      ],
      "metadata": {
        "colab": {
          "base_uri": "https://localhost:8080/"
        },
        "id": "xBFh1XZ9dMQl",
        "outputId": "628d3b5c-40e1-434c-94b8-dc5bdcb92805"
      },
      "execution_count": null,
      "outputs": [
        {
          "output_type": "execute_result",
          "data": {
            "text/plain": [
              "array([[9, 2, 9],\n",
              "       [9, 2, 6],\n",
              "       [9, 0, 6],\n",
              "       [2, 9, 2]])"
            ]
          },
          "metadata": {},
          "execution_count": 209
        }
      ]
    },
    {
      "cell_type": "code",
      "source": [
        "np.transpose(v, (1,0))"
      ],
      "metadata": {
        "colab": {
          "base_uri": "https://localhost:8080/"
        },
        "id": "3y4eM4I1dQw9",
        "outputId": "eebd80c7-ee1a-41a0-8714-2d8f87820a91"
      },
      "execution_count": null,
      "outputs": [
        {
          "output_type": "execute_result",
          "data": {
            "text/plain": [
              "array([[9, 2, 9],\n",
              "       [9, 2, 6],\n",
              "       [9, 0, 6],\n",
              "       [2, 9, 2]])"
            ]
          },
          "metadata": {},
          "execution_count": 210
        }
      ]
    },
    {
      "cell_type": "code",
      "source": [
        "# Moveaxis and swapaxis\n",
        "w = np.reshape(np.arange(12),[2,2,3])\n",
        "print(w)\n",
        "np.moveaxis(w,0,-1)"
      ],
      "metadata": {
        "colab": {
          "base_uri": "https://localhost:8080/"
        },
        "id": "mc6W_70hd8e9",
        "outputId": "135b9121-fca2-49e3-d449-7cec39a5861a"
      },
      "execution_count": null,
      "outputs": [
        {
          "output_type": "stream",
          "name": "stdout",
          "text": [
            "[[[ 0  1  2]\n",
            "  [ 3  4  5]]\n",
            "\n",
            " [[ 6  7  8]\n",
            "  [ 9 10 11]]]\n"
          ]
        },
        {
          "output_type": "execute_result",
          "data": {
            "text/plain": [
              "array([[[ 0,  6],\n",
              "        [ 1,  7],\n",
              "        [ 2,  8]],\n",
              "\n",
              "       [[ 3,  9],\n",
              "        [ 4, 10],\n",
              "        [ 5, 11]]])"
            ]
          },
          "metadata": {},
          "execution_count": 213
        }
      ]
    },
    {
      "cell_type": "code",
      "source": [
        "np.swapaxes(w,0,2)"
      ],
      "metadata": {
        "colab": {
          "base_uri": "https://localhost:8080/"
        },
        "id": "mvBTTC1ReoNQ",
        "outputId": "98b40666-5b06-49c4-cf27-f198e709896b"
      },
      "execution_count": null,
      "outputs": [
        {
          "output_type": "execute_result",
          "data": {
            "text/plain": [
              "array([[[ 0,  6],\n",
              "        [ 3,  9]],\n",
              "\n",
              "       [[ 1,  7],\n",
              "        [ 4, 10]],\n",
              "\n",
              "       [[ 2,  8],\n",
              "        [ 5, 11]]])"
            ]
          },
          "metadata": {},
          "execution_count": 214
        }
      ]
    },
    {
      "cell_type": "code",
      "source": [
        "# Reverse an array\n",
        "u[::-1]"
      ],
      "metadata": {
        "colab": {
          "base_uri": "https://localhost:8080/"
        },
        "id": "zLO9IQYbfUyz",
        "outputId": "c4607d0b-83ef-4fb8-a676-bb10544a6590"
      },
      "execution_count": null,
      "outputs": [
        {
          "output_type": "execute_result",
          "data": {
            "text/plain": [
              "array([4, 7, 1, 0, 6, 6, 2, 8, 0, 6, 2, 1, 2, 0])"
            ]
          },
          "metadata": {},
          "execution_count": 215
        }
      ]
    },
    {
      "cell_type": "code",
      "source": [
        "np.flip(u)"
      ],
      "metadata": {
        "colab": {
          "base_uri": "https://localhost:8080/"
        },
        "id": "l86Sob2hfmKU",
        "outputId": "b99528b3-5cc4-46fe-9c55-668c95c0b661"
      },
      "execution_count": null,
      "outputs": [
        {
          "output_type": "execute_result",
          "data": {
            "text/plain": [
              "array([4, 7, 1, 0, 6, 6, 2, 8, 0, 6, 2, 1, 2, 0])"
            ]
          },
          "metadata": {},
          "execution_count": 218
        }
      ]
    },
    {
      "cell_type": "code",
      "source": [
        "w = np.reshape(np.arange(9),[3,3])\n",
        "w"
      ],
      "metadata": {
        "colab": {
          "base_uri": "https://localhost:8080/"
        },
        "id": "NoGSRnKgfoS1",
        "outputId": "baaa83ff-81bd-4bab-e056-65116acf2361"
      },
      "execution_count": null,
      "outputs": [
        {
          "output_type": "execute_result",
          "data": {
            "text/plain": [
              "array([[0, 1, 2],\n",
              "       [3, 4, 5],\n",
              "       [6, 7, 8]])"
            ]
          },
          "metadata": {},
          "execution_count": 220
        }
      ]
    },
    {
      "cell_type": "code",
      "source": [
        "np.flip(w)"
      ],
      "metadata": {
        "colab": {
          "base_uri": "https://localhost:8080/"
        },
        "id": "RZ1dZIl7gAkn",
        "outputId": "aab05c6f-cf11-4b85-d717-7b92496c2737"
      },
      "execution_count": null,
      "outputs": [
        {
          "output_type": "execute_result",
          "data": {
            "text/plain": [
              "array([[8, 7, 6],\n",
              "       [5, 4, 3],\n",
              "       [2, 1, 0]])"
            ]
          },
          "metadata": {},
          "execution_count": 221
        }
      ]
    },
    {
      "cell_type": "code",
      "source": [
        "np.flip(w,1)"
      ],
      "metadata": {
        "colab": {
          "base_uri": "https://localhost:8080/"
        },
        "id": "r66g7PTPgFbZ",
        "outputId": "cf8246b9-691c-45a1-dc79-b59b1a720af3"
      },
      "execution_count": null,
      "outputs": [
        {
          "output_type": "execute_result",
          "data": {
            "text/plain": [
              "array([[2, 1, 0],\n",
              "       [5, 4, 3],\n",
              "       [8, 7, 6]])"
            ]
          },
          "metadata": {},
          "execution_count": 222
        }
      ]
    }
  ]
}